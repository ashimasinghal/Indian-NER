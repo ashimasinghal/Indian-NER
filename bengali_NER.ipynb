{
  "nbformat": 4,
  "nbformat_minor": 0,
  "metadata": {
    "colab": {
      "name": "bengali_NER.ipynb",
      "provenance": [],
      "collapsed_sections": [],
      "authorship_tag": "ABX9TyMylJl9gl1Or9ckHLZpAx1r",
      "include_colab_link": true
    },
    "kernelspec": {
      "name": "python3",
      "display_name": "Python 3"
    },
    "language_info": {
      "name": "python"
    },
    "widgets": {
      "application/vnd.jupyter.widget-state+json": {
        "8848ac8c94c9434eb131913c799e7b3c": {
          "model_module": "@jupyter-widgets/controls",
          "model_name": "HBoxModel",
          "model_module_version": "1.5.0",
          "state": {
            "_view_name": "HBoxView",
            "_dom_classes": [],
            "_model_name": "HBoxModel",
            "_view_module": "@jupyter-widgets/controls",
            "_model_module_version": "1.5.0",
            "_view_count": null,
            "_view_module_version": "1.5.0",
            "box_style": "",
            "layout": "IPY_MODEL_abd01951b2f74446948518471a9a75fc",
            "_model_module": "@jupyter-widgets/controls",
            "children": [
              "IPY_MODEL_d53340fa3dbc43bb83051e4f27ad6074",
              "IPY_MODEL_75f3cf759ba145a1b8e219f0d814918b",
              "IPY_MODEL_26b09fdb0f22492cbe2771b1bc184fa9"
            ]
          }
        },
        "abd01951b2f74446948518471a9a75fc": {
          "model_module": "@jupyter-widgets/base",
          "model_name": "LayoutModel",
          "model_module_version": "1.2.0",
          "state": {
            "_view_name": "LayoutView",
            "grid_template_rows": null,
            "right": null,
            "justify_content": null,
            "_view_module": "@jupyter-widgets/base",
            "overflow": null,
            "_model_module_version": "1.2.0",
            "_view_count": null,
            "flex_flow": null,
            "width": null,
            "min_width": null,
            "border": null,
            "align_items": null,
            "bottom": null,
            "_model_module": "@jupyter-widgets/base",
            "top": null,
            "grid_column": null,
            "overflow_y": null,
            "overflow_x": null,
            "grid_auto_flow": null,
            "grid_area": null,
            "grid_template_columns": null,
            "flex": null,
            "_model_name": "LayoutModel",
            "justify_items": null,
            "grid_row": null,
            "max_height": null,
            "align_content": null,
            "visibility": null,
            "align_self": null,
            "height": null,
            "min_height": null,
            "padding": null,
            "grid_auto_rows": null,
            "grid_gap": null,
            "max_width": null,
            "order": null,
            "_view_module_version": "1.2.0",
            "grid_template_areas": null,
            "object_position": null,
            "object_fit": null,
            "grid_auto_columns": null,
            "margin": null,
            "display": null,
            "left": null
          }
        },
        "d53340fa3dbc43bb83051e4f27ad6074": {
          "model_module": "@jupyter-widgets/controls",
          "model_name": "HTMLModel",
          "model_module_version": "1.5.0",
          "state": {
            "_view_name": "HTMLView",
            "style": "IPY_MODEL_1d2cfd16d4df4c2db3c76dbab59268ce",
            "_dom_classes": [],
            "description": "",
            "_model_name": "HTMLModel",
            "placeholder": "​",
            "_view_module": "@jupyter-widgets/controls",
            "_model_module_version": "1.5.0",
            "value": "Downloading: 100%",
            "_view_count": null,
            "_view_module_version": "1.5.0",
            "description_tooltip": null,
            "_model_module": "@jupyter-widgets/controls",
            "layout": "IPY_MODEL_c931ee73a3f04a6da171ff25b56fa815"
          }
        },
        "75f3cf759ba145a1b8e219f0d814918b": {
          "model_module": "@jupyter-widgets/controls",
          "model_name": "FloatProgressModel",
          "model_module_version": "1.5.0",
          "state": {
            "_view_name": "ProgressView",
            "style": "IPY_MODEL_caf26d9e7f1a4de3b2286b2c76be1f6f",
            "_dom_classes": [],
            "description": "",
            "_model_name": "FloatProgressModel",
            "bar_style": "success",
            "max": 714314041,
            "_view_module": "@jupyter-widgets/controls",
            "_model_module_version": "1.5.0",
            "value": 714314041,
            "_view_count": null,
            "_view_module_version": "1.5.0",
            "orientation": "horizontal",
            "min": 0,
            "description_tooltip": null,
            "_model_module": "@jupyter-widgets/controls",
            "layout": "IPY_MODEL_21186ff78e4743b2bde056f41ba8b6af"
          }
        },
        "26b09fdb0f22492cbe2771b1bc184fa9": {
          "model_module": "@jupyter-widgets/controls",
          "model_name": "HTMLModel",
          "model_module_version": "1.5.0",
          "state": {
            "_view_name": "HTMLView",
            "style": "IPY_MODEL_5921a090cccc4fe9a0508c9b87aa3f74",
            "_dom_classes": [],
            "description": "",
            "_model_name": "HTMLModel",
            "placeholder": "​",
            "_view_module": "@jupyter-widgets/controls",
            "_model_module_version": "1.5.0",
            "value": " 681M/681M [00:17&lt;00:00, 43.1MB/s]",
            "_view_count": null,
            "_view_module_version": "1.5.0",
            "description_tooltip": null,
            "_model_module": "@jupyter-widgets/controls",
            "layout": "IPY_MODEL_e3ce338061994358b05de9857c568343"
          }
        },
        "1d2cfd16d4df4c2db3c76dbab59268ce": {
          "model_module": "@jupyter-widgets/controls",
          "model_name": "DescriptionStyleModel",
          "model_module_version": "1.5.0",
          "state": {
            "_view_name": "StyleView",
            "_model_name": "DescriptionStyleModel",
            "description_width": "",
            "_view_module": "@jupyter-widgets/base",
            "_model_module_version": "1.5.0",
            "_view_count": null,
            "_view_module_version": "1.2.0",
            "_model_module": "@jupyter-widgets/controls"
          }
        },
        "c931ee73a3f04a6da171ff25b56fa815": {
          "model_module": "@jupyter-widgets/base",
          "model_name": "LayoutModel",
          "model_module_version": "1.2.0",
          "state": {
            "_view_name": "LayoutView",
            "grid_template_rows": null,
            "right": null,
            "justify_content": null,
            "_view_module": "@jupyter-widgets/base",
            "overflow": null,
            "_model_module_version": "1.2.0",
            "_view_count": null,
            "flex_flow": null,
            "width": null,
            "min_width": null,
            "border": null,
            "align_items": null,
            "bottom": null,
            "_model_module": "@jupyter-widgets/base",
            "top": null,
            "grid_column": null,
            "overflow_y": null,
            "overflow_x": null,
            "grid_auto_flow": null,
            "grid_area": null,
            "grid_template_columns": null,
            "flex": null,
            "_model_name": "LayoutModel",
            "justify_items": null,
            "grid_row": null,
            "max_height": null,
            "align_content": null,
            "visibility": null,
            "align_self": null,
            "height": null,
            "min_height": null,
            "padding": null,
            "grid_auto_rows": null,
            "grid_gap": null,
            "max_width": null,
            "order": null,
            "_view_module_version": "1.2.0",
            "grid_template_areas": null,
            "object_position": null,
            "object_fit": null,
            "grid_auto_columns": null,
            "margin": null,
            "display": null,
            "left": null
          }
        },
        "caf26d9e7f1a4de3b2286b2c76be1f6f": {
          "model_module": "@jupyter-widgets/controls",
          "model_name": "ProgressStyleModel",
          "model_module_version": "1.5.0",
          "state": {
            "_view_name": "StyleView",
            "_model_name": "ProgressStyleModel",
            "description_width": "",
            "_view_module": "@jupyter-widgets/base",
            "_model_module_version": "1.5.0",
            "_view_count": null,
            "_view_module_version": "1.2.0",
            "bar_color": null,
            "_model_module": "@jupyter-widgets/controls"
          }
        },
        "21186ff78e4743b2bde056f41ba8b6af": {
          "model_module": "@jupyter-widgets/base",
          "model_name": "LayoutModel",
          "model_module_version": "1.2.0",
          "state": {
            "_view_name": "LayoutView",
            "grid_template_rows": null,
            "right": null,
            "justify_content": null,
            "_view_module": "@jupyter-widgets/base",
            "overflow": null,
            "_model_module_version": "1.2.0",
            "_view_count": null,
            "flex_flow": null,
            "width": null,
            "min_width": null,
            "border": null,
            "align_items": null,
            "bottom": null,
            "_model_module": "@jupyter-widgets/base",
            "top": null,
            "grid_column": null,
            "overflow_y": null,
            "overflow_x": null,
            "grid_auto_flow": null,
            "grid_area": null,
            "grid_template_columns": null,
            "flex": null,
            "_model_name": "LayoutModel",
            "justify_items": null,
            "grid_row": null,
            "max_height": null,
            "align_content": null,
            "visibility": null,
            "align_self": null,
            "height": null,
            "min_height": null,
            "padding": null,
            "grid_auto_rows": null,
            "grid_gap": null,
            "max_width": null,
            "order": null,
            "_view_module_version": "1.2.0",
            "grid_template_areas": null,
            "object_position": null,
            "object_fit": null,
            "grid_auto_columns": null,
            "margin": null,
            "display": null,
            "left": null
          }
        },
        "5921a090cccc4fe9a0508c9b87aa3f74": {
          "model_module": "@jupyter-widgets/controls",
          "model_name": "DescriptionStyleModel",
          "model_module_version": "1.5.0",
          "state": {
            "_view_name": "StyleView",
            "_model_name": "DescriptionStyleModel",
            "description_width": "",
            "_view_module": "@jupyter-widgets/base",
            "_model_module_version": "1.5.0",
            "_view_count": null,
            "_view_module_version": "1.2.0",
            "_model_module": "@jupyter-widgets/controls"
          }
        },
        "e3ce338061994358b05de9857c568343": {
          "model_module": "@jupyter-widgets/base",
          "model_name": "LayoutModel",
          "model_module_version": "1.2.0",
          "state": {
            "_view_name": "LayoutView",
            "grid_template_rows": null,
            "right": null,
            "justify_content": null,
            "_view_module": "@jupyter-widgets/base",
            "overflow": null,
            "_model_module_version": "1.2.0",
            "_view_count": null,
            "flex_flow": null,
            "width": null,
            "min_width": null,
            "border": null,
            "align_items": null,
            "bottom": null,
            "_model_module": "@jupyter-widgets/base",
            "top": null,
            "grid_column": null,
            "overflow_y": null,
            "overflow_x": null,
            "grid_auto_flow": null,
            "grid_area": null,
            "grid_template_columns": null,
            "flex": null,
            "_model_name": "LayoutModel",
            "justify_items": null,
            "grid_row": null,
            "max_height": null,
            "align_content": null,
            "visibility": null,
            "align_self": null,
            "height": null,
            "min_height": null,
            "padding": null,
            "grid_auto_rows": null,
            "grid_gap": null,
            "max_width": null,
            "order": null,
            "_view_module_version": "1.2.0",
            "grid_template_areas": null,
            "object_position": null,
            "object_fit": null,
            "grid_auto_columns": null,
            "margin": null,
            "display": null,
            "left": null
          }
        }
      }
    }
  },
  "cells": [
    {
      "cell_type": "markdown",
      "metadata": {
        "id": "view-in-github",
        "colab_type": "text"
      },
      "source": [
        "<a href=\"https://colab.research.google.com/github/ashimasinghal/Indian-NER/blob/main/bengali_NER.ipynb\" target=\"_parent\"><img src=\"https://colab.research.google.com/assets/colab-badge.svg\" alt=\"Open In Colab\"/></a>"
      ]
    },
    {
      "cell_type": "code",
      "metadata": {
        "colab": {
          "base_uri": "https://localhost:8080/"
        },
        "id": "vQ7KMgrRhv8c",
        "outputId": "53fa8499-ee00-49ed-c37d-7520d118d670"
      },
      "source": [
        "!pip install seqeval\n",
        "!pip install transformers"
      ],
      "execution_count": null,
      "outputs": [
        {
          "output_type": "stream",
          "name": "stdout",
          "text": [
            "Collecting seqeval\n",
            "  Downloading seqeval-1.2.2.tar.gz (43 kB)\n",
            "\u001b[?25l\r\u001b[K     |███████▌                        | 10 kB 19.8 MB/s eta 0:00:01\r\u001b[K     |███████████████                 | 20 kB 25.1 MB/s eta 0:00:01\r\u001b[K     |██████████████████████▌         | 30 kB 24.8 MB/s eta 0:00:01\r\u001b[K     |██████████████████████████████  | 40 kB 27.8 MB/s eta 0:00:01\r\u001b[K     |████████████████████████████████| 43 kB 2.0 MB/s \n",
            "\u001b[?25hRequirement already satisfied: numpy>=1.14.0 in /usr/local/lib/python3.7/dist-packages (from seqeval) (1.19.5)\n",
            "Requirement already satisfied: scikit-learn>=0.21.3 in /usr/local/lib/python3.7/dist-packages (from seqeval) (1.0.1)\n",
            "Requirement already satisfied: threadpoolctl>=2.0.0 in /usr/local/lib/python3.7/dist-packages (from scikit-learn>=0.21.3->seqeval) (3.0.0)\n",
            "Requirement already satisfied: joblib>=0.11 in /usr/local/lib/python3.7/dist-packages (from scikit-learn>=0.21.3->seqeval) (1.1.0)\n",
            "Requirement already satisfied: scipy>=1.1.0 in /usr/local/lib/python3.7/dist-packages (from scikit-learn>=0.21.3->seqeval) (1.4.1)\n",
            "Building wheels for collected packages: seqeval\n",
            "  Building wheel for seqeval (setup.py) ... \u001b[?25l\u001b[?25hdone\n",
            "  Created wheel for seqeval: filename=seqeval-1.2.2-py3-none-any.whl size=16181 sha256=8283fe6dc4c8803e3083d0be097b0e0ff243523488f37ef31a110181296ca6fb\n",
            "  Stored in directory: /root/.cache/pip/wheels/05/96/ee/7cac4e74f3b19e3158dce26a20a1c86b3533c43ec72a549fd7\n",
            "Successfully built seqeval\n",
            "Installing collected packages: seqeval\n",
            "Successfully installed seqeval-1.2.2\n",
            "Collecting transformers\n",
            "  Downloading transformers-4.12.5-py3-none-any.whl (3.1 MB)\n",
            "\u001b[K     |████████████████████████████████| 3.1 MB 36.1 MB/s \n",
            "\u001b[?25hCollecting huggingface-hub<1.0,>=0.1.0\n",
            "  Downloading huggingface_hub-0.1.2-py3-none-any.whl (59 kB)\n",
            "\u001b[K     |████████████████████████████████| 59 kB 7.1 MB/s \n",
            "\u001b[?25hRequirement already satisfied: tqdm>=4.27 in /usr/local/lib/python3.7/dist-packages (from transformers) (4.62.3)\n",
            "Requirement already satisfied: importlib-metadata in /usr/local/lib/python3.7/dist-packages (from transformers) (4.8.2)\n",
            "Requirement already satisfied: regex!=2019.12.17 in /usr/local/lib/python3.7/dist-packages (from transformers) (2019.12.20)\n",
            "Collecting sacremoses\n",
            "  Downloading sacremoses-0.0.46-py3-none-any.whl (895 kB)\n",
            "\u001b[K     |████████████████████████████████| 895 kB 45.7 MB/s \n",
            "\u001b[?25hCollecting tokenizers<0.11,>=0.10.1\n",
            "  Downloading tokenizers-0.10.3-cp37-cp37m-manylinux_2_5_x86_64.manylinux1_x86_64.manylinux_2_12_x86_64.manylinux2010_x86_64.whl (3.3 MB)\n",
            "\u001b[K     |████████████████████████████████| 3.3 MB 40.8 MB/s \n",
            "\u001b[?25hRequirement already satisfied: packaging>=20.0 in /usr/local/lib/python3.7/dist-packages (from transformers) (21.3)\n",
            "Requirement already satisfied: requests in /usr/local/lib/python3.7/dist-packages (from transformers) (2.23.0)\n",
            "Requirement already satisfied: filelock in /usr/local/lib/python3.7/dist-packages (from transformers) (3.4.0)\n",
            "Requirement already satisfied: numpy>=1.17 in /usr/local/lib/python3.7/dist-packages (from transformers) (1.19.5)\n",
            "Collecting pyyaml>=5.1\n",
            "  Downloading PyYAML-6.0-cp37-cp37m-manylinux_2_5_x86_64.manylinux1_x86_64.manylinux_2_12_x86_64.manylinux2010_x86_64.whl (596 kB)\n",
            "\u001b[K     |████████████████████████████████| 596 kB 44.3 MB/s \n",
            "\u001b[?25hRequirement already satisfied: typing-extensions>=3.7.4.3 in /usr/local/lib/python3.7/dist-packages (from huggingface-hub<1.0,>=0.1.0->transformers) (3.10.0.2)\n",
            "Requirement already satisfied: pyparsing!=3.0.5,>=2.0.2 in /usr/local/lib/python3.7/dist-packages (from packaging>=20.0->transformers) (3.0.6)\n",
            "Requirement already satisfied: zipp>=0.5 in /usr/local/lib/python3.7/dist-packages (from importlib-metadata->transformers) (3.6.0)\n",
            "Requirement already satisfied: certifi>=2017.4.17 in /usr/local/lib/python3.7/dist-packages (from requests->transformers) (2021.10.8)\n",
            "Requirement already satisfied: idna<3,>=2.5 in /usr/local/lib/python3.7/dist-packages (from requests->transformers) (2.10)\n",
            "Requirement already satisfied: urllib3!=1.25.0,!=1.25.1,<1.26,>=1.21.1 in /usr/local/lib/python3.7/dist-packages (from requests->transformers) (1.24.3)\n",
            "Requirement already satisfied: chardet<4,>=3.0.2 in /usr/local/lib/python3.7/dist-packages (from requests->transformers) (3.0.4)\n",
            "Requirement already satisfied: click in /usr/local/lib/python3.7/dist-packages (from sacremoses->transformers) (7.1.2)\n",
            "Requirement already satisfied: joblib in /usr/local/lib/python3.7/dist-packages (from sacremoses->transformers) (1.1.0)\n",
            "Requirement already satisfied: six in /usr/local/lib/python3.7/dist-packages (from sacremoses->transformers) (1.15.0)\n",
            "Installing collected packages: pyyaml, tokenizers, sacremoses, huggingface-hub, transformers\n",
            "  Attempting uninstall: pyyaml\n",
            "    Found existing installation: PyYAML 3.13\n",
            "    Uninstalling PyYAML-3.13:\n",
            "      Successfully uninstalled PyYAML-3.13\n",
            "Successfully installed huggingface-hub-0.1.2 pyyaml-6.0 sacremoses-0.0.46 tokenizers-0.10.3 transformers-4.12.5\n"
          ]
        }
      ]
    },
    {
      "cell_type": "code",
      "metadata": {
        "id": "q48t3LIuhaD7"
      },
      "source": [
        "\n",
        "import pandas as pd\n",
        "import math\n",
        "import numpy as np\n",
        "from seqeval.metrics import f1_score\n",
        "from seqeval.metrics import classification_report,accuracy_score,f1_score\n",
        "import torch.nn.functional as F"
      ],
      "execution_count": null,
      "outputs": []
    },
    {
      "cell_type": "code",
      "metadata": {
        "id": "2i0XJGGiheTl"
      },
      "source": [
        "import torch\n",
        "import os\n",
        "from tqdm import tqdm,trange\n",
        "from torch.optim import Adam\n",
        "from torch.utils.data import TensorDataset, DataLoader, RandomSampler, SequentialSampler\n",
        "from keras.preprocessing.sequence import pad_sequences\n",
        "from sklearn.model_selection import train_test_split\n",
        "from transformers import BertTokenizer, BertConfig\n",
        "from transformers import BertForTokenClassification, AdamW"
      ],
      "execution_count": null,
      "outputs": []
    },
    {
      "cell_type": "code",
      "metadata": {
        "colab": {
          "base_uri": "https://localhost:8080/"
        },
        "id": "3fVFqhmViAwO",
        "outputId": "1b379a37-93f8-4043-82b3-8d569dfb44f4"
      },
      "source": [
        "!pip list | grep -E 'transformers|torch|Keras'"
      ],
      "execution_count": null,
      "outputs": [
        {
          "output_type": "stream",
          "name": "stdout",
          "text": [
            "Keras-Preprocessing           1.1.2\n",
            "torch                         1.10.0+cu111\n",
            "torchaudio                    0.10.0+cu111\n",
            "torchsummary                  1.5.1\n",
            "torchtext                     0.11.0\n",
            "torchvision                   0.11.1+cu111\n",
            "transformers                  4.12.5\n"
          ]
        }
      ]
    },
    {
      "cell_type": "code",
      "metadata": {
        "id": "mnt0ugMuiLuF"
      },
      "source": [
        "# load data"
      ],
      "execution_count": null,
      "outputs": []
    },
    {
      "cell_type": "code",
      "metadata": {
        "colab": {
          "base_uri": "https://localhost:8080/"
        },
        "id": "6doN4dj2iVct",
        "outputId": "faa8c1f2-5633-4c27-dc45-1f1092751c99"
      },
      "source": [
        "from google.colab import drive\n",
        "drive.mount('/content/drive')\n",
        "import numpy as np\n",
        "import pandas as pd\n",
        "df = pd.read_csv('/content/drive/MyDrive/BERT/NER Corpus/Bengali.csv')"
      ],
      "execution_count": null,
      "outputs": [
        {
          "output_type": "stream",
          "name": "stdout",
          "text": [
            "Mounted at /content/drive\n"
          ]
        }
      ]
    },
    {
      "cell_type": "code",
      "metadata": {
        "colab": {
          "base_uri": "https://localhost:8080/",
          "height": 423
        },
        "id": "b_twPUhniV51",
        "outputId": "b7651e53-c342-4a3c-b9f0-8d45d4bcc3f5"
      },
      "source": [
        "df"
      ],
      "execution_count": null,
      "outputs": [
        {
          "output_type": "execute_result",
          "data": {
            "text/html": [
              "<div>\n",
              "<style scoped>\n",
              "    .dataframe tbody tr th:only-of-type {\n",
              "        vertical-align: middle;\n",
              "    }\n",
              "\n",
              "    .dataframe tbody tr th {\n",
              "        vertical-align: top;\n",
              "    }\n",
              "\n",
              "    .dataframe thead th {\n",
              "        text-align: right;\n",
              "    }\n",
              "</style>\n",
              "<table border=\"1\" class=\"dataframe\">\n",
              "  <thead>\n",
              "    <tr style=\"text-align: right;\">\n",
              "      <th></th>\n",
              "      <th>Unnamed: 0</th>\n",
              "      <th>word</th>\n",
              "      <th>T1</th>\n",
              "      <th>T2</th>\n",
              "      <th>T3</th>\n",
              "    </tr>\n",
              "  </thead>\n",
              "  <tbody>\n",
              "    <tr>\n",
              "      <th>0</th>\n",
              "      <td>0</td>\n",
              "      <td>রহমান</td>\n",
              "      <td>B-PERSON</td>\n",
              "      <td>B-INDIVIDUAL</td>\n",
              "      <td>B-FAMILYNAME</td>\n",
              "    </tr>\n",
              "    <tr>\n",
              "      <th>1</th>\n",
              "      <td>1</td>\n",
              "      <td>ভাষা</td>\n",
              "      <td>o</td>\n",
              "      <td>o</td>\n",
              "      <td>o</td>\n",
              "    </tr>\n",
              "    <tr>\n",
              "      <th>2</th>\n",
              "      <td>2</td>\n",
              "      <td>দফা</td>\n",
              "      <td>o</td>\n",
              "      <td>o</td>\n",
              "      <td>o</td>\n",
              "    </tr>\n",
              "    <tr>\n",
              "      <th>3</th>\n",
              "      <td>3</td>\n",
              "      <td>স্বাধীনতা</td>\n",
              "      <td>o</td>\n",
              "      <td>o</td>\n",
              "      <td>o</td>\n",
              "    </tr>\n",
              "    <tr>\n",
              "      <th>4</th>\n",
              "      <td>4</td>\n",
              "      <td>যুদ্ধ</td>\n",
              "      <td>o</td>\n",
              "      <td>o</td>\n",
              "      <td>o</td>\n",
              "    </tr>\n",
              "    <tr>\n",
              "      <th>...</th>\n",
              "      <td>...</td>\n",
              "      <td>...</td>\n",
              "      <td>...</td>\n",
              "      <td>...</td>\n",
              "      <td>...</td>\n",
              "    </tr>\n",
              "    <tr>\n",
              "      <th>49519</th>\n",
              "      <td>49519</td>\n",
              "      <td>পূজামণ্ডপে</td>\n",
              "      <td>o</td>\n",
              "      <td>o</td>\n",
              "      <td>o</td>\n",
              "    </tr>\n",
              "    <tr>\n",
              "      <th>49520</th>\n",
              "      <td>49520</td>\n",
              "      <td>বিজযা</td>\n",
              "      <td>o</td>\n",
              "      <td>o</td>\n",
              "      <td>o</td>\n",
              "    </tr>\n",
              "    <tr>\n",
              "      <th>49521</th>\n",
              "      <td>49521</td>\n",
              "      <td>দশমীতে</td>\n",
              "      <td>o</td>\n",
              "      <td>o</td>\n",
              "      <td>o</td>\n",
              "    </tr>\n",
              "    <tr>\n",
              "      <th>49522</th>\n",
              "      <td>49522</td>\n",
              "      <td>দেবীবরণের</td>\n",
              "      <td>o</td>\n",
              "      <td>o</td>\n",
              "      <td>o</td>\n",
              "    </tr>\n",
              "    <tr>\n",
              "      <th>49523</th>\n",
              "      <td>49523</td>\n",
              "      <td>চিত্র</td>\n",
              "      <td>o</td>\n",
              "      <td>o</td>\n",
              "      <td>o</td>\n",
              "    </tr>\n",
              "  </tbody>\n",
              "</table>\n",
              "<p>49524 rows × 5 columns</p>\n",
              "</div>"
            ],
            "text/plain": [
              "       Unnamed: 0        word        T1            T2            T3\n",
              "0               0       রহমান  B-PERSON  B-INDIVIDUAL  B-FAMILYNAME\n",
              "1               1        ভাষা         o             o             o\n",
              "2               2         দফা         o             o             o\n",
              "3               3   স্বাধীনতা         o             o             o\n",
              "4               4       যুদ্ধ         o             o             o\n",
              "...           ...         ...       ...           ...           ...\n",
              "49519       49519  পূজামণ্ডপে         o             o             o\n",
              "49520       49520       বিজযা         o             o             o\n",
              "49521       49521      দশমীতে         o             o             o\n",
              "49522       49522   দেবীবরণের         o             o             o\n",
              "49523       49523       চিত্র         o             o             o\n",
              "\n",
              "[49524 rows x 5 columns]"
            ]
          },
          "metadata": {},
          "execution_count": 7
        }
      ]
    },
    {
      "cell_type": "code",
      "metadata": {
        "id": "Pho99BIPiW_1"
      },
      "source": [
        "sentence_id = []\n",
        "words = df['word']\n",
        "sentence = 1\n",
        "for word in words:\n",
        "  sentence_id.append(sentence)\n",
        "  if(word=='.'):\n",
        "    sentence += 1"
      ],
      "execution_count": null,
      "outputs": []
    },
    {
      "cell_type": "code",
      "metadata": {
        "colab": {
          "base_uri": "https://localhost:8080/",
          "height": 1000
        },
        "id": "qGrNG7NBidTo",
        "outputId": "d54d9de7-d9ec-4919-e34c-c3a8259e4e5a"
      },
      "source": [
        "df.insert(1,'Sentence ID',sentence_id,allow_duplicates=True)\n",
        "df.head(50)"
      ],
      "execution_count": null,
      "outputs": [
        {
          "output_type": "execute_result",
          "data": {
            "text/html": [
              "<div>\n",
              "<style scoped>\n",
              "    .dataframe tbody tr th:only-of-type {\n",
              "        vertical-align: middle;\n",
              "    }\n",
              "\n",
              "    .dataframe tbody tr th {\n",
              "        vertical-align: top;\n",
              "    }\n",
              "\n",
              "    .dataframe thead th {\n",
              "        text-align: right;\n",
              "    }\n",
              "</style>\n",
              "<table border=\"1\" class=\"dataframe\">\n",
              "  <thead>\n",
              "    <tr style=\"text-align: right;\">\n",
              "      <th></th>\n",
              "      <th>Unnamed: 0</th>\n",
              "      <th>Sentence ID</th>\n",
              "      <th>word</th>\n",
              "      <th>T1</th>\n",
              "      <th>T2</th>\n",
              "      <th>T3</th>\n",
              "    </tr>\n",
              "  </thead>\n",
              "  <tbody>\n",
              "    <tr>\n",
              "      <th>0</th>\n",
              "      <td>0</td>\n",
              "      <td>1</td>\n",
              "      <td>রহমান</td>\n",
              "      <td>B-PERSON</td>\n",
              "      <td>B-INDIVIDUAL</td>\n",
              "      <td>B-FAMILYNAME</td>\n",
              "    </tr>\n",
              "    <tr>\n",
              "      <th>1</th>\n",
              "      <td>1</td>\n",
              "      <td>1</td>\n",
              "      <td>ভাষা</td>\n",
              "      <td>o</td>\n",
              "      <td>o</td>\n",
              "      <td>o</td>\n",
              "    </tr>\n",
              "    <tr>\n",
              "      <th>2</th>\n",
              "      <td>2</td>\n",
              "      <td>1</td>\n",
              "      <td>দফা</td>\n",
              "      <td>o</td>\n",
              "      <td>o</td>\n",
              "      <td>o</td>\n",
              "    </tr>\n",
              "    <tr>\n",
              "      <th>3</th>\n",
              "      <td>3</td>\n",
              "      <td>1</td>\n",
              "      <td>স্বাধীনতা</td>\n",
              "      <td>o</td>\n",
              "      <td>o</td>\n",
              "      <td>o</td>\n",
              "    </tr>\n",
              "    <tr>\n",
              "      <th>4</th>\n",
              "      <td>4</td>\n",
              "      <td>1</td>\n",
              "      <td>যুদ্ধ</td>\n",
              "      <td>o</td>\n",
              "      <td>o</td>\n",
              "      <td>o</td>\n",
              "    </tr>\n",
              "    <tr>\n",
              "      <th>5</th>\n",
              "      <td>5</td>\n",
              "      <td>1</td>\n",
              "      <td>.</td>\n",
              "      <td>o</td>\n",
              "      <td>o</td>\n",
              "      <td>o</td>\n",
              "    </tr>\n",
              "    <tr>\n",
              "      <th>6</th>\n",
              "      <td>6</td>\n",
              "      <td>2</td>\n",
              "      <td>বাংলাদেশের</td>\n",
              "      <td>B-LOCATION</td>\n",
              "      <td>B-PLACE</td>\n",
              "      <td>B-NATION</td>\n",
              "    </tr>\n",
              "    <tr>\n",
              "      <th>7</th>\n",
              "      <td>7</td>\n",
              "      <td>2</td>\n",
              "      <td>স্বাধীনতা</td>\n",
              "      <td>o</td>\n",
              "      <td>o</td>\n",
              "      <td>o</td>\n",
              "    </tr>\n",
              "    <tr>\n",
              "      <th>8</th>\n",
              "      <td>8</td>\n",
              "      <td>2</td>\n",
              "      <td>আন্দোলন</td>\n",
              "      <td>o</td>\n",
              "      <td>o</td>\n",
              "      <td>o</td>\n",
              "    </tr>\n",
              "    <tr>\n",
              "      <th>9</th>\n",
              "      <td>9</td>\n",
              "      <td>2</td>\n",
              "      <td>]</td>\n",
              "      <td>o</td>\n",
              "      <td>o</td>\n",
              "      <td>o</td>\n",
              "    </tr>\n",
              "    <tr>\n",
              "      <th>10</th>\n",
              "      <td>10</td>\n",
              "      <td>2</td>\n",
              "      <td>]</td>\n",
              "      <td>o</td>\n",
              "      <td>o</td>\n",
              "      <td>o</td>\n",
              "    </tr>\n",
              "    <tr>\n",
              "      <th>11</th>\n",
              "      <td>11</td>\n",
              "      <td>2</td>\n",
              "      <td>সনের</td>\n",
              "      <td>o</td>\n",
              "      <td>o</td>\n",
              "      <td>o</td>\n",
              "    </tr>\n",
              "    <tr>\n",
              "      <th>12</th>\n",
              "      <td>12</td>\n",
              "      <td>2</td>\n",
              "      <td>ছাত্রনেতা</td>\n",
              "      <td>o</td>\n",
              "      <td>o</td>\n",
              "      <td>o</td>\n",
              "    </tr>\n",
              "    <tr>\n",
              "      <th>13</th>\n",
              "      <td>13</td>\n",
              "      <td>2</td>\n",
              "      <td>,</td>\n",
              "      <td>o</td>\n",
              "      <td>o</td>\n",
              "      <td>o</td>\n",
              "    </tr>\n",
              "    <tr>\n",
              "      <th>14</th>\n",
              "      <td>14</td>\n",
              "      <td>2</td>\n",
              "      <td>শেখ</td>\n",
              "      <td>B-PERSON</td>\n",
              "      <td>B-INDIVIDUAL</td>\n",
              "      <td>B-TITLE</td>\n",
              "    </tr>\n",
              "    <tr>\n",
              "      <th>15</th>\n",
              "      <td>15</td>\n",
              "      <td>2</td>\n",
              "      <td>মুজিব</td>\n",
              "      <td>B-PERSON</td>\n",
              "      <td>B-INDIVIDUAL</td>\n",
              "      <td>o</td>\n",
              "    </tr>\n",
              "    <tr>\n",
              "      <th>16</th>\n",
              "      <td>16</td>\n",
              "      <td>2</td>\n",
              "      <td>]</td>\n",
              "      <td>o</td>\n",
              "      <td>o</td>\n",
              "      <td>o</td>\n",
              "    </tr>\n",
              "    <tr>\n",
              "      <th>17</th>\n",
              "      <td>17</td>\n",
              "      <td>2</td>\n",
              "      <td>]</td>\n",
              "      <td>o</td>\n",
              "      <td>o</td>\n",
              "      <td>o</td>\n",
              "    </tr>\n",
              "    <tr>\n",
              "      <th>18</th>\n",
              "      <td>18</td>\n",
              "      <td>2</td>\n",
              "      <td>সালে</td>\n",
              "      <td>o</td>\n",
              "      <td>o</td>\n",
              "      <td>o</td>\n",
              "    </tr>\n",
              "    <tr>\n",
              "      <th>19</th>\n",
              "      <td>19</td>\n",
              "      <td>2</td>\n",
              "      <td>শেখ</td>\n",
              "      <td>B-PERSON</td>\n",
              "      <td>B-INDIVIDUAL</td>\n",
              "      <td>B-TITLE</td>\n",
              "    </tr>\n",
              "    <tr>\n",
              "      <th>20</th>\n",
              "      <td>20</td>\n",
              "      <td>2</td>\n",
              "      <td>মুজিব</td>\n",
              "      <td>B-PERSON</td>\n",
              "      <td>B-INDIVIDUAL</td>\n",
              "      <td>B-FAMILYNAME</td>\n",
              "    </tr>\n",
              "    <tr>\n",
              "      <th>21</th>\n",
              "      <td>21</td>\n",
              "      <td>2</td>\n",
              "      <td>]</td>\n",
              "      <td>o</td>\n",
              "      <td>o</td>\n",
              "      <td>o</td>\n",
              "    </tr>\n",
              "    <tr>\n",
              "      <th>22</th>\n",
              "      <td>22</td>\n",
              "      <td>2</td>\n",
              "      <td>]</td>\n",
              "      <td>o</td>\n",
              "      <td>o</td>\n",
              "      <td>o</td>\n",
              "    </tr>\n",
              "    <tr>\n",
              "      <th>23</th>\n",
              "      <td>23</td>\n",
              "      <td>2</td>\n",
              "      <td>সালে</td>\n",
              "      <td>o</td>\n",
              "      <td>o</td>\n",
              "      <td>o</td>\n",
              "    </tr>\n",
              "    <tr>\n",
              "      <th>24</th>\n",
              "      <td>24</td>\n",
              "      <td>2</td>\n",
              "      <td>হুসেন</td>\n",
              "      <td>B-PERSON</td>\n",
              "      <td>B-INDIVIDUAL</td>\n",
              "      <td>o</td>\n",
              "    </tr>\n",
              "    <tr>\n",
              "      <th>25</th>\n",
              "      <td>25</td>\n",
              "      <td>2</td>\n",
              "      <td>শহীদ</td>\n",
              "      <td>I-PERSON</td>\n",
              "      <td>I-INDIVIDUAL</td>\n",
              "      <td>o</td>\n",
              "    </tr>\n",
              "    <tr>\n",
              "      <th>26</th>\n",
              "      <td>26</td>\n",
              "      <td>2</td>\n",
              "      <td>সোহরাওযার্দীর</td>\n",
              "      <td>B-PERSON</td>\n",
              "      <td>B-INDIVIDUAL</td>\n",
              "      <td>B-FAMILYNAME</td>\n",
              "    </tr>\n",
              "    <tr>\n",
              "      <th>27</th>\n",
              "      <td>27</td>\n",
              "      <td>2</td>\n",
              "      <td>সাথে</td>\n",
              "      <td>o</td>\n",
              "      <td>o</td>\n",
              "      <td>o</td>\n",
              "    </tr>\n",
              "    <tr>\n",
              "      <th>28</th>\n",
              "      <td>28</td>\n",
              "      <td>2</td>\n",
              "      <td>শেখ</td>\n",
              "      <td>B-PERSON</td>\n",
              "      <td>B-INDIVIDUAL</td>\n",
              "      <td>B-TITLE</td>\n",
              "    </tr>\n",
              "    <tr>\n",
              "      <th>29</th>\n",
              "      <td>29</td>\n",
              "      <td>2</td>\n",
              "      <td>মুজিব</td>\n",
              "      <td>B-PERSON</td>\n",
              "      <td>B-INDIVIDUAL</td>\n",
              "      <td>o</td>\n",
              "    </tr>\n",
              "    <tr>\n",
              "      <th>30</th>\n",
              "      <td>30</td>\n",
              "      <td>2</td>\n",
              "      <td>]</td>\n",
              "      <td>o</td>\n",
              "      <td>o</td>\n",
              "      <td>o</td>\n",
              "    </tr>\n",
              "    <tr>\n",
              "      <th>31</th>\n",
              "      <td>31</td>\n",
              "      <td>2</td>\n",
              "      <td>]</td>\n",
              "      <td>o</td>\n",
              "      <td>o</td>\n",
              "      <td>o</td>\n",
              "    </tr>\n",
              "    <tr>\n",
              "      <th>32</th>\n",
              "      <td>32</td>\n",
              "      <td>2</td>\n",
              "      <td>সালে</td>\n",
              "      <td>o</td>\n",
              "      <td>o</td>\n",
              "      <td>o</td>\n",
              "    </tr>\n",
              "    <tr>\n",
              "      <th>33</th>\n",
              "      <td>33</td>\n",
              "      <td>2</td>\n",
              "      <td>হুসেন</td>\n",
              "      <td>B-PERSON</td>\n",
              "      <td>B-INDIVIDUAL</td>\n",
              "      <td>o</td>\n",
              "    </tr>\n",
              "    <tr>\n",
              "      <th>34</th>\n",
              "      <td>34</td>\n",
              "      <td>2</td>\n",
              "      <td>শহীদ</td>\n",
              "      <td>I-PERSON</td>\n",
              "      <td>I-INDIVIDUAL</td>\n",
              "      <td>o</td>\n",
              "    </tr>\n",
              "    <tr>\n",
              "      <th>35</th>\n",
              "      <td>35</td>\n",
              "      <td>2</td>\n",
              "      <td>সোহরাওযার্দীর</td>\n",
              "      <td>B-PERSON</td>\n",
              "      <td>B-INDIVIDUAL</td>\n",
              "      <td>B-FAMILYNAME</td>\n",
              "    </tr>\n",
              "    <tr>\n",
              "      <th>36</th>\n",
              "      <td>36</td>\n",
              "      <td>2</td>\n",
              "      <td>সাথে</td>\n",
              "      <td>o</td>\n",
              "      <td>o</td>\n",
              "      <td>o</td>\n",
              "    </tr>\n",
              "    <tr>\n",
              "      <th>37</th>\n",
              "      <td>37</td>\n",
              "      <td>2</td>\n",
              "      <td>শেখ</td>\n",
              "      <td>B-PERSON</td>\n",
              "      <td>B-INDIVIDUAL</td>\n",
              "      <td>B-TITLE</td>\n",
              "    </tr>\n",
              "    <tr>\n",
              "      <th>38</th>\n",
              "      <td>38</td>\n",
              "      <td>2</td>\n",
              "      <td>মুজিব</td>\n",
              "      <td>B-PERSON</td>\n",
              "      <td>B-INDIVIDUAL</td>\n",
              "      <td>o</td>\n",
              "    </tr>\n",
              "    <tr>\n",
              "      <th>39</th>\n",
              "      <td>39</td>\n",
              "      <td>2</td>\n",
              "      <td>]</td>\n",
              "      <td>o</td>\n",
              "      <td>o</td>\n",
              "      <td>o</td>\n",
              "    </tr>\n",
              "    <tr>\n",
              "      <th>40</th>\n",
              "      <td>40</td>\n",
              "      <td>2</td>\n",
              "      <td>]</td>\n",
              "      <td>o</td>\n",
              "      <td>o</td>\n",
              "      <td>o</td>\n",
              "    </tr>\n",
              "    <tr>\n",
              "      <th>41</th>\n",
              "      <td>41</td>\n",
              "      <td>2</td>\n",
              "      <td>অন্যান্য</td>\n",
              "      <td>o</td>\n",
              "      <td>o</td>\n",
              "      <td>o</td>\n",
              "    </tr>\n",
              "    <tr>\n",
              "      <th>42</th>\n",
              "      <td>42</td>\n",
              "      <td>2</td>\n",
              "      <td>রাজনৈতিক</td>\n",
              "      <td>o</td>\n",
              "      <td>o</td>\n",
              "      <td>o</td>\n",
              "    </tr>\n",
              "    <tr>\n",
              "      <th>43</th>\n",
              "      <td>43</td>\n",
              "      <td>2</td>\n",
              "      <td>দলগুলোর</td>\n",
              "      <td>o</td>\n",
              "      <td>o</td>\n",
              "      <td>o</td>\n",
              "    </tr>\n",
              "    <tr>\n",
              "      <th>44</th>\n",
              "      <td>44</td>\n",
              "      <td>2</td>\n",
              "      <td>সাথে</td>\n",
              "      <td>o</td>\n",
              "      <td>o</td>\n",
              "      <td>o</td>\n",
              "    </tr>\n",
              "    <tr>\n",
              "      <th>45</th>\n",
              "      <td>45</td>\n",
              "      <td>2</td>\n",
              "      <td>কাজ</td>\n",
              "      <td>o</td>\n",
              "      <td>o</td>\n",
              "      <td>o</td>\n",
              "    </tr>\n",
              "    <tr>\n",
              "      <th>46</th>\n",
              "      <td>46</td>\n",
              "      <td>2</td>\n",
              "      <td>করতে</td>\n",
              "      <td>o</td>\n",
              "      <td>o</td>\n",
              "      <td>o</td>\n",
              "    </tr>\n",
              "    <tr>\n",
              "      <th>47</th>\n",
              "      <td>47</td>\n",
              "      <td>2</td>\n",
              "      <td>গিযে</td>\n",
              "      <td>o</td>\n",
              "      <td>o</td>\n",
              "      <td>o</td>\n",
              "    </tr>\n",
              "    <tr>\n",
              "      <th>48</th>\n",
              "      <td>48</td>\n",
              "      <td>2</td>\n",
              "      <td>,</td>\n",
              "      <td>o</td>\n",
              "      <td>o</td>\n",
              "      <td>o</td>\n",
              "    </tr>\n",
              "    <tr>\n",
              "      <th>49</th>\n",
              "      <td>49</td>\n",
              "      <td>2</td>\n",
              "      <td>মুজিব</td>\n",
              "      <td>B-PERSON</td>\n",
              "      <td>B-INDIVIDUAL</td>\n",
              "      <td>o</td>\n",
              "    </tr>\n",
              "  </tbody>\n",
              "</table>\n",
              "</div>"
            ],
            "text/plain": [
              "    Unnamed: 0  Sentence ID  ...            T2            T3\n",
              "0            0            1  ...  B-INDIVIDUAL  B-FAMILYNAME\n",
              "1            1            1  ...             o             o\n",
              "2            2            1  ...             o             o\n",
              "3            3            1  ...             o             o\n",
              "4            4            1  ...             o             o\n",
              "5            5            1  ...             o             o\n",
              "6            6            2  ...       B-PLACE      B-NATION\n",
              "7            7            2  ...             o             o\n",
              "8            8            2  ...             o             o\n",
              "9            9            2  ...             o             o\n",
              "10          10            2  ...             o             o\n",
              "11          11            2  ...             o             o\n",
              "12          12            2  ...             o             o\n",
              "13          13            2  ...             o             o\n",
              "14          14            2  ...  B-INDIVIDUAL       B-TITLE\n",
              "15          15            2  ...  B-INDIVIDUAL             o\n",
              "16          16            2  ...             o             o\n",
              "17          17            2  ...             o             o\n",
              "18          18            2  ...             o             o\n",
              "19          19            2  ...  B-INDIVIDUAL       B-TITLE\n",
              "20          20            2  ...  B-INDIVIDUAL  B-FAMILYNAME\n",
              "21          21            2  ...             o             o\n",
              "22          22            2  ...             o             o\n",
              "23          23            2  ...             o             o\n",
              "24          24            2  ...  B-INDIVIDUAL             o\n",
              "25          25            2  ...  I-INDIVIDUAL             o\n",
              "26          26            2  ...  B-INDIVIDUAL  B-FAMILYNAME\n",
              "27          27            2  ...             o             o\n",
              "28          28            2  ...  B-INDIVIDUAL       B-TITLE\n",
              "29          29            2  ...  B-INDIVIDUAL             o\n",
              "30          30            2  ...             o             o\n",
              "31          31            2  ...             o             o\n",
              "32          32            2  ...             o             o\n",
              "33          33            2  ...  B-INDIVIDUAL             o\n",
              "34          34            2  ...  I-INDIVIDUAL             o\n",
              "35          35            2  ...  B-INDIVIDUAL  B-FAMILYNAME\n",
              "36          36            2  ...             o             o\n",
              "37          37            2  ...  B-INDIVIDUAL       B-TITLE\n",
              "38          38            2  ...  B-INDIVIDUAL             o\n",
              "39          39            2  ...             o             o\n",
              "40          40            2  ...             o             o\n",
              "41          41            2  ...             o             o\n",
              "42          42            2  ...             o             o\n",
              "43          43            2  ...             o             o\n",
              "44          44            2  ...             o             o\n",
              "45          45            2  ...             o             o\n",
              "46          46            2  ...             o             o\n",
              "47          47            2  ...             o             o\n",
              "48          48            2  ...             o             o\n",
              "49          49            2  ...  B-INDIVIDUAL             o\n",
              "\n",
              "[50 rows x 6 columns]"
            ]
          },
          "metadata": {},
          "execution_count": 9
        }
      ]
    },
    {
      "cell_type": "code",
      "metadata": {
        "colab": {
          "base_uri": "https://localhost:8080/",
          "height": 510
        },
        "id": "bcEK4O6ziiJN",
        "outputId": "5844535d-b765-4a07-8067-b9838c35a286"
      },
      "source": [
        "hindi = pd.DataFrame()\n",
        "hindi = df[['Sentence ID','word','T3','T1']]\n",
        "hindi.rename(columns={'Sentence ID': 'Sentence', 'T3': 'POS','T1':'TAG'}, inplace=True)\n",
        "hindi"
      ],
      "execution_count": null,
      "outputs": [
        {
          "output_type": "stream",
          "name": "stderr",
          "text": [
            "/usr/local/lib/python3.7/dist-packages/pandas/core/frame.py:4308: SettingWithCopyWarning: \n",
            "A value is trying to be set on a copy of a slice from a DataFrame\n",
            "\n",
            "See the caveats in the documentation: https://pandas.pydata.org/pandas-docs/stable/user_guide/indexing.html#returning-a-view-versus-a-copy\n",
            "  errors=errors,\n"
          ]
        },
        {
          "output_type": "execute_result",
          "data": {
            "text/html": [
              "<div>\n",
              "<style scoped>\n",
              "    .dataframe tbody tr th:only-of-type {\n",
              "        vertical-align: middle;\n",
              "    }\n",
              "\n",
              "    .dataframe tbody tr th {\n",
              "        vertical-align: top;\n",
              "    }\n",
              "\n",
              "    .dataframe thead th {\n",
              "        text-align: right;\n",
              "    }\n",
              "</style>\n",
              "<table border=\"1\" class=\"dataframe\">\n",
              "  <thead>\n",
              "    <tr style=\"text-align: right;\">\n",
              "      <th></th>\n",
              "      <th>Sentence</th>\n",
              "      <th>word</th>\n",
              "      <th>POS</th>\n",
              "      <th>TAG</th>\n",
              "    </tr>\n",
              "  </thead>\n",
              "  <tbody>\n",
              "    <tr>\n",
              "      <th>0</th>\n",
              "      <td>1</td>\n",
              "      <td>রহমান</td>\n",
              "      <td>B-FAMILYNAME</td>\n",
              "      <td>B-PERSON</td>\n",
              "    </tr>\n",
              "    <tr>\n",
              "      <th>1</th>\n",
              "      <td>1</td>\n",
              "      <td>ভাষা</td>\n",
              "      <td>o</td>\n",
              "      <td>o</td>\n",
              "    </tr>\n",
              "    <tr>\n",
              "      <th>2</th>\n",
              "      <td>1</td>\n",
              "      <td>দফা</td>\n",
              "      <td>o</td>\n",
              "      <td>o</td>\n",
              "    </tr>\n",
              "    <tr>\n",
              "      <th>3</th>\n",
              "      <td>1</td>\n",
              "      <td>স্বাধীনতা</td>\n",
              "      <td>o</td>\n",
              "      <td>o</td>\n",
              "    </tr>\n",
              "    <tr>\n",
              "      <th>4</th>\n",
              "      <td>1</td>\n",
              "      <td>যুদ্ধ</td>\n",
              "      <td>o</td>\n",
              "      <td>o</td>\n",
              "    </tr>\n",
              "    <tr>\n",
              "      <th>...</th>\n",
              "      <td>...</td>\n",
              "      <td>...</td>\n",
              "      <td>...</td>\n",
              "      <td>...</td>\n",
              "    </tr>\n",
              "    <tr>\n",
              "      <th>49519</th>\n",
              "      <td>339</td>\n",
              "      <td>পূজামণ্ডপে</td>\n",
              "      <td>o</td>\n",
              "      <td>o</td>\n",
              "    </tr>\n",
              "    <tr>\n",
              "      <th>49520</th>\n",
              "      <td>339</td>\n",
              "      <td>বিজযা</td>\n",
              "      <td>o</td>\n",
              "      <td>o</td>\n",
              "    </tr>\n",
              "    <tr>\n",
              "      <th>49521</th>\n",
              "      <td>339</td>\n",
              "      <td>দশমীতে</td>\n",
              "      <td>o</td>\n",
              "      <td>o</td>\n",
              "    </tr>\n",
              "    <tr>\n",
              "      <th>49522</th>\n",
              "      <td>339</td>\n",
              "      <td>দেবীবরণের</td>\n",
              "      <td>o</td>\n",
              "      <td>o</td>\n",
              "    </tr>\n",
              "    <tr>\n",
              "      <th>49523</th>\n",
              "      <td>339</td>\n",
              "      <td>চিত্র</td>\n",
              "      <td>o</td>\n",
              "      <td>o</td>\n",
              "    </tr>\n",
              "  </tbody>\n",
              "</table>\n",
              "<p>49524 rows × 4 columns</p>\n",
              "</div>"
            ],
            "text/plain": [
              "       Sentence        word           POS       TAG\n",
              "0             1       রহমান  B-FAMILYNAME  B-PERSON\n",
              "1             1        ভাষা             o         o\n",
              "2             1         দফা             o         o\n",
              "3             1   স্বাধীনতা             o         o\n",
              "4             1       যুদ্ধ             o         o\n",
              "...         ...         ...           ...       ...\n",
              "49519       339  পূজামণ্ডপে             o         o\n",
              "49520       339       বিজযা             o         o\n",
              "49521       339      দশমীতে             o         o\n",
              "49522       339   দেবীবরণের             o         o\n",
              "49523       339       চিত্র             o         o\n",
              "\n",
              "[49524 rows x 4 columns]"
            ]
          },
          "metadata": {},
          "execution_count": 10
        }
      ]
    },
    {
      "cell_type": "code",
      "metadata": {
        "colab": {
          "base_uri": "https://localhost:8080/"
        },
        "id": "geOv2eLukUdF",
        "outputId": "f726ae06-82ed-4bb7-d25e-f40b8e957ab7"
      },
      "source": [
        "hindi.POS.unique()"
      ],
      "execution_count": null,
      "outputs": [
        {
          "output_type": "execute_result",
          "data": {
            "text/plain": [
              "array(['B-FAMILYNAME', 'o', 'B-NATION', 'B-TITLE', 'I-NATION', 'B-CITY',\n",
              "       'B-MUSEUM', 'I-MUSEUM', 'B-DISTRICT', 'B-PARAMILITARY', 'I-TITLE',\n",
              "       'B-CEREAL', 'B-VEG', 'B-FRUIT', 'I-DISTRICT', 'I-FAMILYNAME',\n",
              "       'I-CITY', 'B-STATE', 'B-', 'B-PARK', 'I-PARK', 'I-', 'B-RELPLACE',\n",
              "       'I-RELPLACE', 'B-CONTINENT', 'B-MONUMENT', 'I-MONUMENT',\n",
              "       'I-CONTINENT', 'B-CONTINENTAL', 'I-CONTINENTAL', 'B-ASSOCIATION',\n",
              "       'I-ASSOCIATION'], dtype=object)"
            ]
          },
          "metadata": {},
          "execution_count": 11
        }
      ]
    },
    {
      "cell_type": "code",
      "metadata": {
        "colab": {
          "base_uri": "https://localhost:8080/"
        },
        "id": "BKH_DL8ylH0_",
        "outputId": "d17da759-a213-42e7-f958-a1b1032ec731"
      },
      "source": [
        "len(hindi.TAG.unique())"
      ],
      "execution_count": null,
      "outputs": [
        {
          "output_type": "execute_result",
          "data": {
            "text/plain": [
              "51"
            ]
          },
          "metadata": {},
          "execution_count": 12
        }
      ]
    },
    {
      "cell_type": "code",
      "metadata": {
        "colab": {
          "base_uri": "https://localhost:8080/"
        },
        "id": "rx6nKeeOlO7A",
        "outputId": "87d65b28-a02b-4694-bb79-34aa552ae42e"
      },
      "source": [
        "hindi['Sentence'].nunique(), hindi.word.nunique(), hindi.POS.nunique(), hindi.TAG.nunique()"
      ],
      "execution_count": null,
      "outputs": [
        {
          "output_type": "execute_result",
          "data": {
            "text/plain": [
              "(339, 14512, 32, 51)"
            ]
          },
          "metadata": {},
          "execution_count": 13
        }
      ]
    },
    {
      "cell_type": "code",
      "metadata": {
        "colab": {
          "base_uri": "https://localhost:8080/"
        },
        "id": "d36F0slkmyv3",
        "outputId": "63fec447-e1eb-45db-9631-761f59101640"
      },
      "source": [
        "\n",
        "hindi.TAG.value_counts()"
      ],
      "execution_count": null,
      "outputs": [
        {
          "output_type": "execute_result",
          "data": {
            "text/plain": [
              "o                  35421\n",
              "B-LOCATION          4853\n",
              "I-LOCATION          2444\n",
              "B-PERSON            1063\n",
              "I-FACILITIES         725\n",
              "B-DISTANCE           607\n",
              "I-DISTANCE           595\n",
              "B-FACILITIES         430\n",
              "I-PERSON             386\n",
              "I-ORGANIZATION       259\n",
              "B-ORGANIZATION       218\n",
              "B-YEAR               197\n",
              "B-COUNT              196\n",
              "I-LIVTHINGS          195\n",
              "B-LIVTHINGS          187\n",
              "I-YEAR               168\n",
              "B-ENTERTAINMENT      166\n",
              "I-PERIOD             141\n",
              "B-PERIOD             139\n",
              "I-ENTERTAINMENT      126\n",
              "B-MONTH              116\n",
              "B-PLANTS             107\n",
              "B-ARTIFACT           104\n",
              "I-ARTIFACT            93\n",
              "B-MATERIALS           79\n",
              "B-TIME                74\n",
              "I-PLANTS              62\n",
              "I-COUNT               60\n",
              "I-MATERIALS           45\n",
              "I-TIME                44\n",
              "I-DATE                34\n",
              "B-LOCOMOTIVE          30\n",
              "B-DATE                29\n",
              "B-DAY                 27\n",
              "B-QUANTITY            17\n",
              "I-QUANTITY            16\n",
              "B-SDAY                13\n",
              "I-MONTH               10\n",
              "I-NUMEX                8\n",
              "I-LOCOMOTIVE           7\n",
              "I-SDAY                 7\n",
              "B-MONEY                5\n",
              "B-NUMEX                5\n",
              "I-MONEY                3\n",
              "B-null                 3\n",
              "I-TIMEX                3\n",
              "I-DAY                  2\n",
              "B-TIMEX                2\n",
              "B-DISEASE              1\n",
              "I-ENAMEX               1\n",
              "B-ENAMEX               1\n",
              "Name: TAG, dtype: int64"
            ]
          },
          "metadata": {},
          "execution_count": 14
        }
      ]
    },
    {
      "cell_type": "code",
      "metadata": {
        "id": "NAj0MHHSnAFK"
      },
      "source": [
        "# parsing the data\n"
      ],
      "execution_count": null,
      "outputs": []
    },
    {
      "cell_type": "code",
      "metadata": {
        "id": "cHDzdXtUnGCC"
      },
      "source": [
        "# import numpy as np\n",
        "# from sklearn.model_selection import train_test_split\n",
        "# hindi_train, hindi_test = train_test_split( hindi, test_size=0.33, random_state=42)"
      ],
      "execution_count": null,
      "outputs": []
    },
    {
      "cell_type": "code",
      "metadata": {
        "id": "Bath5boUnbio"
      },
      "source": [
        "class SentenceGetter(object):\n",
        "    \n",
        "    def __init__(self, data):\n",
        "        self.n_sent = 1\n",
        "        self.data = data\n",
        "        self.empty = False\n",
        "        agg_func = lambda s: [(w, p, t) for w, p, t in zip(s[\"word\"].values.tolist(),\n",
        "                                                           s[\"POS\"].values.tolist(),\n",
        "                                                           s[\"TAG\"].values.tolist())]\n",
        "        self.grouped = self.data.groupby(\"Sentence\").apply(agg_func)\n",
        "        self.sentences = [s for s in self.grouped]\n",
        "    \n",
        "    def get_next(self):\n",
        "        try:\n",
        "            s = self.grouped[\"Sentence: {}\".format(self.n_sent)]\n",
        "            self.n_sent += 1\n",
        "            return s\n",
        "        except:\n",
        "            return None"
      ],
      "execution_count": null,
      "outputs": []
    },
    {
      "cell_type": "code",
      "metadata": {
        "id": "eGPuw4NcniDa"
      },
      "source": [
        "getter = SentenceGetter(hindi)"
      ],
      "execution_count": null,
      "outputs": []
    },
    {
      "cell_type": "code",
      "metadata": {
        "colab": {
          "base_uri": "https://localhost:8080/"
        },
        "id": "0iBCdGpvnlnW",
        "outputId": "1e6b5f75-810f-43be-c3ed-ca1f54fdec30"
      },
      "source": [
        "sentences = [[s[0] for s in sent] for sent in getter.sentences]\n",
        "sentences[0]"
      ],
      "execution_count": null,
      "outputs": [
        {
          "output_type": "execute_result",
          "data": {
            "text/plain": [
              "['রহমান', 'ভাষা', 'দফা', 'স্বাধীনতা', 'যুদ্ধ', '.']"
            ]
          },
          "metadata": {},
          "execution_count": 19
        }
      ]
    },
    {
      "cell_type": "code",
      "metadata": {
        "colab": {
          "base_uri": "https://localhost:8080/"
        },
        "id": "GR8qiovNnuDZ",
        "outputId": "b2e6ac89-c380-49d5-f77b-901d54010c7d"
      },
      "source": [
        "poses = [[s[1] for s in sent] for sent in getter.sentences]\n",
        "print(poses[0])"
      ],
      "execution_count": null,
      "outputs": [
        {
          "output_type": "stream",
          "name": "stdout",
          "text": [
            "['B-FAMILYNAME', 'o', 'o', 'o', 'o', 'o']\n"
          ]
        }
      ]
    },
    {
      "cell_type": "code",
      "metadata": {
        "colab": {
          "base_uri": "https://localhost:8080/"
        },
        "id": "ruNOP-zUnwvK",
        "outputId": "43ee564d-6f54-4733-91a7-4bfece4edee6"
      },
      "source": [
        "labels = [[s[2] for s in sent] for sent in getter.sentences]\n",
        "print(labels[0])"
      ],
      "execution_count": null,
      "outputs": [
        {
          "output_type": "stream",
          "name": "stdout",
          "text": [
            "['B-PERSON', 'o', 'o', 'o', 'o', 'o']\n"
          ]
        }
      ]
    },
    {
      "cell_type": "code",
      "metadata": {
        "colab": {
          "base_uri": "https://localhost:8080/"
        },
        "id": "a2pJSthqnymB",
        "outputId": "380759b6-5d75-43af-8fc7-08372baf6093"
      },
      "source": [
        "# Make TAG name into index for training\n",
        "tags_vals = list(set(hindi[\"TAG\"].values))\n",
        "tags_vals.append('X')\n",
        "tags_vals.append('[CLS]')\n",
        "tags_vals.append('[SEP]')\n",
        "tags_vals = set(tags_vals)\n",
        "tags_vals"
      ],
      "execution_count": null,
      "outputs": [
        {
          "output_type": "execute_result",
          "data": {
            "text/plain": [
              "{'B-ARTIFACT',\n",
              " 'B-COUNT',\n",
              " 'B-DATE',\n",
              " 'B-DAY',\n",
              " 'B-DISEASE',\n",
              " 'B-DISTANCE',\n",
              " 'B-ENAMEX',\n",
              " 'B-ENTERTAINMENT',\n",
              " 'B-FACILITIES',\n",
              " 'B-LIVTHINGS',\n",
              " 'B-LOCATION',\n",
              " 'B-LOCOMOTIVE',\n",
              " 'B-MATERIALS',\n",
              " 'B-MONEY',\n",
              " 'B-MONTH',\n",
              " 'B-NUMEX',\n",
              " 'B-ORGANIZATION',\n",
              " 'B-PERIOD',\n",
              " 'B-PERSON',\n",
              " 'B-PLANTS',\n",
              " 'B-QUANTITY',\n",
              " 'B-SDAY',\n",
              " 'B-TIME',\n",
              " 'B-TIMEX',\n",
              " 'B-YEAR',\n",
              " 'B-null',\n",
              " 'I-ARTIFACT',\n",
              " 'I-COUNT',\n",
              " 'I-DATE',\n",
              " 'I-DAY',\n",
              " 'I-DISTANCE',\n",
              " 'I-ENAMEX',\n",
              " 'I-ENTERTAINMENT',\n",
              " 'I-FACILITIES',\n",
              " 'I-LIVTHINGS',\n",
              " 'I-LOCATION',\n",
              " 'I-LOCOMOTIVE',\n",
              " 'I-MATERIALS',\n",
              " 'I-MONEY',\n",
              " 'I-MONTH',\n",
              " 'I-NUMEX',\n",
              " 'I-ORGANIZATION',\n",
              " 'I-PERIOD',\n",
              " 'I-PERSON',\n",
              " 'I-PLANTS',\n",
              " 'I-QUANTITY',\n",
              " 'I-SDAY',\n",
              " 'I-TIME',\n",
              " 'I-TIMEX',\n",
              " 'I-YEAR',\n",
              " 'X',\n",
              " '[CLS]',\n",
              " '[SEP]',\n",
              " 'o'}"
            ]
          },
          "metadata": {},
          "execution_count": 22
        }
      ]
    },
    {
      "cell_type": "code",
      "metadata": {
        "colab": {
          "base_uri": "https://localhost:8080/"
        },
        "id": "DUn9SB9Kn6eW",
        "outputId": "88427940-a25a-4fa7-f049-9646b5e72b3f"
      },
      "source": [
        "tag2idx={\n",
        "'B-ARTIFACT':1,\n",
        " 'B-COUNT':2,\n",
        " 'B-DATE':3,\n",
        " 'B-DAY':4,\n",
        " 'B-DISEASE':5,\n",
        " 'B-DISTANCE':6,\n",
        " 'B-ENAMEX':7,\n",
        " 'B-ENTERTAINMENT':8,\n",
        " 'B-FACILITIES':9,\n",
        " 'B-LIVTHINGS':10,\n",
        " 'B-LOCATION':11,\n",
        " 'B-LOCOMOTIVE':12,\n",
        " 'B-MATERIALS':13,\n",
        " 'B-MONEY':14,\n",
        " 'B-MONTH':15,\n",
        " 'B-NUMEX':16,\n",
        " 'B-ORGANIZATION':17,\n",
        " 'B-PERIOD':18,\n",
        " 'B-PERSON':19,\n",
        " 'B-PLANTS':20,\n",
        " 'B-QUANTITY':21,\n",
        " 'B-SDAY':22,\n",
        " 'B-TIME':23,\n",
        " 'B-TIMEX':24,\n",
        " 'B-YEAR':25,\n",
        " 'B-null':27,\n",
        " 'I-ARTIFACT':26,\n",
        " 'I-COUNT':28,\n",
        " 'I-DATE':29,\n",
        " 'I-DAY':30,\n",
        " 'I-DISTANCE':31,\n",
        " 'I-ENAMEX':32,\n",
        " 'I-ENTERTAINMENT':33,\n",
        " 'I-FACILITIES':34,\n",
        " 'I-LIVTHINGS':35,\n",
        " 'I-LOCATION':36,\n",
        " 'I-LOCOMOTIVE':37,\n",
        " 'I-MATERIALS':38,\n",
        " 'I-MONEY':39,\n",
        " 'I-MONTH':40,\n",
        " 'I-NUMEX':41,\n",
        " 'I-ORGANIZATION':42,\n",
        " 'I-PERIOD':43,\n",
        " 'I-PERSON':44,\n",
        " 'I-PLANTS':45,\n",
        " 'I-QUANTITY':46,\n",
        " 'I-SDAY':47,\n",
        " 'I-TIME':48,\n",
        " 'I-TIMEX':49,\n",
        " 'I-YEAR':50,\n",
        " 'X':51,\n",
        " '[CLS]':52,\n",
        " '[SEP]':53,\n",
        " 'o':54\n",
        " }\n",
        "tag2idx"
      ],
      "execution_count": null,
      "outputs": [
        {
          "output_type": "execute_result",
          "data": {
            "text/plain": [
              "{'B-ARTIFACT': 1,\n",
              " 'B-COUNT': 2,\n",
              " 'B-DATE': 3,\n",
              " 'B-DAY': 4,\n",
              " 'B-DISEASE': 5,\n",
              " 'B-DISTANCE': 6,\n",
              " 'B-ENAMEX': 7,\n",
              " 'B-ENTERTAINMENT': 8,\n",
              " 'B-FACILITIES': 9,\n",
              " 'B-LIVTHINGS': 10,\n",
              " 'B-LOCATION': 11,\n",
              " 'B-LOCOMOTIVE': 12,\n",
              " 'B-MATERIALS': 13,\n",
              " 'B-MONEY': 14,\n",
              " 'B-MONTH': 15,\n",
              " 'B-NUMEX': 16,\n",
              " 'B-ORGANIZATION': 17,\n",
              " 'B-PERIOD': 18,\n",
              " 'B-PERSON': 19,\n",
              " 'B-PLANTS': 20,\n",
              " 'B-QUANTITY': 21,\n",
              " 'B-SDAY': 22,\n",
              " 'B-TIME': 23,\n",
              " 'B-TIMEX': 24,\n",
              " 'B-YEAR': 25,\n",
              " 'B-null': 27,\n",
              " 'I-ARTIFACT': 26,\n",
              " 'I-COUNT': 28,\n",
              " 'I-DATE': 29,\n",
              " 'I-DAY': 30,\n",
              " 'I-DISTANCE': 31,\n",
              " 'I-ENAMEX': 32,\n",
              " 'I-ENTERTAINMENT': 33,\n",
              " 'I-FACILITIES': 34,\n",
              " 'I-LIVTHINGS': 35,\n",
              " 'I-LOCATION': 36,\n",
              " 'I-LOCOMOTIVE': 37,\n",
              " 'I-MATERIALS': 38,\n",
              " 'I-MONEY': 39,\n",
              " 'I-MONTH': 40,\n",
              " 'I-NUMEX': 41,\n",
              " 'I-ORGANIZATION': 42,\n",
              " 'I-PERIOD': 43,\n",
              " 'I-PERSON': 44,\n",
              " 'I-PLANTS': 45,\n",
              " 'I-QUANTITY': 46,\n",
              " 'I-SDAY': 47,\n",
              " 'I-TIME': 48,\n",
              " 'I-TIMEX': 49,\n",
              " 'I-YEAR': 50,\n",
              " 'X': 51,\n",
              " '[CLS]': 52,\n",
              " '[SEP]': 53,\n",
              " 'o': 54}"
            ]
          },
          "metadata": {},
          "execution_count": 23
        }
      ]
    },
    {
      "cell_type": "code",
      "metadata": {
        "id": "_te6XoMYqndB"
      },
      "source": [
        "tag2name={tag2idx[key] : key for key in tag2idx.keys()}"
      ],
      "execution_count": null,
      "outputs": []
    },
    {
      "cell_type": "code",
      "metadata": {
        "id": "kDKLRKeJrBnV"
      },
      "source": [
        "# training"
      ],
      "execution_count": null,
      "outputs": []
    },
    {
      "cell_type": "code",
      "metadata": {
        "colab": {
          "base_uri": "https://localhost:8080/"
        },
        "id": "WE373UXPrEj0",
        "outputId": "c918cf57-c85a-4d61-d02d-ba8617da9644"
      },
      "source": [
        "device = torch.device(\"cuda\" if torch.cuda.is_available() else \"cpu\")\n",
        "n_gpu = torch.cuda.device_count()\n",
        "n_gpu"
      ],
      "execution_count": null,
      "outputs": [
        {
          "output_type": "execute_result",
          "data": {
            "text/plain": [
              "0"
            ]
          },
          "metadata": {},
          "execution_count": 26
        }
      ]
    },
    {
      "cell_type": "code",
      "metadata": {
        "id": "1NZaLpjbrF6h"
      },
      "source": [
        "# vocabulary = \"/content/drive/MyDrive/BERT/NER Corpus/bert-base-multilingual-cased/bert-base-multilingual-cased-vocab.txt\""
      ],
      "execution_count": null,
      "outputs": []
    },
    {
      "cell_type": "code",
      "metadata": {
        "id": "9pgcKHm5qp1q"
      },
      "source": [
        "max_len  = 45\n",
        "from transformers import AutoTokenizer, AutoModelForMaskedLM\n",
        "  \n",
        "# tokenizer = AutoTokenizer.from_pretrained(\"skillzzzzzy/bengberto\")"
      ],
      "execution_count": null,
      "outputs": []
    },
    {
      "cell_type": "code",
      "metadata": {
        "id": "tlggZD8KrQxs"
      },
      "source": [
        "# max_len  = 45\n",
        "tokenizer=BertTokenizer.from_pretrained('bert-base-multilingual-cased', truncation=True, do_lower_case=True)\n",
        "# # tokenizer = AutoTokenizer.from_pretrained(\"Davlan/bert-base-multilingual-cased-ner-hrl\")\n",
        "# # model = AutoModelForTokenClassification.from_pretrained(\"Davlan/bert-base-multilingual-cased-ner-hrl\")"
      ],
      "execution_count": null,
      "outputs": []
    },
    {
      "cell_type": "code",
      "metadata": {
        "colab": {
          "base_uri": "https://localhost:8080/"
        },
        "id": "ev1xUz2vrVt8",
        "outputId": "51b95e74-9bf2-4260-9fa5-0fe448f74ad6"
      },
      "source": [
        "tokenized_texts = []\n",
        "word_piece_labels = []\n",
        "i_inc = 0\n",
        "for word_list,label in (zip(sentences,labels)):\n",
        "    temp_lable = []\n",
        "    temp_token = []\n",
        "    \n",
        "    # Add [CLS] at the front \n",
        "    temp_lable.append('[CLS]')\n",
        "    temp_token.append('[CLS]')\n",
        "    \n",
        "    for word,lab in zip(word_list,label):\n",
        "        token_list = tokenizer.tokenize(word)\n",
        "        for m,token in enumerate(token_list):\n",
        "            temp_token.append(token)\n",
        "            if m==0:\n",
        "                temp_lable.append(lab)\n",
        "            else:\n",
        "                temp_lable.append('X')  \n",
        "                \n",
        "    # Add [SEP] at the end\n",
        "    temp_lable.append('[SEP]')\n",
        "    temp_token.append('[SEP]')\n",
        "    \n",
        "    tokenized_texts.append(temp_token)\n",
        "    word_piece_labels.append(temp_lable)\n",
        "    \n",
        "    if 5 > i_inc:\n",
        "        print(\"No.%d,len:%d\"%(i_inc,len(temp_token)))\n",
        "        print(\"texts:%s\"%(\" \".join(temp_token)))\n",
        "        print(\"No.%d,len:%d\"%(i_inc,len(temp_lable)))\n",
        "        print(\"lables:%s\"%(\" \".join(temp_lable)))\n",
        "    i_inc +=1"
      ],
      "execution_count": null,
      "outputs": [
        {
          "output_type": "stream",
          "name": "stdout",
          "text": [
            "No.0,len:16\n",
            "texts:[CLS] র ##হ ##মান ভাষা দ ##ফা সব ##া ##ধীন ##তা য ##দ ##ধ . [SEP]\n",
            "No.0,len:16\n",
            "lables:[CLS] B-PERSON X X o o X o X X X o X X o [SEP]\n",
            "No.1,len:2568\n",
            "texts:[CLS] বাংলাদেশের সব ##া ##ধীন ##তা আ ##ন ##দে ##াল ##ন ] ] স ##নের ছ ##াত ##র ##নে ##তা , শ ##ে ##খ ম ##জি ##ব ] ] সালে শ ##ে ##খ ম ##জি ##ব ] ] সালে হ ##সে ##ন শ ##হী ##দ সে ##াহ ##রা ##ও ##য ##ার ##দ ##ীর সাথে শ ##ে ##খ ম ##জি ##ব ] ] সালে হ ##সে ##ন শ ##হী ##দ সে ##াহ ##রা ##ও ##য ##ার ##দ ##ীর সাথে শ ##ে ##খ ম ##জি ##ব ] ] অ ##ন ##য ##ান ##য র ##াজ ##নৈতিক দল ##গ ##লে ##ার সাথে কাজ করতে গ ##ি ##য ##ে , ম ##জি ##ব আ ##ই ##য ##ব ব ##িরে ##া ##ধ ##ী দল পর ##ার ##থ ##ী ফ ##াত ##ি ##মা জ ##িন ##না ##হ ##কে স ##ম ##র ##থ ##ন করেন য ##থা ##রী ##তি ন ##ির ##বা ##চ ##নের দ ##ই স ##প ##তা ##হ পর ##বে তাকে আ ##ট ##ক করা হ ##য তাকে র ##া ##ষ ##ট ##র ##দ ##রে ##াহ ##ীত ##া এবং আ ##প ##ত ##তি ##ক ##র পর ##স ##তা ##ব প ##েশ ##ের অ ##ভি ##য ##ে ##াগ ##ে অ ##ভি ##য ##ক ##ত করে এক বছরের ক ##ার ##দ ##ণ ##ড ##ে দ ##ণ ##ড ##িত করা অব ##শ ##য উচ ##চ আ ##দা ##ল ##তে ##র এক র ##া ##য ##ে তার আগে ##ই তিনি ম ##ক ##তি প ##ে ##য ##ে যান এ স ##ম ##য স ##াম ##রিক বা ##হিনীর গ ##ণ ##হ ##ত ##য ##া আর বা ##ঙ ##াল ##ি ##দের চ ##াহ ##ি ##দা পর ##ণ ##ে স ##াম ##রিক শ ##াস ##ক ##দের ঔ ##দা ##স ##ীন ##য পর ##ব প ##াক ##িস ##তা ##নের জন ##গ ##ণ ##কে ক ##ষ ##ব ##ধ করে 1969 সালে আ ##ই ##য ##ব খান ##ের আ ##হ ##বা ##নে অ ##ন ##ষ ##ঠ ##িত একটি স ##র ##ব ##দ ##লী ##য স ##ম ##মে ##ল ##নে ম ##জি ##ব তার ছ ##য - দ ##ফা ##স ##হ অ ##ন ##য ##ান ##য র ##াজ ##নৈতিক দলের চ ##াহ ##ি ##দা ##গ ##লে ##া মে ##নে ন ##ে ##ও ##য ##ার আ ##হ ##বা ##ন জ ##ানা ##ন এবং তা পর ##ত ##য ##া ##খ ##য ##াত হলে স ##ম ##মে ##ল ##ন থেকে ব ##ের হ ##য ##ে আসে ##ন 1969 সালের 5 ড ##িসে ##ম ##ব ##র সে ##াহ ##রা ##ও ##য ##ার ##দ ##ীর মত ##য ##বার ##ষ ##িক ##ী উ ##প ##লক ##ষে আ ##য ##ে ##াজ ##িত এক জন ##স ##ভা ##য ম ##জি ##ব ঘ ##ে ##া ##ষ ##ণা করেন যে এ ##খ ##ন থেকে পর ##ব প ##াক ##িস ##তা ##ন ##কে নামে অ ##ভি ##হিত করা হবে : ম ##জি ##ব পর ##ব প ##াক ##িস ##তা ##নে ব ##য ##াপ ##ক জন ##ম ##ত গ ##ড ##ে ত ##ল ##তে স ##ম ##র ##থ হন এবং ক ##ার ##য ##ত ভারত ##ী ##য উ ##প ##ম ##হ ##াদ ##েশ ##ের অ ##ন ##য ##তম পর ##ভা ##ব ##শা ##লী ন ##ে ##তা হিসেবে আ ##বি ##র ##ভ ##ত হন 1970 সালের ন ##ির ##বা ##চ ##নে শ ##ে ##খ ম ##জি ##বের ন ##ে ##ত ##ত ##বে আ ##ও ##য ##াম ##ী ল ##ী ##গ পর ##াদ ##েশ ##িক আ ##ইন ##স ##ভা ##য ন ##ির ##ঙ ##ক ##শ স ##ং ##খ ##য ##াগ ##রি ##ষ ##ঠ ##তা অ ##র ##জন পর ##ব প ##াক ##িস ##তা ##নের কে ##াট ##ার 2 আ ##সন ছ ##া ##ড ##া বা ##কি সব ##গ ##লে ##াতে জ ##য ##ী হ ##ও ##য ##ার জন ##য জ ##াত ##ী ##য স ##ং ##স ##দের স ##ং ##খ ##য ##াগ ##রি ##ষ ##ঠ ##তা ##ও অ ##র ##জন করে আ ##ও ##য ##াম ##ী ল ##ী ##গ ন ##ির ##বা ##চ ##নের ফ ##লা ##ফ ##ল প ##াক ##িস ##তা ##নের দ ##ই অংশ ##ের ম ##ধ ##য ##ে মে ##র ##ক ##রণ স ##ষ ##টি করে প ##শ ##চ ##ি ##ম প ##াক ##িস ##তা ##নের ব ##হ ##ত ##তম র ##াজ ##নৈতিক দলের ন ##ে ##তা জ ##ল ##ফ ##িকার আল ##ি ভ ##ট ##টে ##া , ম ##জি ##বের সব ##া ##য ##ত ##ব ##শা ##সন ##ের ন ##ীত ##ির পর ##বল ব ##িরে ##া ##ধ ##ীত ##া করেন ভ ##ট ##টে ##া এ ##য ##াস ##ে ##ম ##বল ##ি ব ##য ##ক ##ট করার হ ##ম ##কি দ ##ি ##য ##ে ঘ ##ে ##া ##ষ ##ণা দেন যে , পরে ##সি ##ড ##েন ##ট ই ##য ##াহ ##ি ##য ##া খান ম ##জি ##ব ##কে সরকার গ ##ঠন ##ের জন ##য আ ##হ ##বা ##ন জ ##ানা ##লে তিনি সে সরকার ##কে মে ##নে ন ##ে ##বে ##ন না র ##াজ ##নৈতিক অ ##স ##থ ##িশ ##ীল ##তার ম ##ধ ##য ##ে ই ##য ##াহ ##ি ##য ##া খান স ##ং ##স ##দ ড ##াক ##তে দ ##ের ##ি ক ##র ##ছিলেন বা ##ঙ ##াল ##ির ##া এতে ব ##ঝ ##ে ফ ##েলে যে , ম ##জি ##বের দল ##কে স ##ং ##খ ##য ##াগ ##রি ##ষ ##ঠ হ ##ও ##য ##া স ##ত ##ত ##বে ##ও সরকার গ ##ঠন করতে দ ##ে ##য ##া হবে হ ##য ##ত আ ##মার শেষ বা ##রত ##া , আ ##জ থেকে বাংলাদেশ সব ##া ##ধীন আ ##মি বাংলাদেশের মা ##ন ##ষক ##ে আ ##হ ##বা ##ন জ ##ানা ##ই , আ ##পন ##ারা যেখানে ##ই থ ##াক ##ন , আ ##পন ##াদ ##ের স ##র ##ব ##সব দ ##ি ##য ##ে দ ##খ ##ল ##দার সে ##না ##বা ##হিনীর ব ##ির ##দ ##ধ ##ে শেষ পর ##য ##ন ##ত পর ##তির ##ে ##া ##ধ চ ##াল ##ি ##য ##ে যান বাংলাদেশের মা ##টি থেকে স ##র ##ব ##শে ##ষ প ##াক ##িস ##তা ##নি স ##ৈ ##ন ##য ##টি ##কে উ ##ত ##খা ##ত করা এবং চ ##ড ##ান ##ত ব ##িজ ##য অ ##র ##জন ##ের আগ পর ##য ##ন ##ত আ ##পন ##াদ ##ের য ##দ ##ধ অব ##য ##াহ ##ত ম ##জি ##ব ##কে গ ##রে ##ফ ##তার করে প ##শ ##চ ##ি ##ম প ##াক ##িস ##তা ##নে ন ##ি ##য ##ে যা ##ও ##য ##া হ ##য এবং ফ ##য ##সা ##লা ##বাদ ##ের একটি জ ##েলে ক ##ড ##া ন ##ির ##াপ ##ত ##তা ##য র ##াখা হ ##য প ##াক ##িস ##তা ##নি জ ##েন ##ারে ##ল র ##হ ##ি ##ম ##দ ##দিন খান ম ##জি ##বের মা ##ম ##লার পর ##ি ##চ ##ালনা করেন মা ##ম ##লার আ ##স ##ল ক ##ার ##য ##পর ##ণা ##লী এবং র ##া ##য ক ##খ ##নে ##াই জন ##স ##ম ##ক ##ষে পর ##কা ##শ করা হ ##য এ মা ##ম ##লা ##টি হিসাবে অ ##ভি ##হিত তিনি 1972 সালের 10 জ ##ান ##য ##ার ##ি বাংলাদেশ ##ে ফ ##িরে আসে ##ন গ ##ান ##ধ ##ীর সাথে সে ##দিন তিনি ঢাকা ##য জ ##ড ##ে ##া হ ##ও ##য ##া পর ##া ##য প ##া ##চ ল ##া ##খ মা ##ন ##ষে ##র স ##াম ##নে ব ##ক ##ত ##তা শ ##ে ##খ ম ##জি ##ব ##র র ##হ ##মান অ ##ল ##প ##দিন ##ের জন ##য অ ##ন ##ত ##র ##ব ##রত ##ী ##কালীন র ##া ##ষ ##ট ##র ##পতি ছিলেন এবং পর ##ব ##রত ##ীতে পর ##ধ ##ান ##ম ##ন ##ত ##রী হিসেবে দ ##া ##য ##িত ##ব গ ##র ##হ ##ণ করেন এ পর ##ব প ##াক ##িস ##তা ##ন আ ##ইন ##স ##ভা ##র জন ##য ন ##ির ##বা ##চিত র ##াজ ##নী ##তি ##বি ##দ ##রা ন ##ত ##ন র ##া ##ষ ##ট ##রের পর ##থ ##ম স ##ং ##স ##দ গ ##ঠন করেন ম ##ক ##তি ##বা ##হিনী এবং অ ##ন ##য ##ান ##য ম ##িল ##িশ ##ি ##য ##াদ ##ের ন ##ি ##য ##ে ন ##ত ##ন বাংলাদেশ সে ##না ##বা ##হিনী গঠিত হ ##য তার ##ৈ অ ##ভি ##পর ##া ##য ##ক ##র ##মে 17 মা ##র ##চ 1972 ভারত ##ী ##য বা ##হিনী আ ##ন ##ষ ##ঠ ##ানি ##ক ##ভাবে বাংলাদেশের ভ - খ ##ণ ##ড ত ##য ##াগ ম ##জি ##ব ই ##ন ##দি ##রা গ ##ান ##ধ ##ির সাথে ঘ ##নি ##ষ ##ঠ স ##ম ##পর ##ক ব ##জা ##য ম ##জি ##বের জ ##ী ##ব ##দ ##দ ##শা ##য দ ##ই সরকার ##ের ম ##ধ ##য ##ে প ##ার ##ষ ##পর ##িক স ##ম ##ঝ ##ে ##াত ##া সব ##া ##ধীন ##তা পর অ ##চ ##িরে ##ই ম ##জি ##বের সরকার ##কে ক ##র ##ম ##শ বা ##ড ##তে থ ##াকা অ ##সন ##তে ##া ##ষ স ##াম ##াল দ ##িতে হ ##য তার র ##া ##ষ ##ট ##রী ##য ##ক ##রণ ও ই ##ণ ##ড ##াস ##ট ##রি ##য ##াল স ##মা ##জ ##ত ##ন ##ত ##রের ন ##ীত ##ি পর ##শি ##ক ##ষ ##িত জন ##বল , অ ##দ ##ক ##ষ ##তা , মা ##ত ##রা ##তির ##িক ##ত দ ##র ##নী ##তি আর দ ##র ##বল ন ##ে ##ত ##ত ##বের কারণে ক ##ষ ##তি ##গর ##স ##ত ম ##জি ##ব অ ##তি ##মা ##ত ##রা ##য জ ##াত ##ী ##য ন ##ীত ##িতে মনে ##ানি ##বেশ করা ##য স ##থা ##নী ##য সরকার পর ##য ##ে ##াজ ##নী ##য গ ##রত ##ব লাভ ##ে ব ##য ##র ##থ হ ##য আ ##ও ##য ##াম ##ী ল ##ী ##গ ও কে ##ন ##দ ##রী ##য সরকার পর ##ণা ##ঙ ##গ র ##া ##ষ ##ট ##রী ##য ন ##ি ##য ##ন ##ত ##রণ করা ##য গ ##ণ ##ত ##ন ##ত ##র দ ##র ##বল হ ##য ##ে প ##ড ##ে এ স ##ম ##য ত ##ণ ##ম ##ল পর ##য ##া ##য ##ে কে ##ান ন ##ির ##বা ##চ ##ন ##ৈ অ ##ন ##ষ ##ঠ ##িত হ ##য বাংলাদেশ ##ে অব ##স ##থ ##িত ত ##ব ##কালীন র ##া ##ষ ##ট ##র ##দ ##ত ই ##উ ##জি ##ন দ ##ি ##য ##ে ল ##রে ##ন ##স ল ##ি ##ফ ##স ##ল ##জ স ##ি ##আ ##ই ##এ - কে অ ##ভ ##য ##ত ##থা ##ন ও গ ##ণ ##হ ##ত ##য ##ার জন ##য দ ##ে ##া ##ষ ##ারে ##াপ 1975 5 434 - . 8 , তার ম ##র ##দে ##হ তার জন ##ম ##স ##থা ##ন ট ##ঙ ##গ ##ি ##প ##া ##ড ##া ##য হ ##েল ##িক ##প ##টার ##ে করে ন ##ি ##য ##ে যা ##ও ##য ##া হ ##য এবং স ##াম ##রিক ত ##ত ##ত ##বা ##ব ##ধ ##ানে দ ##া ##ফ ##ন করা হ ##য অ ##ন ##য ##ান ##য ##দের ঢাকা ##র ব ##না ##নী ক ##ব ##র ##স ##থা ##নে দ ##া ##ফ ##ন করা হ ##য স ##ক ##য ##ার ভ ##াস ##ক ##র ##য ] ] ক ##ি ##ছ ক ##ি ##ছ ঐ ##তি ##হ ##াস ##িক ##দের মত ##ে পর ##ব ও প ##শ ##চ ##ি ##ম প ##াক ##িস ##তা ##নের ভ ##িত ##রের স ##ং ##ঘ ##াত ও ব ##ৈ ##ষ ##ম ##য ##গ ##লে ##াক ##ে শ ##ে ##খ ম ##জি ##ব ##ও তার দল অ ##তি র ##ঞ ##জি ##ত করে ##ছিল এবং সব ##া ##ধীন ##তা বাংলাদেশ ##কে শ ##িল ##প ও মা ##ন ##ব ##স ##ম ##প ##দের ক ##ষে ##ত ##রে ক ##ষ ##তির স ##ম ##ম ##খ ##ীন ম ##জি ##বের এক ##দ ##লের শ ##াস ##ন এবং র ##াজ ##নৈতিক পর ##তি ##প ##ক ##ষ ##দের দ ##ম ##ন জন ##গ ##ণের একটি ব ##ড অংশ ##ের অ ##সন ##তে ##া ##ষে ##র কারণ হ ##য ##ে দ ##া ##ড ##া ##য এবং বাংলাদেশের গ ##ণ ##তা ##ন ##ত ##রিক চ ##র ##চ ##াক ##ে দ ##ীর ##ঘ ##স ##ম ##য ##ের জন ##য গ ##তি ##চ ##য ##ত 2004 সালে ব ##ি ##বি ##সি ' র বাংলা র ##েড ##ি ##ও স ##ার ##ভি ##সের প ##ক ##ষ থেকে স ##ারা ব ##িশ ##বে যে জ ##রি ##প চ ##াল ##ানে ##া হ ##য , তা ##তে ম ##জি ##ব ' ' স ##র ##ব ##কালে ##র স ##র ##ব ##শ ##রে ##ষ ##ঠ বা ##ঙ ##াল ##ি ' ' হিসেবে ব ##ি ##বে ##চিত 23 - 04 - 2008 - . * অ ##স ##মা ##প ##ত আ ##তম ##জ ##ী ##বন ##ী , পর ##কা ##শ ##কা ##ল : 2012 , পর ##কা ##শন ##ী : দ ##ি ই ##উ ##নি ##ভা ##র ##সি ##টি পরে ##স ল ##ি ##মি ##টে ##ড ইংরেজি ##তে নামে অ ##ন ##দি ##ত # স ##াত ##ৈ মা ##র ##চে ##র ভ ##া ##ষ ##ণ ( বাংলা ) ] # জ ##ী ##বন ##ী - আ ##ও ##য ##াম ##ী ল ##ী ##গের ও ##য ##ে ##ব স ##াই ##ট হতে ] # ব ##ঙ ##গ ##বন ##ধ অ ##ন ##লা ##ইন ম ##িউ ##জি ##য ##াম ] ] ] ক ##িন ##ত শেষ র ##ক ##ষ ##া হ ##য ##নি 1538 সালে শ ##ের শ ##াহ - র সে ##না ##পতি চ ##ট ##ট ##গর ##াম দ ##খ ##ল করে তবে , 1580 পর ##য ##ন ##ত আ ##ফ ##গ ##ান শ ##াস ##না ##ম ##লে সব ##স ##ম ##য ত ##রি ##পর ##া আর আর ##াকা ##নী ##দের স ##ঙ ##গে য ##দ ##ধ চলে ##ছে এর দ ##শ ##কে জ ##াহ ##াজ ন ##ে ##া ##ঙ ##গর ক ##র ##ছে চ ##ট ##ট ##গর ##াম ব ##ন ##দ ##রে ] ] এর দ ##শ ##কে জ ##াহ ##াজ ন ##ে ##া ##ঙ ##গর ক ##র ##ছে চ ##ট ##ট ##গর ##াম ব ##ন ##দ ##রে ] ] পর ##ত ##গ ##িজ ম ##িশ ##নার ##ি প ##াদ ##রি ম ##য ##ান ##রিক 1630 - 1634 স ##ম ##য ##কালে চ ##ট ##ট ##গর ##াম ##ে উ ##প ##স ##থ ##িত ##কালে চ ##ট ##ট ##গর ##াম শ ##াস ##ক আল ##াম ##েন ##ের পর ##শ ##ং ##সা করে যান 1666 সালে চ ##ট ##ট ##গর ##াম মে ##াগ ##ল ##দের হ ##স ##ত ##গত হ ##য 1944 ] ] 1944 ] ] 1944 ] ] ই ##ং ##রে ##জ ##রা আ ##ন ##দ ##র ##কি ##ল ##লা জ ##াম ##ে ম ##স ##জি ##দ ##কে গ ##ে ##াল ##াব ##ার ##দের গ ##দা ##মে পর ##ি ##ণ ##ত ক ##র ##লে চ ##ট ##ট ##গর ##াম ##বা ##স ##ী ক ##ষ ##ব ##ধ হ ##য ##ে ও ##ঠে ম ##স ##জি ##দের জন ##য ন ##বা ##বী আ ##ম ##লে পর ##দ ##ত ##ত ল ##া ##খে ##রা ##জ জ ##মি 1838 সালের জ ##রি ##পের স ##ম ##য বা ##জে ##য ##াপ ##ত করা হ ##য পরে খান বা ##হ ##াদ ##র হ ##াম ##ি ##দ ##ল ##লা ##হ খান ক ##লিক ##াত ##া ##য গ ##ি ##য ##ে গ ##ভ ##র ##ন ##রের ক ##া ##ছ থেকে এটি উ ##দ ##ধ ##ার করেন স ##ম ##দ ##র স ##ৈ ##ক ##ত ] ] ল ##েক ] ] বাংলাদেশের অ ##ন ##য ##ান ##য অ ##ঞ ##চ ##লের মত ##ে ##া চ ##ট ##ট ##গর ##াম ##ের অ ##র ##থ ##নী ##তি ##ও ক ##ষ ##ি ও বা ##ণ ##িজ ##য ন ##ির ##ভ ##র চ ##ট ##ট ##গর ##াম বাংলাদেশের বা ##নি ##জ ##য ##িক র ##াজ ##ধ ##ানী 1988 সালে বাংলাদেশের পর ##থ ##ম র ##প ##তা ##নী পর ##ক ##রি ##য ##াজ ##াত ##ক ##রণ অ ##ঞ ##চ ##ল বা চ ##ট ##ট ##গর ##াম ##ে স ##থা ##পি ##ত আ ##ন ##দ ##র ##কি ##ল ##লা জ ##াম ##ে ম ##স ##জি ##দ ] ] স ##ি ##মে ##ট ##রী ] ] র ##হ ##মান . [SEP]\n",
            "No.1,len:2568\n",
            "lables:[CLS] B-LOCATION o X X X o X X X X o o o X o X X X X o B-PERSON X X B-PERSON X X o o o B-PERSON X X B-PERSON X X o o o B-PERSON X X I-PERSON X X B-PERSON X X X X X X X o B-PERSON X X B-PERSON X X o o o B-PERSON X X I-PERSON X X B-PERSON X X X X X X X o B-PERSON X X B-PERSON X X o o o X X X X o X X o X X X o o o o X X X o B-PERSON X X B-PERSON X X X o X X X X o o X X X B-PERSON X X X B-PERSON X X X X o X X X X o o X X X o X X X X B-PERIOD X I-PERIOD X X X o X o o X X o o X o o X X X X X X X X X o o X X X X X o X X X o X X o X X X X X o X X X X o B-PERIOD I-PERIOD o X X X X X o X X X o o X X o X o X X X X o o X X X o o X o o X X o X X X o o o X X o X X o X o X X X X X o o X X X X o X X X o X X o X X o X X X o X X X X o X B-LOCATION X X X X o X X X o X X X o B-YEAR I-YEAR B-PERSON X X X B-PERSON X o X X X o X X X X o o X X X X X o X X X X B-PERSON X X o B-COUNT X o o X X X o X X X X o X X o o X X X X X X o X o X X X X o X X X o X X o o o X X X X X X o o X X X X o o X o X X o X B-YEAR I-YEAR B-DATE I-DATE X X X X B-PERSON X X X X X X X o X X X X X o X X X o X X X X o o X X X B-PERSON X X o X X X X o o o X X o o X B-LOCATION X X X X X o o X X o o o B-PERSON X X B-LOCATION X I-LOCATION X X X X o X X X o X X o X X o X X o X X X o o o X X X o X X o X X X X X X o X X X o X X X X o X X o o X X X X o B-YEAR I-YEAR o X X X X B-PERSON X X B-PERSON X X o X X X X o X X X X o X X o X X X o X X X X o X X X X o X X X X X X X X o X X B-LOCATION X I-LOCATION X X X X o X X o o X o X X X o X o X X X o X X o X X X o X o X X X o X X X o X X X X X X X X X o X X o o X X X X o X X o X X X X o X X X B-LOCATION X X X X o X o X o X X X o X X X o X X o B-LOCATION X X X X I-LOCATION X X X X o X X X o X X o o X X B-PERSON X X X I-PERSON X B-PERSON X X X o B-PERSON X X o X X X X X X X o X X o X o X X X X X o o X X X o X X X X X X o X X X o o X X o X X X o X X X X o o o B-PERSON X X X X B-PERSON X X X X X B-PERSON B-PERSON X X X o o X X o X o X X X o X X o o o X o X o X X X o o X X o X X X X X o X X X B-PERSON X X X X X B-PERSON o X X X o X X o X X o X X o X X X X o o X X o X o o B-PERSON X X o X o X X X X X X X o X X X o X X X X o o X o o X X X o o X X o X o o X X o o X o o o X X o X B-LOCATION o X X X o X X X o X X o o X X o X o X X o o X X X o X X X o X X X o X X X o X X X o X X X X o o X X X o X X X X o X X X X o B-LOCATION o X o o X X X X B-ORGANIZATION X X X X o X X X X X o X X X o o o X X X o X X o X X X o o X X X o X X X o X X o X X X B-PERSON X X X o X X X o B-LOCATION X X X X I-LOCATION X X X X o X X X o X X X o X o B-LOCATION X X X X X o o X o X X o X X X X X o X o X B-ORGANIZATION X X X X B-PERSON X X X B-PERSON X X X X X B-PERSON B-PERSON X X o X X o X X X o o X X o X X o X X X X X o o X X o X X X o X X X X o X X o o X o o X X X o o X X o B-YEAR I-YEAR B-DATE I-DATE X X X X B-LOCATION X o X o X B-PERSON X X X o o X o B-LOCATION X o X X X o X X X o X X B-COUNT X X I-COUNT X X o X X X o X X o X X X B-PERSON X X B-PERSON X X X B-PERSON X X o X X X X o X o X X X X X X X o X X X X X o o o X X X o X X X X X X o o X X X X o X X X o o o X B-LOCATION X X X X o X X X X o X o X X X o X X X X X X o X X o X X X X o X X o X X X o X o o X X X X o o X X X X o X X X X X X o X X X o X X o o X X X o o X o X o X X X X X X X B-DATE I-DATE X X I-DATE o X X o X o X X X X X X B-LOCATION o o o X X o X X B-PERSON X X B-PERSON X X X B-PERSON X X X o o X X X o X X X o X X B-PERSON X X o X X X X X X B-COUNT X o X o X X X o X X X X o X X X X X o X X X o o X X X B-PERSON X X o X o X X X o X X o X o X X X X o X X o X o X o o X X X X X X X o o X X X X X X X o X X X X X X o X X o X X X X o X o o X X X X o o X X X X X o X X X o o X X o X X X X o o X X X X X B-PERSON X X o X X X X X o X X X o X X o X X o X o X X X o o X X X X X o X X o X o X X X o X o X X X X o X X o o X X X X o o X X X o X X X X X o X X X X X o X o X X X X X o X X o X X o X X o o X X o X X X o X X X X o X o X X X X X o X X X X o X B-LOCATION X o X X X o X X o X X X X X X o X X X o X X X B-PERSON X X X I-PERSON X X X X X o X X X X o o o X X X X X o o X X X X X o X o X X X X X o o o X X o o o o X X X o o X X X X o X X X X X X X X B-LOCOMOTIVE X X X X X o o X X X o X X X o X o o X X o X X X X X X o X X X o o X o X X X X X o X o X X o X X X X X o X X X o o X B-PERSON X X X o X X X X o o o X X o X X o X X X X X o X o X o o X X X X B-LOCATION X X X X o X X o X X X o o X X X X X X X X B-PERSON X X B-PERSON X X X o o o X o X X X o X o o X X X B-LOCATION X o X X o o X X X X X X o X X X o X X o X X X X B-PERSON X X o X X o X X o o X X o X X X X X o X X o X X o o X o X o X X X X X o o X X o X X X X o B-LOCATION o X X X X X o X X X X o X X X X X X o X o X X X X B-YEAR I-YEAR B-ORGANIZATION X X X o o B-ORGANIZATION I-ORGANIZATION X X X o X X X o X X o o X o X X o o X X o X X X o X o o X B-PERSON X X o o o X X X X o X X X X X X B-ORGANIZATION X X X o o o o X X X o o o o o X X o o X X X X o X X X X X o o X X X X o B-YEAR o o X X X o o X o X X X X X X o X o X X X X o X o o X X X o B-DATE X X I-DATE X X X o X X X o o o o o o X X X o o X X X X o X X o X X X o X X o o o B-LOCATION X X X X I-LOCATION X X X I-LOCATION X X X X o o o o X X o o X X X o X X B-YEAR o B-PERSON X I-PERSON X o o o X X B-LOCATION X X X X o X X o o o B-YEAR o X X X o X X X o X X X X o X X X B-LOCATION X X X o o X X X o X X o X X o X o o X X o X X o X X X X o X X B-LOCATION X X X X B-FACILITIES X X X o o o B-PERIOD X X o X X o X X X X o X X B-LOCATION X X X X B-FACILITIES X X X o o B-ORGANIZATION X X X B-ORGANIZATION X X X B-ORGANIZATION X X o X X X B-YEAR o B-YEAR B-TIME X X X B-LOCATION X X X X X o X X X X X o X X X X o X X o X X X o X X X o o B-YEAR I-YEAR B-LOCATION X X X X o X X X o X X X o X B-YEAR o o B-YEAR o o B-YEAR o o B-ORGANIZATION X X X X B-ORGANIZATION X X X X X X I-ORGANIZATION X X I-ORGANIZATION X X X X B-ORGANIZATION X X X X X o X X o X X X o X X o X X X X X X X o X X X o X X o X o X X X o X o X X o X X o X X X o X X X X o X B-YEAR I-YEAR B-COUNT X X B-TIME X X o X X X X o o X o B-PERSON B-PERSON X X X B-PERSON X X X X X X I-PERSON B-LOCATION X X X X B-LOCATION X X X B-ORGANIZATION X X X X o X X o o o X X X o o X X X o X X X o o B-LOCATION X o o B-LOCATION o X X X X o X X X o X X B-LOCATION X X X X X o X X X X X o X X o o X X X o X X X B-LOCATION X X X X o o X X X X o X X X o o B-PERSON o X X o X X X o X X X X X X X o X X X o o X X X X X o X X X B-ORGANIZATION X X X X X X I-ORGANIZATION X X I-ORGANIZATION X X X o o B-ORGANIZATION X X X X o o B-PERSON X X o [SEP]\n",
            "No.2,len:819\n",
            "texts:[CLS] জ ##ি ##য ##া ] ] স ##ম ##তি জ ##াদ ##ঘ ##র ] ] চ ##ট ##ট ##গর ##াম ##ের স ##া ##ং ##স ##ক ##তি ##ক ঐ ##তি ##হ ##য স ##পর ##া ##চ ##ীন জ ##ানা ই ##তি ##হ ##াস ##ের শ ##র থেকে চ ##ট ##ট ##গর ##াম ##ে আর ##াকা ##নী ম ##ঘ ##ীদের পর ##ভা ##ব ল ##ক ##ষ ##নী ##য ফলে গ ##রা ##মী ##ণ স ##ং ##স ##ক ##তি ##তে ##ও এর য ##থ ##ে ##ষ ##ট পর ##ভা ##ব র ##য ##েছে সে স ##ম ##য এ ##খা ##ন ##কার রাজা ##রা [UNK] হ ##ও ##য ##া ##য তার পর ##ভা ##ব ##ও য ##থ ##ে ##ষ ##ট স ##ল ##তা ##নি , আ ##ফ ##গ ##ান এবং মে ##াগ ##ল আ ##ম ##লে ##ও আর ##াকা ##নী ##দের স ##ঙ ##গে য ##দ ##ধ ##বি ##গর ##হ ল ##ে ##গে ##ই ছিল ফলে শেষ পর ##য ##ন ##ত ম ##ঘ ##ীদের পর ##ভা ##ব ব ##িল ##প ##ত হ ##য ##নি এ ##ছ ##া ##ড ##া চ ##ট ##ট ##গর ##াম ##ের মা ##ন ##ষ আ ##তি ##থ ##ে ##য ##তার জন ##য দেশ ব ##ি ##খ ##য ##াত স ##া ##ং ##স ##ক ##তি ##ক ক ##র ##ম ##কা ##ন ##ড পর ##ি ##চ ##ালিত হ ##য জেলা শ ##িল ##প ##ক ##লা এক ##া ##ড ##ে ##মি , ম ##স ##লিম হল , থ ##ি ##য ##েট ##ার বছরের চ ##ট ##ট ##গর ##াম ' ( দৈনিক আ ##জা ##দ ##ী ক ##রত ##ক পর ##কা ##শি ##ত চ ##ট ##ট ##গর ##াম ##ের মা ##ন ##ষ ভ ##ে ##াজ ##ন র ##সি ##ক হিসেবে পরিচিত তারা যেমন ন ##িজের ##া খ ##ে ##তে প ##ছ ##ন ##দ করেন , ত ##ে ##ম ##নি অ ##তি ##থ ##ি আ ##প ##য ##া ##য ##নে ##ও সেরা চ ##ট ##ট ##গর ##াম ##ের মে ##জ ##বা ##ন হ ##চ ##ছে তার ব ##ড উ ##দা ##হ ##র ##ন শ ##ট ##কি মা ##ছ , ম ##ধ ##ভা ##ত , ব ##েলা ব ##িস ##কি ##ট , বা ##ক ##র খান ##ি , ল ##ক ##ষ ##িশ ##াক , ক ##াল ##ে ##া গ ##র ##র গ ##ে ##াস ##ত ভ ##না , প ##েল ##ন ড ##াল , মে ##জ ##বা ##নি মা ##ং ##স , আ ##ফ ##লা ##ত ##ন হ ##াল ##য ##া , তা ##ল প ##ি ##ঠ ##া , ন ##ে ##ানা ই ##লি ##শ চ ##ট ##ট ##গর ##াম ##ের ঐ ##তি ##হ ##য ##বা ##হ ##ি খা ##দ ##য বছরের চ ##ট ##ট ##গর ##াম ' ( দৈনিক আ ##জা ##দ ##ী ক ##ত ##ক পর ##কা ##শি ##ত আ ##মান ##ত আ ##ন ##ত ##র ##জা ##তি ##ক ব ##ি ##মান ##বন ##দ ##র ] ] ] ] চ ##ট ##ট ##গর ##াম ##ের উ ##ল ##লে ##খ ##য ##ে ##াগ ##য দৈনিক প ##ত ##রিক ##ার ম ##ধ ##য ##ে র ##য ##েছে দৈনিক আ ##জা ##দ ##ী , দৈনিক পর ##ব ##কে ##াণ , স ##পর ##ভা ##ত বাংলাদেশ এবং দৈনিক ব ##ীর চ ##ট ##ট ##গর ##াম ম ##ঞ ##চ এ ##ছ ##া ##ড ##া জ ##াত ##ী ##য দৈনিক পর ##থ ##ম আল ##ে ##ার চ ##ট ##ট ##গর ##াম স ##ং ##স ##ক ##র ##ন ব ##ের হ ##য বাংলাদেশ ব ##ে ##তার চ ##ট ##ট ##গর ##াম কে ##ন ##দ ##রের ম ##ল স ##ট ##ড ##ি ##ও আগ ##রা ##বাদ ##ে অব ##স ##থ ##িত এ ##ছ ##া ##ড ##া ক ##াল ##র ##ঘ ##াট ##ে একটি ব ##ে ##তার স ##ম ##পর ##চার কে ##ন ##দ ##র র ##য ##েছে বাংলাদেশ ট ##েল ##ি ##ভি ##শন ##এ ##র চ ##ট ##ট ##গর ##াম কে ##ন ##দ ##র প ##াহ ##া ##ড ##ত ##লী ##তে অব ##স ##থ ##িত ইংরেজি মা ##ধ ##য ##ম শ ##িক ##ষ ##াপ ##রত ##ি ##ষ ##ঠ ##ান গ ##লে ##ার ম ##ধ ##য ##ে আছে স ##ান ##শা ##ইন গ ##রা ##মার সকল , চ ##ি ##টা ##গ ##া ##ং গ ##রা ##মার সকল , ব ##ে ভ ##িউ , ল ##ি ##ট ##ল জ ##য ##েল ##স , স ##াম ##া ##ফ ##িল ##ড ##স সকল , র ##েড ##ি ##য ##য ##ান ##ট সকল , স ##া ##উ ##থ প ##য ##েন ##ট সকল , স ##াই ##ড ##ার ই ##ন ##টা ##ন ##য ##া ##শন ##াল সকল , মা ##স ##টার ##মা ##ইন ##ড সকল , চ ##াই ##ল ##ড হ ##ে ##ভ ##েন সকল , পরে ##সি ##ড ##েন ##সি ই ##ন ##টার ##ন ##য ##া ##শন ##াল সকল শহরের এক ##মা ##ত ##র আ ##মের ##িকা ##ন ক ##ার ##িক ##লাম ইংরেজি মা ##ধ ##য ##মের শ ##িক ##ষ ##া পর ##তি ##ষ ##ঠ ##ান উ ##ইল ##ি ##য ##াম কে ##রি এক ##া ##ড ##ে ##মি আ ##হ ##মে ##দ [UNK] ষ ##টে ##ড ##ি ##য ##াম ] ] . [SEP]\n",
            "No.2,len:819\n",
            "lables:[CLS] B-PERSON X X X o o o X X B-LOCATION X X X o o B-LOCATION X X X X X o X X X X X X o X X X o X X X X o X o X X X X o X o B-LOCATION X X X X X B-ORGANIZATION X X o X X o X X o X X X X o o X X X o X X X X X X o o X X X X o X X o X X o o X X o X X X o X B-ORGANIZATION o X X X X o o X X X o X X X X o X X X o o X X X o o X X o X X X o X X X o X X o X X X X X o X X X o o o o X X X o X X o X X o X X X o X X o X X X X o X X X X X B-LIVTHINGS X X o X X X X X o X B-LOCATION o X X X X o X X X X X X o X X X X X o X X X o X o o X X X X B-FACILITIES X X X X o o X X o o o X X X X o o X X X X o o o o X X X o X X o X X X B-LOCATION X X X X X o X X o X X X o X X o o o o o X X o X X o X X X o o o X X X o X X X o X X X X X X o o X X X X X o X X X o X X o o X o X X X X B-MATERIALS X X I-MATERIALS X o B-MATERIALS X X X o o X o X X X o B-MATERIALS X X I-MATERIALS X o o X X X X o o X X X o X X o X X X o X o o X X o X o o X X X o X X o o X X X X o X X X o B-PERSON X B-MATERIALS X X X o B-MATERIALS X X I-MATERIALS X X o X X X X X o X X X X X X o X X o o X X X X o o o o X X X o X X o X X X o X X B-FACILITIES X X X X X X I-FACILITIES X X X X X o o o o o X X X X X o X X X X X X X o o X X X o X X X o X X o o X X X o o o X X X o o X X X o o o o X o X X X X o X X o X X X X o X X X o o X X o X X o X X X X o X X X X X o X o X B-LOCATION o X X o X X X X o X X X o X o X X X X o X X X o X X X o X X X X o X X X X X o o X X o X X X o X X X o X X o o X X X X X X o X X X X o X X X o X X X X X X o X X X o o X X X B-FACILITIES X X X X X X X X o X X o X X X o B-FACILITIES X X X I-FACILITIES X X o o B-FACILITIES X X X X X I-FACILITIES X X I-FACILITIES o o X o X o o X X X o X X X o B-FACILITIES X X X X X X I-FACILITIES o B-FACILITIES X X X X X X I-FACILITIES o B-FACILITIES X X X I-FACILITIES X X X o o B-FACILITIES X X X I-FACILITIES X X X X X X X I-FACILITIES o B-FACILITIES X X X X X I-FACILITIES o o X X X o X X X o o B-PERSON X X X X B-LOCATION X X X X X X X o o o X X X o X X X o X X X o o X X X o X X X o X X X X B-FACILITIES X X X X I-FACILITIES X I-FACILITIES X X X X B-PERSON X X X B-PERSON B-FACILITIES X X X X X o o o [SEP]\n",
            "No.3,len:18\n",
            "texts:[CLS] ] ] আ ##হ ##মে ##দ [UNK] ষ ##টে ##ড ##ি ##য ##াম ] ] . [SEP]\n",
            "No.3,len:18\n",
            "lables:[CLS] o o B-PERSON X X X B-PERSON o X X X X X o o o [SEP]\n",
            "No.4,len:249\n",
            "texts:[CLS] ] ] চ ##ট ##ট ##গর ##াম ##ের স ##পর ##িন ##টার মে ##া ##শা ##র ##র ##ফ হ ##ে ##াস ##েন শ ##াম ##ী ##ম জ ##াত ##ী ##য পর ##য ##া ##য ##ে পর ##পর 7 বা ##র 100 মিটার স ##পর ##িন ##টে চ ##য ##াম ##পি ##য ##ন হ ##ে ##ান এ কারণে 1976 সালে বাংলাদেশ দল যখন পর ##থ ##ম ব ##িশ ##ব অ ##লিম ##পি ##কে অংশ ন ##ে ##য তখন মে ##া ##শা ##র ##র ##ফ হ ##ে ##াস ##েন শ ##াম ##ী ##ম বাংলাদেশের প ##ক ##ষে এক ##মা ##ত ##র ক ##রী ##ড ##াব ##ি ##দ ছিলেন ' ' ' ঐ ##তি ##হ ##াস ##িক স ##থা ##ন ##স ##ম ##হ ##ঃ ' ' ' চ ##ের ##াগ ##ি প ##াহ ##া ##ড মে ##া ##ড ( স ##ম ##তি ম ##িন ##ার ) , জ ##ে এ ##ম সে ##ন হল , প ##াহ ##া ##ড ##ত ##লী ##তে পর ##ীত ##িল ##তার স ##ম ##তি স ##মার ##ক , ' ' ' প ##ার ##ক , ব ##িন ##ে ##াদ ##ন ও পর ##াক ##তি ##ক স ##থা ##ন ##ঃ ' ' ' ' ' ' প ##ার ##ক , ব ##িন ##ে ##াদ ##ন ও পর ##াক ##তি ##ক স ##থা ##ন ##ঃ ' ' ' ' ' ' [UNK] ও স ##মার ##ক ##ঃ ' ' ' ' ' ' আ ##ধ ##নি ##ক স ##থা ##প ##ত ##য ##ঃ ' ' ' . [SEP]\n",
            "No.4,len:249\n",
            "lables:[CLS] o o B-LOCATION X X X X X o X X X o X X X X X o X X X o X X X o X X X o X X X X o X o o X o o o X X X B-PERSON X X X X X o X X o o o o B-PERSON o o o X X o X X o X X X o o X X o B-PERSON X X X X X o X X X B-LOCATION X X X o o X X o X X X B-PERSON X X X X X o o o o o X X X X o X X X X X X o o o B-PERSON X X X B-PERSON X X X o X X o o X X o X X o o B-PERSON X B-LOCATION X I-LOCATION X o o o X X X X X X o X X X o X X o X X o o o o o X X o o X X X X o o X X X o X X X o o o o o o o X X o o X X X X o o X X X o X X X o o o o o o o o o X X X o o o o o o o X X X o X X X X X o o o o [SEP]\n"
          ]
        }
      ]
    },
    {
      "cell_type": "code",
      "metadata": {
        "colab": {
          "base_uri": "https://localhost:8080/"
        },
        "id": "9eKOmcUjuXPB",
        "outputId": "87387257-d4d4-45d3-8d00-18105e21da8d"
      },
      "source": [
        "# Make text token into id\n",
        "input_ids = pad_sequences([tokenizer.convert_tokens_to_ids(txt) for txt in tokenized_texts],\n",
        "                          maxlen=max_len, dtype=\"long\", truncating=\"post\", padding=\"post\")\n",
        "print(input_ids[0])"
      ],
      "execution_count": null,
      "outputs": [
        {
          "output_type": "stream",
          "name": "stdout",
          "text": [
            "[   101    974  26145  29454  72461    965  84929 100024  12079  90267\n",
            "  19668    973  17511  56251    119    102      0      0      0      0\n",
            "      0      0      0      0      0      0      0      0      0      0\n",
            "      0      0      0      0      0      0      0      0      0      0\n",
            "      0      0      0      0      0]\n"
          ]
        }
      ]
    },
    {
      "cell_type": "code",
      "metadata": {
        "colab": {
          "base_uri": "https://localhost:8080/"
        },
        "id": "Nmj0wlzYuu7r",
        "outputId": "9f9526ea-eadd-41d1-e220-ce376c670389"
      },
      "source": [
        "# Make label into id, pad with \"O\" meaning others\n",
        "tags = pad_sequences([[tag2idx.get(l) for l in lab] for lab in word_piece_labels],\n",
        "                     maxlen=max_len, value=tag2idx[\"o\"], padding=\"post\",\n",
        "                     dtype=\"long\", truncating=\"post\")\n",
        "print(tags[0])\n"
      ],
      "execution_count": null,
      "outputs": [
        {
          "output_type": "stream",
          "name": "stdout",
          "text": [
            "[52 19 51 51 54 54 51 54 51 51 51 54 51 51 54 53 54 54 54 54 54 54 54 54\n",
            " 54 54 54 54 54 54 54 54 54 54 54 54 54 54 54 54 54 54 54 54 54]\n"
          ]
        }
      ]
    },
    {
      "cell_type": "code",
      "metadata": {
        "id": "z_PGCQAguxo3"
      },
      "source": [
        "# For fine tune of predict, with token mask is 1,pad token is 0\n",
        "attention_masks = [[int(i>0) for i in ii] for ii in input_ids]\n",
        "attention_masks[0];"
      ],
      "execution_count": null,
      "outputs": []
    },
    {
      "cell_type": "code",
      "metadata": {
        "id": "DO04Ga6zu4Bm"
      },
      "source": [
        "# Since only one sentence, all the segment set to 0\n",
        "segment_ids = [[0] * len(input_id) for input_id in input_ids]\n",
        "segment_ids[0];"
      ],
      "execution_count": null,
      "outputs": []
    },
    {
      "cell_type": "code",
      "metadata": {
        "id": "wOM-qvGIu5fe"
      },
      "source": [
        "tr_inputs, val_inputs, tr_tags, val_tags,tr_masks, val_masks,tr_segs, val_segs = train_test_split(input_ids, tags,attention_masks,segment_ids, \n",
        "                                                            random_state=4, test_size=0.3)"
      ],
      "execution_count": null,
      "outputs": []
    },
    {
      "cell_type": "code",
      "metadata": {
        "colab": {
          "base_uri": "https://localhost:8080/"
        },
        "id": "SqMMj9fAu8rS",
        "outputId": "d0c085b8-d61a-4a18-8ca8-ca6201ff0e36"
      },
      "source": [
        "len(tr_inputs),len(val_inputs),len(tr_segs),len(val_segs)"
      ],
      "execution_count": null,
      "outputs": [
        {
          "output_type": "execute_result",
          "data": {
            "text/plain": [
              "(237, 102, 237, 102)"
            ]
          },
          "metadata": {},
          "execution_count": 37
        }
      ]
    },
    {
      "cell_type": "code",
      "metadata": {
        "id": "fKjh8bpnu-16"
      },
      "source": [
        "tr_inputs = torch.tensor(tr_inputs)\n",
        "val_inputs = torch.tensor(val_inputs)\n",
        "tr_tags = torch.tensor(tr_tags)\n",
        "val_tags = torch.tensor(val_tags)\n",
        "tr_masks = torch.tensor(tr_masks)\n",
        "val_masks = torch.tensor(val_masks)\n",
        "tr_segs = torch.tensor(tr_segs)\n",
        "val_segs = torch.tensor(val_segs)"
      ],
      "execution_count": null,
      "outputs": []
    },
    {
      "cell_type": "code",
      "metadata": {
        "id": "0bcJHA4KvAwK"
      },
      "source": [
        "batch_num = 32"
      ],
      "execution_count": null,
      "outputs": []
    },
    {
      "cell_type": "code",
      "metadata": {
        "id": "GE7g35aBvC9K"
      },
      "source": [
        "train_data = TensorDataset(tr_inputs, tr_masks, tr_tags)\n",
        "train_sampler = RandomSampler(train_data)\n",
        "# Drop last can make batch training better for the last one\n",
        "train_dataloader = DataLoader(train_data, sampler=train_sampler, batch_size=batch_num,drop_last=True)\n",
        "\n",
        "valid_data = TensorDataset(val_inputs, val_masks, val_tags)\n",
        "valid_sampler = SequentialSampler(valid_data)\n",
        "valid_dataloader = DataLoader(valid_data, sampler=valid_sampler, batch_size=batch_num)"
      ],
      "execution_count": null,
      "outputs": []
    },
    {
      "cell_type": "code",
      "metadata": {
        "id": "OXm5eo9rqcUn"
      },
      "source": [
        "# model = AutoModelForMaskedLM.from_pretrained(\"skillzzzzzy/bengberto\" ,num_labels=len(tag2idx))"
      ],
      "execution_count": null,
      "outputs": []
    },
    {
      "cell_type": "code",
      "metadata": {
        "id": "18xvIoQ4vEb7",
        "colab": {
          "base_uri": "https://localhost:8080/",
          "height": 156,
          "referenced_widgets": [
            "8848ac8c94c9434eb131913c799e7b3c",
            "abd01951b2f74446948518471a9a75fc",
            "d53340fa3dbc43bb83051e4f27ad6074",
            "75f3cf759ba145a1b8e219f0d814918b",
            "26b09fdb0f22492cbe2771b1bc184fa9",
            "1d2cfd16d4df4c2db3c76dbab59268ce",
            "c931ee73a3f04a6da171ff25b56fa815",
            "caf26d9e7f1a4de3b2286b2c76be1f6f",
            "21186ff78e4743b2bde056f41ba8b6af",
            "5921a090cccc4fe9a0508c9b87aa3f74",
            "e3ce338061994358b05de9857c568343"
          ]
        },
        "outputId": "c42e2a75-bde7-4376-9b3b-b16195f66bd8"
      },
      "source": [
        "# # model_file_address = '/content/drive/MyDrive/BERT/NER Corpus/bert-base-multilingual-cased'\n",
        "model = BertForTokenClassification.from_pretrained(\"bert-base-multilingual-cased\",num_labels=len(tag2idx))"
      ],
      "execution_count": null,
      "outputs": [
        {
          "output_type": "display_data",
          "data": {
            "application/vnd.jupyter.widget-view+json": {
              "model_id": "8848ac8c94c9434eb131913c799e7b3c",
              "version_minor": 0,
              "version_major": 2
            },
            "text/plain": [
              "Downloading:   0%|          | 0.00/681M [00:00<?, ?B/s]"
            ]
          },
          "metadata": {}
        },
        {
          "output_type": "stream",
          "name": "stderr",
          "text": [
            "Some weights of the model checkpoint at bert-base-multilingual-cased were not used when initializing BertForTokenClassification: ['cls.seq_relationship.bias', 'cls.predictions.transform.dense.bias', 'cls.predictions.transform.dense.weight', 'cls.predictions.transform.LayerNorm.bias', 'cls.predictions.bias', 'cls.seq_relationship.weight', 'cls.predictions.transform.LayerNorm.weight', 'cls.predictions.decoder.weight']\n",
            "- This IS expected if you are initializing BertForTokenClassification from the checkpoint of a model trained on another task or with another architecture (e.g. initializing a BertForSequenceClassification model from a BertForPreTraining model).\n",
            "- This IS NOT expected if you are initializing BertForTokenClassification from the checkpoint of a model that you expect to be exactly identical (initializing a BertForSequenceClassification model from a BertForSequenceClassification model).\n",
            "Some weights of BertForTokenClassification were not initialized from the model checkpoint at bert-base-multilingual-cased and are newly initialized: ['classifier.weight', 'classifier.bias']\n",
            "You should probably TRAIN this model on a down-stream task to be able to use it for predictions and inference.\n"
          ]
        }
      ]
    },
    {
      "cell_type": "code",
      "metadata": {
        "id": "9V0-jNJuweCr"
      },
      "source": [
        "m_labels = len(tag2idx)"
      ],
      "execution_count": null,
      "outputs": []
    },
    {
      "cell_type": "code",
      "metadata": {
        "id": "Tg015VK1zbjI"
      },
      "source": [
        "model;"
      ],
      "execution_count": null,
      "outputs": []
    },
    {
      "cell_type": "code",
      "metadata": {
        "id": "rTPEizDZ1B3V"
      },
      "source": [
        "# model.cuda();"
      ],
      "execution_count": null,
      "outputs": []
    },
    {
      "cell_type": "markdown",
      "metadata": {
        "id": "1Vf7IcfZ1BkP"
      },
      "source": [
        ""
      ]
    },
    {
      "cell_type": "code",
      "metadata": {
        "id": "szzUVyMa0SxG"
      },
      "source": [
        "epochs = 30\n",
        "max_grad_norm = 1.0"
      ],
      "execution_count": null,
      "outputs": []
    },
    {
      "cell_type": "code",
      "metadata": {
        "id": "kZxjoGngzdsR"
      },
      "source": [
        "if n_gpu >1:\n",
        "    model = torch.nn.DataParallel(model)"
      ],
      "execution_count": null,
      "outputs": []
    },
    {
      "cell_type": "code",
      "metadata": {
        "id": "xN0WfqKizgRw"
      },
      "source": [
        "num_train_optimization_steps = int( math.ceil(len(tr_inputs) / batch_num) / 1) * epochs"
      ],
      "execution_count": null,
      "outputs": []
    },
    {
      "cell_type": "code",
      "metadata": {
        "id": "eilZnWkX0Lwc"
      },
      "source": [
        "# fine tuning\n",
        "FULL_FINETUNING = True"
      ],
      "execution_count": null,
      "outputs": []
    },
    {
      "cell_type": "code",
      "metadata": {
        "id": "x1bwHeEy0dG8"
      },
      "source": [
        "if FULL_FINETUNING:\n",
        "    # Fine tune model all layer parameters\n",
        "    param_optimizer = list(model.named_parameters())\n",
        "    no_decay = ['bias', 'gamma', 'beta']\n",
        "    optimizer_grouped_parameters = [\n",
        "        {'params': [p for n, p in param_optimizer if not any(nd in n for nd in no_decay)],\n",
        "         'weight_decay_rate': 0.01},\n",
        "        {'params': [p for n, p in param_optimizer if any(nd in n for nd in no_decay)],\n",
        "         'weight_decay_rate': 0.0}\n",
        "    ]\n",
        "else:\n",
        "    # Only fine tune classifier parameters\n",
        "    param_optimizer = list(model.classifier.named_parameters()) \n",
        "    optimizer_grouped_parameters = [{\"params\": [p for n, p in param_optimizer]}]\n",
        "optimizer = AdamW(optimizer_grouped_parameters, lr=3e-5)"
      ],
      "execution_count": null,
      "outputs": []
    },
    {
      "cell_type": "code",
      "metadata": {
        "id": "ApqEKeEn0dvC"
      },
      "source": [
        "model.train();"
      ],
      "execution_count": null,
      "outputs": []
    },
    {
      "cell_type": "code",
      "metadata": {
        "colab": {
          "base_uri": "https://localhost:8080/",
          "height": 466
        },
        "id": "-5w1ZKpe0ffQ",
        "outputId": "c6ec338d-ab1d-459d-a856-6a7fd225d347"
      },
      "source": [
        "print(\"***** Running training *****\")\n",
        "print(\"  Num examples = %d\"%(len(tr_inputs)))\n",
        "print(\"  Batch size = %d\"%(batch_num))\n",
        "print(\"  Num steps = %d\"%(num_train_optimization_steps))\n",
        "for _ in trange(epochs,desc=\"Epoch\"):\n",
        "    tr_loss = 0\n",
        "    nb_tr_examples, nb_tr_steps = 0, 0\n",
        "    for step, batch in enumerate(train_dataloader):\n",
        "        # add batch to gpu\n",
        "        batch = tuple(t.to(device) for t in batch)\n",
        "        b_input_ids, b_input_mask, b_labels = batch\n",
        "        \n",
        "        # forward pass\n",
        "        outputs = model(b_input_ids, token_type_ids=None,\n",
        "        attention_mask=b_input_mask, labels=b_labels)\n",
        "        loss, scores = outputs[:2]\n",
        "        if n_gpu>1:\n",
        "            # When multi gpu, average it\n",
        "            loss = loss.mean()\n",
        "        \n",
        "        # backward pass\n",
        "        loss.backward()\n",
        "        \n",
        "        # track train loss\n",
        "        tr_loss += loss.item()\n",
        "        nb_tr_examples += b_input_ids.size(0)\n",
        "        nb_tr_steps += 1\n",
        "        \n",
        "        # gradient clipping\n",
        "        torch.nn.utils.clip_grad_norm_(parameters=model.parameters(), max_norm=max_grad_norm)\n",
        "        \n",
        "        # update parameters\n",
        "        optimizer.step()\n",
        "        optimizer.zero_grad()\n",
        "        \n",
        "    # print train loss per epoch\n",
        "    print(\"Train loss: {}\".format(tr_loss/nb_tr_steps))"
      ],
      "execution_count": null,
      "outputs": [
        {
          "output_type": "stream",
          "name": "stdout",
          "text": [
            "***** Running training *****\n",
            "  Num examples = 237\n",
            "  Batch size = 32\n",
            "  Num steps = 240\n"
          ]
        },
        {
          "output_type": "stream",
          "name": "stderr",
          "text": [
            "Epoch:   0%|          | 0/30 [00:04<?, ?it/s]\n"
          ]
        },
        {
          "output_type": "error",
          "ename": "IndexError",
          "evalue": "ignored",
          "traceback": [
            "\u001b[0;31m---------------------------------------------------------------------------\u001b[0m",
            "\u001b[0;31mIndexError\u001b[0m                                Traceback (most recent call last)",
            "\u001b[0;32m<ipython-input-55-fea835068ea2>\u001b[0m in \u001b[0;36m<module>\u001b[0;34m()\u001b[0m\n\u001b[1;32m     13\u001b[0m         \u001b[0;31m# forward pass\u001b[0m\u001b[0;34m\u001b[0m\u001b[0;34m\u001b[0m\u001b[0;34m\u001b[0m\u001b[0m\n\u001b[1;32m     14\u001b[0m         outputs = model(b_input_ids, token_type_ids=None,\n\u001b[0;32m---> 15\u001b[0;31m         attention_mask=b_input_mask, labels=b_labels)\n\u001b[0m\u001b[1;32m     16\u001b[0m         \u001b[0mloss\u001b[0m\u001b[0;34m,\u001b[0m \u001b[0mscores\u001b[0m \u001b[0;34m=\u001b[0m \u001b[0moutputs\u001b[0m\u001b[0;34m[\u001b[0m\u001b[0;34m:\u001b[0m\u001b[0;36m2\u001b[0m\u001b[0;34m]\u001b[0m\u001b[0;34m\u001b[0m\u001b[0;34m\u001b[0m\u001b[0m\n\u001b[1;32m     17\u001b[0m         \u001b[0;32mif\u001b[0m \u001b[0mn_gpu\u001b[0m\u001b[0;34m>\u001b[0m\u001b[0;36m1\u001b[0m\u001b[0;34m:\u001b[0m\u001b[0;34m\u001b[0m\u001b[0;34m\u001b[0m\u001b[0m\n",
            "\u001b[0;32m/usr/local/lib/python3.7/dist-packages/torch/nn/modules/module.py\u001b[0m in \u001b[0;36m_call_impl\u001b[0;34m(self, *input, **kwargs)\u001b[0m\n\u001b[1;32m   1100\u001b[0m         if not (self._backward_hooks or self._forward_hooks or self._forward_pre_hooks or _global_backward_hooks\n\u001b[1;32m   1101\u001b[0m                 or _global_forward_hooks or _global_forward_pre_hooks):\n\u001b[0;32m-> 1102\u001b[0;31m             \u001b[0;32mreturn\u001b[0m \u001b[0mforward_call\u001b[0m\u001b[0;34m(\u001b[0m\u001b[0;34m*\u001b[0m\u001b[0minput\u001b[0m\u001b[0;34m,\u001b[0m \u001b[0;34m**\u001b[0m\u001b[0mkwargs\u001b[0m\u001b[0;34m)\u001b[0m\u001b[0;34m\u001b[0m\u001b[0;34m\u001b[0m\u001b[0m\n\u001b[0m\u001b[1;32m   1103\u001b[0m         \u001b[0;31m# Do not call functions when jit is used\u001b[0m\u001b[0;34m\u001b[0m\u001b[0;34m\u001b[0m\u001b[0;34m\u001b[0m\u001b[0m\n\u001b[1;32m   1104\u001b[0m         \u001b[0mfull_backward_hooks\u001b[0m\u001b[0;34m,\u001b[0m \u001b[0mnon_full_backward_hooks\u001b[0m \u001b[0;34m=\u001b[0m \u001b[0;34m[\u001b[0m\u001b[0;34m]\u001b[0m\u001b[0;34m,\u001b[0m \u001b[0;34m[\u001b[0m\u001b[0;34m]\u001b[0m\u001b[0;34m\u001b[0m\u001b[0;34m\u001b[0m\u001b[0m\n",
            "\u001b[0;32m/usr/local/lib/python3.7/dist-packages/transformers/models/bert/modeling_bert.py\u001b[0m in \u001b[0;36mforward\u001b[0;34m(self, input_ids, attention_mask, token_type_ids, position_ids, head_mask, inputs_embeds, labels, output_attentions, output_hidden_states, return_dict)\u001b[0m\n\u001b[1;32m   1751\u001b[0m                     \u001b[0mactive_loss\u001b[0m\u001b[0;34m,\u001b[0m \u001b[0mlabels\u001b[0m\u001b[0;34m.\u001b[0m\u001b[0mview\u001b[0m\u001b[0;34m(\u001b[0m\u001b[0;34m-\u001b[0m\u001b[0;36m1\u001b[0m\u001b[0;34m)\u001b[0m\u001b[0;34m,\u001b[0m \u001b[0mtorch\u001b[0m\u001b[0;34m.\u001b[0m\u001b[0mtensor\u001b[0m\u001b[0;34m(\u001b[0m\u001b[0mloss_fct\u001b[0m\u001b[0;34m.\u001b[0m\u001b[0mignore_index\u001b[0m\u001b[0;34m)\u001b[0m\u001b[0;34m.\u001b[0m\u001b[0mtype_as\u001b[0m\u001b[0;34m(\u001b[0m\u001b[0mlabels\u001b[0m\u001b[0;34m)\u001b[0m\u001b[0;34m\u001b[0m\u001b[0;34m\u001b[0m\u001b[0m\n\u001b[1;32m   1752\u001b[0m                 )\n\u001b[0;32m-> 1753\u001b[0;31m                 \u001b[0mloss\u001b[0m \u001b[0;34m=\u001b[0m \u001b[0mloss_fct\u001b[0m\u001b[0;34m(\u001b[0m\u001b[0mactive_logits\u001b[0m\u001b[0;34m,\u001b[0m \u001b[0mactive_labels\u001b[0m\u001b[0;34m)\u001b[0m\u001b[0;34m\u001b[0m\u001b[0;34m\u001b[0m\u001b[0m\n\u001b[0m\u001b[1;32m   1754\u001b[0m             \u001b[0;32melse\u001b[0m\u001b[0;34m:\u001b[0m\u001b[0;34m\u001b[0m\u001b[0;34m\u001b[0m\u001b[0m\n\u001b[1;32m   1755\u001b[0m                 \u001b[0mloss\u001b[0m \u001b[0;34m=\u001b[0m \u001b[0mloss_fct\u001b[0m\u001b[0;34m(\u001b[0m\u001b[0mlogits\u001b[0m\u001b[0;34m.\u001b[0m\u001b[0mview\u001b[0m\u001b[0;34m(\u001b[0m\u001b[0;34m-\u001b[0m\u001b[0;36m1\u001b[0m\u001b[0;34m,\u001b[0m \u001b[0mself\u001b[0m\u001b[0;34m.\u001b[0m\u001b[0mnum_labels\u001b[0m\u001b[0;34m)\u001b[0m\u001b[0;34m,\u001b[0m \u001b[0mlabels\u001b[0m\u001b[0;34m.\u001b[0m\u001b[0mview\u001b[0m\u001b[0;34m(\u001b[0m\u001b[0;34m-\u001b[0m\u001b[0;36m1\u001b[0m\u001b[0;34m)\u001b[0m\u001b[0;34m)\u001b[0m\u001b[0;34m\u001b[0m\u001b[0;34m\u001b[0m\u001b[0m\n",
            "\u001b[0;32m/usr/local/lib/python3.7/dist-packages/torch/nn/modules/module.py\u001b[0m in \u001b[0;36m_call_impl\u001b[0;34m(self, *input, **kwargs)\u001b[0m\n\u001b[1;32m   1100\u001b[0m         if not (self._backward_hooks or self._forward_hooks or self._forward_pre_hooks or _global_backward_hooks\n\u001b[1;32m   1101\u001b[0m                 or _global_forward_hooks or _global_forward_pre_hooks):\n\u001b[0;32m-> 1102\u001b[0;31m             \u001b[0;32mreturn\u001b[0m \u001b[0mforward_call\u001b[0m\u001b[0;34m(\u001b[0m\u001b[0;34m*\u001b[0m\u001b[0minput\u001b[0m\u001b[0;34m,\u001b[0m \u001b[0;34m**\u001b[0m\u001b[0mkwargs\u001b[0m\u001b[0;34m)\u001b[0m\u001b[0;34m\u001b[0m\u001b[0;34m\u001b[0m\u001b[0m\n\u001b[0m\u001b[1;32m   1103\u001b[0m         \u001b[0;31m# Do not call functions when jit is used\u001b[0m\u001b[0;34m\u001b[0m\u001b[0;34m\u001b[0m\u001b[0;34m\u001b[0m\u001b[0m\n\u001b[1;32m   1104\u001b[0m         \u001b[0mfull_backward_hooks\u001b[0m\u001b[0;34m,\u001b[0m \u001b[0mnon_full_backward_hooks\u001b[0m \u001b[0;34m=\u001b[0m \u001b[0;34m[\u001b[0m\u001b[0;34m]\u001b[0m\u001b[0;34m,\u001b[0m \u001b[0;34m[\u001b[0m\u001b[0;34m]\u001b[0m\u001b[0;34m\u001b[0m\u001b[0;34m\u001b[0m\u001b[0m\n",
            "\u001b[0;32m/usr/local/lib/python3.7/dist-packages/torch/nn/modules/loss.py\u001b[0m in \u001b[0;36mforward\u001b[0;34m(self, input, target)\u001b[0m\n\u001b[1;32m   1150\u001b[0m         return F.cross_entropy(input, target, weight=self.weight,\n\u001b[1;32m   1151\u001b[0m                                \u001b[0mignore_index\u001b[0m\u001b[0;34m=\u001b[0m\u001b[0mself\u001b[0m\u001b[0;34m.\u001b[0m\u001b[0mignore_index\u001b[0m\u001b[0;34m,\u001b[0m \u001b[0mreduction\u001b[0m\u001b[0;34m=\u001b[0m\u001b[0mself\u001b[0m\u001b[0;34m.\u001b[0m\u001b[0mreduction\u001b[0m\u001b[0;34m,\u001b[0m\u001b[0;34m\u001b[0m\u001b[0;34m\u001b[0m\u001b[0m\n\u001b[0;32m-> 1152\u001b[0;31m                                label_smoothing=self.label_smoothing)\n\u001b[0m\u001b[1;32m   1153\u001b[0m \u001b[0;34m\u001b[0m\u001b[0m\n\u001b[1;32m   1154\u001b[0m \u001b[0;34m\u001b[0m\u001b[0m\n",
            "\u001b[0;32m/usr/local/lib/python3.7/dist-packages/torch/nn/functional.py\u001b[0m in \u001b[0;36mcross_entropy\u001b[0;34m(input, target, weight, size_average, ignore_index, reduce, reduction, label_smoothing)\u001b[0m\n\u001b[1;32m   2844\u001b[0m     \u001b[0;32mif\u001b[0m \u001b[0msize_average\u001b[0m \u001b[0;32mis\u001b[0m \u001b[0;32mnot\u001b[0m \u001b[0;32mNone\u001b[0m \u001b[0;32mor\u001b[0m \u001b[0mreduce\u001b[0m \u001b[0;32mis\u001b[0m \u001b[0;32mnot\u001b[0m \u001b[0;32mNone\u001b[0m\u001b[0;34m:\u001b[0m\u001b[0;34m\u001b[0m\u001b[0;34m\u001b[0m\u001b[0m\n\u001b[1;32m   2845\u001b[0m         \u001b[0mreduction\u001b[0m \u001b[0;34m=\u001b[0m \u001b[0m_Reduction\u001b[0m\u001b[0;34m.\u001b[0m\u001b[0mlegacy_get_string\u001b[0m\u001b[0;34m(\u001b[0m\u001b[0msize_average\u001b[0m\u001b[0;34m,\u001b[0m \u001b[0mreduce\u001b[0m\u001b[0;34m)\u001b[0m\u001b[0;34m\u001b[0m\u001b[0;34m\u001b[0m\u001b[0m\n\u001b[0;32m-> 2846\u001b[0;31m     \u001b[0;32mreturn\u001b[0m \u001b[0mtorch\u001b[0m\u001b[0;34m.\u001b[0m\u001b[0m_C\u001b[0m\u001b[0;34m.\u001b[0m\u001b[0m_nn\u001b[0m\u001b[0;34m.\u001b[0m\u001b[0mcross_entropy_loss\u001b[0m\u001b[0;34m(\u001b[0m\u001b[0minput\u001b[0m\u001b[0;34m,\u001b[0m \u001b[0mtarget\u001b[0m\u001b[0;34m,\u001b[0m \u001b[0mweight\u001b[0m\u001b[0;34m,\u001b[0m \u001b[0m_Reduction\u001b[0m\u001b[0;34m.\u001b[0m\u001b[0mget_enum\u001b[0m\u001b[0;34m(\u001b[0m\u001b[0mreduction\u001b[0m\u001b[0;34m)\u001b[0m\u001b[0;34m,\u001b[0m \u001b[0mignore_index\u001b[0m\u001b[0;34m,\u001b[0m \u001b[0mlabel_smoothing\u001b[0m\u001b[0;34m)\u001b[0m\u001b[0;34m\u001b[0m\u001b[0;34m\u001b[0m\u001b[0m\n\u001b[0m\u001b[1;32m   2847\u001b[0m \u001b[0;34m\u001b[0m\u001b[0m\n\u001b[1;32m   2848\u001b[0m \u001b[0;34m\u001b[0m\u001b[0m\n",
            "\u001b[0;31mIndexError\u001b[0m: Target 54 is out of bounds."
          ]
        }
      ]
    },
    {
      "cell_type": "code",
      "metadata": {
        "id": "B20CIew42Kiq"
      },
      "source": [
        "bert_out_address = 'ashiNLP/bert_bengberto_model/bengali'"
      ],
      "execution_count": null,
      "outputs": []
    },
    {
      "cell_type": "code",
      "metadata": {
        "id": "DW6b9S4W2T2D"
      },
      "source": [
        "if not os.path.exists(bert_out_address):\n",
        "        os.makedirs(bert_out_address)"
      ],
      "execution_count": null,
      "outputs": []
    },
    {
      "cell_type": "code",
      "metadata": {
        "id": "GHWcEvL42YiX"
      },
      "source": [
        "model_to_save = model.module if hasattr(model, 'module') else model"
      ],
      "execution_count": null,
      "outputs": []
    },
    {
      "cell_type": "code",
      "metadata": {
        "id": "QUqeOIbD2Ye3"
      },
      "source": [
        "output_model_file = os.path.join(bert_out_address, \"pytorch_model.bin\")\n",
        "output_config_file = os.path.join(bert_out_address, \"config.json\")"
      ],
      "execution_count": null,
      "outputs": []
    },
    {
      "cell_type": "code",
      "metadata": {
        "colab": {
          "base_uri": "https://localhost:8080/"
        },
        "id": "LtuYbXhP2Yc3",
        "outputId": "35c3e302-c25c-403b-9164-3d31b77e0889"
      },
      "source": [
        "torch.save(model_to_save.state_dict(), output_model_file)\n",
        "model_to_save.config.to_json_file(output_config_file)\n",
        "tokenizer.save_vocabulary(bert_out_address)"
      ],
      "execution_count": null,
      "outputs": [
        {
          "output_type": "execute_result",
          "data": {
            "text/plain": [
              "('ashiNLP/bert_bengberto_model/bengali/vocab.json',\n",
              " 'ashiNLP/bert_bengberto_model/bengali/merges.txt')"
            ]
          },
          "metadata": {},
          "execution_count": 151
        }
      ]
    },
    {
      "cell_type": "code",
      "metadata": {
        "id": "-mVqFzsa2nfn"
      },
      "source": [
        "# load model\n",
        "model = AutoModelForMaskedLM.from_pretrained(bert_out_address,num_labels=len(tag2idx))"
      ],
      "execution_count": null,
      "outputs": []
    },
    {
      "cell_type": "markdown",
      "metadata": {
        "id": "9BM77nl6-6tO"
      },
      "source": [
        ""
      ]
    },
    {
      "cell_type": "code",
      "metadata": {
        "id": "yRKN5mgA2nb_"
      },
      "source": [
        "# model.cuda();"
      ],
      "execution_count": null,
      "outputs": []
    },
    {
      "cell_type": "code",
      "metadata": {
        "id": "sD20sOc02ssR"
      },
      "source": [
        "if n_gpu >1:\n",
        "    model = torch.nn.DataParallel(model)"
      ],
      "execution_count": null,
      "outputs": []
    },
    {
      "cell_type": "code",
      "metadata": {
        "id": "UGLcJpkm2sf4"
      },
      "source": [
        "# EVALUATION"
      ],
      "execution_count": null,
      "outputs": []
    },
    {
      "cell_type": "code",
      "metadata": {
        "id": "Qh5kbSG40i_E"
      },
      "source": [
        "model.eval();"
      ],
      "execution_count": null,
      "outputs": []
    },
    {
      "cell_type": "code",
      "metadata": {
        "colab": {
          "base_uri": "https://localhost:8080/"
        },
        "id": "7rEuFqdw1hDW",
        "outputId": "d98c77a7-9808-47d8-de94-677b594c57d8"
      },
      "source": [
        "\n",
        "eval_loss, eval_accuracy = 0, 0\n",
        "nb_eval_steps, nb_eval_examples = 0, 0\n",
        "y_true = []\n",
        "y_pred = []\n",
        "\n",
        "print(\"***** Running evaluation *****\")\n",
        "print(\"  Num examples ={}\".format(len(val_inputs)))\n",
        "print(\"  Batch size = {}\".format(batch_num))\n",
        "for step, batch in enumerate(valid_dataloader):\n",
        "    batch = tuple(t.to(device) for t in batch)\n",
        "    input_ids, input_mask, label_ids = batch\n",
        "    \n",
        "#     if step > 2:\n",
        "#         break\n",
        "    \n",
        "    with torch.no_grad():\n",
        "        outputs = model(input_ids, token_type_ids=None,\n",
        "        attention_mask=input_mask,)\n",
        "        # For eval mode, the first result of outputs is logits\n",
        "        logits = outputs[0] \n",
        "    \n",
        "    # Get NER predict result\n",
        "    logits = torch.argmax(F.log_softmax(logits,dim=2),dim=2)\n",
        "    logits = logits.detach().cpu().numpy()\n",
        "    \n",
        "    \n",
        "    # Get NER true result\n",
        "    label_ids = label_ids.to('cpu').numpy()\n",
        "    \n",
        "    \n",
        "    # Only predict the real word, mark=0, will not calculate\n",
        "    input_mask = input_mask.to('cpu').numpy()\n",
        "    \n",
        "    # Compare the valuable predict result\n",
        "    for i,mask in enumerate(input_mask):\n",
        "        # Real one\n",
        "        temp_1 = []\n",
        "        # Predict one\n",
        "        temp_2 = []\n",
        "        \n",
        "        for j, m in enumerate(mask):\n",
        "            # Mark=0, meaning its a pad word, dont compare\n",
        "            if m:\n",
        "                if tag2name[label_ids[i][j]] != \"X\" and tag2name[label_ids[i][j]] != \"[CLS]\" and tag2name[label_ids[i][j]] != \"[SEP]\" : # Exclude the X label\n",
        "                    temp_1.append(tag2name[label_ids[i][j]])\n",
        "                    temp_2.append(tag2name[logits[i][j]])\n",
        "            else:\n",
        "                break\n",
        "        \n",
        "            \n",
        "        y_true.append(temp_1)\n",
        "        y_pred.append(temp_2)\n",
        "\n",
        "        \n",
        "\n",
        "print(\"f1 socre: %f\"%(f1_score(y_true, y_pred)))\n",
        "print(\"Accuracy score: %f\"%(accuracy_score(y_true, y_pred)))\n",
        "\n",
        "# Get acc , recall, F1 result report\n",
        "report = classification_report(y_true, y_pred,digits=4)\n",
        "\n",
        "# Save the report into file\n",
        "# output_eval_file = os.path.join('/content/drive/MyDrive/BERT/NER Corpus/bert-base-multilingual-cased', \"eval_results.txt\")\n",
        "output_eval_file = os.path.join(bert_out_address, \"eval_results.txt\")\n",
        "with open(output_eval_file, \"w\") as writer:\n",
        "    print(\"***** Eval results *****\")\n",
        "    print(\"\\n%s\"%(report))\n",
        "    print(\"f1 socre: %f\"%(f1_score(y_true, y_pred)))\n",
        "    print(\"Accuracy score: %f\"%(accuracy_score(y_true, y_pred)))\n",
        "    \n",
        "    writer.write(\"f1 socre:\\n\")\n",
        "    writer.write(str(f1_score(y_true, y_pred)))\n",
        "    writer.write(\"\\n\\nAccuracy score:\\n\")\n",
        "    writer.write(str(accuracy_score(y_true, y_pred)))\n",
        "    writer.write(\"\\n\\n\")  \n",
        "    writer.write(report)"
      ],
      "execution_count": null,
      "outputs": [
        {
          "output_type": "stream",
          "name": "stdout",
          "text": [
            "***** Running evaluation *****\n",
            "  Num examples =102\n",
            "  Batch size = 32\n"
          ]
        }
      ]
    },
    {
      "cell_type": "code",
      "metadata": {
        "id": "Kxx9PnH624x6"
      },
      "source": [
        ""
      ],
      "execution_count": null,
      "outputs": []
    },
    {
      "cell_type": "code",
      "metadata": {
        "id": "iDEgFkqZ24tp"
      },
      "source": [
        ""
      ],
      "execution_count": null,
      "outputs": []
    },
    {
      "cell_type": "code",
      "metadata": {
        "id": "UZxHt-Gr3Auh"
      },
      "source": [
        "save_model_address = 'ashiNLP/bert_bengberto_model/bengali'"
      ],
      "execution_count": null,
      "outputs": []
    },
    {
      "cell_type": "code",
      "metadata": {
        "id": "KuftMJhs3GnU"
      },
      "source": [
        "save_model = AutoModelForMaskedLM.from_pretrained(save_model_address,num_labels=len(tag2idx))"
      ],
      "execution_count": null,
      "outputs": []
    },
    {
      "cell_type": "code",
      "metadata": {
        "id": "mxlfFFW7_W1X"
      },
      "source": [
        "tokenizer = AutoTokenizer.from_pretrained(save_model_address,do_lower_case=False)"
      ],
      "execution_count": null,
      "outputs": []
    },
    {
      "cell_type": "code",
      "metadata": {
        "id": "gW2tjB1__QRt"
      },
      "source": [
        "# predict\n",
        "test_query = \"আমি 20 বছর ধরে দিল্লিতে থাকি\""
      ],
      "execution_count": null,
      "outputs": []
    },
    {
      "cell_type": "code",
      "metadata": {
        "id": "URkmY1V8_g7r"
      },
      "source": [
        "tokenized_texts = []\n",
        "\n",
        "temp_token = []\n",
        "temp_token.append('[CLS]')\n",
        "token_list = tokenizer.tokenize(test_query)\n",
        "\n",
        "token_list"
      ],
      "execution_count": null,
      "outputs": []
    },
    {
      "cell_type": "code",
      "metadata": {
        "id": "DRoAFtcUANSu"
      },
      "source": [
        "for m,token in enumerate(token_list):\n",
        "    temp_token.append(token)"
      ],
      "execution_count": null,
      "outputs": []
    },
    {
      "cell_type": "code",
      "metadata": {
        "id": "hR-T98orAQJK"
      },
      "source": [
        "if len(temp_token) > max_len-1:\n",
        "    temp_token= temp_token[:max_len-1]"
      ],
      "execution_count": null,
      "outputs": []
    },
    {
      "cell_type": "code",
      "metadata": {
        "id": "uS-JcL-QAR7C"
      },
      "source": [
        "temp_token.append('[SEP]')\n",
        "temp_token"
      ],
      "execution_count": null,
      "outputs": []
    },
    {
      "cell_type": "code",
      "metadata": {
        "id": "iV0TvoQoAUg6"
      },
      "source": [
        "tokenized_texts.append(temp_token)"
      ],
      "execution_count": null,
      "outputs": []
    },
    {
      "cell_type": "code",
      "metadata": {
        "id": "bFCz19GOAWWS"
      },
      "source": [
        "input_ids = pad_sequences([tokenizer.convert_tokens_to_ids(txt) for txt in tokenized_texts],\n",
        "                          maxlen=max_len, dtype=\"long\", truncating=\"post\", padding=\"post\")\n",
        "print(input_ids[0])\n"
      ],
      "execution_count": null,
      "outputs": []
    },
    {
      "cell_type": "code",
      "metadata": {
        "id": "2wD18-R_AYk2"
      },
      "source": [
        "# For fine tune of predict, with token mask is 1,pad token is 0\n",
        "attention_masks = [[int(i>0) for i in ii] for ii in input_ids]\n",
        "attention_masks[0];"
      ],
      "execution_count": null,
      "outputs": []
    },
    {
      "cell_type": "code",
      "metadata": {
        "id": "yPN9-zyNAZ4i"
      },
      "source": [
        "\n",
        "segment_ids = [[0] * len(input_id) for input_id in input_ids]\n",
        "segment_ids[0];\n"
      ],
      "execution_count": null,
      "outputs": []
    },
    {
      "cell_type": "code",
      "metadata": {
        "id": "FhMHVsrGAcUO"
      },
      "source": [
        "input_ids = torch.tensor(input_ids)\n",
        "attention_masks = torch.tensor(attention_masks)\n",
        "segment_ids = torch.tensor(segment_ids)"
      ],
      "execution_count": null,
      "outputs": []
    },
    {
      "cell_type": "code",
      "metadata": {
        "id": "-NhvCm1BAeB2"
      },
      "source": [
        "model.eval();"
      ],
      "execution_count": null,
      "outputs": []
    },
    {
      "cell_type": "code",
      "metadata": {
        "id": "ChbEoly8DWin"
      },
      "source": [
        "with torch.no_grad():\n",
        "        outputs = save_model(input_ids, token_type_ids=None,\n",
        "        attention_mask=None,)\n",
        "        # For eval mode, the first result of outputs is logits\n",
        "        logits = outputs[0] "
      ],
      "execution_count": null,
      "outputs": []
    },
    {
      "cell_type": "code",
      "metadata": {
        "id": "iOXXUbrG_lI8"
      },
      "source": [
        "predict_results = logits.detach().cpu().numpy()\n",
        "predict_results.shape\n"
      ],
      "execution_count": null,
      "outputs": []
    },
    {
      "cell_type": "code",
      "metadata": {
        "id": "0nn9q7XN_nj4"
      },
      "source": [
        "from scipy.special import softmax\n",
        "result_arrays_soft = softmax(predict_results[0])\n",
        "result_arrays_soft[0]\n"
      ],
      "execution_count": null,
      "outputs": []
    },
    {
      "cell_type": "code",
      "metadata": {
        "id": "bDU__QQk_v4Q"
      },
      "source": [
        "result_array = result_arrays_soft\n",
        "len(result_array),len(result_array[0])"
      ],
      "execution_count": null,
      "outputs": []
    },
    {
      "cell_type": "code",
      "metadata": {
        "id": "IWx1yoIv_yac"
      },
      "source": [
        "# Get each token final predict tag index result\n",
        "result_list = np.argmax(result_array,axis=-1)\n",
        "result_list"
      ],
      "execution_count": null,
      "outputs": []
    },
    {
      "cell_type": "code",
      "metadata": {
        "id": "5LIlBZlX_2Ws"
      },
      "source": [
        "for i, mark in enumerate(attention_masks[0]):\n",
        "    if mark>0:\n",
        "        print(\"Token:%s\"%(temp_token[i]))\n",
        "#         print(\"Tag:%s\"%(result_list[i]))\n",
        "        print(\"Predict_Tag:%s\"%(tag2name[result_list[i]]))\n",
        "        #print(\"Posibility:%f\"%(result_array[i][result_list[i]]))\n",
        "        print()"
      ],
      "execution_count": null,
      "outputs": []
    },
    {
      "cell_type": "code",
      "metadata": {
        "id": "udYH9HMw_37A"
      },
      "source": [
        ""
      ],
      "execution_count": null,
      "outputs": []
    }
  ]
}