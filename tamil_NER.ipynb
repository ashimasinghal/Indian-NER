{
  "nbformat": 4,
  "nbformat_minor": 0,
  "metadata": {
    "colab": {
      "name": "tamil_NER.ipynb",
      "provenance": [],
      "authorship_tag": "ABX9TyNvc2Y4faJBsjmK2oFFqQPd",
      "include_colab_link": true
    },
    "kernelspec": {
      "name": "python3",
      "display_name": "Python 3"
    },
    "language_info": {
      "name": "python"
    },
    "accelerator": "GPU",
    "widgets": {
      "application/vnd.jupyter.widget-state+json": {
        "520ec708e1c14fceb55da235cd6226e1": {
          "model_module": "@jupyter-widgets/controls",
          "model_name": "HBoxModel",
          "model_module_version": "1.5.0",
          "state": {
            "_view_name": "HBoxView",
            "_dom_classes": [],
            "_model_name": "HBoxModel",
            "_view_module": "@jupyter-widgets/controls",
            "_model_module_version": "1.5.0",
            "_view_count": null,
            "_view_module_version": "1.5.0",
            "box_style": "",
            "layout": "IPY_MODEL_685514ff078f47c3953dbc96cf3d4383",
            "_model_module": "@jupyter-widgets/controls",
            "children": [
              "IPY_MODEL_ccc0370185ee4c309dfe438ce1ea8fe3",
              "IPY_MODEL_b6998e5b7ca54ef083423373baa779b8",
              "IPY_MODEL_4d49d1af72c24dd0a77c19b0afcbbbe7"
            ]
          }
        },
        "685514ff078f47c3953dbc96cf3d4383": {
          "model_module": "@jupyter-widgets/base",
          "model_name": "LayoutModel",
          "model_module_version": "1.2.0",
          "state": {
            "_view_name": "LayoutView",
            "grid_template_rows": null,
            "right": null,
            "justify_content": null,
            "_view_module": "@jupyter-widgets/base",
            "overflow": null,
            "_model_module_version": "1.2.0",
            "_view_count": null,
            "flex_flow": null,
            "width": null,
            "min_width": null,
            "border": null,
            "align_items": null,
            "bottom": null,
            "_model_module": "@jupyter-widgets/base",
            "top": null,
            "grid_column": null,
            "overflow_y": null,
            "overflow_x": null,
            "grid_auto_flow": null,
            "grid_area": null,
            "grid_template_columns": null,
            "flex": null,
            "_model_name": "LayoutModel",
            "justify_items": null,
            "grid_row": null,
            "max_height": null,
            "align_content": null,
            "visibility": null,
            "align_self": null,
            "height": null,
            "min_height": null,
            "padding": null,
            "grid_auto_rows": null,
            "grid_gap": null,
            "max_width": null,
            "order": null,
            "_view_module_version": "1.2.0",
            "grid_template_areas": null,
            "object_position": null,
            "object_fit": null,
            "grid_auto_columns": null,
            "margin": null,
            "display": null,
            "left": null
          }
        },
        "ccc0370185ee4c309dfe438ce1ea8fe3": {
          "model_module": "@jupyter-widgets/controls",
          "model_name": "HTMLModel",
          "model_module_version": "1.5.0",
          "state": {
            "_view_name": "HTMLView",
            "style": "IPY_MODEL_5143d4ef00c94df294fcc9d59210af70",
            "_dom_classes": [],
            "description": "",
            "_model_name": "HTMLModel",
            "placeholder": "​",
            "_view_module": "@jupyter-widgets/controls",
            "_model_module_version": "1.5.0",
            "value": "Downloading: 100%",
            "_view_count": null,
            "_view_module_version": "1.5.0",
            "description_tooltip": null,
            "_model_module": "@jupyter-widgets/controls",
            "layout": "IPY_MODEL_6cf201968e064c189103e3977ae326a4"
          }
        },
        "b6998e5b7ca54ef083423373baa779b8": {
          "model_module": "@jupyter-widgets/controls",
          "model_name": "FloatProgressModel",
          "model_module_version": "1.5.0",
          "state": {
            "_view_name": "ProgressView",
            "style": "IPY_MODEL_d0c2c988bb014707a65aa325f859e7a5",
            "_dom_classes": [],
            "description": "",
            "_model_name": "FloatProgressModel",
            "bar_style": "success",
            "max": 671,
            "_view_module": "@jupyter-widgets/controls",
            "_model_module_version": "1.5.0",
            "value": 671,
            "_view_count": null,
            "_view_module_version": "1.5.0",
            "orientation": "horizontal",
            "min": 0,
            "description_tooltip": null,
            "_model_module": "@jupyter-widgets/controls",
            "layout": "IPY_MODEL_6b8d02bd50a944ae9e3557dbd1963972"
          }
        },
        "4d49d1af72c24dd0a77c19b0afcbbbe7": {
          "model_module": "@jupyter-widgets/controls",
          "model_name": "HTMLModel",
          "model_module_version": "1.5.0",
          "state": {
            "_view_name": "HTMLView",
            "style": "IPY_MODEL_6e23a4c98233461b8a4b6b28d3cadf22",
            "_dom_classes": [],
            "description": "",
            "_model_name": "HTMLModel",
            "placeholder": "​",
            "_view_module": "@jupyter-widgets/controls",
            "_model_module_version": "1.5.0",
            "value": " 671/671 [00:00&lt;00:00, 14.8kB/s]",
            "_view_count": null,
            "_view_module_version": "1.5.0",
            "description_tooltip": null,
            "_model_module": "@jupyter-widgets/controls",
            "layout": "IPY_MODEL_001004796750499aa39fb43e83e452ae"
          }
        },
        "5143d4ef00c94df294fcc9d59210af70": {
          "model_module": "@jupyter-widgets/controls",
          "model_name": "DescriptionStyleModel",
          "model_module_version": "1.5.0",
          "state": {
            "_view_name": "StyleView",
            "_model_name": "DescriptionStyleModel",
            "description_width": "",
            "_view_module": "@jupyter-widgets/base",
            "_model_module_version": "1.5.0",
            "_view_count": null,
            "_view_module_version": "1.2.0",
            "_model_module": "@jupyter-widgets/controls"
          }
        },
        "6cf201968e064c189103e3977ae326a4": {
          "model_module": "@jupyter-widgets/base",
          "model_name": "LayoutModel",
          "model_module_version": "1.2.0",
          "state": {
            "_view_name": "LayoutView",
            "grid_template_rows": null,
            "right": null,
            "justify_content": null,
            "_view_module": "@jupyter-widgets/base",
            "overflow": null,
            "_model_module_version": "1.2.0",
            "_view_count": null,
            "flex_flow": null,
            "width": null,
            "min_width": null,
            "border": null,
            "align_items": null,
            "bottom": null,
            "_model_module": "@jupyter-widgets/base",
            "top": null,
            "grid_column": null,
            "overflow_y": null,
            "overflow_x": null,
            "grid_auto_flow": null,
            "grid_area": null,
            "grid_template_columns": null,
            "flex": null,
            "_model_name": "LayoutModel",
            "justify_items": null,
            "grid_row": null,
            "max_height": null,
            "align_content": null,
            "visibility": null,
            "align_self": null,
            "height": null,
            "min_height": null,
            "padding": null,
            "grid_auto_rows": null,
            "grid_gap": null,
            "max_width": null,
            "order": null,
            "_view_module_version": "1.2.0",
            "grid_template_areas": null,
            "object_position": null,
            "object_fit": null,
            "grid_auto_columns": null,
            "margin": null,
            "display": null,
            "left": null
          }
        },
        "d0c2c988bb014707a65aa325f859e7a5": {
          "model_module": "@jupyter-widgets/controls",
          "model_name": "ProgressStyleModel",
          "model_module_version": "1.5.0",
          "state": {
            "_view_name": "StyleView",
            "_model_name": "ProgressStyleModel",
            "description_width": "",
            "_view_module": "@jupyter-widgets/base",
            "_model_module_version": "1.5.0",
            "_view_count": null,
            "_view_module_version": "1.2.0",
            "bar_color": null,
            "_model_module": "@jupyter-widgets/controls"
          }
        },
        "6b8d02bd50a944ae9e3557dbd1963972": {
          "model_module": "@jupyter-widgets/base",
          "model_name": "LayoutModel",
          "model_module_version": "1.2.0",
          "state": {
            "_view_name": "LayoutView",
            "grid_template_rows": null,
            "right": null,
            "justify_content": null,
            "_view_module": "@jupyter-widgets/base",
            "overflow": null,
            "_model_module_version": "1.2.0",
            "_view_count": null,
            "flex_flow": null,
            "width": null,
            "min_width": null,
            "border": null,
            "align_items": null,
            "bottom": null,
            "_model_module": "@jupyter-widgets/base",
            "top": null,
            "grid_column": null,
            "overflow_y": null,
            "overflow_x": null,
            "grid_auto_flow": null,
            "grid_area": null,
            "grid_template_columns": null,
            "flex": null,
            "_model_name": "LayoutModel",
            "justify_items": null,
            "grid_row": null,
            "max_height": null,
            "align_content": null,
            "visibility": null,
            "align_self": null,
            "height": null,
            "min_height": null,
            "padding": null,
            "grid_auto_rows": null,
            "grid_gap": null,
            "max_width": null,
            "order": null,
            "_view_module_version": "1.2.0",
            "grid_template_areas": null,
            "object_position": null,
            "object_fit": null,
            "grid_auto_columns": null,
            "margin": null,
            "display": null,
            "left": null
          }
        },
        "6e23a4c98233461b8a4b6b28d3cadf22": {
          "model_module": "@jupyter-widgets/controls",
          "model_name": "DescriptionStyleModel",
          "model_module_version": "1.5.0",
          "state": {
            "_view_name": "StyleView",
            "_model_name": "DescriptionStyleModel",
            "description_width": "",
            "_view_module": "@jupyter-widgets/base",
            "_model_module_version": "1.5.0",
            "_view_count": null,
            "_view_module_version": "1.2.0",
            "_model_module": "@jupyter-widgets/controls"
          }
        },
        "001004796750499aa39fb43e83e452ae": {
          "model_module": "@jupyter-widgets/base",
          "model_name": "LayoutModel",
          "model_module_version": "1.2.0",
          "state": {
            "_view_name": "LayoutView",
            "grid_template_rows": null,
            "right": null,
            "justify_content": null,
            "_view_module": "@jupyter-widgets/base",
            "overflow": null,
            "_model_module_version": "1.2.0",
            "_view_count": null,
            "flex_flow": null,
            "width": null,
            "min_width": null,
            "border": null,
            "align_items": null,
            "bottom": null,
            "_model_module": "@jupyter-widgets/base",
            "top": null,
            "grid_column": null,
            "overflow_y": null,
            "overflow_x": null,
            "grid_auto_flow": null,
            "grid_area": null,
            "grid_template_columns": null,
            "flex": null,
            "_model_name": "LayoutModel",
            "justify_items": null,
            "grid_row": null,
            "max_height": null,
            "align_content": null,
            "visibility": null,
            "align_self": null,
            "height": null,
            "min_height": null,
            "padding": null,
            "grid_auto_rows": null,
            "grid_gap": null,
            "max_width": null,
            "order": null,
            "_view_module_version": "1.2.0",
            "grid_template_areas": null,
            "object_position": null,
            "object_fit": null,
            "grid_auto_columns": null,
            "margin": null,
            "display": null,
            "left": null
          }
        },
        "4f66f45682524ca3bb604534a2d079c0": {
          "model_module": "@jupyter-widgets/controls",
          "model_name": "HBoxModel",
          "model_module_version": "1.5.0",
          "state": {
            "_view_name": "HBoxView",
            "_dom_classes": [],
            "_model_name": "HBoxModel",
            "_view_module": "@jupyter-widgets/controls",
            "_model_module_version": "1.5.0",
            "_view_count": null,
            "_view_module_version": "1.5.0",
            "box_style": "",
            "layout": "IPY_MODEL_3335df2667f5439fa0cdc9323a1e5dee",
            "_model_module": "@jupyter-widgets/controls",
            "children": [
              "IPY_MODEL_30d6043ec15240848633476a63c4a361",
              "IPY_MODEL_00af5bf4e25a415fa0a859098d780c0e",
              "IPY_MODEL_06b799d21e684ee08a533a59e5ecd9ff"
            ]
          }
        },
        "3335df2667f5439fa0cdc9323a1e5dee": {
          "model_module": "@jupyter-widgets/base",
          "model_name": "LayoutModel",
          "model_module_version": "1.2.0",
          "state": {
            "_view_name": "LayoutView",
            "grid_template_rows": null,
            "right": null,
            "justify_content": null,
            "_view_module": "@jupyter-widgets/base",
            "overflow": null,
            "_model_module_version": "1.2.0",
            "_view_count": null,
            "flex_flow": null,
            "width": null,
            "min_width": null,
            "border": null,
            "align_items": null,
            "bottom": null,
            "_model_module": "@jupyter-widgets/base",
            "top": null,
            "grid_column": null,
            "overflow_y": null,
            "overflow_x": null,
            "grid_auto_flow": null,
            "grid_area": null,
            "grid_template_columns": null,
            "flex": null,
            "_model_name": "LayoutModel",
            "justify_items": null,
            "grid_row": null,
            "max_height": null,
            "align_content": null,
            "visibility": null,
            "align_self": null,
            "height": null,
            "min_height": null,
            "padding": null,
            "grid_auto_rows": null,
            "grid_gap": null,
            "max_width": null,
            "order": null,
            "_view_module_version": "1.2.0",
            "grid_template_areas": null,
            "object_position": null,
            "object_fit": null,
            "grid_auto_columns": null,
            "margin": null,
            "display": null,
            "left": null
          }
        },
        "30d6043ec15240848633476a63c4a361": {
          "model_module": "@jupyter-widgets/controls",
          "model_name": "HTMLModel",
          "model_module_version": "1.5.0",
          "state": {
            "_view_name": "HTMLView",
            "style": "IPY_MODEL_b609a15094fa4b5d8a29bbb8ce1bffe1",
            "_dom_classes": [],
            "description": "",
            "_model_name": "HTMLModel",
            "placeholder": "​",
            "_view_module": "@jupyter-widgets/controls",
            "_model_module_version": "1.5.0",
            "value": "Downloading: 100%",
            "_view_count": null,
            "_view_module_version": "1.5.0",
            "description_tooltip": null,
            "_model_module": "@jupyter-widgets/controls",
            "layout": "IPY_MODEL_0767bf63074a4794a2b500a1b7daa13a"
          }
        },
        "00af5bf4e25a415fa0a859098d780c0e": {
          "model_module": "@jupyter-widgets/controls",
          "model_name": "FloatProgressModel",
          "model_module_version": "1.5.0",
          "state": {
            "_view_name": "ProgressView",
            "style": "IPY_MODEL_237eb31050014e8bab311e0fb6207b3f",
            "_dom_classes": [],
            "description": "",
            "_model_name": "FloatProgressModel",
            "bar_style": "success",
            "max": 542912,
            "_view_module": "@jupyter-widgets/controls",
            "_model_module_version": "1.5.0",
            "value": 542912,
            "_view_count": null,
            "_view_module_version": "1.5.0",
            "orientation": "horizontal",
            "min": 0,
            "description_tooltip": null,
            "_model_module": "@jupyter-widgets/controls",
            "layout": "IPY_MODEL_57ff892540ce4cbd8116999f66ed12ce"
          }
        },
        "06b799d21e684ee08a533a59e5ecd9ff": {
          "model_module": "@jupyter-widgets/controls",
          "model_name": "HTMLModel",
          "model_module_version": "1.5.0",
          "state": {
            "_view_name": "HTMLView",
            "style": "IPY_MODEL_55e2d5cb0f2141789f648cc55ef8d226",
            "_dom_classes": [],
            "description": "",
            "_model_name": "HTMLModel",
            "placeholder": "​",
            "_view_module": "@jupyter-widgets/controls",
            "_model_module_version": "1.5.0",
            "value": " 530k/530k [00:00&lt;00:00, 979kB/s]",
            "_view_count": null,
            "_view_module_version": "1.5.0",
            "description_tooltip": null,
            "_model_module": "@jupyter-widgets/controls",
            "layout": "IPY_MODEL_2a20b7fd6d11462bb3af6da74daeca23"
          }
        },
        "b609a15094fa4b5d8a29bbb8ce1bffe1": {
          "model_module": "@jupyter-widgets/controls",
          "model_name": "DescriptionStyleModel",
          "model_module_version": "1.5.0",
          "state": {
            "_view_name": "StyleView",
            "_model_name": "DescriptionStyleModel",
            "description_width": "",
            "_view_module": "@jupyter-widgets/base",
            "_model_module_version": "1.5.0",
            "_view_count": null,
            "_view_module_version": "1.2.0",
            "_model_module": "@jupyter-widgets/controls"
          }
        },
        "0767bf63074a4794a2b500a1b7daa13a": {
          "model_module": "@jupyter-widgets/base",
          "model_name": "LayoutModel",
          "model_module_version": "1.2.0",
          "state": {
            "_view_name": "LayoutView",
            "grid_template_rows": null,
            "right": null,
            "justify_content": null,
            "_view_module": "@jupyter-widgets/base",
            "overflow": null,
            "_model_module_version": "1.2.0",
            "_view_count": null,
            "flex_flow": null,
            "width": null,
            "min_width": null,
            "border": null,
            "align_items": null,
            "bottom": null,
            "_model_module": "@jupyter-widgets/base",
            "top": null,
            "grid_column": null,
            "overflow_y": null,
            "overflow_x": null,
            "grid_auto_flow": null,
            "grid_area": null,
            "grid_template_columns": null,
            "flex": null,
            "_model_name": "LayoutModel",
            "justify_items": null,
            "grid_row": null,
            "max_height": null,
            "align_content": null,
            "visibility": null,
            "align_self": null,
            "height": null,
            "min_height": null,
            "padding": null,
            "grid_auto_rows": null,
            "grid_gap": null,
            "max_width": null,
            "order": null,
            "_view_module_version": "1.2.0",
            "grid_template_areas": null,
            "object_position": null,
            "object_fit": null,
            "grid_auto_columns": null,
            "margin": null,
            "display": null,
            "left": null
          }
        },
        "237eb31050014e8bab311e0fb6207b3f": {
          "model_module": "@jupyter-widgets/controls",
          "model_name": "ProgressStyleModel",
          "model_module_version": "1.5.0",
          "state": {
            "_view_name": "StyleView",
            "_model_name": "ProgressStyleModel",
            "description_width": "",
            "_view_module": "@jupyter-widgets/base",
            "_model_module_version": "1.5.0",
            "_view_count": null,
            "_view_module_version": "1.2.0",
            "bar_color": null,
            "_model_module": "@jupyter-widgets/controls"
          }
        },
        "57ff892540ce4cbd8116999f66ed12ce": {
          "model_module": "@jupyter-widgets/base",
          "model_name": "LayoutModel",
          "model_module_version": "1.2.0",
          "state": {
            "_view_name": "LayoutView",
            "grid_template_rows": null,
            "right": null,
            "justify_content": null,
            "_view_module": "@jupyter-widgets/base",
            "overflow": null,
            "_model_module_version": "1.2.0",
            "_view_count": null,
            "flex_flow": null,
            "width": null,
            "min_width": null,
            "border": null,
            "align_items": null,
            "bottom": null,
            "_model_module": "@jupyter-widgets/base",
            "top": null,
            "grid_column": null,
            "overflow_y": null,
            "overflow_x": null,
            "grid_auto_flow": null,
            "grid_area": null,
            "grid_template_columns": null,
            "flex": null,
            "_model_name": "LayoutModel",
            "justify_items": null,
            "grid_row": null,
            "max_height": null,
            "align_content": null,
            "visibility": null,
            "align_self": null,
            "height": null,
            "min_height": null,
            "padding": null,
            "grid_auto_rows": null,
            "grid_gap": null,
            "max_width": null,
            "order": null,
            "_view_module_version": "1.2.0",
            "grid_template_areas": null,
            "object_position": null,
            "object_fit": null,
            "grid_auto_columns": null,
            "margin": null,
            "display": null,
            "left": null
          }
        },
        "55e2d5cb0f2141789f648cc55ef8d226": {
          "model_module": "@jupyter-widgets/controls",
          "model_name": "DescriptionStyleModel",
          "model_module_version": "1.5.0",
          "state": {
            "_view_name": "StyleView",
            "_model_name": "DescriptionStyleModel",
            "description_width": "",
            "_view_module": "@jupyter-widgets/base",
            "_model_module_version": "1.5.0",
            "_view_count": null,
            "_view_module_version": "1.2.0",
            "_model_module": "@jupyter-widgets/controls"
          }
        },
        "2a20b7fd6d11462bb3af6da74daeca23": {
          "model_module": "@jupyter-widgets/base",
          "model_name": "LayoutModel",
          "model_module_version": "1.2.0",
          "state": {
            "_view_name": "LayoutView",
            "grid_template_rows": null,
            "right": null,
            "justify_content": null,
            "_view_module": "@jupyter-widgets/base",
            "overflow": null,
            "_model_module_version": "1.2.0",
            "_view_count": null,
            "flex_flow": null,
            "width": null,
            "min_width": null,
            "border": null,
            "align_items": null,
            "bottom": null,
            "_model_module": "@jupyter-widgets/base",
            "top": null,
            "grid_column": null,
            "overflow_y": null,
            "overflow_x": null,
            "grid_auto_flow": null,
            "grid_area": null,
            "grid_template_columns": null,
            "flex": null,
            "_model_name": "LayoutModel",
            "justify_items": null,
            "grid_row": null,
            "max_height": null,
            "align_content": null,
            "visibility": null,
            "align_self": null,
            "height": null,
            "min_height": null,
            "padding": null,
            "grid_auto_rows": null,
            "grid_gap": null,
            "max_width": null,
            "order": null,
            "_view_module_version": "1.2.0",
            "grid_template_areas": null,
            "object_position": null,
            "object_fit": null,
            "grid_auto_columns": null,
            "margin": null,
            "display": null,
            "left": null
          }
        },
        "88483ba28a3b40ec81ed6e63fe67ec4a": {
          "model_module": "@jupyter-widgets/controls",
          "model_name": "HBoxModel",
          "model_module_version": "1.5.0",
          "state": {
            "_view_name": "HBoxView",
            "_dom_classes": [],
            "_model_name": "HBoxModel",
            "_view_module": "@jupyter-widgets/controls",
            "_model_module_version": "1.5.0",
            "_view_count": null,
            "_view_module_version": "1.5.0",
            "box_style": "",
            "layout": "IPY_MODEL_79a127eba93345419e85ef4b31451927",
            "_model_module": "@jupyter-widgets/controls",
            "children": [
              "IPY_MODEL_04426a05390a4aeb9b16731abce32433",
              "IPY_MODEL_3328d778ae254fad9aa11126aaff1b7a",
              "IPY_MODEL_296716d7d4594c609b9049a617420cca"
            ]
          }
        },
        "79a127eba93345419e85ef4b31451927": {
          "model_module": "@jupyter-widgets/base",
          "model_name": "LayoutModel",
          "model_module_version": "1.2.0",
          "state": {
            "_view_name": "LayoutView",
            "grid_template_rows": null,
            "right": null,
            "justify_content": null,
            "_view_module": "@jupyter-widgets/base",
            "overflow": null,
            "_model_module_version": "1.2.0",
            "_view_count": null,
            "flex_flow": null,
            "width": null,
            "min_width": null,
            "border": null,
            "align_items": null,
            "bottom": null,
            "_model_module": "@jupyter-widgets/base",
            "top": null,
            "grid_column": null,
            "overflow_y": null,
            "overflow_x": null,
            "grid_auto_flow": null,
            "grid_area": null,
            "grid_template_columns": null,
            "flex": null,
            "_model_name": "LayoutModel",
            "justify_items": null,
            "grid_row": null,
            "max_height": null,
            "align_content": null,
            "visibility": null,
            "align_self": null,
            "height": null,
            "min_height": null,
            "padding": null,
            "grid_auto_rows": null,
            "grid_gap": null,
            "max_width": null,
            "order": null,
            "_view_module_version": "1.2.0",
            "grid_template_areas": null,
            "object_position": null,
            "object_fit": null,
            "grid_auto_columns": null,
            "margin": null,
            "display": null,
            "left": null
          }
        },
        "04426a05390a4aeb9b16731abce32433": {
          "model_module": "@jupyter-widgets/controls",
          "model_name": "HTMLModel",
          "model_module_version": "1.5.0",
          "state": {
            "_view_name": "HTMLView",
            "style": "IPY_MODEL_84fcdf0393ee490ab682cd33556cd578",
            "_dom_classes": [],
            "description": "",
            "_model_name": "HTMLModel",
            "placeholder": "​",
            "_view_module": "@jupyter-widgets/controls",
            "_model_module_version": "1.5.0",
            "value": "Downloading: 100%",
            "_view_count": null,
            "_view_module_version": "1.5.0",
            "description_tooltip": null,
            "_model_module": "@jupyter-widgets/controls",
            "layout": "IPY_MODEL_e816fd8c9eaa4233882f66e220b34c63"
          }
        },
        "3328d778ae254fad9aa11126aaff1b7a": {
          "model_module": "@jupyter-widgets/controls",
          "model_name": "FloatProgressModel",
          "model_module_version": "1.5.0",
          "state": {
            "_view_name": "ProgressView",
            "style": "IPY_MODEL_44a129f855654ac3b1f7f26924740d70",
            "_dom_classes": [],
            "description": "",
            "_model_name": "FloatProgressModel",
            "bar_style": "success",
            "max": 339264,
            "_view_module": "@jupyter-widgets/controls",
            "_model_module_version": "1.5.0",
            "value": 339264,
            "_view_count": null,
            "_view_module_version": "1.5.0",
            "orientation": "horizontal",
            "min": 0,
            "description_tooltip": null,
            "_model_module": "@jupyter-widgets/controls",
            "layout": "IPY_MODEL_2b181770b5764cfc9596e1f36d05d6a7"
          }
        },
        "296716d7d4594c609b9049a617420cca": {
          "model_module": "@jupyter-widgets/controls",
          "model_name": "HTMLModel",
          "model_module_version": "1.5.0",
          "state": {
            "_view_name": "HTMLView",
            "style": "IPY_MODEL_c8dff7bc50b1493bb71851aec8aa789a",
            "_dom_classes": [],
            "description": "",
            "_model_name": "HTMLModel",
            "placeholder": "​",
            "_view_module": "@jupyter-widgets/controls",
            "_model_module_version": "1.5.0",
            "value": " 331k/331k [00:00&lt;00:00, 1.10MB/s]",
            "_view_count": null,
            "_view_module_version": "1.5.0",
            "description_tooltip": null,
            "_model_module": "@jupyter-widgets/controls",
            "layout": "IPY_MODEL_312e9454be784a199ec685b896356a66"
          }
        },
        "84fcdf0393ee490ab682cd33556cd578": {
          "model_module": "@jupyter-widgets/controls",
          "model_name": "DescriptionStyleModel",
          "model_module_version": "1.5.0",
          "state": {
            "_view_name": "StyleView",
            "_model_name": "DescriptionStyleModel",
            "description_width": "",
            "_view_module": "@jupyter-widgets/base",
            "_model_module_version": "1.5.0",
            "_view_count": null,
            "_view_module_version": "1.2.0",
            "_model_module": "@jupyter-widgets/controls"
          }
        },
        "e816fd8c9eaa4233882f66e220b34c63": {
          "model_module": "@jupyter-widgets/base",
          "model_name": "LayoutModel",
          "model_module_version": "1.2.0",
          "state": {
            "_view_name": "LayoutView",
            "grid_template_rows": null,
            "right": null,
            "justify_content": null,
            "_view_module": "@jupyter-widgets/base",
            "overflow": null,
            "_model_module_version": "1.2.0",
            "_view_count": null,
            "flex_flow": null,
            "width": null,
            "min_width": null,
            "border": null,
            "align_items": null,
            "bottom": null,
            "_model_module": "@jupyter-widgets/base",
            "top": null,
            "grid_column": null,
            "overflow_y": null,
            "overflow_x": null,
            "grid_auto_flow": null,
            "grid_area": null,
            "grid_template_columns": null,
            "flex": null,
            "_model_name": "LayoutModel",
            "justify_items": null,
            "grid_row": null,
            "max_height": null,
            "align_content": null,
            "visibility": null,
            "align_self": null,
            "height": null,
            "min_height": null,
            "padding": null,
            "grid_auto_rows": null,
            "grid_gap": null,
            "max_width": null,
            "order": null,
            "_view_module_version": "1.2.0",
            "grid_template_areas": null,
            "object_position": null,
            "object_fit": null,
            "grid_auto_columns": null,
            "margin": null,
            "display": null,
            "left": null
          }
        },
        "44a129f855654ac3b1f7f26924740d70": {
          "model_module": "@jupyter-widgets/controls",
          "model_name": "ProgressStyleModel",
          "model_module_version": "1.5.0",
          "state": {
            "_view_name": "StyleView",
            "_model_name": "ProgressStyleModel",
            "description_width": "",
            "_view_module": "@jupyter-widgets/base",
            "_model_module_version": "1.5.0",
            "_view_count": null,
            "_view_module_version": "1.2.0",
            "bar_color": null,
            "_model_module": "@jupyter-widgets/controls"
          }
        },
        "2b181770b5764cfc9596e1f36d05d6a7": {
          "model_module": "@jupyter-widgets/base",
          "model_name": "LayoutModel",
          "model_module_version": "1.2.0",
          "state": {
            "_view_name": "LayoutView",
            "grid_template_rows": null,
            "right": null,
            "justify_content": null,
            "_view_module": "@jupyter-widgets/base",
            "overflow": null,
            "_model_module_version": "1.2.0",
            "_view_count": null,
            "flex_flow": null,
            "width": null,
            "min_width": null,
            "border": null,
            "align_items": null,
            "bottom": null,
            "_model_module": "@jupyter-widgets/base",
            "top": null,
            "grid_column": null,
            "overflow_y": null,
            "overflow_x": null,
            "grid_auto_flow": null,
            "grid_area": null,
            "grid_template_columns": null,
            "flex": null,
            "_model_name": "LayoutModel",
            "justify_items": null,
            "grid_row": null,
            "max_height": null,
            "align_content": null,
            "visibility": null,
            "align_self": null,
            "height": null,
            "min_height": null,
            "padding": null,
            "grid_auto_rows": null,
            "grid_gap": null,
            "max_width": null,
            "order": null,
            "_view_module_version": "1.2.0",
            "grid_template_areas": null,
            "object_position": null,
            "object_fit": null,
            "grid_auto_columns": null,
            "margin": null,
            "display": null,
            "left": null
          }
        },
        "c8dff7bc50b1493bb71851aec8aa789a": {
          "model_module": "@jupyter-widgets/controls",
          "model_name": "DescriptionStyleModel",
          "model_module_version": "1.5.0",
          "state": {
            "_view_name": "StyleView",
            "_model_name": "DescriptionStyleModel",
            "description_width": "",
            "_view_module": "@jupyter-widgets/base",
            "_model_module_version": "1.5.0",
            "_view_count": null,
            "_view_module_version": "1.2.0",
            "_model_module": "@jupyter-widgets/controls"
          }
        },
        "312e9454be784a199ec685b896356a66": {
          "model_module": "@jupyter-widgets/base",
          "model_name": "LayoutModel",
          "model_module_version": "1.2.0",
          "state": {
            "_view_name": "LayoutView",
            "grid_template_rows": null,
            "right": null,
            "justify_content": null,
            "_view_module": "@jupyter-widgets/base",
            "overflow": null,
            "_model_module_version": "1.2.0",
            "_view_count": null,
            "flex_flow": null,
            "width": null,
            "min_width": null,
            "border": null,
            "align_items": null,
            "bottom": null,
            "_model_module": "@jupyter-widgets/base",
            "top": null,
            "grid_column": null,
            "overflow_y": null,
            "overflow_x": null,
            "grid_auto_flow": null,
            "grid_area": null,
            "grid_template_columns": null,
            "flex": null,
            "_model_name": "LayoutModel",
            "justify_items": null,
            "grid_row": null,
            "max_height": null,
            "align_content": null,
            "visibility": null,
            "align_self": null,
            "height": null,
            "min_height": null,
            "padding": null,
            "grid_auto_rows": null,
            "grid_gap": null,
            "max_width": null,
            "order": null,
            "_view_module_version": "1.2.0",
            "grid_template_areas": null,
            "object_position": null,
            "object_fit": null,
            "grid_auto_columns": null,
            "margin": null,
            "display": null,
            "left": null
          }
        },
        "dd8e084c0c054005922eddded91ea122": {
          "model_module": "@jupyter-widgets/controls",
          "model_name": "HBoxModel",
          "model_module_version": "1.5.0",
          "state": {
            "_view_name": "HBoxView",
            "_dom_classes": [],
            "_model_name": "HBoxModel",
            "_view_module": "@jupyter-widgets/controls",
            "_model_module_version": "1.5.0",
            "_view_count": null,
            "_view_module_version": "1.5.0",
            "box_style": "",
            "layout": "IPY_MODEL_9a3b784b6dec4a5482d487c9e6690efa",
            "_model_module": "@jupyter-widgets/controls",
            "children": [
              "IPY_MODEL_a1eed055f2a142a6a753234cf898827b",
              "IPY_MODEL_727ad76d7a8c4405bb9a4fbfe9fbf989",
              "IPY_MODEL_4b60ae64637944e6b6b55fc4a2bd3786"
            ]
          }
        },
        "9a3b784b6dec4a5482d487c9e6690efa": {
          "model_module": "@jupyter-widgets/base",
          "model_name": "LayoutModel",
          "model_module_version": "1.2.0",
          "state": {
            "_view_name": "LayoutView",
            "grid_template_rows": null,
            "right": null,
            "justify_content": null,
            "_view_module": "@jupyter-widgets/base",
            "overflow": null,
            "_model_module_version": "1.2.0",
            "_view_count": null,
            "flex_flow": null,
            "width": null,
            "min_width": null,
            "border": null,
            "align_items": null,
            "bottom": null,
            "_model_module": "@jupyter-widgets/base",
            "top": null,
            "grid_column": null,
            "overflow_y": null,
            "overflow_x": null,
            "grid_auto_flow": null,
            "grid_area": null,
            "grid_template_columns": null,
            "flex": null,
            "_model_name": "LayoutModel",
            "justify_items": null,
            "grid_row": null,
            "max_height": null,
            "align_content": null,
            "visibility": null,
            "align_self": null,
            "height": null,
            "min_height": null,
            "padding": null,
            "grid_auto_rows": null,
            "grid_gap": null,
            "max_width": null,
            "order": null,
            "_view_module_version": "1.2.0",
            "grid_template_areas": null,
            "object_position": null,
            "object_fit": null,
            "grid_auto_columns": null,
            "margin": null,
            "display": null,
            "left": null
          }
        },
        "a1eed055f2a142a6a753234cf898827b": {
          "model_module": "@jupyter-widgets/controls",
          "model_name": "HTMLModel",
          "model_module_version": "1.5.0",
          "state": {
            "_view_name": "HTMLView",
            "style": "IPY_MODEL_baf2e66bbd404fa2bccb19fde75979c7",
            "_dom_classes": [],
            "description": "",
            "_model_name": "HTMLModel",
            "placeholder": "​",
            "_view_module": "@jupyter-widgets/controls",
            "_model_module_version": "1.5.0",
            "value": "Downloading: 100%",
            "_view_count": null,
            "_view_module_version": "1.5.0",
            "description_tooltip": null,
            "_model_module": "@jupyter-widgets/controls",
            "layout": "IPY_MODEL_0e291881c6dc474f81f6d971d44d6b47"
          }
        },
        "727ad76d7a8c4405bb9a4fbfe9fbf989": {
          "model_module": "@jupyter-widgets/controls",
          "model_name": "FloatProgressModel",
          "model_module_version": "1.5.0",
          "state": {
            "_view_name": "ProgressView",
            "style": "IPY_MODEL_04ec8fd59bb441b095bbdab58cccb5ef",
            "_dom_classes": [],
            "description": "",
            "_model_name": "FloatProgressModel",
            "bar_style": "success",
            "max": 267993479,
            "_view_module": "@jupyter-widgets/controls",
            "_model_module_version": "1.5.0",
            "value": 267993479,
            "_view_count": null,
            "_view_module_version": "1.5.0",
            "orientation": "horizontal",
            "min": 0,
            "description_tooltip": null,
            "_model_module": "@jupyter-widgets/controls",
            "layout": "IPY_MODEL_53a4497fa5854b6484b0f16acc44ddae"
          }
        },
        "4b60ae64637944e6b6b55fc4a2bd3786": {
          "model_module": "@jupyter-widgets/controls",
          "model_name": "HTMLModel",
          "model_module_version": "1.5.0",
          "state": {
            "_view_name": "HTMLView",
            "style": "IPY_MODEL_3134f3cbf4a54173a9e99734adcd3081",
            "_dom_classes": [],
            "description": "",
            "_model_name": "HTMLModel",
            "placeholder": "​",
            "_view_module": "@jupyter-widgets/controls",
            "_model_module_version": "1.5.0",
            "value": " 256M/256M [00:09&lt;00:00, 29.3MB/s]",
            "_view_count": null,
            "_view_module_version": "1.5.0",
            "description_tooltip": null,
            "_model_module": "@jupyter-widgets/controls",
            "layout": "IPY_MODEL_97554850191840cfa698706bb9e49aef"
          }
        },
        "baf2e66bbd404fa2bccb19fde75979c7": {
          "model_module": "@jupyter-widgets/controls",
          "model_name": "DescriptionStyleModel",
          "model_module_version": "1.5.0",
          "state": {
            "_view_name": "StyleView",
            "_model_name": "DescriptionStyleModel",
            "description_width": "",
            "_view_module": "@jupyter-widgets/base",
            "_model_module_version": "1.5.0",
            "_view_count": null,
            "_view_module_version": "1.2.0",
            "_model_module": "@jupyter-widgets/controls"
          }
        },
        "0e291881c6dc474f81f6d971d44d6b47": {
          "model_module": "@jupyter-widgets/base",
          "model_name": "LayoutModel",
          "model_module_version": "1.2.0",
          "state": {
            "_view_name": "LayoutView",
            "grid_template_rows": null,
            "right": null,
            "justify_content": null,
            "_view_module": "@jupyter-widgets/base",
            "overflow": null,
            "_model_module_version": "1.2.0",
            "_view_count": null,
            "flex_flow": null,
            "width": null,
            "min_width": null,
            "border": null,
            "align_items": null,
            "bottom": null,
            "_model_module": "@jupyter-widgets/base",
            "top": null,
            "grid_column": null,
            "overflow_y": null,
            "overflow_x": null,
            "grid_auto_flow": null,
            "grid_area": null,
            "grid_template_columns": null,
            "flex": null,
            "_model_name": "LayoutModel",
            "justify_items": null,
            "grid_row": null,
            "max_height": null,
            "align_content": null,
            "visibility": null,
            "align_self": null,
            "height": null,
            "min_height": null,
            "padding": null,
            "grid_auto_rows": null,
            "grid_gap": null,
            "max_width": null,
            "order": null,
            "_view_module_version": "1.2.0",
            "grid_template_areas": null,
            "object_position": null,
            "object_fit": null,
            "grid_auto_columns": null,
            "margin": null,
            "display": null,
            "left": null
          }
        },
        "04ec8fd59bb441b095bbdab58cccb5ef": {
          "model_module": "@jupyter-widgets/controls",
          "model_name": "ProgressStyleModel",
          "model_module_version": "1.5.0",
          "state": {
            "_view_name": "StyleView",
            "_model_name": "ProgressStyleModel",
            "description_width": "",
            "_view_module": "@jupyter-widgets/base",
            "_model_module_version": "1.5.0",
            "_view_count": null,
            "_view_module_version": "1.2.0",
            "bar_color": null,
            "_model_module": "@jupyter-widgets/controls"
          }
        },
        "53a4497fa5854b6484b0f16acc44ddae": {
          "model_module": "@jupyter-widgets/base",
          "model_name": "LayoutModel",
          "model_module_version": "1.2.0",
          "state": {
            "_view_name": "LayoutView",
            "grid_template_rows": null,
            "right": null,
            "justify_content": null,
            "_view_module": "@jupyter-widgets/base",
            "overflow": null,
            "_model_module_version": "1.2.0",
            "_view_count": null,
            "flex_flow": null,
            "width": null,
            "min_width": null,
            "border": null,
            "align_items": null,
            "bottom": null,
            "_model_module": "@jupyter-widgets/base",
            "top": null,
            "grid_column": null,
            "overflow_y": null,
            "overflow_x": null,
            "grid_auto_flow": null,
            "grid_area": null,
            "grid_template_columns": null,
            "flex": null,
            "_model_name": "LayoutModel",
            "justify_items": null,
            "grid_row": null,
            "max_height": null,
            "align_content": null,
            "visibility": null,
            "align_self": null,
            "height": null,
            "min_height": null,
            "padding": null,
            "grid_auto_rows": null,
            "grid_gap": null,
            "max_width": null,
            "order": null,
            "_view_module_version": "1.2.0",
            "grid_template_areas": null,
            "object_position": null,
            "object_fit": null,
            "grid_auto_columns": null,
            "margin": null,
            "display": null,
            "left": null
          }
        },
        "3134f3cbf4a54173a9e99734adcd3081": {
          "model_module": "@jupyter-widgets/controls",
          "model_name": "DescriptionStyleModel",
          "model_module_version": "1.5.0",
          "state": {
            "_view_name": "StyleView",
            "_model_name": "DescriptionStyleModel",
            "description_width": "",
            "_view_module": "@jupyter-widgets/base",
            "_model_module_version": "1.5.0",
            "_view_count": null,
            "_view_module_version": "1.2.0",
            "_model_module": "@jupyter-widgets/controls"
          }
        },
        "97554850191840cfa698706bb9e49aef": {
          "model_module": "@jupyter-widgets/base",
          "model_name": "LayoutModel",
          "model_module_version": "1.2.0",
          "state": {
            "_view_name": "LayoutView",
            "grid_template_rows": null,
            "right": null,
            "justify_content": null,
            "_view_module": "@jupyter-widgets/base",
            "overflow": null,
            "_model_module_version": "1.2.0",
            "_view_count": null,
            "flex_flow": null,
            "width": null,
            "min_width": null,
            "border": null,
            "align_items": null,
            "bottom": null,
            "_model_module": "@jupyter-widgets/base",
            "top": null,
            "grid_column": null,
            "overflow_y": null,
            "overflow_x": null,
            "grid_auto_flow": null,
            "grid_area": null,
            "grid_template_columns": null,
            "flex": null,
            "_model_name": "LayoutModel",
            "justify_items": null,
            "grid_row": null,
            "max_height": null,
            "align_content": null,
            "visibility": null,
            "align_self": null,
            "height": null,
            "min_height": null,
            "padding": null,
            "grid_auto_rows": null,
            "grid_gap": null,
            "max_width": null,
            "order": null,
            "_view_module_version": "1.2.0",
            "grid_template_areas": null,
            "object_position": null,
            "object_fit": null,
            "grid_auto_columns": null,
            "margin": null,
            "display": null,
            "left": null
          }
        }
      }
    }
  },
  "cells": [
    {
      "cell_type": "markdown",
      "metadata": {
        "id": "view-in-github",
        "colab_type": "text"
      },
      "source": [
        "<a href=\"https://colab.research.google.com/github/ashimasinghal/Indian-NER/blob/main/tamil_NER.ipynb\" target=\"_parent\"><img src=\"https://colab.research.google.com/assets/colab-badge.svg\" alt=\"Open In Colab\"/></a>"
      ]
    },
    {
      "cell_type": "code",
      "metadata": {
        "colab": {
          "base_uri": "https://localhost:8080/"
        },
        "id": "vQ7KMgrRhv8c",
        "outputId": "9a1cb5c3-08eb-488d-cdbc-1754f5dacf5c"
      },
      "source": [
        "!pip install seqeval\n",
        "!pip install transformers"
      ],
      "execution_count": null,
      "outputs": [
        {
          "output_type": "stream",
          "name": "stdout",
          "text": [
            "Collecting seqeval\n",
            "  Downloading seqeval-1.2.2.tar.gz (43 kB)\n",
            "\u001b[?25l\r\u001b[K     |███████▌                        | 10 kB 25.5 MB/s eta 0:00:01\r\u001b[K     |███████████████                 | 20 kB 23.7 MB/s eta 0:00:01\r\u001b[K     |██████████████████████▌         | 30 kB 12.0 MB/s eta 0:00:01\r\u001b[K     |██████████████████████████████  | 40 kB 9.4 MB/s eta 0:00:01\r\u001b[K     |████████████████████████████████| 43 kB 1.0 MB/s \n",
            "\u001b[?25hRequirement already satisfied: numpy>=1.14.0 in /usr/local/lib/python3.7/dist-packages (from seqeval) (1.19.5)\n",
            "Requirement already satisfied: scikit-learn>=0.21.3 in /usr/local/lib/python3.7/dist-packages (from seqeval) (1.0.1)\n",
            "Requirement already satisfied: scipy>=1.1.0 in /usr/local/lib/python3.7/dist-packages (from scikit-learn>=0.21.3->seqeval) (1.4.1)\n",
            "Requirement already satisfied: joblib>=0.11 in /usr/local/lib/python3.7/dist-packages (from scikit-learn>=0.21.3->seqeval) (1.1.0)\n",
            "Requirement already satisfied: threadpoolctl>=2.0.0 in /usr/local/lib/python3.7/dist-packages (from scikit-learn>=0.21.3->seqeval) (3.0.0)\n",
            "Building wheels for collected packages: seqeval\n",
            "  Building wheel for seqeval (setup.py) ... \u001b[?25l\u001b[?25hdone\n",
            "  Created wheel for seqeval: filename=seqeval-1.2.2-py3-none-any.whl size=16181 sha256=162ec3f668d378f47b001a998f91e6d5014427f061e8cb489263da2a42be4499\n",
            "  Stored in directory: /root/.cache/pip/wheels/05/96/ee/7cac4e74f3b19e3158dce26a20a1c86b3533c43ec72a549fd7\n",
            "Successfully built seqeval\n",
            "Installing collected packages: seqeval\n",
            "Successfully installed seqeval-1.2.2\n",
            "Collecting transformers\n",
            "  Downloading transformers-4.12.5-py3-none-any.whl (3.1 MB)\n",
            "\u001b[K     |████████████████████████████████| 3.1 MB 5.2 MB/s \n",
            "\u001b[?25hRequirement already satisfied: tqdm>=4.27 in /usr/local/lib/python3.7/dist-packages (from transformers) (4.62.3)\n",
            "Requirement already satisfied: numpy>=1.17 in /usr/local/lib/python3.7/dist-packages (from transformers) (1.19.5)\n",
            "Requirement already satisfied: requests in /usr/local/lib/python3.7/dist-packages (from transformers) (2.23.0)\n",
            "Collecting pyyaml>=5.1\n",
            "  Downloading PyYAML-6.0-cp37-cp37m-manylinux_2_5_x86_64.manylinux1_x86_64.manylinux_2_12_x86_64.manylinux2010_x86_64.whl (596 kB)\n",
            "\u001b[K     |████████████████████████████████| 596 kB 35.0 MB/s \n",
            "\u001b[?25hRequirement already satisfied: packaging>=20.0 in /usr/local/lib/python3.7/dist-packages (from transformers) (21.3)\n",
            "Requirement already satisfied: regex!=2019.12.17 in /usr/local/lib/python3.7/dist-packages (from transformers) (2019.12.20)\n",
            "Requirement already satisfied: importlib-metadata in /usr/local/lib/python3.7/dist-packages (from transformers) (4.8.2)\n",
            "Collecting sacremoses\n",
            "  Downloading sacremoses-0.0.46-py3-none-any.whl (895 kB)\n",
            "\u001b[K     |████████████████████████████████| 895 kB 33.2 MB/s \n",
            "\u001b[?25hCollecting huggingface-hub<1.0,>=0.1.0\n",
            "  Downloading huggingface_hub-0.1.2-py3-none-any.whl (59 kB)\n",
            "\u001b[K     |████████████████████████████████| 59 kB 5.9 MB/s \n",
            "\u001b[?25hRequirement already satisfied: filelock in /usr/local/lib/python3.7/dist-packages (from transformers) (3.4.0)\n",
            "Collecting tokenizers<0.11,>=0.10.1\n",
            "  Downloading tokenizers-0.10.3-cp37-cp37m-manylinux_2_5_x86_64.manylinux1_x86_64.manylinux_2_12_x86_64.manylinux2010_x86_64.whl (3.3 MB)\n",
            "\u001b[K     |████████████████████████████████| 3.3 MB 31.5 MB/s \n",
            "\u001b[?25hRequirement already satisfied: typing-extensions>=3.7.4.3 in /usr/local/lib/python3.7/dist-packages (from huggingface-hub<1.0,>=0.1.0->transformers) (3.10.0.2)\n",
            "Requirement already satisfied: pyparsing!=3.0.5,>=2.0.2 in /usr/local/lib/python3.7/dist-packages (from packaging>=20.0->transformers) (3.0.6)\n",
            "Requirement already satisfied: zipp>=0.5 in /usr/local/lib/python3.7/dist-packages (from importlib-metadata->transformers) (3.6.0)\n",
            "Requirement already satisfied: urllib3!=1.25.0,!=1.25.1,<1.26,>=1.21.1 in /usr/local/lib/python3.7/dist-packages (from requests->transformers) (1.24.3)\n",
            "Requirement already satisfied: chardet<4,>=3.0.2 in /usr/local/lib/python3.7/dist-packages (from requests->transformers) (3.0.4)\n",
            "Requirement already satisfied: certifi>=2017.4.17 in /usr/local/lib/python3.7/dist-packages (from requests->transformers) (2021.10.8)\n",
            "Requirement already satisfied: idna<3,>=2.5 in /usr/local/lib/python3.7/dist-packages (from requests->transformers) (2.10)\n",
            "Requirement already satisfied: joblib in /usr/local/lib/python3.7/dist-packages (from sacremoses->transformers) (1.1.0)\n",
            "Requirement already satisfied: click in /usr/local/lib/python3.7/dist-packages (from sacremoses->transformers) (7.1.2)\n",
            "Requirement already satisfied: six in /usr/local/lib/python3.7/dist-packages (from sacremoses->transformers) (1.15.0)\n",
            "Installing collected packages: pyyaml, tokenizers, sacremoses, huggingface-hub, transformers\n",
            "  Attempting uninstall: pyyaml\n",
            "    Found existing installation: PyYAML 3.13\n",
            "    Uninstalling PyYAML-3.13:\n",
            "      Successfully uninstalled PyYAML-3.13\n",
            "Successfully installed huggingface-hub-0.1.2 pyyaml-6.0 sacremoses-0.0.46 tokenizers-0.10.3 transformers-4.12.5\n"
          ]
        }
      ]
    },
    {
      "cell_type": "code",
      "metadata": {
        "id": "q48t3LIuhaD7"
      },
      "source": [
        "\n",
        "import pandas as pd\n",
        "import math\n",
        "import numpy as np\n",
        "from seqeval.metrics import f1_score\n",
        "from seqeval.metrics import classification_report,accuracy_score,f1_score\n",
        "import torch.nn.functional as F"
      ],
      "execution_count": null,
      "outputs": []
    },
    {
      "cell_type": "code",
      "metadata": {
        "id": "2i0XJGGiheTl"
      },
      "source": [
        "import torch\n",
        "import os\n",
        "from tqdm import tqdm,trange\n",
        "from torch.optim import Adam\n",
        "from torch.utils.data import TensorDataset, DataLoader, RandomSampler, SequentialSampler\n",
        "from keras.preprocessing.sequence import pad_sequences\n",
        "from sklearn.model_selection import train_test_split\n",
        "from transformers import BertTokenizer, BertConfig\n",
        "from transformers import BertForTokenClassification, AdamW"
      ],
      "execution_count": null,
      "outputs": []
    },
    {
      "cell_type": "code",
      "metadata": {
        "colab": {
          "base_uri": "https://localhost:8080/"
        },
        "id": "3fVFqhmViAwO",
        "outputId": "8ef912fd-a98b-4700-f062-f13a27572020"
      },
      "source": [
        "!pip list | grep -E 'transformers|torch|Keras'"
      ],
      "execution_count": null,
      "outputs": [
        {
          "output_type": "stream",
          "name": "stdout",
          "text": [
            "Keras-Preprocessing           1.1.2\n",
            "torch                         1.10.0+cu111\n",
            "torchaudio                    0.10.0+cu111\n",
            "torchsummary                  1.5.1\n",
            "torchtext                     0.11.0\n",
            "torchvision                   0.11.1+cu111\n",
            "transformers                  4.12.5\n"
          ]
        }
      ]
    },
    {
      "cell_type": "code",
      "metadata": {
        "id": "mnt0ugMuiLuF"
      },
      "source": [
        "# load data"
      ],
      "execution_count": null,
      "outputs": []
    },
    {
      "cell_type": "code",
      "metadata": {
        "colab": {
          "base_uri": "https://localhost:8080/"
        },
        "id": "6doN4dj2iVct",
        "outputId": "cd5e58bc-6c5c-4bb8-87e3-7957ba7fba8a"
      },
      "source": [
        "from google.colab import drive\n",
        "drive.mount('/content/drive')\n",
        "import numpy as np\n",
        "import pandas as pd\n",
        "df = pd.read_csv('/content/drive/MyDrive/BERT/NER Corpus/Tamil.csv')"
      ],
      "execution_count": null,
      "outputs": [
        {
          "output_type": "stream",
          "name": "stdout",
          "text": [
            "Drive already mounted at /content/drive; to attempt to forcibly remount, call drive.mount(\"/content/drive\", force_remount=True).\n"
          ]
        }
      ]
    },
    {
      "cell_type": "code",
      "metadata": {
        "colab": {
          "base_uri": "https://localhost:8080/",
          "height": 423
        },
        "id": "b_twPUhniV51",
        "outputId": "024f4c5c-9bc2-4a8e-f732-bef2ed687820"
      },
      "source": [
        "df"
      ],
      "execution_count": null,
      "outputs": [
        {
          "output_type": "execute_result",
          "data": {
            "text/html": [
              "<div>\n",
              "<style scoped>\n",
              "    .dataframe tbody tr th:only-of-type {\n",
              "        vertical-align: middle;\n",
              "    }\n",
              "\n",
              "    .dataframe tbody tr th {\n",
              "        vertical-align: top;\n",
              "    }\n",
              "\n",
              "    .dataframe thead th {\n",
              "        text-align: right;\n",
              "    }\n",
              "</style>\n",
              "<table border=\"1\" class=\"dataframe\">\n",
              "  <thead>\n",
              "    <tr style=\"text-align: right;\">\n",
              "      <th></th>\n",
              "      <th>Unnamed: 0</th>\n",
              "      <th>word</th>\n",
              "      <th>T1</th>\n",
              "      <th>T2</th>\n",
              "      <th>T3</th>\n",
              "      <th>T4</th>\n",
              "      <th>T5</th>\n",
              "    </tr>\n",
              "  </thead>\n",
              "  <tbody>\n",
              "    <tr>\n",
              "      <th>0</th>\n",
              "      <td>0</td>\n",
              "      <td>'</td>\n",
              "      <td>SYM</td>\n",
              "      <td>I-NP</td>\n",
              "      <td>o</td>\n",
              "      <td>o</td>\n",
              "      <td>o</td>\n",
              "    </tr>\n",
              "    <tr>\n",
              "      <th>1</th>\n",
              "      <td>1</td>\n",
              "      <td>'அடிமைமுறை</td>\n",
              "      <td>NNP</td>\n",
              "      <td>I-NP</td>\n",
              "      <td>o</td>\n",
              "      <td>o</td>\n",
              "      <td>o</td>\n",
              "    </tr>\n",
              "    <tr>\n",
              "      <th>2</th>\n",
              "      <td>2</td>\n",
              "      <td>'</td>\n",
              "      <td>SYM</td>\n",
              "      <td>I-NP</td>\n",
              "      <td>o</td>\n",
              "      <td>o</td>\n",
              "      <td>o</td>\n",
              "    </tr>\n",
              "    <tr>\n",
              "      <th>3</th>\n",
              "      <td>3</td>\n",
              "      <td>'</td>\n",
              "      <td>SYM</td>\n",
              "      <td>I-NP</td>\n",
              "      <td>o</td>\n",
              "      <td>o</td>\n",
              "      <td>o</td>\n",
              "    </tr>\n",
              "    <tr>\n",
              "      <th>4</th>\n",
              "      <td>4</td>\n",
              "      <td>'</td>\n",
              "      <td>SYM</td>\n",
              "      <td>I-NP</td>\n",
              "      <td>o</td>\n",
              "      <td>o</td>\n",
              "      <td>o</td>\n",
              "    </tr>\n",
              "    <tr>\n",
              "      <th>...</th>\n",
              "      <td>...</td>\n",
              "      <td>...</td>\n",
              "      <td>...</td>\n",
              "      <td>...</td>\n",
              "      <td>...</td>\n",
              "      <td>...</td>\n",
              "      <td>...</td>\n",
              "    </tr>\n",
              "    <tr>\n",
              "      <th>94306</th>\n",
              "      <td>94306</td>\n",
              "      <td>லித்தியத்தின்</td>\n",
              "      <td>NN</td>\n",
              "      <td>B-NP</td>\n",
              "      <td>B-MATERIALS</td>\n",
              "      <td>B-CHEMICAL</td>\n",
              "      <td>o</td>\n",
              "    </tr>\n",
              "    <tr>\n",
              "      <th>94307</th>\n",
              "      <td>94307</td>\n",
              "      <td>செழுமையை</td>\n",
              "      <td>NN</td>\n",
              "      <td>B-NP</td>\n",
              "      <td>o</td>\n",
              "      <td>o</td>\n",
              "      <td>o</td>\n",
              "    </tr>\n",
              "    <tr>\n",
              "      <th>94308</th>\n",
              "      <td>94308</td>\n",
              "      <td>மதிப்பிட</td>\n",
              "      <td>VM</td>\n",
              "      <td>B-VGNF</td>\n",
              "      <td>o</td>\n",
              "      <td>o</td>\n",
              "      <td>o</td>\n",
              "    </tr>\n",
              "    <tr>\n",
              "      <th>94309</th>\n",
              "      <td>94309</td>\n",
              "      <td>முடியும்</td>\n",
              "      <td>VAUX</td>\n",
              "      <td>B-VGF</td>\n",
              "      <td>o</td>\n",
              "      <td>o</td>\n",
              "      <td>o</td>\n",
              "    </tr>\n",
              "    <tr>\n",
              "      <th>94310</th>\n",
              "      <td>94310</td>\n",
              "      <td>.</td>\n",
              "      <td>SYM</td>\n",
              "      <td>I-VGF</td>\n",
              "      <td>o</td>\n",
              "      <td>o</td>\n",
              "      <td>o</td>\n",
              "    </tr>\n",
              "  </tbody>\n",
              "</table>\n",
              "<p>94311 rows × 7 columns</p>\n",
              "</div>"
            ],
            "text/plain": [
              "       Unnamed: 0           word    T1      T2           T3          T4 T5\n",
              "0               0              '   SYM    I-NP            o           o  o\n",
              "1               1     'அடிமைமுறை   NNP    I-NP            o           o  o\n",
              "2               2              '   SYM    I-NP            o           o  o\n",
              "3               3              '   SYM    I-NP            o           o  o\n",
              "4               4              '   SYM    I-NP            o           o  o\n",
              "...           ...            ...   ...     ...          ...         ... ..\n",
              "94306       94306  லித்தியத்தின்    NN    B-NP  B-MATERIALS  B-CHEMICAL  o\n",
              "94307       94307       செழுமையை    NN    B-NP            o           o  o\n",
              "94308       94308       மதிப்பிட    VM  B-VGNF            o           o  o\n",
              "94309       94309       முடியும்  VAUX   B-VGF            o           o  o\n",
              "94310       94310              .   SYM   I-VGF            o           o  o\n",
              "\n",
              "[94311 rows x 7 columns]"
            ]
          },
          "metadata": {},
          "execution_count": 8
        }
      ]
    },
    {
      "cell_type": "code",
      "metadata": {
        "id": "Pho99BIPiW_1"
      },
      "source": [
        "sentence_id = []\n",
        "words = df['word']\n",
        "sentence = 1\n",
        "for word in words:\n",
        "  sentence_id.append(sentence)\n",
        "  if(word=='.'):\n",
        "    sentence += 1"
      ],
      "execution_count": null,
      "outputs": []
    },
    {
      "cell_type": "code",
      "metadata": {
        "colab": {
          "base_uri": "https://localhost:8080/",
          "height": 1000
        },
        "id": "qGrNG7NBidTo",
        "outputId": "143981b5-dd69-4a8b-f0eb-13cd1247b276"
      },
      "source": [
        "df.insert(1,'Sentence ID',sentence_id,allow_duplicates=True)\n",
        "df.head(50)"
      ],
      "execution_count": null,
      "outputs": [
        {
          "output_type": "execute_result",
          "data": {
            "text/html": [
              "<div>\n",
              "<style scoped>\n",
              "    .dataframe tbody tr th:only-of-type {\n",
              "        vertical-align: middle;\n",
              "    }\n",
              "\n",
              "    .dataframe tbody tr th {\n",
              "        vertical-align: top;\n",
              "    }\n",
              "\n",
              "    .dataframe thead th {\n",
              "        text-align: right;\n",
              "    }\n",
              "</style>\n",
              "<table border=\"1\" class=\"dataframe\">\n",
              "  <thead>\n",
              "    <tr style=\"text-align: right;\">\n",
              "      <th></th>\n",
              "      <th>Unnamed: 0</th>\n",
              "      <th>Sentence ID</th>\n",
              "      <th>word</th>\n",
              "      <th>T1</th>\n",
              "      <th>T2</th>\n",
              "      <th>T3</th>\n",
              "      <th>T4</th>\n",
              "      <th>T5</th>\n",
              "    </tr>\n",
              "  </thead>\n",
              "  <tbody>\n",
              "    <tr>\n",
              "      <th>0</th>\n",
              "      <td>0</td>\n",
              "      <td>1</td>\n",
              "      <td>'</td>\n",
              "      <td>SYM</td>\n",
              "      <td>I-NP</td>\n",
              "      <td>o</td>\n",
              "      <td>o</td>\n",
              "      <td>o</td>\n",
              "    </tr>\n",
              "    <tr>\n",
              "      <th>1</th>\n",
              "      <td>1</td>\n",
              "      <td>1</td>\n",
              "      <td>'அடிமைமுறை</td>\n",
              "      <td>NNP</td>\n",
              "      <td>I-NP</td>\n",
              "      <td>o</td>\n",
              "      <td>o</td>\n",
              "      <td>o</td>\n",
              "    </tr>\n",
              "    <tr>\n",
              "      <th>2</th>\n",
              "      <td>2</td>\n",
              "      <td>1</td>\n",
              "      <td>'</td>\n",
              "      <td>SYM</td>\n",
              "      <td>I-NP</td>\n",
              "      <td>o</td>\n",
              "      <td>o</td>\n",
              "      <td>o</td>\n",
              "    </tr>\n",
              "    <tr>\n",
              "      <th>3</th>\n",
              "      <td>3</td>\n",
              "      <td>1</td>\n",
              "      <td>'</td>\n",
              "      <td>SYM</td>\n",
              "      <td>I-NP</td>\n",
              "      <td>o</td>\n",
              "      <td>o</td>\n",
              "      <td>o</td>\n",
              "    </tr>\n",
              "    <tr>\n",
              "      <th>4</th>\n",
              "      <td>4</td>\n",
              "      <td>1</td>\n",
              "      <td>'</td>\n",
              "      <td>SYM</td>\n",
              "      <td>I-NP</td>\n",
              "      <td>o</td>\n",
              "      <td>o</td>\n",
              "      <td>o</td>\n",
              "    </tr>\n",
              "    <tr>\n",
              "      <th>5</th>\n",
              "      <td>5</td>\n",
              "      <td>1</td>\n",
              "      <td>என்பது</td>\n",
              "      <td>UT</td>\n",
              "      <td>B-BLK</td>\n",
              "      <td>o</td>\n",
              "      <td>o</td>\n",
              "      <td>o</td>\n",
              "    </tr>\n",
              "    <tr>\n",
              "      <th>6</th>\n",
              "      <td>6</td>\n",
              "      <td>1</td>\n",
              "      <td>வலுக்கட்டாயமாக</td>\n",
              "      <td>RB</td>\n",
              "      <td>B-RBP</td>\n",
              "      <td>o</td>\n",
              "      <td>o</td>\n",
              "      <td>o</td>\n",
              "    </tr>\n",
              "    <tr>\n",
              "      <th>7</th>\n",
              "      <td>7</td>\n",
              "      <td>1</td>\n",
              "      <td>மனிதர்களைப்</td>\n",
              "      <td>NN</td>\n",
              "      <td>B-NP</td>\n",
              "      <td>o</td>\n",
              "      <td>o</td>\n",
              "      <td>o</td>\n",
              "    </tr>\n",
              "    <tr>\n",
              "      <th>8</th>\n",
              "      <td>8</td>\n",
              "      <td>1</td>\n",
              "      <td>பிற</td>\n",
              "      <td>JJ</td>\n",
              "      <td>B-NP</td>\n",
              "      <td>o</td>\n",
              "      <td>o</td>\n",
              "      <td>o</td>\n",
              "    </tr>\n",
              "    <tr>\n",
              "      <th>9</th>\n",
              "      <td>9</td>\n",
              "      <td>1</td>\n",
              "      <td>மனிதர்கள்</td>\n",
              "      <td>NN</td>\n",
              "      <td>I-NP</td>\n",
              "      <td>o</td>\n",
              "      <td>o</td>\n",
              "      <td>o</td>\n",
              "    </tr>\n",
              "    <tr>\n",
              "      <th>10</th>\n",
              "      <td>10</td>\n",
              "      <td>1</td>\n",
              "      <td>பிடித்து</td>\n",
              "      <td>VM</td>\n",
              "      <td>B-VGNF</td>\n",
              "      <td>o</td>\n",
              "      <td>o</td>\n",
              "      <td>o</td>\n",
              "    </tr>\n",
              "    <tr>\n",
              "      <th>11</th>\n",
              "      <td>11</td>\n",
              "      <td>1</td>\n",
              "      <td>வைத்து</td>\n",
              "      <td>VM</td>\n",
              "      <td>B-VGNF</td>\n",
              "      <td>o</td>\n",
              "      <td>o</td>\n",
              "      <td>o</td>\n",
              "    </tr>\n",
              "    <tr>\n",
              "      <th>12</th>\n",
              "      <td>12</td>\n",
              "      <td>1</td>\n",
              "      <td>,</td>\n",
              "      <td>SYM</td>\n",
              "      <td>I-VGNF</td>\n",
              "      <td>o</td>\n",
              "      <td>o</td>\n",
              "      <td>o</td>\n",
              "    </tr>\n",
              "    <tr>\n",
              "      <th>13</th>\n",
              "      <td>13</td>\n",
              "      <td>1</td>\n",
              "      <td>அவர்களிடமிருந்து</td>\n",
              "      <td>PRP</td>\n",
              "      <td>B-NP</td>\n",
              "      <td>o</td>\n",
              "      <td>o</td>\n",
              "      <td>o</td>\n",
              "    </tr>\n",
              "    <tr>\n",
              "      <th>14</th>\n",
              "      <td>14</td>\n",
              "      <td>1</td>\n",
              "      <td>வேலையை</td>\n",
              "      <td>NN</td>\n",
              "      <td>B-NP</td>\n",
              "      <td>o</td>\n",
              "      <td>o</td>\n",
              "      <td>o</td>\n",
              "    </tr>\n",
              "    <tr>\n",
              "      <th>15</th>\n",
              "      <td>15</td>\n",
              "      <td>1</td>\n",
              "      <td>கட்டாயமாக</td>\n",
              "      <td>RB</td>\n",
              "      <td>B-RBP</td>\n",
              "      <td>o</td>\n",
              "      <td>o</td>\n",
              "      <td>o</td>\n",
              "    </tr>\n",
              "    <tr>\n",
              "      <th>16</th>\n",
              "      <td>16</td>\n",
              "      <td>1</td>\n",
              "      <td>வாங்குவதாகும்</td>\n",
              "      <td>VM</td>\n",
              "      <td>B-VGF</td>\n",
              "      <td>o</td>\n",
              "      <td>o</td>\n",
              "      <td>o</td>\n",
              "    </tr>\n",
              "    <tr>\n",
              "      <th>17</th>\n",
              "      <td>17</td>\n",
              "      <td>1</td>\n",
              "      <td>.</td>\n",
              "      <td>SYM</td>\n",
              "      <td>I-VGF</td>\n",
              "      <td>o</td>\n",
              "      <td>o</td>\n",
              "      <td>o</td>\n",
              "    </tr>\n",
              "    <tr>\n",
              "      <th>18</th>\n",
              "      <td>18</td>\n",
              "      <td>2</td>\n",
              "      <td>இம்முறை</td>\n",
              "      <td>NN</td>\n",
              "      <td>B-NP</td>\n",
              "      <td>o</td>\n",
              "      <td>o</td>\n",
              "      <td>o</td>\n",
              "    </tr>\n",
              "    <tr>\n",
              "      <th>19</th>\n",
              "      <td>19</td>\n",
              "      <td>2</td>\n",
              "      <td>நெடுங்காலமாக</td>\n",
              "      <td>RB</td>\n",
              "      <td>B-RBP</td>\n",
              "      <td>o</td>\n",
              "      <td>o</td>\n",
              "      <td>o</td>\n",
              "    </tr>\n",
              "    <tr>\n",
              "      <th>20</th>\n",
              "      <td>20</td>\n",
              "      <td>2</td>\n",
              "      <td>பல</td>\n",
              "      <td>QF</td>\n",
              "      <td>B-NP</td>\n",
              "      <td>o</td>\n",
              "      <td>o</td>\n",
              "      <td>o</td>\n",
              "    </tr>\n",
              "    <tr>\n",
              "      <th>21</th>\n",
              "      <td>21</td>\n",
              "      <td>2</td>\n",
              "      <td>நாடுகளில்</td>\n",
              "      <td>NN</td>\n",
              "      <td>I-NP</td>\n",
              "      <td>o</td>\n",
              "      <td>o</td>\n",
              "      <td>o</td>\n",
              "    </tr>\n",
              "    <tr>\n",
              "      <th>22</th>\n",
              "      <td>22</td>\n",
              "      <td>2</td>\n",
              "      <td>வழக்கில்</td>\n",
              "      <td>NN</td>\n",
              "      <td>B-NP</td>\n",
              "      <td>o</td>\n",
              "      <td>o</td>\n",
              "      <td>o</td>\n",
              "    </tr>\n",
              "    <tr>\n",
              "      <th>23</th>\n",
              "      <td>23</td>\n",
              "      <td>2</td>\n",
              "      <td>இருந்துவந்துள்ளது</td>\n",
              "      <td>VM</td>\n",
              "      <td>B-VGF</td>\n",
              "      <td>o</td>\n",
              "      <td>o</td>\n",
              "      <td>o</td>\n",
              "    </tr>\n",
              "    <tr>\n",
              "      <th>24</th>\n",
              "      <td>24</td>\n",
              "      <td>2</td>\n",
              "      <td>.</td>\n",
              "      <td>SYM</td>\n",
              "      <td>I-VGF</td>\n",
              "      <td>o</td>\n",
              "      <td>o</td>\n",
              "      <td>o</td>\n",
              "    </tr>\n",
              "    <tr>\n",
              "      <th>25</th>\n",
              "      <td>25</td>\n",
              "      <td>3</td>\n",
              "      <td>இப்படி</td>\n",
              "      <td>RB</td>\n",
              "      <td>B-RBP</td>\n",
              "      <td>o</td>\n",
              "      <td>o</td>\n",
              "      <td>o</td>\n",
              "    </tr>\n",
              "    <tr>\n",
              "      <th>26</th>\n",
              "      <td>26</td>\n",
              "      <td>3</td>\n",
              "      <td>வலுக்கட்டாயம்</td>\n",
              "      <td>NN</td>\n",
              "      <td>B-NP</td>\n",
              "      <td>o</td>\n",
              "      <td>o</td>\n",
              "      <td>o</td>\n",
              "    </tr>\n",
              "    <tr>\n",
              "      <th>27</th>\n",
              "      <td>27</td>\n",
              "      <td>3</td>\n",
              "      <td>செய்யப்பட்ட</td>\n",
              "      <td>VM</td>\n",
              "      <td>B-VGNF</td>\n",
              "      <td>o</td>\n",
              "      <td>o</td>\n",
              "      <td>o</td>\n",
              "    </tr>\n",
              "    <tr>\n",
              "      <th>28</th>\n",
              "      <td>28</td>\n",
              "      <td>3</td>\n",
              "      <td>மனிதர்கள்</td>\n",
              "      <td>NN</td>\n",
              "      <td>B-NP</td>\n",
              "      <td>o</td>\n",
              "      <td>o</td>\n",
              "      <td>o</td>\n",
              "    </tr>\n",
              "    <tr>\n",
              "      <th>29</th>\n",
              "      <td>29</td>\n",
              "      <td>3</td>\n",
              "      <td>அவர்களுடைய</td>\n",
              "      <td>PRP</td>\n",
              "      <td>B-NP</td>\n",
              "      <td>o</td>\n",
              "      <td>o</td>\n",
              "      <td>o</td>\n",
              "    </tr>\n",
              "    <tr>\n",
              "      <th>30</th>\n",
              "      <td>30</td>\n",
              "      <td>3</td>\n",
              "      <td>முதலாளிகளால்</td>\n",
              "      <td>NN</td>\n",
              "      <td>B-NP</td>\n",
              "      <td>o</td>\n",
              "      <td>o</td>\n",
              "      <td>o</td>\n",
              "    </tr>\n",
              "    <tr>\n",
              "      <th>31</th>\n",
              "      <td>31</td>\n",
              "      <td>3</td>\n",
              "      <td>,</td>\n",
              "      <td>SYM</td>\n",
              "      <td>I-NP</td>\n",
              "      <td>o</td>\n",
              "      <td>o</td>\n",
              "      <td>o</td>\n",
              "    </tr>\n",
              "    <tr>\n",
              "      <th>32</th>\n",
              "      <td>32</td>\n",
              "      <td>3</td>\n",
              "      <td>பிற</td>\n",
              "      <td>JJ</td>\n",
              "      <td>B-NP</td>\n",
              "      <td>o</td>\n",
              "      <td>o</td>\n",
              "      <td>o</td>\n",
              "    </tr>\n",
              "    <tr>\n",
              "      <th>33</th>\n",
              "      <td>33</td>\n",
              "      <td>3</td>\n",
              "      <td>பொருட்களைப்</td>\n",
              "      <td>NN</td>\n",
              "      <td>I-NP</td>\n",
              "      <td>o</td>\n",
              "      <td>o</td>\n",
              "      <td>o</td>\n",
              "    </tr>\n",
              "    <tr>\n",
              "      <th>34</th>\n",
              "      <td>34</td>\n",
              "      <td>3</td>\n",
              "      <td>போல</td>\n",
              "      <td>RB</td>\n",
              "      <td>B-RBP</td>\n",
              "      <td>o</td>\n",
              "      <td>o</td>\n",
              "      <td>o</td>\n",
              "    </tr>\n",
              "    <tr>\n",
              "      <th>35</th>\n",
              "      <td>35</td>\n",
              "      <td>3</td>\n",
              "      <td>வாங்கி</td>\n",
              "      <td>VM</td>\n",
              "      <td>B-VGNF</td>\n",
              "      <td>o</td>\n",
              "      <td>o</td>\n",
              "      <td>o</td>\n",
              "    </tr>\n",
              "    <tr>\n",
              "      <th>36</th>\n",
              "      <td>36</td>\n",
              "      <td>3</td>\n",
              "      <td>,</td>\n",
              "      <td>SYM</td>\n",
              "      <td>I-VGNF</td>\n",
              "      <td>o</td>\n",
              "      <td>o</td>\n",
              "      <td>o</td>\n",
              "    </tr>\n",
              "    <tr>\n",
              "      <th>37</th>\n",
              "      <td>37</td>\n",
              "      <td>3</td>\n",
              "      <td>விற்கப்பட்டனர்</td>\n",
              "      <td>VM</td>\n",
              "      <td>B-VGF</td>\n",
              "      <td>o</td>\n",
              "      <td>o</td>\n",
              "      <td>o</td>\n",
              "    </tr>\n",
              "    <tr>\n",
              "      <th>38</th>\n",
              "      <td>38</td>\n",
              "      <td>3</td>\n",
              "      <td>.</td>\n",
              "      <td>SYM</td>\n",
              "      <td>I-VGF</td>\n",
              "      <td>o</td>\n",
              "      <td>o</td>\n",
              "      <td>o</td>\n",
              "    </tr>\n",
              "    <tr>\n",
              "      <th>39</th>\n",
              "      <td>39</td>\n",
              "      <td>4</td>\n",
              "      <td>இது</td>\n",
              "      <td>PRP</td>\n",
              "      <td>B-NP</td>\n",
              "      <td>o</td>\n",
              "      <td>o</td>\n",
              "      <td>o</td>\n",
              "    </tr>\n",
              "    <tr>\n",
              "      <th>40</th>\n",
              "      <td>40</td>\n",
              "      <td>4</td>\n",
              "      <td>ஒரு</td>\n",
              "      <td>QC</td>\n",
              "      <td>I-NP</td>\n",
              "      <td>o</td>\n",
              "      <td>o</td>\n",
              "      <td>o</td>\n",
              "    </tr>\n",
              "    <tr>\n",
              "      <th>41</th>\n",
              "      <td>41</td>\n",
              "      <td>4</td>\n",
              "      <td>மிகவும்</td>\n",
              "      <td>RB</td>\n",
              "      <td>B-RBP</td>\n",
              "      <td>o</td>\n",
              "      <td>o</td>\n",
              "      <td>o</td>\n",
              "    </tr>\n",
              "    <tr>\n",
              "      <th>42</th>\n",
              "      <td>42</td>\n",
              "      <td>4</td>\n",
              "      <td>இழிவான</td>\n",
              "      <td>JJ</td>\n",
              "      <td>B-NP</td>\n",
              "      <td>o</td>\n",
              "      <td>o</td>\n",
              "      <td>o</td>\n",
              "    </tr>\n",
              "    <tr>\n",
              "      <th>43</th>\n",
              "      <td>43</td>\n",
              "      <td>4</td>\n",
              "      <td>முறை</td>\n",
              "      <td>NN</td>\n",
              "      <td>I-NP</td>\n",
              "      <td>o</td>\n",
              "      <td>o</td>\n",
              "      <td>o</td>\n",
              "    </tr>\n",
              "    <tr>\n",
              "      <th>44</th>\n",
              "      <td>44</td>\n",
              "      <td>4</td>\n",
              "      <td>என</td>\n",
              "      <td>UT</td>\n",
              "      <td>B-BLK</td>\n",
              "      <td>o</td>\n",
              "      <td>o</td>\n",
              "      <td>o</td>\n",
              "    </tr>\n",
              "    <tr>\n",
              "      <th>45</th>\n",
              "      <td>45</td>\n",
              "      <td>4</td>\n",
              "      <td>19</td>\n",
              "      <td>QC</td>\n",
              "      <td>B-NP</td>\n",
              "      <td>B-PERIOD</td>\n",
              "      <td>o</td>\n",
              "      <td>o</td>\n",
              "    </tr>\n",
              "    <tr>\n",
              "      <th>46</th>\n",
              "      <td>46</td>\n",
              "      <td>4</td>\n",
              "      <td>-</td>\n",
              "      <td>SYM</td>\n",
              "      <td>I-NP</td>\n",
              "      <td>I-PERIOD</td>\n",
              "      <td>o</td>\n",
              "      <td>o</td>\n",
              "    </tr>\n",
              "    <tr>\n",
              "      <th>47</th>\n",
              "      <td>47</td>\n",
              "      <td>4</td>\n",
              "      <td>20</td>\n",
              "      <td>QC</td>\n",
              "      <td>I-NP</td>\n",
              "      <td>I-PERIOD</td>\n",
              "      <td>o</td>\n",
              "      <td>o</td>\n",
              "    </tr>\n",
              "    <tr>\n",
              "      <th>48</th>\n",
              "      <td>48</td>\n",
              "      <td>4</td>\n",
              "      <td>ஆம்</td>\n",
              "      <td>QO</td>\n",
              "      <td>I-NP</td>\n",
              "      <td>o</td>\n",
              "      <td>o</td>\n",
              "      <td>o</td>\n",
              "    </tr>\n",
              "    <tr>\n",
              "      <th>49</th>\n",
              "      <td>49</td>\n",
              "      <td>4</td>\n",
              "      <td>நூற்றாண்டுகளில்</td>\n",
              "      <td>NN</td>\n",
              "      <td>I-NP</td>\n",
              "      <td>o</td>\n",
              "      <td>o</td>\n",
              "      <td>o</td>\n",
              "    </tr>\n",
              "  </tbody>\n",
              "</table>\n",
              "</div>"
            ],
            "text/plain": [
              "    Unnamed: 0  Sentence ID               word   T1      T2        T3 T4 T5\n",
              "0            0            1                  '  SYM    I-NP         o  o  o\n",
              "1            1            1         'அடிமைமுறை  NNP    I-NP         o  o  o\n",
              "2            2            1                  '  SYM    I-NP         o  o  o\n",
              "3            3            1                  '  SYM    I-NP         o  o  o\n",
              "4            4            1                  '  SYM    I-NP         o  o  o\n",
              "5            5            1             என்பது   UT   B-BLK         o  o  o\n",
              "6            6            1     வலுக்கட்டாயமாக   RB   B-RBP         o  o  o\n",
              "7            7            1        மனிதர்களைப்   NN    B-NP         o  o  o\n",
              "8            8            1                பிற   JJ    B-NP         o  o  o\n",
              "9            9            1          மனிதர்கள்   NN    I-NP         o  o  o\n",
              "10          10            1           பிடித்து   VM  B-VGNF         o  o  o\n",
              "11          11            1             வைத்து   VM  B-VGNF         o  o  o\n",
              "12          12            1                  ,  SYM  I-VGNF         o  o  o\n",
              "13          13            1   அவர்களிடமிருந்து  PRP    B-NP         o  o  o\n",
              "14          14            1             வேலையை   NN    B-NP         o  o  o\n",
              "15          15            1          கட்டாயமாக   RB   B-RBP         o  o  o\n",
              "16          16            1      வாங்குவதாகும்   VM   B-VGF         o  o  o\n",
              "17          17            1                  .  SYM   I-VGF         o  o  o\n",
              "18          18            2            இம்முறை   NN    B-NP         o  o  o\n",
              "19          19            2       நெடுங்காலமாக   RB   B-RBP         o  o  o\n",
              "20          20            2                 பல   QF    B-NP         o  o  o\n",
              "21          21            2          நாடுகளில்   NN    I-NP         o  o  o\n",
              "22          22            2           வழக்கில்   NN    B-NP         o  o  o\n",
              "23          23            2  இருந்துவந்துள்ளது   VM   B-VGF         o  o  o\n",
              "24          24            2                  .  SYM   I-VGF         o  o  o\n",
              "25          25            3             இப்படி   RB   B-RBP         o  o  o\n",
              "26          26            3      வலுக்கட்டாயம்   NN    B-NP         o  o  o\n",
              "27          27            3        செய்யப்பட்ட   VM  B-VGNF         o  o  o\n",
              "28          28            3          மனிதர்கள்   NN    B-NP         o  o  o\n",
              "29          29            3         அவர்களுடைய  PRP    B-NP         o  o  o\n",
              "30          30            3       முதலாளிகளால்   NN    B-NP         o  o  o\n",
              "31          31            3                  ,  SYM    I-NP         o  o  o\n",
              "32          32            3                பிற   JJ    B-NP         o  o  o\n",
              "33          33            3        பொருட்களைப்   NN    I-NP         o  o  o\n",
              "34          34            3                போல   RB   B-RBP         o  o  o\n",
              "35          35            3             வாங்கி   VM  B-VGNF         o  o  o\n",
              "36          36            3                  ,  SYM  I-VGNF         o  o  o\n",
              "37          37            3     விற்கப்பட்டனர்   VM   B-VGF         o  o  o\n",
              "38          38            3                  .  SYM   I-VGF         o  o  o\n",
              "39          39            4                இது  PRP    B-NP         o  o  o\n",
              "40          40            4                ஒரு   QC    I-NP         o  o  o\n",
              "41          41            4            மிகவும்   RB   B-RBP         o  o  o\n",
              "42          42            4             இழிவான   JJ    B-NP         o  o  o\n",
              "43          43            4               முறை   NN    I-NP         o  o  o\n",
              "44          44            4                 என   UT   B-BLK         o  o  o\n",
              "45          45            4                 19   QC    B-NP  B-PERIOD  o  o\n",
              "46          46            4                  -  SYM    I-NP  I-PERIOD  o  o\n",
              "47          47            4                 20   QC    I-NP  I-PERIOD  o  o\n",
              "48          48            4                ஆம்   QO    I-NP         o  o  o\n",
              "49          49            4    நூற்றாண்டுகளில்   NN    I-NP         o  o  o"
            ]
          },
          "metadata": {},
          "execution_count": 10
        }
      ]
    },
    {
      "cell_type": "code",
      "metadata": {
        "colab": {
          "base_uri": "https://localhost:8080/",
          "height": 510
        },
        "id": "bcEK4O6ziiJN",
        "outputId": "b19cb309-276d-4fe3-e61f-8d529a6590ce"
      },
      "source": [
        "hindi = pd.DataFrame()\n",
        "hindi = df[['Sentence ID','word','T2','T3']]\n",
        "hindi.rename(columns={'Sentence ID': 'Sentence', 'T2': 'POS','T3':'TAG'}, inplace=True)\n",
        "hindi"
      ],
      "execution_count": null,
      "outputs": [
        {
          "output_type": "stream",
          "name": "stderr",
          "text": [
            "/usr/local/lib/python3.7/dist-packages/pandas/core/frame.py:4308: SettingWithCopyWarning: \n",
            "A value is trying to be set on a copy of a slice from a DataFrame\n",
            "\n",
            "See the caveats in the documentation: https://pandas.pydata.org/pandas-docs/stable/user_guide/indexing.html#returning-a-view-versus-a-copy\n",
            "  errors=errors,\n"
          ]
        },
        {
          "output_type": "execute_result",
          "data": {
            "text/html": [
              "<div>\n",
              "<style scoped>\n",
              "    .dataframe tbody tr th:only-of-type {\n",
              "        vertical-align: middle;\n",
              "    }\n",
              "\n",
              "    .dataframe tbody tr th {\n",
              "        vertical-align: top;\n",
              "    }\n",
              "\n",
              "    .dataframe thead th {\n",
              "        text-align: right;\n",
              "    }\n",
              "</style>\n",
              "<table border=\"1\" class=\"dataframe\">\n",
              "  <thead>\n",
              "    <tr style=\"text-align: right;\">\n",
              "      <th></th>\n",
              "      <th>Sentence</th>\n",
              "      <th>word</th>\n",
              "      <th>POS</th>\n",
              "      <th>TAG</th>\n",
              "    </tr>\n",
              "  </thead>\n",
              "  <tbody>\n",
              "    <tr>\n",
              "      <th>0</th>\n",
              "      <td>1</td>\n",
              "      <td>'</td>\n",
              "      <td>I-NP</td>\n",
              "      <td>o</td>\n",
              "    </tr>\n",
              "    <tr>\n",
              "      <th>1</th>\n",
              "      <td>1</td>\n",
              "      <td>'அடிமைமுறை</td>\n",
              "      <td>I-NP</td>\n",
              "      <td>o</td>\n",
              "    </tr>\n",
              "    <tr>\n",
              "      <th>2</th>\n",
              "      <td>1</td>\n",
              "      <td>'</td>\n",
              "      <td>I-NP</td>\n",
              "      <td>o</td>\n",
              "    </tr>\n",
              "    <tr>\n",
              "      <th>3</th>\n",
              "      <td>1</td>\n",
              "      <td>'</td>\n",
              "      <td>I-NP</td>\n",
              "      <td>o</td>\n",
              "    </tr>\n",
              "    <tr>\n",
              "      <th>4</th>\n",
              "      <td>1</td>\n",
              "      <td>'</td>\n",
              "      <td>I-NP</td>\n",
              "      <td>o</td>\n",
              "    </tr>\n",
              "    <tr>\n",
              "      <th>...</th>\n",
              "      <td>...</td>\n",
              "      <td>...</td>\n",
              "      <td>...</td>\n",
              "      <td>...</td>\n",
              "    </tr>\n",
              "    <tr>\n",
              "      <th>94306</th>\n",
              "      <td>6345</td>\n",
              "      <td>லித்தியத்தின்</td>\n",
              "      <td>B-NP</td>\n",
              "      <td>B-MATERIALS</td>\n",
              "    </tr>\n",
              "    <tr>\n",
              "      <th>94307</th>\n",
              "      <td>6345</td>\n",
              "      <td>செழுமையை</td>\n",
              "      <td>B-NP</td>\n",
              "      <td>o</td>\n",
              "    </tr>\n",
              "    <tr>\n",
              "      <th>94308</th>\n",
              "      <td>6345</td>\n",
              "      <td>மதிப்பிட</td>\n",
              "      <td>B-VGNF</td>\n",
              "      <td>o</td>\n",
              "    </tr>\n",
              "    <tr>\n",
              "      <th>94309</th>\n",
              "      <td>6345</td>\n",
              "      <td>முடியும்</td>\n",
              "      <td>B-VGF</td>\n",
              "      <td>o</td>\n",
              "    </tr>\n",
              "    <tr>\n",
              "      <th>94310</th>\n",
              "      <td>6345</td>\n",
              "      <td>.</td>\n",
              "      <td>I-VGF</td>\n",
              "      <td>o</td>\n",
              "    </tr>\n",
              "  </tbody>\n",
              "</table>\n",
              "<p>94311 rows × 4 columns</p>\n",
              "</div>"
            ],
            "text/plain": [
              "       Sentence           word     POS          TAG\n",
              "0             1              '    I-NP            o\n",
              "1             1     'அடிமைமுறை    I-NP            o\n",
              "2             1              '    I-NP            o\n",
              "3             1              '    I-NP            o\n",
              "4             1              '    I-NP            o\n",
              "...         ...            ...     ...          ...\n",
              "94306      6345  லித்தியத்தின்    B-NP  B-MATERIALS\n",
              "94307      6345       செழுமையை    B-NP            o\n",
              "94308      6345       மதிப்பிட  B-VGNF            o\n",
              "94309      6345       முடியும்   B-VGF            o\n",
              "94310      6345              .   I-VGF            o\n",
              "\n",
              "[94311 rows x 4 columns]"
            ]
          },
          "metadata": {},
          "execution_count": 11
        }
      ]
    },
    {
      "cell_type": "code",
      "metadata": {
        "colab": {
          "base_uri": "https://localhost:8080/"
        },
        "id": "geOv2eLukUdF",
        "outputId": "2b7af985-eaf7-479e-ef2c-557d754805cd"
      },
      "source": [
        "hindi.POS.unique()"
      ],
      "execution_count": null,
      "outputs": [
        {
          "output_type": "execute_result",
          "data": {
            "text/plain": [
              "array(['I-NP', 'B-BLK', 'B-RBP', 'B-NP', 'B-VGNF', 'I-VGNF', 'B-VGF',\n",
              "       'I-VGF', 'I-RBP', 'o', 'B-VGINF', 'B-NEGP', 'I-NEGP', 'B-VGNN',\n",
              "       'I-VGNN', 'B-JJP', 'B-CCP', 'I-CCP', 'I-BLK', 'NP', 'I-JJP',\n",
              "       'I-VGINF', 'VGF'], dtype=object)"
            ]
          },
          "metadata": {},
          "execution_count": 12
        }
      ]
    },
    {
      "cell_type": "code",
      "metadata": {
        "colab": {
          "base_uri": "https://localhost:8080/"
        },
        "id": "BKH_DL8ylH0_",
        "outputId": "4bfe6474-0250-469e-bcdb-3518643bcaa8"
      },
      "source": [
        "hindi.TAG.unique()"
      ],
      "execution_count": null,
      "outputs": [
        {
          "output_type": "execute_result",
          "data": {
            "text/plain": [
              "array(['o', 'B-PERIOD', 'I-PERIOD', 'B-COUNT', 'B-LOCATION', 'B-PERSON',\n",
              "       'B-YEAR', 'I-PERSON', 'I-COUNT', 'B-ORGANIZATION',\n",
              "       'I-ORGANIZATION', 'I-YEAR', 'I-LOCATION', 'B-DISTANCE',\n",
              "       'B-ARTIFACT', 'B-PLANTS', 'B-MATERIALS', 'B-LOCOMOTIVE',\n",
              "       'B-QUANTITY', 'I-QUANTITY', 'B-MONEY', 'I-MONEY', 'I-ARTIFACT',\n",
              "       'B-FACILITIES', 'I-FACILITIES', 'B-LIVTHINGS', 'I-DISTANCE',\n",
              "       'B-MONTH', 'I-MONTH', 'B-ENTERTAINMENT', 'I-ENTERTAINMENT',\n",
              "       'B-SDAY', 'B-TIME', 'I-TIME', 'B-DATE', 'I-DATE', 'B-DAY',\n",
              "       'I-PLANTS', 'I-SDAY', 'I-DAY', 'I-MATERIALS', 'B-DISEASE',\n",
              "       'I-DISEASE', 'I-LIVTHINGS', 'B-ENAMEX', 'I-ENAMEX', 'I-LOCOMOTIVE'],\n",
              "      dtype=object)"
            ]
          },
          "metadata": {},
          "execution_count": 13
        }
      ]
    },
    {
      "cell_type": "code",
      "metadata": {
        "colab": {
          "base_uri": "https://localhost:8080/"
        },
        "id": "rx6nKeeOlO7A",
        "outputId": "d2f5259b-0efb-4afe-9f73-25d5182bf21d"
      },
      "source": [
        "hindi['Sentence'].nunique(), hindi.word.nunique(), hindi.POS.nunique(), hindi.TAG.nunique()"
      ],
      "execution_count": null,
      "outputs": [
        {
          "output_type": "execute_result",
          "data": {
            "text/plain": [
              "(6345, 31265, 23, 47)"
            ]
          },
          "metadata": {},
          "execution_count": 14
        }
      ]
    },
    {
      "cell_type": "code",
      "metadata": {
        "colab": {
          "base_uri": "https://localhost:8080/"
        },
        "id": "d36F0slkmyv3",
        "outputId": "e38ba1a1-b192-45db-cf6e-50971ebc9f20"
      },
      "source": [
        "\n",
        "hindi.TAG.value_counts()"
      ],
      "execution_count": null,
      "outputs": [
        {
          "output_type": "execute_result",
          "data": {
            "text/plain": [
              "o                  83241\n",
              "B-PERSON            1985\n",
              "B-LOCATION          1774\n",
              "B-COUNT             1086\n",
              "I-PERSON             633\n",
              "B-YEAR               567\n",
              "I-YEAR               565\n",
              "B-MATERIALS          522\n",
              "B-ARTIFACT           452\n",
              "I-LOCATION           428\n",
              "B-LIVTHINGS          302\n",
              "I-PERIOD             238\n",
              "B-ORGANIZATION       211\n",
              "B-MONTH              205\n",
              "I-ORGANIZATION       155\n",
              "I-ARTIFACT           148\n",
              "B-PERIOD             134\n",
              "I-TIME               125\n",
              "I-LIVTHINGS          114\n",
              "I-COUNT              110\n",
              "I-DATE               100\n",
              "I-MATERIALS           88\n",
              "B-LOCOMOTIVE          86\n",
              "B-TIME                83\n",
              "I-DISTANCE            82\n",
              "I-QUANTITY            80\n",
              "B-PLANTS              78\n",
              "B-QUANTITY            74\n",
              "B-ENTERTAINMENT       74\n",
              "I-ENTERTAINMENT       71\n",
              "I-FACILITIES          67\n",
              "B-DATE                60\n",
              "B-DISTANCE            58\n",
              "I-MONTH               51\n",
              "B-FACILITIES          38\n",
              "I-LOCOMOTIVE          37\n",
              "B-DAY                 32\n",
              "I-MONEY               24\n",
              "B-DISEASE             24\n",
              "B-MONEY               23\n",
              "I-PLANTS              22\n",
              "I-DAY                 20\n",
              "I-DISEASE             18\n",
              "B-SDAY                14\n",
              "I-SDAY                 9\n",
              "I-ENAMEX               2\n",
              "B-ENAMEX               1\n",
              "Name: TAG, dtype: int64"
            ]
          },
          "metadata": {},
          "execution_count": 15
        }
      ]
    },
    {
      "cell_type": "code",
      "metadata": {
        "id": "NAj0MHHSnAFK"
      },
      "source": [
        "# parsing the data\n"
      ],
      "execution_count": null,
      "outputs": []
    },
    {
      "cell_type": "code",
      "metadata": {
        "id": "cHDzdXtUnGCC"
      },
      "source": [
        "# import numpy as np\n",
        "# from sklearn.model_selection import train_test_split\n",
        "# hindi_train, hindi_test = train_test_split( hindi, test_size=0.33, random_state=42)"
      ],
      "execution_count": null,
      "outputs": []
    },
    {
      "cell_type": "code",
      "metadata": {
        "id": "Bath5boUnbio"
      },
      "source": [
        "class SentenceGetter(object):\n",
        "    \n",
        "    def __init__(self, data):\n",
        "        self.n_sent = 1\n",
        "        self.data = data\n",
        "        self.empty = False\n",
        "        agg_func = lambda s: [(w, p, t) for w, p, t in zip(s[\"word\"].values.tolist(),\n",
        "                                                           s[\"POS\"].values.tolist(),\n",
        "                                                           s[\"TAG\"].values.tolist())]\n",
        "        self.grouped = self.data.groupby(\"Sentence\").apply(agg_func)\n",
        "        self.sentences = [s for s in self.grouped]\n",
        "    \n",
        "    def get_next(self):\n",
        "        try:\n",
        "            s = self.grouped[\"Sentence: {}\".format(self.n_sent)]\n",
        "            self.n_sent += 1\n",
        "            return s\n",
        "        except:\n",
        "            return None"
      ],
      "execution_count": null,
      "outputs": []
    },
    {
      "cell_type": "code",
      "metadata": {
        "id": "eGPuw4NcniDa"
      },
      "source": [
        "getter = SentenceGetter(hindi)"
      ],
      "execution_count": null,
      "outputs": []
    },
    {
      "cell_type": "code",
      "metadata": {
        "colab": {
          "base_uri": "https://localhost:8080/"
        },
        "id": "0iBCdGpvnlnW",
        "outputId": "749663d5-7934-43b4-8a45-deff24686fa4"
      },
      "source": [
        "sentences = [[s[0] for s in sent] for sent in getter.sentences]\n",
        "sentences[0]"
      ],
      "execution_count": null,
      "outputs": [
        {
          "output_type": "execute_result",
          "data": {
            "text/plain": [
              "[\"'\",\n",
              " \"'அடிமைமுறை\",\n",
              " \"'\",\n",
              " \"'\",\n",
              " \"'\",\n",
              " 'என்பது',\n",
              " 'வலுக்கட்டாயமாக',\n",
              " 'மனிதர்களைப்',\n",
              " 'பிற',\n",
              " 'மனிதர்கள்',\n",
              " 'பிடித்து',\n",
              " 'வைத்து',\n",
              " ',',\n",
              " 'அவர்களிடமிருந்து',\n",
              " 'வேலையை',\n",
              " 'கட்டாயமாக',\n",
              " 'வாங்குவதாகும்',\n",
              " '.']"
            ]
          },
          "metadata": {},
          "execution_count": 20
        }
      ]
    },
    {
      "cell_type": "code",
      "metadata": {
        "colab": {
          "base_uri": "https://localhost:8080/"
        },
        "id": "GR8qiovNnuDZ",
        "outputId": "9ac31f0a-493b-4f52-ae48-826343972e64"
      },
      "source": [
        "poses = [[s[1] for s in sent] for sent in getter.sentences]\n",
        "print(poses[0])"
      ],
      "execution_count": null,
      "outputs": [
        {
          "output_type": "stream",
          "name": "stdout",
          "text": [
            "['I-NP', 'I-NP', 'I-NP', 'I-NP', 'I-NP', 'B-BLK', 'B-RBP', 'B-NP', 'B-NP', 'I-NP', 'B-VGNF', 'B-VGNF', 'I-VGNF', 'B-NP', 'B-NP', 'B-RBP', 'B-VGF', 'I-VGF']\n"
          ]
        }
      ]
    },
    {
      "cell_type": "code",
      "metadata": {
        "colab": {
          "base_uri": "https://localhost:8080/"
        },
        "id": "ruNOP-zUnwvK",
        "outputId": "f5cb8af0-1b53-4387-ca99-8b2713ea8340"
      },
      "source": [
        "labels = [[s[2] for s in sent] for sent in getter.sentences]\n",
        "print(labels[0])"
      ],
      "execution_count": null,
      "outputs": [
        {
          "output_type": "stream",
          "name": "stdout",
          "text": [
            "['o', 'o', 'o', 'o', 'o', 'o', 'o', 'o', 'o', 'o', 'o', 'o', 'o', 'o', 'o', 'o', 'o', 'o']\n"
          ]
        }
      ]
    },
    {
      "cell_type": "code",
      "metadata": {
        "colab": {
          "base_uri": "https://localhost:8080/"
        },
        "id": "a2pJSthqnymB",
        "outputId": "af27a9f3-ceb1-4629-9d8c-1d2cd131d5a9"
      },
      "source": [
        "# Make TAG name into index for training\n",
        "tags_vals = list(set(hindi[\"TAG\"].values))\n",
        "tags_vals.append('X')\n",
        "tags_vals.append('[CLS]')\n",
        "tags_vals.append('[SEP]')\n",
        "tags_vals = set(tags_vals)\n",
        "tags_vals"
      ],
      "execution_count": null,
      "outputs": [
        {
          "output_type": "execute_result",
          "data": {
            "text/plain": [
              "{'B-ARTIFACT',\n",
              " 'B-COUNT',\n",
              " 'B-DATE',\n",
              " 'B-DAY',\n",
              " 'B-DISEASE',\n",
              " 'B-DISTANCE',\n",
              " 'B-ENAMEX',\n",
              " 'B-ENTERTAINMENT',\n",
              " 'B-FACILITIES',\n",
              " 'B-LIVTHINGS',\n",
              " 'B-LOCATION',\n",
              " 'B-LOCOMOTIVE',\n",
              " 'B-MATERIALS',\n",
              " 'B-MONEY',\n",
              " 'B-MONTH',\n",
              " 'B-ORGANIZATION',\n",
              " 'B-PERIOD',\n",
              " 'B-PERSON',\n",
              " 'B-PLANTS',\n",
              " 'B-QUANTITY',\n",
              " 'B-SDAY',\n",
              " 'B-TIME',\n",
              " 'B-YEAR',\n",
              " 'I-ARTIFACT',\n",
              " 'I-COUNT',\n",
              " 'I-DATE',\n",
              " 'I-DAY',\n",
              " 'I-DISEASE',\n",
              " 'I-DISTANCE',\n",
              " 'I-ENAMEX',\n",
              " 'I-ENTERTAINMENT',\n",
              " 'I-FACILITIES',\n",
              " 'I-LIVTHINGS',\n",
              " 'I-LOCATION',\n",
              " 'I-LOCOMOTIVE',\n",
              " 'I-MATERIALS',\n",
              " 'I-MONEY',\n",
              " 'I-MONTH',\n",
              " 'I-ORGANIZATION',\n",
              " 'I-PERIOD',\n",
              " 'I-PERSON',\n",
              " 'I-PLANTS',\n",
              " 'I-QUANTITY',\n",
              " 'I-SDAY',\n",
              " 'I-TIME',\n",
              " 'I-YEAR',\n",
              " 'X',\n",
              " '[CLS]',\n",
              " '[SEP]',\n",
              " 'o'}"
            ]
          },
          "metadata": {},
          "execution_count": 23
        }
      ]
    },
    {
      "cell_type": "code",
      "metadata": {
        "colab": {
          "base_uri": "https://localhost:8080/"
        },
        "id": "DUn9SB9Kn6eW",
        "outputId": "85e195e9-d80d-48f3-96e9-87bd621f2f92"
      },
      "source": [
        "tag2idx={'B-ARTIFACT':1,\n",
        " 'B-COUNT':2,\n",
        " 'B-DATE':3,\n",
        " 'B-DAY':4,\n",
        " 'B-DISEASE':5,\n",
        " 'B-DISTANCE':6,\n",
        " 'B-ENAMEX':7,\n",
        " 'B-ENTERTAINMENT':8,\n",
        " 'B-FACILITIES':9,\n",
        " 'B-LIVTHINGS':10,\n",
        " 'B-LOCATION':11,\n",
        " 'B-LOCOMOTIVE':12,\n",
        " 'B-MATERIALS':13,\n",
        " 'B-MONEY':14,\n",
        " 'B-MONTH':15,\n",
        " 'B-ORGANIZATION':16,\n",
        " 'B-PERIOD':17,\n",
        " 'B-PERSON':18,\n",
        " 'B-PLANTS':19,\n",
        " 'B-QUANTITY':20,\n",
        " 'B-SDAY':21,\n",
        " 'B-TIME':22,\n",
        " 'B-YEAR':23,\n",
        " 'I-ARTIFACT':24,\n",
        " 'I-COUNT':25,\n",
        " 'I-DATE':26,\n",
        " 'I-DAY':27,\n",
        " 'I-DISEASE':28,\n",
        " 'I-DISTANCE':29,\n",
        " 'I-ENAMEX':30,\n",
        " 'I-ENTERTAINMENT':31,\n",
        " 'I-FACILITIES':32,\n",
        " 'I-LIVTHINGS':33,\n",
        " 'I-LOCATION':34,\n",
        " 'I-LOCOMOTIVE':35,\n",
        " 'I-MATERIALS':36,\n",
        " 'I-MONEY':37,\n",
        " 'I-MONTH':38,\n",
        " 'I-ORGANIZATION':39,\n",
        " 'I-PERIOD':40,\n",
        " 'I-PERSON':41,\n",
        " 'I-PLANTS':42,\n",
        " 'I-QUANTITY':43,\n",
        " 'I-SDAY':44,\n",
        " 'I-TIME':45,\n",
        " 'I-YEAR':46,\n",
        " 'X':47,\n",
        " '[CLS]':48,\n",
        " '[SEP]':49,\n",
        " 'o':50\n",
        " \n",
        " }\n",
        "tag2idx"
      ],
      "execution_count": null,
      "outputs": [
        {
          "output_type": "execute_result",
          "data": {
            "text/plain": [
              "{'B-ARTIFACT': 1,\n",
              " 'B-COUNT': 2,\n",
              " 'B-DATE': 3,\n",
              " 'B-DAY': 4,\n",
              " 'B-DISEASE': 5,\n",
              " 'B-DISTANCE': 6,\n",
              " 'B-ENAMEX': 7,\n",
              " 'B-ENTERTAINMENT': 8,\n",
              " 'B-FACILITIES': 9,\n",
              " 'B-LIVTHINGS': 10,\n",
              " 'B-LOCATION': 11,\n",
              " 'B-LOCOMOTIVE': 12,\n",
              " 'B-MATERIALS': 13,\n",
              " 'B-MONEY': 14,\n",
              " 'B-MONTH': 15,\n",
              " 'B-ORGANIZATION': 16,\n",
              " 'B-PERIOD': 17,\n",
              " 'B-PERSON': 18,\n",
              " 'B-PLANTS': 19,\n",
              " 'B-QUANTITY': 20,\n",
              " 'B-SDAY': 21,\n",
              " 'B-TIME': 22,\n",
              " 'B-YEAR': 23,\n",
              " 'I-ARTIFACT': 24,\n",
              " 'I-COUNT': 25,\n",
              " 'I-DATE': 26,\n",
              " 'I-DAY': 27,\n",
              " 'I-DISEASE': 28,\n",
              " 'I-DISTANCE': 29,\n",
              " 'I-ENAMEX': 30,\n",
              " 'I-ENTERTAINMENT': 31,\n",
              " 'I-FACILITIES': 32,\n",
              " 'I-LIVTHINGS': 33,\n",
              " 'I-LOCATION': 34,\n",
              " 'I-LOCOMOTIVE': 35,\n",
              " 'I-MATERIALS': 36,\n",
              " 'I-MONEY': 37,\n",
              " 'I-MONTH': 38,\n",
              " 'I-ORGANIZATION': 39,\n",
              " 'I-PERIOD': 40,\n",
              " 'I-PERSON': 41,\n",
              " 'I-PLANTS': 42,\n",
              " 'I-QUANTITY': 43,\n",
              " 'I-SDAY': 44,\n",
              " 'I-TIME': 45,\n",
              " 'I-YEAR': 46,\n",
              " 'X': 47,\n",
              " '[CLS]': 48,\n",
              " '[SEP]': 49,\n",
              " 'o': 50}"
            ]
          },
          "metadata": {},
          "execution_count": 24
        }
      ]
    },
    {
      "cell_type": "code",
      "metadata": {
        "id": "_te6XoMYqndB"
      },
      "source": [
        "tag2name={tag2idx[key] : key for key in tag2idx.keys()}"
      ],
      "execution_count": null,
      "outputs": []
    },
    {
      "cell_type": "code",
      "metadata": {
        "id": "kDKLRKeJrBnV"
      },
      "source": [
        "# training"
      ],
      "execution_count": null,
      "outputs": []
    },
    {
      "cell_type": "code",
      "metadata": {
        "colab": {
          "base_uri": "https://localhost:8080/"
        },
        "id": "WE373UXPrEj0",
        "outputId": "5218eab8-73ab-41fb-b5d7-771838208056"
      },
      "source": [
        "device = torch.device(\"cuda\" if torch.cuda.is_available() else \"cpu\")\n",
        "n_gpu = torch.cuda.device_count()\n",
        "n_gpu"
      ],
      "execution_count": null,
      "outputs": [
        {
          "output_type": "execute_result",
          "data": {
            "text/plain": [
              "1"
            ]
          },
          "metadata": {},
          "execution_count": 27
        }
      ]
    },
    {
      "cell_type": "code",
      "metadata": {
        "id": "1NZaLpjbrF6h"
      },
      "source": [
        "# vocabulary = \"/content/drive/MyDrive/BERT/NER Corpus/bert-base-multilingual-cased/bert-base-multilingual-cased-vocab.txt\""
      ],
      "execution_count": null,
      "outputs": []
    },
    {
      "cell_type": "code",
      "metadata": {
        "id": "tlggZD8KrQxs"
      },
      "source": [
        "max_len  = 45\n",
        "# tokenizer=BertTokenizer.from_pretrained('bert-base-multilingual-cased', truncation=True, do_lower_case=True)\n",
        "# tokenizer = AutoTokenizer.from_pretrained(\"Davlan/bert-base-multilingual-cased-ner-hrl\")\n",
        "# model = AutoModelForTokenClassification.from_pretrained(\"Davlan/bert-base-multilingual-cased-ner-hrl\")"
      ],
      "execution_count": null,
      "outputs": []
    },
    {
      "cell_type": "code",
      "metadata": {
        "colab": {
          "base_uri": "https://localhost:8080/",
          "height": 113,
          "referenced_widgets": [
            "520ec708e1c14fceb55da235cd6226e1",
            "685514ff078f47c3953dbc96cf3d4383",
            "ccc0370185ee4c309dfe438ce1ea8fe3",
            "b6998e5b7ca54ef083423373baa779b8",
            "4d49d1af72c24dd0a77c19b0afcbbbe7",
            "5143d4ef00c94df294fcc9d59210af70",
            "6cf201968e064c189103e3977ae326a4",
            "d0c2c988bb014707a65aa325f859e7a5",
            "6b8d02bd50a944ae9e3557dbd1963972",
            "6e23a4c98233461b8a4b6b28d3cadf22",
            "001004796750499aa39fb43e83e452ae",
            "4f66f45682524ca3bb604534a2d079c0",
            "3335df2667f5439fa0cdc9323a1e5dee",
            "30d6043ec15240848633476a63c4a361",
            "00af5bf4e25a415fa0a859098d780c0e",
            "06b799d21e684ee08a533a59e5ecd9ff",
            "b609a15094fa4b5d8a29bbb8ce1bffe1",
            "0767bf63074a4794a2b500a1b7daa13a",
            "237eb31050014e8bab311e0fb6207b3f",
            "57ff892540ce4cbd8116999f66ed12ce",
            "55e2d5cb0f2141789f648cc55ef8d226",
            "2a20b7fd6d11462bb3af6da74daeca23",
            "88483ba28a3b40ec81ed6e63fe67ec4a",
            "79a127eba93345419e85ef4b31451927",
            "04426a05390a4aeb9b16731abce32433",
            "3328d778ae254fad9aa11126aaff1b7a",
            "296716d7d4594c609b9049a617420cca",
            "84fcdf0393ee490ab682cd33556cd578",
            "e816fd8c9eaa4233882f66e220b34c63",
            "44a129f855654ac3b1f7f26924740d70",
            "2b181770b5764cfc9596e1f36d05d6a7",
            "c8dff7bc50b1493bb71851aec8aa789a",
            "312e9454be784a199ec685b896356a66"
          ]
        },
        "id": "kY5M2Whh6Ka6",
        "outputId": "0e54cdad-4733-462c-a883-8fdb0c4b175e"
      },
      "source": [
        "from transformers import AutoTokenizer, AutoModelForMaskedLM\n",
        "  \n",
        "tokenizer = AutoTokenizer.from_pretrained(\"skillzzzzzy/tamilberto\")"
      ],
      "execution_count": null,
      "outputs": [
        {
          "output_type": "display_data",
          "data": {
            "application/vnd.jupyter.widget-view+json": {
              "model_id": "520ec708e1c14fceb55da235cd6226e1",
              "version_minor": 0,
              "version_major": 2
            },
            "text/plain": [
              "Downloading:   0%|          | 0.00/671 [00:00<?, ?B/s]"
            ]
          },
          "metadata": {}
        },
        {
          "output_type": "display_data",
          "data": {
            "application/vnd.jupyter.widget-view+json": {
              "model_id": "4f66f45682524ca3bb604534a2d079c0",
              "version_minor": 0,
              "version_major": 2
            },
            "text/plain": [
              "Downloading:   0%|          | 0.00/530k [00:00<?, ?B/s]"
            ]
          },
          "metadata": {}
        },
        {
          "output_type": "display_data",
          "data": {
            "application/vnd.jupyter.widget-view+json": {
              "model_id": "88483ba28a3b40ec81ed6e63fe67ec4a",
              "version_minor": 0,
              "version_major": 2
            },
            "text/plain": [
              "Downloading:   0%|          | 0.00/331k [00:00<?, ?B/s]"
            ]
          },
          "metadata": {}
        }
      ]
    },
    {
      "cell_type": "code",
      "metadata": {
        "colab": {
          "base_uri": "https://localhost:8080/"
        },
        "id": "ev1xUz2vrVt8",
        "outputId": "656a466a-582f-4227-ea14-225321caff69"
      },
      "source": [
        "tokenized_texts = []\n",
        "word_piece_labels = []\n",
        "i_inc = 0\n",
        "for word_list,label in (zip(sentences,labels)):\n",
        "    temp_lable = []\n",
        "    temp_token = []\n",
        "    \n",
        "    # Add [CLS] at the front \n",
        "    temp_lable.append('[CLS]')\n",
        "    temp_token.append('[CLS]')\n",
        "    \n",
        "    for word,lab in zip(word_list,label):\n",
        "        token_list = tokenizer.tokenize(word)\n",
        "        for m,token in enumerate(token_list):\n",
        "            temp_token.append(token)\n",
        "            if m==0:\n",
        "                temp_lable.append(lab)\n",
        "            else:\n",
        "                temp_lable.append('X')  \n",
        "                \n",
        "    # Add [SEP] at the end\n",
        "    temp_lable.append('[SEP]')\n",
        "    temp_token.append('[SEP]')\n",
        "    \n",
        "    tokenized_texts.append(temp_token)\n",
        "    word_piece_labels.append(temp_lable)\n",
        "    \n",
        "    if 5 > i_inc:\n",
        "        print(\"No.%d,len:%d\"%(i_inc,len(temp_token)))\n",
        "        print(\"texts:%s\"%(\" \".join(temp_token)))\n",
        "        print(\"No.%d,len:%d\"%(i_inc,len(temp_lable)))\n",
        "        print(\"lables:%s\"%(\" \".join(temp_lable)))\n",
        "    i_inc +=1"
      ],
      "execution_count": null,
      "outputs": [
        {
          "output_type": "stream",
          "name": "stdout",
          "text": [
            "No.0,len:100\n",
            "texts:[CLS] ' ' à®ħà®Ł à®¿ à®® à¯Ī à®® à¯ģ à®± à¯Ī ' ' ' à®İà®© à¯į à®ªà®¤ à¯ģ à®µà®² à¯ģ à®ķ à¯į à®ķà®Ł à¯į à®Ł à®¾ à®¯à®® à®¾ à®ķ à®®à®© à®¿ à®¤à®° à¯į à®ķà®³ à¯Ī à®ª à¯į à®ª à®¿ à®± à®®à®© à®¿ à®¤à®° à¯į à®ķà®³ à¯į à®ª à®¿ à®Ł à®¿ à®¤ à¯į à®¤ à¯ģ à®µ à¯Ī à®¤ à¯į à®¤ à¯ģ , à®ħà®µà®° à¯į à®ķà®³ à®¿ à®Łà®® à®¿ à®° à¯ģ à®¨ à¯į à®¤ à¯ģ à®µ à¯ĩ à®² à¯Ī à®¯ à¯Ī à®ķà®Ł à¯į à®Ł à®¾ à®¯à®® à®¾ à®ķ à®µ à®¾ à®Ļ à¯į à®ķ à¯ģ à®µà®¤ à®¾ à®ķ à¯ģ à®® à¯į . [SEP]\n",
            "No.0,len:100\n",
            "lables:[CLS] o o X X X X X X X X o o o o X X X o X X X X X X X X X X o X X X X X X X o X X o X X X X X o X X X X X X X o X X X X X o o X X X X X X X X X X X o X X X X X o X X X X X X o X X X X X X X X X X X o [SEP]\n",
            "No.1,len:49\n",
            "texts:[CLS] à®ĩà®® à¯į à®® à¯ģ à®± à¯Ī à®¨ à¯Ĩ à®Ł à¯ģ à®Ļ à¯į à®ķ à®¾ à®²à®® à®¾ à®ķ à®ªà®² à®¨ à®¾ à®Ł à¯ģ à®ķà®³ à®¿ à®² à¯į à®µà®´à®ķ à¯į à®ķ à®¿ à®² à¯į à®ĩà®° à¯ģ à®¨ à¯į à®¤ à¯ģ à®µà®¨ à¯į à®¤ à¯ģ à®³ à¯į à®³à®¤ à¯ģ . [SEP]\n",
            "No.1,len:49\n",
            "lables:[CLS] o X X X X X o X X X X X X X X X X o o X X X X X X X o X X X X X o X X X X X X X X X X X X X o [SEP]\n",
            "No.2,len:83\n",
            "texts:[CLS] à®ĩà®ª à¯į à®ªà®Ł à®¿ à®µà®² à¯ģ à®ķ à¯į à®ķà®Ł à¯į à®Ł à®¾ à®¯à®® à¯į à®ļ à¯Ĩ à®¯ à¯į à®¯à®ª à¯į à®ªà®Ł à¯į à®Ł à®®à®© à®¿ à®¤à®° à¯į à®ķà®³ à¯į à®ħà®µà®° à¯į à®ķà®³ à¯ģ à®Ł à¯Ī à®¯ à®® à¯ģ à®¤à®² à®¾ à®³ à®¿ à®ķà®³ à®¾ à®² à¯į , à®ª à®¿ à®± à®ª à¯Ĭ à®° à¯ģ à®Ł à¯į à®ķà®³ à¯Ī à®ª à¯į à®ª à¯ĭ à®² à®µ à®¾ à®Ļ à¯į à®ķ à®¿ , à®µ à®¿ à®± à¯į à®ķà®ª à¯į à®ªà®Ł à¯į à®Łà®©à®° à¯į . [SEP]\n",
            "No.2,len:83\n",
            "lables:[CLS] o X X X o X X X X X X X X X o X X X X X X X X o X X X X X o X X X X X X o X X X X X X X X X o o X X o X X X X X X X X X o X X o X X X X X o o X X X X X X X X X o [SEP]\n",
            "No.3,len:73\n",
            "texts:[CLS] à®ĩà®¤ à¯ģ à®Ĵà®° à¯ģ à®® à®¿ à®ķà®µ à¯ģ à®® à¯į à®ĩà®´ à®¿ à®µ à®¾ à®© à®® à¯ģ à®± à¯Ī à®İà®© 19 - 20 à®Ĩà®® à¯į à®¨ à¯Ĥ à®± à¯į à®± à®¾ à®£ à¯į à®Ł à¯ģ à®ķà®³ à®¿ à®² à¯į à®īà®²à®ķ à¯Ĩ à®Ļ à¯į à®ķ à¯ģ à®® à¯į à®īà®£ à®°à®ª à¯į à®ªà®Ł à¯į à®Ł à¯ģ à®ĩà®® à¯į à®® à¯ģ à®± à¯Ī à®¯ à¯Ī à®¨ à¯Ģ à®ķ à¯į à®ķ à®¿ à®©à®° à¯į . [SEP]\n",
            "No.3,len:73\n",
            "lables:[CLS] o X o X o X X X X X o X X X X o X X X o B-PERIOD I-PERIOD I-PERIOD o X o X X X X X X X X X X X X X o X X X X X X X o X X X X X X o X X X X X X X o X X X X X X X o [SEP]\n",
            "No.4,len:31\n",
            "texts:[CLS] à®¤ à¯ĭ à®± à¯į à®± à®µ à¯Ģ à®°à®° à®ķà®³ à¯į à®ħà®Ł à®¿ à®® à¯Ī à®ķà®³ à®¾ à®ķ à¯į à®ķà®ª à¯į à®ªà®Ł à¯į à®Ł à®¾ à®° à¯į à®ķà®³ à¯į . [SEP]\n",
            "No.4,len:31\n",
            "lables:[CLS] o X X X X o X X X X o X X X X X X X X X X X X X X X X X o [SEP]\n"
          ]
        }
      ]
    },
    {
      "cell_type": "code",
      "metadata": {
        "colab": {
          "base_uri": "https://localhost:8080/"
        },
        "id": "9eKOmcUjuXPB",
        "outputId": "4c48cb92-dc9b-436a-f36d-a5f28a12e021"
      },
      "source": [
        "# Make text token into id\n",
        "input_ids = pad_sequences([tokenizer.convert_tokens_to_ids(txt) for txt in tokenized_texts],\n",
        "                          maxlen=max_len, dtype=\"long\", truncating=\"post\", padding=\"post\")\n",
        "print(input_ids[0])"
      ],
      "execution_count": null,
      "outputs": [
        {
          "output_type": "stream",
          "name": "stdout",
          "text": [
            "[   3   11   11 1350  266  273  276  273  265  279  276   11   11   11\n",
            "  721  263  316  265  460  265  267  263  472  263  271  270  347  270\n",
            "  267  453  266  382  263  285  276  275  263  275  266  279  453  266\n",
            "  382  263  285]\n"
          ]
        }
      ]
    },
    {
      "cell_type": "code",
      "metadata": {
        "colab": {
          "base_uri": "https://localhost:8080/"
        },
        "id": "Nmj0wlzYuu7r",
        "outputId": "1ab8af4e-c4de-4969-9344-9f4baf7bdc10"
      },
      "source": [
        "# Make label into id, pad with \"O\" meaning others\n",
        "tags = pad_sequences([[tag2idx.get(l) for l in lab] for lab in word_piece_labels],\n",
        "                     maxlen=max_len, value=tag2idx[\"o\"], padding=\"post\",\n",
        "                     dtype=\"long\", truncating=\"post\")\n",
        "print(tags[0])\n"
      ],
      "execution_count": null,
      "outputs": [
        {
          "output_type": "stream",
          "name": "stdout",
          "text": [
            "[48 50 50 47 47 47 47 47 47 47 47 50 50 50 50 47 47 47 50 47 47 47 47 47\n",
            " 47 47 47 47 47 50 47 47 47 47 47 47 47 50 47 47 50 47 47 47 47]\n"
          ]
        }
      ]
    },
    {
      "cell_type": "code",
      "metadata": {
        "id": "z_PGCQAguxo3"
      },
      "source": [
        "# For fine tune of predict, with token mask is 1,pad token is 0\n",
        "attention_masks = [[int(i>0) for i in ii] for ii in input_ids]\n",
        "attention_masks[0];"
      ],
      "execution_count": null,
      "outputs": []
    },
    {
      "cell_type": "code",
      "metadata": {
        "id": "DO04Ga6zu4Bm"
      },
      "source": [
        "# Since only one sentence, all the segment set to 0\n",
        "segment_ids = [[0] * len(input_id) for input_id in input_ids]\n",
        "segment_ids[0];"
      ],
      "execution_count": null,
      "outputs": []
    },
    {
      "cell_type": "code",
      "metadata": {
        "id": "wOM-qvGIu5fe"
      },
      "source": [
        "tr_inputs, val_inputs, tr_tags, val_tags,tr_masks, val_masks,tr_segs, val_segs = train_test_split(input_ids, tags,attention_masks,segment_ids, \n",
        "                                                            random_state=4, test_size=0.3)"
      ],
      "execution_count": null,
      "outputs": []
    },
    {
      "cell_type": "code",
      "metadata": {
        "colab": {
          "base_uri": "https://localhost:8080/"
        },
        "id": "SqMMj9fAu8rS",
        "outputId": "7412998e-7ae3-48b1-f416-e38008a0ef4a"
      },
      "source": [
        "len(tr_inputs),len(val_inputs),len(tr_segs),len(val_segs)"
      ],
      "execution_count": null,
      "outputs": [
        {
          "output_type": "execute_result",
          "data": {
            "text/plain": [
              "(4441, 1904, 4441, 1904)"
            ]
          },
          "metadata": {},
          "execution_count": 38
        }
      ]
    },
    {
      "cell_type": "code",
      "metadata": {
        "id": "fKjh8bpnu-16"
      },
      "source": [
        "tr_inputs = torch.tensor(tr_inputs)\n",
        "val_inputs = torch.tensor(val_inputs)\n",
        "tr_tags = torch.tensor(tr_tags)\n",
        "val_tags = torch.tensor(val_tags)\n",
        "tr_masks = torch.tensor(tr_masks)\n",
        "val_masks = torch.tensor(val_masks)\n",
        "tr_segs = torch.tensor(tr_segs)\n",
        "val_segs = torch.tensor(val_segs)"
      ],
      "execution_count": null,
      "outputs": []
    },
    {
      "cell_type": "code",
      "metadata": {
        "id": "0bcJHA4KvAwK"
      },
      "source": [
        "batch_num = 32"
      ],
      "execution_count": null,
      "outputs": []
    },
    {
      "cell_type": "code",
      "metadata": {
        "id": "GE7g35aBvC9K"
      },
      "source": [
        "train_data = TensorDataset(tr_inputs, tr_masks, tr_tags)\n",
        "train_sampler = RandomSampler(train_data)\n",
        "# Drop last can make batch training better for the last one\n",
        "train_dataloader = DataLoader(train_data, sampler=train_sampler, batch_size=batch_num,drop_last=True)\n",
        "\n",
        "valid_data = TensorDataset(val_inputs, val_masks, val_tags)\n",
        "valid_sampler = SequentialSampler(valid_data)\n",
        "valid_dataloader = DataLoader(valid_data, sampler=valid_sampler, batch_size=batch_num)"
      ],
      "execution_count": null,
      "outputs": []
    },
    {
      "cell_type": "code",
      "metadata": {
        "colab": {
          "base_uri": "https://localhost:8080/",
          "height": 49,
          "referenced_widgets": [
            "dd8e084c0c054005922eddded91ea122",
            "9a3b784b6dec4a5482d487c9e6690efa",
            "a1eed055f2a142a6a753234cf898827b",
            "727ad76d7a8c4405bb9a4fbfe9fbf989",
            "4b60ae64637944e6b6b55fc4a2bd3786",
            "baf2e66bbd404fa2bccb19fde75979c7",
            "0e291881c6dc474f81f6d971d44d6b47",
            "04ec8fd59bb441b095bbdab58cccb5ef",
            "53a4497fa5854b6484b0f16acc44ddae",
            "3134f3cbf4a54173a9e99734adcd3081",
            "97554850191840cfa698706bb9e49aef"
          ]
        },
        "id": "18xvIoQ4vEb7",
        "outputId": "91c5e98a-7c8e-4335-ad55-b582ebb0f4f7"
      },
      "source": [
        "# model_file_address = '/content/drive/MyDrive/BERT/NER Corpus/bert-base-multilingual-cased'\n",
        "# model = BertForTokenClassification.from_pretrained(\"bert-base-multilingual-cased\",num_labels=len(tag2idx))\n",
        "model = AutoModelForMaskedLM.from_pretrained(\"skillzzzzzy/tamilberto\")\n"
      ],
      "execution_count": null,
      "outputs": [
        {
          "output_type": "display_data",
          "data": {
            "application/vnd.jupyter.widget-view+json": {
              "model_id": "dd8e084c0c054005922eddded91ea122",
              "version_minor": 0,
              "version_major": 2
            },
            "text/plain": [
              "Downloading:   0%|          | 0.00/256M [00:00<?, ?B/s]"
            ]
          },
          "metadata": {}
        }
      ]
    },
    {
      "cell_type": "code",
      "metadata": {
        "id": "9V0-jNJuweCr"
      },
      "source": [
        "m_labels = len(tag2idx)"
      ],
      "execution_count": null,
      "outputs": []
    },
    {
      "cell_type": "code",
      "metadata": {
        "id": "Tg015VK1zbjI"
      },
      "source": [
        "model;"
      ],
      "execution_count": null,
      "outputs": []
    },
    {
      "cell_type": "code",
      "metadata": {
        "id": "rTPEizDZ1B3V"
      },
      "source": [
        "model.cuda();"
      ],
      "execution_count": null,
      "outputs": []
    },
    {
      "cell_type": "markdown",
      "metadata": {
        "id": "1Vf7IcfZ1BkP"
      },
      "source": [
        ""
      ]
    },
    {
      "cell_type": "code",
      "metadata": {
        "id": "szzUVyMa0SxG"
      },
      "source": [
        "epochs = 30\n",
        "max_grad_norm = 1.0"
      ],
      "execution_count": null,
      "outputs": []
    },
    {
      "cell_type": "code",
      "metadata": {
        "id": "kZxjoGngzdsR"
      },
      "source": [
        "if n_gpu >1:\n",
        "    model = torch.nn.DataParallel(model)"
      ],
      "execution_count": null,
      "outputs": []
    },
    {
      "cell_type": "code",
      "metadata": {
        "id": "xN0WfqKizgRw"
      },
      "source": [
        "num_train_optimization_steps = int( math.ceil(len(tr_inputs) / batch_num) / 1) * epochs"
      ],
      "execution_count": null,
      "outputs": []
    },
    {
      "cell_type": "code",
      "metadata": {
        "id": "eilZnWkX0Lwc"
      },
      "source": [
        "# fine tuning\n",
        "FULL_FINETUNING = True"
      ],
      "execution_count": null,
      "outputs": []
    },
    {
      "cell_type": "code",
      "metadata": {
        "id": "x1bwHeEy0dG8"
      },
      "source": [
        "if FULL_FINETUNING:\n",
        "    # Fine tune model all layer parameters\n",
        "    param_optimizer = list(model.named_parameters())\n",
        "    no_decay = ['bias', 'gamma', 'beta']\n",
        "    optimizer_grouped_parameters = [\n",
        "        {'params': [p for n, p in param_optimizer if not any(nd in n for nd in no_decay)],\n",
        "         'weight_decay_rate': 0.01},\n",
        "        {'params': [p for n, p in param_optimizer if any(nd in n for nd in no_decay)],\n",
        "         'weight_decay_rate': 0.0}\n",
        "    ]\n",
        "else:\n",
        "    # Only fine tune classifier parameters\n",
        "    param_optimizer = list(model.classifier.named_parameters()) \n",
        "    optimizer_grouped_parameters = [{\"params\": [p for n, p in param_optimizer]}]\n",
        "optimizer = AdamW(optimizer_grouped_parameters, lr=3e-5)"
      ],
      "execution_count": null,
      "outputs": []
    },
    {
      "cell_type": "code",
      "metadata": {
        "id": "ApqEKeEn0dvC"
      },
      "source": [
        "model.train();"
      ],
      "execution_count": null,
      "outputs": []
    },
    {
      "cell_type": "code",
      "metadata": {
        "colab": {
          "base_uri": "https://localhost:8080/"
        },
        "id": "-5w1ZKpe0ffQ",
        "outputId": "bfdd1502-8c6a-49fb-8c15-6841ed55125f"
      },
      "source": [
        "print(\"***** Running training *****\")\n",
        "print(\"  Num examples = %d\"%(len(tr_inputs)))\n",
        "print(\"  Batch size = %d\"%(batch_num))\n",
        "print(\"  Num steps = %d\"%(num_train_optimization_steps))\n",
        "for _ in trange(epochs,desc=\"Epoch\"):\n",
        "    tr_loss = 0\n",
        "    nb_tr_examples, nb_tr_steps = 0, 0\n",
        "    for step, batch in enumerate(train_dataloader):\n",
        "        # add batch to gpu\n",
        "        batch = tuple(t.to(device) for t in batch)\n",
        "        b_input_ids, b_input_mask, b_labels = batch\n",
        "        \n",
        "        # forward pass\n",
        "        outputs = model(b_input_ids, token_type_ids=None,\n",
        "        attention_mask=b_input_mask, labels=b_labels)\n",
        "        loss, scores = outputs[:2]\n",
        "        if n_gpu>1:\n",
        "            # When multi gpu, average it\n",
        "            loss = loss.mean()\n",
        "        \n",
        "        # backward pass\n",
        "        loss.backward()\n",
        "        \n",
        "        # track train loss\n",
        "        tr_loss += loss.item()\n",
        "        nb_tr_examples += b_input_ids.size(0)\n",
        "        nb_tr_steps += 1\n",
        "        \n",
        "        # gradient clipping\n",
        "        torch.nn.utils.clip_grad_norm_(parameters=model.parameters(), max_norm=max_grad_norm)\n",
        "        \n",
        "        # update parameters\n",
        "        optimizer.step()\n",
        "        optimizer.zero_grad()\n",
        "        \n",
        "    # print train loss per epoch\n",
        "    print(\"Train loss: {}\".format(tr_loss/nb_tr_steps))"
      ],
      "execution_count": null,
      "outputs": [
        {
          "output_type": "stream",
          "name": "stdout",
          "text": [
            "***** Running training *****\n",
            "  Num examples = 4441\n",
            "  Batch size = 32\n",
            "  Num steps = 2780\n"
          ]
        },
        {
          "output_type": "stream",
          "name": "stderr",
          "text": [
            "Epoch:   5%|▌         | 1/20 [00:57<18:04, 57.07s/it]"
          ]
        },
        {
          "output_type": "stream",
          "name": "stdout",
          "text": [
            "Train loss: 6.059854752775552\n"
          ]
        },
        {
          "output_type": "stream",
          "name": "stderr",
          "text": [
            "\rEpoch:  10%|█         | 2/20 [01:54<17:05, 57.00s/it]"
          ]
        },
        {
          "output_type": "stream",
          "name": "stdout",
          "text": [
            "Train loss: 5.6594799843387325\n"
          ]
        },
        {
          "output_type": "stream",
          "name": "stderr",
          "text": [
            "\rEpoch:  15%|█▌        | 3/20 [02:50<16:08, 56.98s/it]"
          ]
        },
        {
          "output_type": "stream",
          "name": "stdout",
          "text": [
            "Train loss: 5.217941557151684\n"
          ]
        },
        {
          "output_type": "stream",
          "name": "stderr",
          "text": [
            "\rEpoch:  20%|██        | 4/20 [03:47<15:11, 56.99s/it]"
          ]
        },
        {
          "output_type": "stream",
          "name": "stdout",
          "text": [
            "Train loss: 4.692068030868751\n"
          ]
        },
        {
          "output_type": "stream",
          "name": "stderr",
          "text": [
            "\rEpoch:  25%|██▌       | 5/20 [04:44<14:14, 56.98s/it]"
          ]
        },
        {
          "output_type": "stream",
          "name": "stdout",
          "text": [
            "Train loss: 3.7158676161282305\n"
          ]
        },
        {
          "output_type": "stream",
          "name": "stderr",
          "text": [
            "\rEpoch:  30%|███       | 6/20 [05:42<13:18, 57.01s/it]"
          ]
        },
        {
          "output_type": "stream",
          "name": "stdout",
          "text": [
            "Train loss: 0.9783779503642649\n"
          ]
        },
        {
          "output_type": "stream",
          "name": "stderr",
          "text": [
            "\rEpoch:  35%|███▌      | 7/20 [06:39<12:21, 57.02s/it]"
          ]
        },
        {
          "output_type": "stream",
          "name": "stdout",
          "text": [
            "Train loss: 0.8249537711558135\n"
          ]
        },
        {
          "output_type": "stream",
          "name": "stderr",
          "text": [
            "\rEpoch:  40%|████      | 8/20 [07:36<11:24, 57.03s/it]"
          ]
        },
        {
          "output_type": "stream",
          "name": "stdout",
          "text": [
            "Train loss: 0.8195664105208024\n"
          ]
        },
        {
          "output_type": "stream",
          "name": "stderr",
          "text": [
            "\rEpoch:  45%|████▌     | 9/20 [08:33<10:27, 57.04s/it]"
          ]
        },
        {
          "output_type": "stream",
          "name": "stdout",
          "text": [
            "Train loss: 0.8167405344437861\n"
          ]
        },
        {
          "output_type": "stream",
          "name": "stderr",
          "text": [
            "\rEpoch:  50%|█████     | 10/20 [09:30<09:30, 57.05s/it]"
          ]
        },
        {
          "output_type": "stream",
          "name": "stdout",
          "text": [
            "Train loss: 0.8152129045431165\n"
          ]
        },
        {
          "output_type": "stream",
          "name": "stderr",
          "text": [
            "\rEpoch:  55%|█████▌    | 11/20 [10:27<08:33, 57.05s/it]"
          ]
        },
        {
          "output_type": "stream",
          "name": "stdout",
          "text": [
            "Train loss: 0.8132574726705966\n"
          ]
        },
        {
          "output_type": "stream",
          "name": "stderr",
          "text": [
            "\rEpoch:  60%|██████    | 12/20 [11:24<07:36, 57.06s/it]"
          ]
        },
        {
          "output_type": "stream",
          "name": "stdout",
          "text": [
            "Train loss: 0.8130138421404189\n"
          ]
        },
        {
          "output_type": "stream",
          "name": "stderr",
          "text": [
            "\rEpoch:  65%|██████▌   | 13/20 [12:21<06:39, 57.05s/it]"
          ]
        },
        {
          "output_type": "stream",
          "name": "stdout",
          "text": [
            "Train loss: 0.8117463636225548\n"
          ]
        },
        {
          "output_type": "stream",
          "name": "stderr",
          "text": [
            "\rEpoch:  70%|███████   | 14/20 [13:18<05:42, 57.05s/it]"
          ]
        },
        {
          "output_type": "stream",
          "name": "stdout",
          "text": [
            "Train loss: 0.8112293490465137\n"
          ]
        },
        {
          "output_type": "stream",
          "name": "stderr",
          "text": [
            "\rEpoch:  75%|███████▌  | 15/20 [14:15<04:45, 57.06s/it]"
          ]
        },
        {
          "output_type": "stream",
          "name": "stdout",
          "text": [
            "Train loss: 0.8098559681920038\n"
          ]
        },
        {
          "output_type": "stream",
          "name": "stderr",
          "text": [
            "\rEpoch:  80%|████████  | 16/20 [15:12<03:48, 57.07s/it]"
          ]
        },
        {
          "output_type": "stream",
          "name": "stdout",
          "text": [
            "Train loss: 0.810338137374408\n"
          ]
        },
        {
          "output_type": "stream",
          "name": "stderr",
          "text": [
            "\rEpoch:  85%|████████▌ | 17/20 [16:09<02:51, 57.07s/it]"
          ]
        },
        {
          "output_type": "stream",
          "name": "stdout",
          "text": [
            "Train loss: 0.8104531397854072\n"
          ]
        },
        {
          "output_type": "stream",
          "name": "stderr",
          "text": [
            "\rEpoch:  90%|█████████ | 18/20 [17:06<01:54, 57.06s/it]"
          ]
        },
        {
          "output_type": "stream",
          "name": "stdout",
          "text": [
            "Train loss: 0.8093175296334253\n"
          ]
        },
        {
          "output_type": "stream",
          "name": "stderr",
          "text": [
            "\rEpoch:  95%|█████████▌| 19/20 [18:03<00:57, 57.04s/it]"
          ]
        },
        {
          "output_type": "stream",
          "name": "stdout",
          "text": [
            "Train loss: 0.8087068619071573\n"
          ]
        },
        {
          "output_type": "stream",
          "name": "stderr",
          "text": [
            "Epoch: 100%|██████████| 20/20 [19:00<00:00, 57.04s/it]"
          ]
        },
        {
          "output_type": "stream",
          "name": "stdout",
          "text": [
            "Train loss: 0.8089000595652539\n"
          ]
        },
        {
          "output_type": "stream",
          "name": "stderr",
          "text": [
            "\n"
          ]
        }
      ]
    },
    {
      "cell_type": "code",
      "metadata": {
        "id": "B20CIew42Kiq"
      },
      "source": [
        "bert_out_address = 'ashiNLP/bert_tamilberto_model/tamil'"
      ],
      "execution_count": null,
      "outputs": []
    },
    {
      "cell_type": "code",
      "metadata": {
        "id": "DW6b9S4W2T2D"
      },
      "source": [
        "if not os.path.exists(bert_out_address):\n",
        "        os.makedirs(bert_out_address)"
      ],
      "execution_count": null,
      "outputs": []
    },
    {
      "cell_type": "code",
      "metadata": {
        "id": "GHWcEvL42YiX"
      },
      "source": [
        "model_to_save = model.module if hasattr(model, 'module') else model"
      ],
      "execution_count": null,
      "outputs": []
    },
    {
      "cell_type": "code",
      "metadata": {
        "id": "QUqeOIbD2Ye3"
      },
      "source": [
        "output_model_file = os.path.join(bert_out_address, \"pytorch_model.bin\")\n",
        "output_config_file = os.path.join(bert_out_address, \"config.json\")"
      ],
      "execution_count": null,
      "outputs": []
    },
    {
      "cell_type": "code",
      "metadata": {
        "colab": {
          "base_uri": "https://localhost:8080/"
        },
        "id": "LtuYbXhP2Yc3",
        "outputId": "1ef2a35d-2517-4d37-ac5f-6062e71e1ad8"
      },
      "source": [
        "torch.save(model_to_save.state_dict(), output_model_file)\n",
        "model_to_save.config.to_json_file(output_config_file)\n",
        "tokenizer.save_vocabulary(bert_out_address)"
      ],
      "execution_count": null,
      "outputs": [
        {
          "output_type": "execute_result",
          "data": {
            "text/plain": [
              "('ashiNLP/bert_tamilberto_model/tamil/vocab.json',\n",
              " 'ashiNLP/bert_tamilberto_model/tamil/merges.txt')"
            ]
          },
          "metadata": {},
          "execution_count": 58
        }
      ]
    },
    {
      "cell_type": "code",
      "metadata": {
        "id": "-mVqFzsa2nfn",
        "colab": {
          "base_uri": "https://localhost:8080/"
        },
        "outputId": "68050861-107a-49f4-9406-a946cd32b232"
      },
      "source": [
        "# load model\n",
        "model = BertForTokenClassification.from_pretrained(bert_out_address,num_labels=len(tag2idx))"
      ],
      "execution_count": null,
      "outputs": [
        {
          "output_type": "stream",
          "name": "stderr",
          "text": [
            "You are using a model of type roberta to instantiate a model of type bert. This is not supported for all configurations of models and can yield errors.\n",
            "Some weights of the model checkpoint at ashiNLP/bert_tamilberto_model/tamil were not used when initializing BertForTokenClassification: ['roberta.encoder.layer.1.attention.self.key.weight', 'roberta.embeddings.position_ids', 'roberta.encoder.layer.1.attention.self.value.bias', 'lm_head.dense.weight', 'lm_head.decoder.weight', 'roberta.encoder.layer.2.intermediate.dense.bias', 'roberta.encoder.layer.4.attention.self.value.weight', 'roberta.encoder.layer.4.intermediate.dense.weight', 'lm_head.dense.bias', 'lm_head.decoder.bias', 'roberta.embeddings.word_embeddings.weight', 'roberta.encoder.layer.0.attention.output.dense.bias', 'roberta.encoder.layer.0.attention.self.key.bias', 'roberta.embeddings.LayerNorm.bias', 'roberta.encoder.layer.2.attention.self.key.bias', 'roberta.encoder.layer.0.output.LayerNorm.bias', 'roberta.encoder.layer.5.attention.self.query.bias', 'roberta.encoder.layer.0.attention.self.query.weight', 'roberta.encoder.layer.1.output.LayerNorm.weight', 'roberta.encoder.layer.2.attention.output.LayerNorm.weight', 'roberta.encoder.layer.0.attention.self.value.bias', 'roberta.embeddings.position_embeddings.weight', 'roberta.encoder.layer.1.output.dense.bias', 'roberta.encoder.layer.5.attention.self.key.weight', 'roberta.encoder.layer.2.attention.self.value.weight', 'roberta.encoder.layer.2.attention.output.dense.bias', 'roberta.encoder.layer.1.attention.output.dense.weight', 'roberta.encoder.layer.2.attention.self.query.bias', 'roberta.encoder.layer.2.attention.output.dense.weight', 'roberta.encoder.layer.2.output.dense.weight', 'roberta.encoder.layer.0.output.LayerNorm.weight', 'roberta.encoder.layer.0.attention.output.dense.weight', 'roberta.encoder.layer.5.attention.self.value.weight', 'roberta.encoder.layer.1.attention.output.dense.bias', 'roberta.encoder.layer.3.attention.self.query.weight', 'lm_head.layer_norm.bias', 'roberta.encoder.layer.3.attention.self.value.weight', 'roberta.encoder.layer.3.attention.output.LayerNorm.weight', 'roberta.encoder.layer.1.attention.self.value.weight', 'roberta.encoder.layer.2.attention.self.query.weight', 'roberta.encoder.layer.0.output.dense.weight', 'roberta.encoder.layer.5.output.dense.bias', 'roberta.encoder.layer.5.attention.output.dense.bias', 'roberta.encoder.layer.4.attention.output.dense.weight', 'roberta.encoder.layer.0.intermediate.dense.weight', 'roberta.encoder.layer.4.intermediate.dense.bias', 'roberta.encoder.layer.5.attention.self.key.bias', 'roberta.encoder.layer.4.output.LayerNorm.bias', 'roberta.encoder.layer.3.intermediate.dense.weight', 'roberta.encoder.layer.5.attention.output.LayerNorm.weight', 'roberta.encoder.layer.4.output.dense.bias', 'roberta.encoder.layer.0.attention.output.LayerNorm.bias', 'lm_head.layer_norm.weight', 'roberta.encoder.layer.2.output.LayerNorm.bias', 'roberta.encoder.layer.5.intermediate.dense.weight', 'roberta.encoder.layer.5.output.dense.weight', 'roberta.encoder.layer.3.attention.output.dense.weight', 'roberta.encoder.layer.1.attention.output.LayerNorm.bias', 'roberta.encoder.layer.1.intermediate.dense.weight', 'roberta.encoder.layer.0.attention.self.value.weight', 'roberta.encoder.layer.1.attention.self.query.weight', 'roberta.encoder.layer.3.attention.self.value.bias', 'roberta.encoder.layer.5.attention.self.query.weight', 'roberta.encoder.layer.4.attention.self.query.bias', 'roberta.encoder.layer.3.attention.output.dense.bias', 'roberta.encoder.layer.4.attention.output.LayerNorm.weight', 'roberta.encoder.layer.3.output.dense.bias', 'roberta.embeddings.token_type_embeddings.weight', 'roberta.encoder.layer.1.attention.self.key.bias', 'roberta.encoder.layer.1.output.LayerNorm.bias', 'roberta.encoder.layer.1.intermediate.dense.bias', 'roberta.encoder.layer.4.attention.output.LayerNorm.bias', 'roberta.encoder.layer.1.attention.self.query.bias', 'roberta.encoder.layer.1.attention.output.LayerNorm.weight', 'roberta.encoder.layer.2.intermediate.dense.weight', 'roberta.encoder.layer.2.attention.self.value.bias', 'roberta.encoder.layer.4.attention.self.key.bias', 'roberta.encoder.layer.3.attention.self.query.bias', 'roberta.encoder.layer.5.output.LayerNorm.bias', 'lm_head.bias', 'roberta.encoder.layer.3.output.LayerNorm.weight', 'roberta.encoder.layer.2.output.LayerNorm.weight', 'roberta.encoder.layer.4.attention.self.query.weight', 'roberta.encoder.layer.4.attention.output.dense.bias', 'roberta.encoder.layer.4.output.dense.weight', 'roberta.encoder.layer.2.attention.self.key.weight', 'roberta.encoder.layer.0.attention.self.query.bias', 'roberta.embeddings.LayerNorm.weight', 'roberta.encoder.layer.2.attention.output.LayerNorm.bias', 'roberta.encoder.layer.4.output.LayerNorm.weight', 'roberta.encoder.layer.4.attention.self.value.bias', 'roberta.encoder.layer.1.output.dense.weight', 'roberta.encoder.layer.5.intermediate.dense.bias', 'roberta.encoder.layer.5.attention.self.value.bias', 'roberta.encoder.layer.0.output.dense.bias', 'roberta.encoder.layer.2.output.dense.bias', 'roberta.encoder.layer.3.attention.output.LayerNorm.bias', 'roberta.encoder.layer.4.attention.self.key.weight', 'roberta.encoder.layer.0.intermediate.dense.bias', 'roberta.encoder.layer.5.attention.output.dense.weight', 'roberta.encoder.layer.0.attention.output.LayerNorm.weight', 'roberta.encoder.layer.3.attention.self.key.weight', 'roberta.encoder.layer.3.output.dense.weight', 'roberta.encoder.layer.5.output.LayerNorm.weight', 'roberta.encoder.layer.0.attention.self.key.weight', 'roberta.encoder.layer.3.intermediate.dense.bias', 'roberta.encoder.layer.3.attention.self.key.bias', 'roberta.encoder.layer.3.output.LayerNorm.bias', 'roberta.encoder.layer.5.attention.output.LayerNorm.bias']\n",
            "- This IS expected if you are initializing BertForTokenClassification from the checkpoint of a model trained on another task or with another architecture (e.g. initializing a BertForSequenceClassification model from a BertForPreTraining model).\n",
            "- This IS NOT expected if you are initializing BertForTokenClassification from the checkpoint of a model that you expect to be exactly identical (initializing a BertForSequenceClassification model from a BertForSequenceClassification model).\n",
            "Some weights of BertForTokenClassification were not initialized from the model checkpoint at ashiNLP/bert_tamilberto_model/tamil and are newly initialized: ['encoder.layer.3.attention.output.LayerNorm.weight', 'classifier.bias', 'encoder.layer.4.attention.self.value.weight', 'embeddings.word_embeddings.weight', 'encoder.layer.0.attention.self.value.weight', 'encoder.layer.2.intermediate.dense.bias', 'encoder.layer.5.attention.output.LayerNorm.bias', 'encoder.layer.5.attention.self.key.bias', 'encoder.layer.1.attention.self.value.bias', 'encoder.layer.1.attention.self.key.weight', 'encoder.layer.1.output.dense.weight', 'encoder.layer.4.attention.output.LayerNorm.bias', 'encoder.layer.1.attention.output.dense.weight', 'encoder.layer.2.attention.self.key.weight', 'encoder.layer.0.output.LayerNorm.bias', 'encoder.layer.0.attention.self.value.bias', 'encoder.layer.4.attention.output.dense.weight', 'encoder.layer.3.attention.self.query.weight', 'encoder.layer.0.attention.output.dense.weight', 'encoder.layer.4.output.LayerNorm.bias', 'encoder.layer.2.attention.self.key.bias', 'encoder.layer.5.attention.self.value.bias', 'encoder.layer.5.attention.self.key.weight', 'encoder.layer.0.attention.self.key.bias', 'encoder.layer.5.intermediate.dense.weight', 'encoder.layer.2.output.dense.weight', 'encoder.layer.2.output.LayerNorm.weight', 'encoder.layer.4.attention.self.value.bias', 'encoder.layer.4.attention.output.LayerNorm.weight', 'encoder.layer.1.output.LayerNorm.bias', 'encoder.layer.1.attention.self.query.weight', 'encoder.layer.1.attention.self.key.bias', 'classifier.weight', 'encoder.layer.5.attention.output.LayerNorm.weight', 'encoder.layer.0.attention.output.LayerNorm.weight', 'embeddings.token_type_embeddings.weight', 'encoder.layer.1.attention.output.LayerNorm.bias', 'encoder.layer.0.output.dense.weight', 'encoder.layer.0.intermediate.dense.weight', 'encoder.layer.5.output.LayerNorm.bias', 'encoder.layer.2.attention.self.query.bias', 'encoder.layer.2.attention.output.dense.bias', 'encoder.layer.2.intermediate.dense.weight', 'encoder.layer.4.attention.self.key.bias', 'encoder.layer.3.output.dense.weight', 'embeddings.LayerNorm.weight', 'encoder.layer.3.attention.output.LayerNorm.bias', 'encoder.layer.0.output.LayerNorm.weight', 'encoder.layer.5.attention.output.dense.bias', 'encoder.layer.0.attention.output.LayerNorm.bias', 'encoder.layer.4.output.dense.weight', 'encoder.layer.1.attention.output.dense.bias', 'encoder.layer.4.attention.self.query.weight', 'encoder.layer.3.attention.self.key.bias', 'encoder.layer.3.attention.self.key.weight', 'encoder.layer.3.attention.output.dense.weight', 'encoder.layer.1.intermediate.dense.bias', 'encoder.layer.3.intermediate.dense.weight', 'encoder.layer.0.attention.self.query.bias', 'encoder.layer.2.attention.self.value.bias', 'encoder.layer.2.attention.output.LayerNorm.bias', 'encoder.layer.4.intermediate.dense.bias', 'encoder.layer.5.attention.self.query.bias', 'encoder.layer.4.intermediate.dense.weight', 'encoder.layer.5.output.LayerNorm.weight', 'encoder.layer.3.attention.output.dense.bias', 'encoder.layer.4.output.dense.bias', 'encoder.layer.2.output.LayerNorm.bias', 'encoder.layer.0.attention.self.query.weight', 'encoder.layer.4.attention.self.query.bias', 'encoder.layer.0.intermediate.dense.bias', 'encoder.layer.2.attention.self.query.weight', 'embeddings.position_embeddings.weight', 'encoder.layer.4.attention.self.key.weight', 'encoder.layer.0.attention.output.dense.bias', 'encoder.layer.3.output.LayerNorm.bias', 'encoder.layer.4.attention.output.dense.bias', 'encoder.layer.5.output.dense.bias', 'encoder.layer.4.output.LayerNorm.weight', 'encoder.layer.2.attention.output.dense.weight', 'embeddings.LayerNorm.bias', 'encoder.layer.3.attention.self.value.weight', 'encoder.layer.2.attention.output.LayerNorm.weight', 'encoder.layer.5.attention.output.dense.weight', 'encoder.layer.3.intermediate.dense.bias', 'encoder.layer.1.output.LayerNorm.weight', 'encoder.layer.3.output.LayerNorm.weight', 'encoder.layer.5.output.dense.weight', 'encoder.layer.0.output.dense.bias', 'encoder.layer.1.attention.self.query.bias', 'encoder.layer.5.attention.self.query.weight', 'encoder.layer.3.attention.self.query.bias', 'encoder.layer.2.output.dense.bias', 'encoder.layer.5.attention.self.value.weight', 'encoder.layer.2.attention.self.value.weight', 'encoder.layer.1.attention.output.LayerNorm.weight', 'encoder.layer.5.intermediate.dense.bias', 'encoder.layer.3.attention.self.value.bias', 'encoder.layer.0.attention.self.key.weight', 'encoder.layer.1.output.dense.bias', 'encoder.layer.1.attention.self.value.weight', 'encoder.layer.1.intermediate.dense.weight', 'encoder.layer.3.output.dense.bias']\n",
            "You should probably TRAIN this model on a down-stream task to be able to use it for predictions and inference.\n"
          ]
        }
      ]
    },
    {
      "cell_type": "markdown",
      "metadata": {
        "id": "9BM77nl6-6tO"
      },
      "source": [
        ""
      ]
    },
    {
      "cell_type": "code",
      "metadata": {
        "id": "yRKN5mgA2nb_"
      },
      "source": [
        "model.cuda();"
      ],
      "execution_count": null,
      "outputs": []
    },
    {
      "cell_type": "code",
      "metadata": {
        "id": "sD20sOc02ssR"
      },
      "source": [
        "if n_gpu >1:\n",
        "    model = torch.nn.DataParallel(model)"
      ],
      "execution_count": null,
      "outputs": []
    },
    {
      "cell_type": "code",
      "metadata": {
        "id": "UGLcJpkm2sf4"
      },
      "source": [
        "# EVALUATION"
      ],
      "execution_count": null,
      "outputs": []
    },
    {
      "cell_type": "code",
      "metadata": {
        "id": "Qh5kbSG40i_E"
      },
      "source": [
        "model.eval();"
      ],
      "execution_count": null,
      "outputs": []
    },
    {
      "cell_type": "code",
      "metadata": {
        "colab": {
          "base_uri": "https://localhost:8080/"
        },
        "id": "7rEuFqdw1hDW",
        "outputId": "137c8842-16ea-49e5-e770-f12d0da026e5"
      },
      "source": [
        "\n",
        "eval_loss, eval_accuracy = 0, 0\n",
        "nb_eval_steps, nb_eval_examples = 0, 0\n",
        "y_true = []\n",
        "y_pred = []\n",
        "\n",
        "print(\"***** Running evaluation *****\")\n",
        "print(\"  Num examples ={}\".format(len(val_inputs)))\n",
        "print(\"  Batch size = {}\".format(batch_num))\n",
        "for step, batch in enumerate(valid_dataloader):\n",
        "    batch = tuple(t.to(device) for t in batch)\n",
        "    input_ids, input_mask, label_ids = batch\n",
        "    \n",
        "#     if step > 2:\n",
        "#         break\n",
        "    \n",
        "    with torch.no_grad():\n",
        "        outputs = model(input_ids, token_type_ids=None,\n",
        "        attention_mask=input_mask,)\n",
        "        # For eval mode, the first result of outputs is logits\n",
        "        logits = outputs[0] \n",
        "    \n",
        "    # Get NER predict result\n",
        "    logits = torch.argmax(F.log_softmax(logits,dim=2),dim=2)\n",
        "    logits = logits.detach().cpu().numpy()\n",
        "    \n",
        "    \n",
        "    # Get NER true result\n",
        "    label_ids = label_ids.to('cpu').numpy()\n",
        "    \n",
        "    \n",
        "    # Only predict the real word, mark=0, will not calculate\n",
        "    input_mask = input_mask.to('cpu').numpy()\n",
        "    \n",
        "    # Compare the valuable predict result\n",
        "    for i,mask in enumerate(input_mask):\n",
        "        # Real one\n",
        "        temp_1 = []\n",
        "        # Predict one\n",
        "        temp_2 = []\n",
        "        \n",
        "        for j, m in enumerate(mask):\n",
        "            # Mark=0, meaning its a pad word, dont compare\n",
        "            if m:\n",
        "                if tag2name[label_ids[i][j]] != \"X\" and tag2name[label_ids[i][j]] != \"[CLS]\" and tag2name[label_ids[i][j]] != \"[SEP]\" : # Exclude the X label\n",
        "                    temp_1.append(tag2name[label_ids[i][j]])\n",
        "                    temp_2.append(tag2name[logits[i][j]])\n",
        "            else:\n",
        "                break\n",
        "        \n",
        "            \n",
        "        y_true.append(temp_1)\n",
        "        y_pred.append(temp_2)\n",
        "\n",
        "        \n",
        "\n",
        "print(\"f1 socre: %f\"%(f1_score(y_true, y_pred)))\n",
        "print(\"Accuracy score: %f\"%(accuracy_score(y_true, y_pred)))\n",
        "\n",
        "# Get acc , recall, F1 result report\n",
        "report = classification_report(y_true, y_pred,digits=4)\n",
        "\n",
        "# Save the report into file\n",
        "# output_eval_file = os.path.join('/content/drive/MyDrive/BERT/NER Corpus/bert-base-multilingual-cased', \"eval_results.txt\")\n",
        "output_eval_file = os.path.join(bert_out_address, \"eval_results.txt\")\n",
        "with open(output_eval_file, \"w\") as writer:\n",
        "    print(\"***** Eval results *****\")\n",
        "    print(\"\\n%s\"%(report))\n",
        "    print(\"f1 socre: %f\"%(f1_score(y_true, y_pred)))\n",
        "    print(\"Accuracy score: %f\"%(accuracy_score(y_true, y_pred)))\n",
        "    \n",
        "    writer.write(\"f1 socre:\\n\")\n",
        "    writer.write(str(f1_score(y_true, y_pred)))\n",
        "    writer.write(\"\\n\\nAccuracy score:\\n\")\n",
        "    writer.write(str(accuracy_score(y_true, y_pred)))\n",
        "    writer.write(\"\\n\\n\")  \n",
        "    writer.write(report)"
      ],
      "execution_count": null,
      "outputs": [
        {
          "output_type": "stream",
          "name": "stdout",
          "text": [
            "***** Running evaluation *****\n",
            "  Num examples =1904\n",
            "  Batch size = 32\n"
          ]
        },
        {
          "output_type": "stream",
          "name": "stderr",
          "text": [
            "/usr/local/lib/python3.7/dist-packages/seqeval/metrics/sequence_labeling.py:171: UserWarning: o seems not to be NE tag.\n",
            "  warnings.warn('{} seems not to be NE tag.'.format(chunk))\n",
            "/usr/local/lib/python3.7/dist-packages/seqeval/metrics/sequence_labeling.py:171: UserWarning: [CLS] seems not to be NE tag.\n",
            "  warnings.warn('{} seems not to be NE tag.'.format(chunk))\n",
            "/usr/local/lib/python3.7/dist-packages/seqeval/metrics/sequence_labeling.py:171: UserWarning: [SEP] seems not to be NE tag.\n",
            "  warnings.warn('{} seems not to be NE tag.'.format(chunk))\n",
            "/usr/local/lib/python3.7/dist-packages/seqeval/metrics/sequence_labeling.py:171: UserWarning: X seems not to be NE tag.\n",
            "  warnings.warn('{} seems not to be NE tag.'.format(chunk))\n"
          ]
        },
        {
          "output_type": "stream",
          "name": "stdout",
          "text": [
            "f1 socre: 0.002565\n",
            "Accuracy score: 0.001251\n"
          ]
        },
        {
          "output_type": "stream",
          "name": "stderr",
          "text": [
            "/usr/local/lib/python3.7/dist-packages/seqeval/metrics/v1.py:57: UndefinedMetricWarning: Recall and F-score are ill-defined and being set to 0.0 in labels with no true samples. Use `zero_division` parameter to control this behavior.\n",
            "  _warn_prf(average, modifier, msg_start, len(result))\n"
          ]
        },
        {
          "output_type": "stream",
          "name": "stdout",
          "text": [
            "***** Eval results *****\n",
            "\n",
            "               precision    recall  f1-score   support\n",
            "\n",
            "     ARTIFACT     0.0000    0.0000    0.0000       104\n",
            "         CLS]     0.0000    0.0000    0.0000         0\n",
            "        COUNT     0.0000    0.0000    0.0000       201\n",
            "         DATE     0.0000    0.0000    0.0000        17\n",
            "          DAY     0.0000    0.0000    0.0000         3\n",
            "      DISEASE     0.0000    0.0000    0.0000        12\n",
            "     DISTANCE     0.0000    0.0000    0.0000        12\n",
            "       ENAMEX     0.0000    0.0000    0.0000         0\n",
            "ENTERTAINMENT     0.0000    0.0000    0.0000         9\n",
            "   FACILITIES     0.0111    0.2000    0.0211         5\n",
            "    LIVTHINGS     0.0027    0.0429    0.0050        70\n",
            "     LOCATION     0.0258    0.0122    0.0166       328\n",
            "   LOCOMOTIVE     0.0005    0.0769    0.0011        13\n",
            "    MATERIALS     0.0124    0.0989    0.0221        91\n",
            "        MONEY     0.0000    0.0000    0.0000         5\n",
            "        MONTH     0.0022    0.0556    0.0043        36\n",
            " ORGANIZATION     0.0000    0.0000    0.0000        44\n",
            "       PERIOD     0.0000    0.0000    0.0000        30\n",
            "       PERSON     0.0000    0.0000    0.0000       369\n",
            "       PLANTS     0.0000    0.0000    0.0000         6\n",
            "     QUANTITY     0.0000    0.0000    0.0000        11\n",
            "         SDAY     0.0000    0.0000    0.0000         0\n",
            "         SEP]     0.0000    0.0000    0.0000         0\n",
            "         TIME     0.0000    0.0000    0.0000        16\n",
            "         YEAR     0.0000    0.0000    0.0000       116\n",
            "            _     0.1250    0.0010    0.0020       976\n",
            "\n",
            "    micro avg     0.0015    0.0085    0.0026      2474\n",
            "    macro avg     0.0069    0.0187    0.0028      2474\n",
            " weighted avg     0.0533    0.0085    0.0041      2474\n",
            "\n",
            "f1 socre: 0.002565\n",
            "Accuracy score: 0.001251\n"
          ]
        }
      ]
    },
    {
      "cell_type": "code",
      "metadata": {
        "id": "Kxx9PnH624x6"
      },
      "source": [
        ""
      ],
      "execution_count": null,
      "outputs": []
    },
    {
      "cell_type": "code",
      "metadata": {
        "id": "iDEgFkqZ24tp"
      },
      "source": [
        ""
      ],
      "execution_count": null,
      "outputs": []
    },
    {
      "cell_type": "code",
      "metadata": {
        "id": "UZxHt-Gr3Auh"
      },
      "source": [
        "save_model_address = 'ashiNLP/bert_multilingual_model/hindi'"
      ],
      "execution_count": null,
      "outputs": []
    },
    {
      "cell_type": "code",
      "metadata": {
        "id": "KuftMJhs3GnU"
      },
      "source": [
        "save_model = BertForTokenClassification.from_pretrained(save_model_address,num_labels=len(tag2idx))"
      ],
      "execution_count": null,
      "outputs": []
    },
    {
      "cell_type": "code",
      "metadata": {
        "id": "mxlfFFW7_W1X"
      },
      "source": [
        "tokenizer = BertTokenizer.from_pretrained(save_model_address,do_lower_case=False)"
      ],
      "execution_count": null,
      "outputs": []
    },
    {
      "cell_type": "code",
      "metadata": {
        "id": "gW2tjB1__QRt"
      },
      "source": [
        "# predict\n",
        "test_query = \"मैं 20 साल से दिल्ली में रहता हूं\""
      ],
      "execution_count": null,
      "outputs": []
    },
    {
      "cell_type": "code",
      "metadata": {
        "colab": {
          "base_uri": "https://localhost:8080/"
        },
        "id": "URkmY1V8_g7r",
        "outputId": "f5405fe8-dc9b-4396-a722-57ab404acf7b"
      },
      "source": [
        "tokenized_texts = []\n",
        "\n",
        "temp_token = []\n",
        "temp_token.append('[CLS]')\n",
        "token_list = tokenizer.tokenize(test_query)\n",
        "\n",
        "token_list"
      ],
      "execution_count": null,
      "outputs": [
        {
          "output_type": "execute_result",
          "data": {
            "text/plain": [
              "['म', '##ैं', '20', 'साल', 'से', 'दिल्ली', 'में', 'रहता', 'ह', '##ू', '##ं']"
            ]
          },
          "metadata": {},
          "execution_count": 208
        }
      ]
    },
    {
      "cell_type": "code",
      "metadata": {
        "id": "DRoAFtcUANSu"
      },
      "source": [
        "for m,token in enumerate(token_list):\n",
        "    temp_token.append(token)"
      ],
      "execution_count": null,
      "outputs": []
    },
    {
      "cell_type": "code",
      "metadata": {
        "id": "hR-T98orAQJK"
      },
      "source": [
        "if len(temp_token) > max_len-1:\n",
        "    temp_token= temp_token[:max_len-1]"
      ],
      "execution_count": null,
      "outputs": []
    },
    {
      "cell_type": "code",
      "metadata": {
        "colab": {
          "base_uri": "https://localhost:8080/"
        },
        "id": "uS-JcL-QAR7C",
        "outputId": "8e8ab097-e4d3-47f1-d369-a11e302a7c61"
      },
      "source": [
        "temp_token.append('[SEP]')\n",
        "temp_token"
      ],
      "execution_count": null,
      "outputs": [
        {
          "output_type": "execute_result",
          "data": {
            "text/plain": [
              "['[CLS]',\n",
              " 'म',\n",
              " '##ैं',\n",
              " '20',\n",
              " 'साल',\n",
              " 'से',\n",
              " 'दिल्ली',\n",
              " 'में',\n",
              " 'रहता',\n",
              " 'ह',\n",
              " '##ू',\n",
              " '##ं',\n",
              " '[SEP]']"
            ]
          },
          "metadata": {},
          "execution_count": 211
        }
      ]
    },
    {
      "cell_type": "code",
      "metadata": {
        "id": "iV0TvoQoAUg6"
      },
      "source": [
        "tokenized_texts.append(temp_token)"
      ],
      "execution_count": null,
      "outputs": []
    },
    {
      "cell_type": "code",
      "metadata": {
        "colab": {
          "base_uri": "https://localhost:8080/"
        },
        "id": "bFCz19GOAWWS",
        "outputId": "8200ca71-809b-4834-f1dd-acbafbb017c9"
      },
      "source": [
        "input_ids = pad_sequences([tokenizer.convert_tokens_to_ids(txt) for txt in tokenized_texts],\n",
        "                          maxlen=max_len, dtype=\"long\", truncating=\"post\", padding=\"post\")\n",
        "print(input_ids[0])\n"
      ],
      "execution_count": null,
      "outputs": [
        {
          "output_type": "stream",
          "name": "stdout",
          "text": [
            "[  101   889 99007 10197 53749 11072 44293 10532 90213   899 15778 14018\n",
            "   102     0     0     0     0     0     0     0     0     0     0     0\n",
            "     0     0     0     0     0     0     0     0     0     0     0     0\n",
            "     0     0     0     0     0     0     0     0     0]\n"
          ]
        }
      ]
    },
    {
      "cell_type": "code",
      "metadata": {
        "id": "2wD18-R_AYk2"
      },
      "source": [
        "# For fine tune of predict, with token mask is 1,pad token is 0\n",
        "attention_masks = [[int(i>0) for i in ii] for ii in input_ids]\n",
        "attention_masks[0];"
      ],
      "execution_count": null,
      "outputs": []
    },
    {
      "cell_type": "code",
      "metadata": {
        "id": "yPN9-zyNAZ4i"
      },
      "source": [
        "\n",
        "segment_ids = [[0] * len(input_id) for input_id in input_ids]\n",
        "segment_ids[0];\n"
      ],
      "execution_count": null,
      "outputs": []
    },
    {
      "cell_type": "code",
      "metadata": {
        "id": "FhMHVsrGAcUO"
      },
      "source": [
        "input_ids = torch.tensor(input_ids)\n",
        "attention_masks = torch.tensor(attention_masks)\n",
        "segment_ids = torch.tensor(segment_ids)"
      ],
      "execution_count": null,
      "outputs": []
    },
    {
      "cell_type": "code",
      "metadata": {
        "id": "-NhvCm1BAeB2"
      },
      "source": [
        "model.eval();"
      ],
      "execution_count": null,
      "outputs": []
    },
    {
      "cell_type": "code",
      "metadata": {
        "id": "ChbEoly8DWin"
      },
      "source": [
        "with torch.no_grad():\n",
        "        outputs = save_model(input_ids, token_type_ids=None,\n",
        "        attention_mask=None,)\n",
        "        # For eval mode, the first result of outputs is logits\n",
        "        logits = outputs[0] "
      ],
      "execution_count": null,
      "outputs": []
    },
    {
      "cell_type": "code",
      "metadata": {
        "colab": {
          "base_uri": "https://localhost:8080/"
        },
        "id": "iOXXUbrG_lI8",
        "outputId": "97a5f965-ab8a-4fc2-8ec3-a2485876e785"
      },
      "source": [
        "predict_results = logits.detach().cpu().numpy()\n",
        "predict_results.shape\n"
      ],
      "execution_count": null,
      "outputs": [
        {
          "output_type": "execute_result",
          "data": {
            "text/plain": [
              "(1, 45, 48)"
            ]
          },
          "metadata": {},
          "execution_count": 219
        }
      ]
    },
    {
      "cell_type": "code",
      "metadata": {
        "colab": {
          "base_uri": "https://localhost:8080/"
        },
        "id": "0nn9q7XN_nj4",
        "outputId": "50955df6-a437-4639-9751-9099d551119f"
      },
      "source": [
        "from scipy.special import softmax\n",
        "result_arrays_soft = softmax(predict_results[0])\n",
        "result_arrays_soft[0]\n"
      ],
      "execution_count": null,
      "outputs": [
        {
          "output_type": "execute_result",
          "data": {
            "text/plain": [
              "array([7.8821239e-07, 1.6101421e-07, 2.6199646e-07, 2.8371966e-07,\n",
              "       6.1914130e-07, 3.2382064e-07, 1.4583509e-07, 3.3334899e-07,\n",
              "       2.4013846e-07, 6.4514126e-07, 1.8731113e-07, 2.2766055e-07,\n",
              "       3.0222401e-07, 4.9296852e-07, 3.7287452e-07, 2.1302953e-06,\n",
              "       7.7263093e-07, 1.1945436e-07, 1.0083087e-07, 4.4969744e-07,\n",
              "       5.6775457e-07, 4.4234781e-07, 5.4370292e-07, 2.9001552e-07,\n",
              "       2.0586785e-07, 2.0982175e-07, 3.9802552e-07, 3.3990912e-07,\n",
              "       1.7846563e-07, 3.3698811e-07, 4.6914303e-07, 2.2363588e-07,\n",
              "       3.5271682e-07, 1.7047587e-07, 2.4020099e-07, 2.9659734e-07,\n",
              "       9.6733538e-07, 2.8670701e-07, 5.0679699e-07, 4.0585962e-07,\n",
              "       1.8743552e-07, 1.0702756e-05, 1.5184305e-05, 2.7657900e-02,\n",
              "       1.9282452e-06, 1.7326340e-07, 3.2972500e-07, 3.1048972e-07],\n",
              "      dtype=float32)"
            ]
          },
          "metadata": {},
          "execution_count": 220
        }
      ]
    },
    {
      "cell_type": "code",
      "metadata": {
        "colab": {
          "base_uri": "https://localhost:8080/"
        },
        "id": "bDU__QQk_v4Q",
        "outputId": "d1615059-3eba-4bad-ac28-218cd69a2e5f"
      },
      "source": [
        "result_array = result_arrays_soft\n",
        "len(result_array),len(result_array[0])"
      ],
      "execution_count": null,
      "outputs": [
        {
          "output_type": "execute_result",
          "data": {
            "text/plain": [
              "(45, 48)"
            ]
          },
          "metadata": {},
          "execution_count": 221
        }
      ]
    },
    {
      "cell_type": "code",
      "metadata": {
        "colab": {
          "base_uri": "https://localhost:8080/"
        },
        "id": "IWx1yoIv_yac",
        "outputId": "06ba9397-c44e-4d42-ac27-c569a6b0c231"
      },
      "source": [
        "# Get each token final predict tag index result\n",
        "result_list = np.argmax(result_array,axis=-1)\n",
        "result_list"
      ],
      "execution_count": null,
      "outputs": [
        {
          "output_type": "execute_result",
          "data": {
            "text/plain": [
              "array([43, 42, 41, 14, 13, 42, 42, 42, 42, 42, 41, 41, 42, 42, 42, 42, 42,\n",
              "       42, 42, 42, 42, 42, 42, 42, 42, 42, 42, 42, 42, 42, 42, 42, 42, 42,\n",
              "       42, 42, 42, 42, 42, 42, 42, 42, 42, 42, 42])"
            ]
          },
          "metadata": {},
          "execution_count": 222
        }
      ]
    },
    {
      "cell_type": "code",
      "metadata": {
        "colab": {
          "base_uri": "https://localhost:8080/"
        },
        "id": "5LIlBZlX_2Ws",
        "outputId": "d312c1dc-e2ee-43ed-9fd2-d96dbdc60f60"
      },
      "source": [
        "for i, mark in enumerate(attention_masks[0]):\n",
        "    if mark>0:\n",
        "        print(\"Token:%s\"%(temp_token[i]))\n",
        "#         print(\"Tag:%s\"%(result_list[i]))\n",
        "        print(\"Predict_Tag:%s\"%(tag2name[result_list[i]]))\n",
        "        #print(\"Posibility:%f\"%(result_array[i][result_list[i]]))\n",
        "        print()"
      ],
      "execution_count": null,
      "outputs": [
        {
          "output_type": "stream",
          "name": "stdout",
          "text": [
            "Token:[CLS]\n",
            "Predict_Tag:[CLS]\n",
            "\n",
            "Token:म\n",
            "Predict_Tag:o\n",
            "\n",
            "Token:##ैं\n",
            "Predict_Tag:X\n",
            "\n",
            "Token:20\n",
            "Predict_Tag:B-PERIOD\n",
            "\n",
            "Token:साल\n",
            "Predict_Tag:I-PERIOD\n",
            "\n",
            "Token:से\n",
            "Predict_Tag:o\n",
            "\n",
            "Token:दिल्ली\n",
            "Predict_Tag:o\n",
            "\n",
            "Token:में\n",
            "Predict_Tag:o\n",
            "\n",
            "Token:रहता\n",
            "Predict_Tag:o\n",
            "\n",
            "Token:ह\n",
            "Predict_Tag:o\n",
            "\n",
            "Token:##ू\n",
            "Predict_Tag:X\n",
            "\n",
            "Token:##ं\n",
            "Predict_Tag:X\n",
            "\n",
            "Token:[SEP]\n",
            "Predict_Tag:o\n",
            "\n"
          ]
        }
      ]
    },
    {
      "cell_type": "code",
      "metadata": {
        "id": "udYH9HMw_37A"
      },
      "source": [
        ""
      ],
      "execution_count": null,
      "outputs": []
    }
  ]
}