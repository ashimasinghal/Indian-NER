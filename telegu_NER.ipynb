{
  "nbformat": 4,
  "nbformat_minor": 0,
  "metadata": {
    "colab": {
      "name": "telegu_NER.ipynb",
      "provenance": [],
      "authorship_tag": "ABX9TyPRvGmkV07FhLw2wBV8GBAm",
      "include_colab_link": true
    },
    "kernelspec": {
      "name": "python3",
      "display_name": "Python 3"
    },
    "language_info": {
      "name": "python"
    },
    "widgets": {
      "application/vnd.jupyter.widget-state+json": {
        "2132438888f040408128d63356277ac9": {
          "model_module": "@jupyter-widgets/controls",
          "model_name": "HBoxModel",
          "model_module_version": "1.5.0",
          "state": {
            "_view_name": "HBoxView",
            "_dom_classes": [],
            "_model_name": "HBoxModel",
            "_view_module": "@jupyter-widgets/controls",
            "_model_module_version": "1.5.0",
            "_view_count": null,
            "_view_module_version": "1.5.0",
            "box_style": "",
            "layout": "IPY_MODEL_2b0bf8617d83449689507f3f3c9dd015",
            "_model_module": "@jupyter-widgets/controls",
            "children": [
              "IPY_MODEL_ba8babea846e4c7db16662fd642ce7c9",
              "IPY_MODEL_c38ae97a63004abd8396407f633da512",
              "IPY_MODEL_210548ebdd624fddba40002979c41343"
            ]
          }
        },
        "2b0bf8617d83449689507f3f3c9dd015": {
          "model_module": "@jupyter-widgets/base",
          "model_name": "LayoutModel",
          "model_module_version": "1.2.0",
          "state": {
            "_view_name": "LayoutView",
            "grid_template_rows": null,
            "right": null,
            "justify_content": null,
            "_view_module": "@jupyter-widgets/base",
            "overflow": null,
            "_model_module_version": "1.2.0",
            "_view_count": null,
            "flex_flow": null,
            "width": null,
            "min_width": null,
            "border": null,
            "align_items": null,
            "bottom": null,
            "_model_module": "@jupyter-widgets/base",
            "top": null,
            "grid_column": null,
            "overflow_y": null,
            "overflow_x": null,
            "grid_auto_flow": null,
            "grid_area": null,
            "grid_template_columns": null,
            "flex": null,
            "_model_name": "LayoutModel",
            "justify_items": null,
            "grid_row": null,
            "max_height": null,
            "align_content": null,
            "visibility": null,
            "align_self": null,
            "height": null,
            "min_height": null,
            "padding": null,
            "grid_auto_rows": null,
            "grid_gap": null,
            "max_width": null,
            "order": null,
            "_view_module_version": "1.2.0",
            "grid_template_areas": null,
            "object_position": null,
            "object_fit": null,
            "grid_auto_columns": null,
            "margin": null,
            "display": null,
            "left": null
          }
        },
        "ba8babea846e4c7db16662fd642ce7c9": {
          "model_module": "@jupyter-widgets/controls",
          "model_name": "HTMLModel",
          "model_module_version": "1.5.0",
          "state": {
            "_view_name": "HTMLView",
            "style": "IPY_MODEL_9dc6ece71da1497db2ef9fc1cc8eb06c",
            "_dom_classes": [],
            "description": "",
            "_model_name": "HTMLModel",
            "placeholder": "​",
            "_view_module": "@jupyter-widgets/controls",
            "_model_module_version": "1.5.0",
            "value": "Downloading: 100%",
            "_view_count": null,
            "_view_module_version": "1.5.0",
            "description_tooltip": null,
            "_model_module": "@jupyter-widgets/controls",
            "layout": "IPY_MODEL_48a4dcae11ec4993879e2f9cc85fd5ec"
          }
        },
        "c38ae97a63004abd8396407f633da512": {
          "model_module": "@jupyter-widgets/controls",
          "model_name": "FloatProgressModel",
          "model_module_version": "1.5.0",
          "state": {
            "_view_name": "ProgressView",
            "style": "IPY_MODEL_56cb99184c7e4ee198beafc129cfdc48",
            "_dom_classes": [],
            "description": "",
            "_model_name": "FloatProgressModel",
            "bar_style": "success",
            "max": 995526,
            "_view_module": "@jupyter-widgets/controls",
            "_model_module_version": "1.5.0",
            "value": 995526,
            "_view_count": null,
            "_view_module_version": "1.5.0",
            "orientation": "horizontal",
            "min": 0,
            "description_tooltip": null,
            "_model_module": "@jupyter-widgets/controls",
            "layout": "IPY_MODEL_43e826b59d35491cbc60c4dc7947ff84"
          }
        },
        "210548ebdd624fddba40002979c41343": {
          "model_module": "@jupyter-widgets/controls",
          "model_name": "HTMLModel",
          "model_module_version": "1.5.0",
          "state": {
            "_view_name": "HTMLView",
            "style": "IPY_MODEL_c9c7769177f443c7b3fdc627399eb601",
            "_dom_classes": [],
            "description": "",
            "_model_name": "HTMLModel",
            "placeholder": "​",
            "_view_module": "@jupyter-widgets/controls",
            "_model_module_version": "1.5.0",
            "value": " 972k/972k [00:00&lt;00:00, 2.61MB/s]",
            "_view_count": null,
            "_view_module_version": "1.5.0",
            "description_tooltip": null,
            "_model_module": "@jupyter-widgets/controls",
            "layout": "IPY_MODEL_82b31d3c69784755bfba2f427292a863"
          }
        },
        "9dc6ece71da1497db2ef9fc1cc8eb06c": {
          "model_module": "@jupyter-widgets/controls",
          "model_name": "DescriptionStyleModel",
          "model_module_version": "1.5.0",
          "state": {
            "_view_name": "StyleView",
            "_model_name": "DescriptionStyleModel",
            "description_width": "",
            "_view_module": "@jupyter-widgets/base",
            "_model_module_version": "1.5.0",
            "_view_count": null,
            "_view_module_version": "1.2.0",
            "_model_module": "@jupyter-widgets/controls"
          }
        },
        "48a4dcae11ec4993879e2f9cc85fd5ec": {
          "model_module": "@jupyter-widgets/base",
          "model_name": "LayoutModel",
          "model_module_version": "1.2.0",
          "state": {
            "_view_name": "LayoutView",
            "grid_template_rows": null,
            "right": null,
            "justify_content": null,
            "_view_module": "@jupyter-widgets/base",
            "overflow": null,
            "_model_module_version": "1.2.0",
            "_view_count": null,
            "flex_flow": null,
            "width": null,
            "min_width": null,
            "border": null,
            "align_items": null,
            "bottom": null,
            "_model_module": "@jupyter-widgets/base",
            "top": null,
            "grid_column": null,
            "overflow_y": null,
            "overflow_x": null,
            "grid_auto_flow": null,
            "grid_area": null,
            "grid_template_columns": null,
            "flex": null,
            "_model_name": "LayoutModel",
            "justify_items": null,
            "grid_row": null,
            "max_height": null,
            "align_content": null,
            "visibility": null,
            "align_self": null,
            "height": null,
            "min_height": null,
            "padding": null,
            "grid_auto_rows": null,
            "grid_gap": null,
            "max_width": null,
            "order": null,
            "_view_module_version": "1.2.0",
            "grid_template_areas": null,
            "object_position": null,
            "object_fit": null,
            "grid_auto_columns": null,
            "margin": null,
            "display": null,
            "left": null
          }
        },
        "56cb99184c7e4ee198beafc129cfdc48": {
          "model_module": "@jupyter-widgets/controls",
          "model_name": "ProgressStyleModel",
          "model_module_version": "1.5.0",
          "state": {
            "_view_name": "StyleView",
            "_model_name": "ProgressStyleModel",
            "description_width": "",
            "_view_module": "@jupyter-widgets/base",
            "_model_module_version": "1.5.0",
            "_view_count": null,
            "_view_module_version": "1.2.0",
            "bar_color": null,
            "_model_module": "@jupyter-widgets/controls"
          }
        },
        "43e826b59d35491cbc60c4dc7947ff84": {
          "model_module": "@jupyter-widgets/base",
          "model_name": "LayoutModel",
          "model_module_version": "1.2.0",
          "state": {
            "_view_name": "LayoutView",
            "grid_template_rows": null,
            "right": null,
            "justify_content": null,
            "_view_module": "@jupyter-widgets/base",
            "overflow": null,
            "_model_module_version": "1.2.0",
            "_view_count": null,
            "flex_flow": null,
            "width": null,
            "min_width": null,
            "border": null,
            "align_items": null,
            "bottom": null,
            "_model_module": "@jupyter-widgets/base",
            "top": null,
            "grid_column": null,
            "overflow_y": null,
            "overflow_x": null,
            "grid_auto_flow": null,
            "grid_area": null,
            "grid_template_columns": null,
            "flex": null,
            "_model_name": "LayoutModel",
            "justify_items": null,
            "grid_row": null,
            "max_height": null,
            "align_content": null,
            "visibility": null,
            "align_self": null,
            "height": null,
            "min_height": null,
            "padding": null,
            "grid_auto_rows": null,
            "grid_gap": null,
            "max_width": null,
            "order": null,
            "_view_module_version": "1.2.0",
            "grid_template_areas": null,
            "object_position": null,
            "object_fit": null,
            "grid_auto_columns": null,
            "margin": null,
            "display": null,
            "left": null
          }
        },
        "c9c7769177f443c7b3fdc627399eb601": {
          "model_module": "@jupyter-widgets/controls",
          "model_name": "DescriptionStyleModel",
          "model_module_version": "1.5.0",
          "state": {
            "_view_name": "StyleView",
            "_model_name": "DescriptionStyleModel",
            "description_width": "",
            "_view_module": "@jupyter-widgets/base",
            "_model_module_version": "1.5.0",
            "_view_count": null,
            "_view_module_version": "1.2.0",
            "_model_module": "@jupyter-widgets/controls"
          }
        },
        "82b31d3c69784755bfba2f427292a863": {
          "model_module": "@jupyter-widgets/base",
          "model_name": "LayoutModel",
          "model_module_version": "1.2.0",
          "state": {
            "_view_name": "LayoutView",
            "grid_template_rows": null,
            "right": null,
            "justify_content": null,
            "_view_module": "@jupyter-widgets/base",
            "overflow": null,
            "_model_module_version": "1.2.0",
            "_view_count": null,
            "flex_flow": null,
            "width": null,
            "min_width": null,
            "border": null,
            "align_items": null,
            "bottom": null,
            "_model_module": "@jupyter-widgets/base",
            "top": null,
            "grid_column": null,
            "overflow_y": null,
            "overflow_x": null,
            "grid_auto_flow": null,
            "grid_area": null,
            "grid_template_columns": null,
            "flex": null,
            "_model_name": "LayoutModel",
            "justify_items": null,
            "grid_row": null,
            "max_height": null,
            "align_content": null,
            "visibility": null,
            "align_self": null,
            "height": null,
            "min_height": null,
            "padding": null,
            "grid_auto_rows": null,
            "grid_gap": null,
            "max_width": null,
            "order": null,
            "_view_module_version": "1.2.0",
            "grid_template_areas": null,
            "object_position": null,
            "object_fit": null,
            "grid_auto_columns": null,
            "margin": null,
            "display": null,
            "left": null
          }
        },
        "e245db4e04c44b6ca850172190a30e3e": {
          "model_module": "@jupyter-widgets/controls",
          "model_name": "HBoxModel",
          "model_module_version": "1.5.0",
          "state": {
            "_view_name": "HBoxView",
            "_dom_classes": [],
            "_model_name": "HBoxModel",
            "_view_module": "@jupyter-widgets/controls",
            "_model_module_version": "1.5.0",
            "_view_count": null,
            "_view_module_version": "1.5.0",
            "box_style": "",
            "layout": "IPY_MODEL_7e8cb0c42e8c4fc5b23fb5274f91f5f8",
            "_model_module": "@jupyter-widgets/controls",
            "children": [
              "IPY_MODEL_fe717db5a57c415aae18394a48f0e341",
              "IPY_MODEL_810be51fd9b34f929885fcc499818df2",
              "IPY_MODEL_aee12ce01f5548c88799ea75df225f0e"
            ]
          }
        },
        "7e8cb0c42e8c4fc5b23fb5274f91f5f8": {
          "model_module": "@jupyter-widgets/base",
          "model_name": "LayoutModel",
          "model_module_version": "1.2.0",
          "state": {
            "_view_name": "LayoutView",
            "grid_template_rows": null,
            "right": null,
            "justify_content": null,
            "_view_module": "@jupyter-widgets/base",
            "overflow": null,
            "_model_module_version": "1.2.0",
            "_view_count": null,
            "flex_flow": null,
            "width": null,
            "min_width": null,
            "border": null,
            "align_items": null,
            "bottom": null,
            "_model_module": "@jupyter-widgets/base",
            "top": null,
            "grid_column": null,
            "overflow_y": null,
            "overflow_x": null,
            "grid_auto_flow": null,
            "grid_area": null,
            "grid_template_columns": null,
            "flex": null,
            "_model_name": "LayoutModel",
            "justify_items": null,
            "grid_row": null,
            "max_height": null,
            "align_content": null,
            "visibility": null,
            "align_self": null,
            "height": null,
            "min_height": null,
            "padding": null,
            "grid_auto_rows": null,
            "grid_gap": null,
            "max_width": null,
            "order": null,
            "_view_module_version": "1.2.0",
            "grid_template_areas": null,
            "object_position": null,
            "object_fit": null,
            "grid_auto_columns": null,
            "margin": null,
            "display": null,
            "left": null
          }
        },
        "fe717db5a57c415aae18394a48f0e341": {
          "model_module": "@jupyter-widgets/controls",
          "model_name": "HTMLModel",
          "model_module_version": "1.5.0",
          "state": {
            "_view_name": "HTMLView",
            "style": "IPY_MODEL_c7b41b92e78944e59308ab127d6d86ca",
            "_dom_classes": [],
            "description": "",
            "_model_name": "HTMLModel",
            "placeholder": "​",
            "_view_module": "@jupyter-widgets/controls",
            "_model_module_version": "1.5.0",
            "value": "Downloading: 100%",
            "_view_count": null,
            "_view_module_version": "1.5.0",
            "description_tooltip": null,
            "_model_module": "@jupyter-widgets/controls",
            "layout": "IPY_MODEL_59ee600e745c48209abb7578d704714c"
          }
        },
        "810be51fd9b34f929885fcc499818df2": {
          "model_module": "@jupyter-widgets/controls",
          "model_name": "FloatProgressModel",
          "model_module_version": "1.5.0",
          "state": {
            "_view_name": "ProgressView",
            "style": "IPY_MODEL_bf377540bcd74c26ad3a0b9efffe72b6",
            "_dom_classes": [],
            "description": "",
            "_model_name": "FloatProgressModel",
            "bar_style": "success",
            "max": 29,
            "_view_module": "@jupyter-widgets/controls",
            "_model_module_version": "1.5.0",
            "value": 29,
            "_view_count": null,
            "_view_module_version": "1.5.0",
            "orientation": "horizontal",
            "min": 0,
            "description_tooltip": null,
            "_model_module": "@jupyter-widgets/controls",
            "layout": "IPY_MODEL_661e1d2a244745b7a1b3b41fc4e48360"
          }
        },
        "aee12ce01f5548c88799ea75df225f0e": {
          "model_module": "@jupyter-widgets/controls",
          "model_name": "HTMLModel",
          "model_module_version": "1.5.0",
          "state": {
            "_view_name": "HTMLView",
            "style": "IPY_MODEL_15fc761a1c3d442792ceecc17c739b3e",
            "_dom_classes": [],
            "description": "",
            "_model_name": "HTMLModel",
            "placeholder": "​",
            "_view_module": "@jupyter-widgets/controls",
            "_model_module_version": "1.5.0",
            "value": " 29.0/29.0 [00:00&lt;00:00, 537B/s]",
            "_view_count": null,
            "_view_module_version": "1.5.0",
            "description_tooltip": null,
            "_model_module": "@jupyter-widgets/controls",
            "layout": "IPY_MODEL_c70833057ad546b19e31ea785276c3c2"
          }
        },
        "c7b41b92e78944e59308ab127d6d86ca": {
          "model_module": "@jupyter-widgets/controls",
          "model_name": "DescriptionStyleModel",
          "model_module_version": "1.5.0",
          "state": {
            "_view_name": "StyleView",
            "_model_name": "DescriptionStyleModel",
            "description_width": "",
            "_view_module": "@jupyter-widgets/base",
            "_model_module_version": "1.5.0",
            "_view_count": null,
            "_view_module_version": "1.2.0",
            "_model_module": "@jupyter-widgets/controls"
          }
        },
        "59ee600e745c48209abb7578d704714c": {
          "model_module": "@jupyter-widgets/base",
          "model_name": "LayoutModel",
          "model_module_version": "1.2.0",
          "state": {
            "_view_name": "LayoutView",
            "grid_template_rows": null,
            "right": null,
            "justify_content": null,
            "_view_module": "@jupyter-widgets/base",
            "overflow": null,
            "_model_module_version": "1.2.0",
            "_view_count": null,
            "flex_flow": null,
            "width": null,
            "min_width": null,
            "border": null,
            "align_items": null,
            "bottom": null,
            "_model_module": "@jupyter-widgets/base",
            "top": null,
            "grid_column": null,
            "overflow_y": null,
            "overflow_x": null,
            "grid_auto_flow": null,
            "grid_area": null,
            "grid_template_columns": null,
            "flex": null,
            "_model_name": "LayoutModel",
            "justify_items": null,
            "grid_row": null,
            "max_height": null,
            "align_content": null,
            "visibility": null,
            "align_self": null,
            "height": null,
            "min_height": null,
            "padding": null,
            "grid_auto_rows": null,
            "grid_gap": null,
            "max_width": null,
            "order": null,
            "_view_module_version": "1.2.0",
            "grid_template_areas": null,
            "object_position": null,
            "object_fit": null,
            "grid_auto_columns": null,
            "margin": null,
            "display": null,
            "left": null
          }
        },
        "bf377540bcd74c26ad3a0b9efffe72b6": {
          "model_module": "@jupyter-widgets/controls",
          "model_name": "ProgressStyleModel",
          "model_module_version": "1.5.0",
          "state": {
            "_view_name": "StyleView",
            "_model_name": "ProgressStyleModel",
            "description_width": "",
            "_view_module": "@jupyter-widgets/base",
            "_model_module_version": "1.5.0",
            "_view_count": null,
            "_view_module_version": "1.2.0",
            "bar_color": null,
            "_model_module": "@jupyter-widgets/controls"
          }
        },
        "661e1d2a244745b7a1b3b41fc4e48360": {
          "model_module": "@jupyter-widgets/base",
          "model_name": "LayoutModel",
          "model_module_version": "1.2.0",
          "state": {
            "_view_name": "LayoutView",
            "grid_template_rows": null,
            "right": null,
            "justify_content": null,
            "_view_module": "@jupyter-widgets/base",
            "overflow": null,
            "_model_module_version": "1.2.0",
            "_view_count": null,
            "flex_flow": null,
            "width": null,
            "min_width": null,
            "border": null,
            "align_items": null,
            "bottom": null,
            "_model_module": "@jupyter-widgets/base",
            "top": null,
            "grid_column": null,
            "overflow_y": null,
            "overflow_x": null,
            "grid_auto_flow": null,
            "grid_area": null,
            "grid_template_columns": null,
            "flex": null,
            "_model_name": "LayoutModel",
            "justify_items": null,
            "grid_row": null,
            "max_height": null,
            "align_content": null,
            "visibility": null,
            "align_self": null,
            "height": null,
            "min_height": null,
            "padding": null,
            "grid_auto_rows": null,
            "grid_gap": null,
            "max_width": null,
            "order": null,
            "_view_module_version": "1.2.0",
            "grid_template_areas": null,
            "object_position": null,
            "object_fit": null,
            "grid_auto_columns": null,
            "margin": null,
            "display": null,
            "left": null
          }
        },
        "15fc761a1c3d442792ceecc17c739b3e": {
          "model_module": "@jupyter-widgets/controls",
          "model_name": "DescriptionStyleModel",
          "model_module_version": "1.5.0",
          "state": {
            "_view_name": "StyleView",
            "_model_name": "DescriptionStyleModel",
            "description_width": "",
            "_view_module": "@jupyter-widgets/base",
            "_model_module_version": "1.5.0",
            "_view_count": null,
            "_view_module_version": "1.2.0",
            "_model_module": "@jupyter-widgets/controls"
          }
        },
        "c70833057ad546b19e31ea785276c3c2": {
          "model_module": "@jupyter-widgets/base",
          "model_name": "LayoutModel",
          "model_module_version": "1.2.0",
          "state": {
            "_view_name": "LayoutView",
            "grid_template_rows": null,
            "right": null,
            "justify_content": null,
            "_view_module": "@jupyter-widgets/base",
            "overflow": null,
            "_model_module_version": "1.2.0",
            "_view_count": null,
            "flex_flow": null,
            "width": null,
            "min_width": null,
            "border": null,
            "align_items": null,
            "bottom": null,
            "_model_module": "@jupyter-widgets/base",
            "top": null,
            "grid_column": null,
            "overflow_y": null,
            "overflow_x": null,
            "grid_auto_flow": null,
            "grid_area": null,
            "grid_template_columns": null,
            "flex": null,
            "_model_name": "LayoutModel",
            "justify_items": null,
            "grid_row": null,
            "max_height": null,
            "align_content": null,
            "visibility": null,
            "align_self": null,
            "height": null,
            "min_height": null,
            "padding": null,
            "grid_auto_rows": null,
            "grid_gap": null,
            "max_width": null,
            "order": null,
            "_view_module_version": "1.2.0",
            "grid_template_areas": null,
            "object_position": null,
            "object_fit": null,
            "grid_auto_columns": null,
            "margin": null,
            "display": null,
            "left": null
          }
        },
        "84291a5273bc483e93ad9d2505ff6026": {
          "model_module": "@jupyter-widgets/controls",
          "model_name": "HBoxModel",
          "model_module_version": "1.5.0",
          "state": {
            "_view_name": "HBoxView",
            "_dom_classes": [],
            "_model_name": "HBoxModel",
            "_view_module": "@jupyter-widgets/controls",
            "_model_module_version": "1.5.0",
            "_view_count": null,
            "_view_module_version": "1.5.0",
            "box_style": "",
            "layout": "IPY_MODEL_be44e691d244479aaadc35d57bab09c6",
            "_model_module": "@jupyter-widgets/controls",
            "children": [
              "IPY_MODEL_acc8af31fefd4c7cb999ff1ba56b7f1b",
              "IPY_MODEL_c8814ad3bc5d45d5ba2c8f7deb637f3f",
              "IPY_MODEL_a81f4704b6af4ad9be638956eb95d0f2"
            ]
          }
        },
        "be44e691d244479aaadc35d57bab09c6": {
          "model_module": "@jupyter-widgets/base",
          "model_name": "LayoutModel",
          "model_module_version": "1.2.0",
          "state": {
            "_view_name": "LayoutView",
            "grid_template_rows": null,
            "right": null,
            "justify_content": null,
            "_view_module": "@jupyter-widgets/base",
            "overflow": null,
            "_model_module_version": "1.2.0",
            "_view_count": null,
            "flex_flow": null,
            "width": null,
            "min_width": null,
            "border": null,
            "align_items": null,
            "bottom": null,
            "_model_module": "@jupyter-widgets/base",
            "top": null,
            "grid_column": null,
            "overflow_y": null,
            "overflow_x": null,
            "grid_auto_flow": null,
            "grid_area": null,
            "grid_template_columns": null,
            "flex": null,
            "_model_name": "LayoutModel",
            "justify_items": null,
            "grid_row": null,
            "max_height": null,
            "align_content": null,
            "visibility": null,
            "align_self": null,
            "height": null,
            "min_height": null,
            "padding": null,
            "grid_auto_rows": null,
            "grid_gap": null,
            "max_width": null,
            "order": null,
            "_view_module_version": "1.2.0",
            "grid_template_areas": null,
            "object_position": null,
            "object_fit": null,
            "grid_auto_columns": null,
            "margin": null,
            "display": null,
            "left": null
          }
        },
        "acc8af31fefd4c7cb999ff1ba56b7f1b": {
          "model_module": "@jupyter-widgets/controls",
          "model_name": "HTMLModel",
          "model_module_version": "1.5.0",
          "state": {
            "_view_name": "HTMLView",
            "style": "IPY_MODEL_c8587b833a7a4efb874515e0af1023e5",
            "_dom_classes": [],
            "description": "",
            "_model_name": "HTMLModel",
            "placeholder": "​",
            "_view_module": "@jupyter-widgets/controls",
            "_model_module_version": "1.5.0",
            "value": "Downloading: 100%",
            "_view_count": null,
            "_view_module_version": "1.5.0",
            "description_tooltip": null,
            "_model_module": "@jupyter-widgets/controls",
            "layout": "IPY_MODEL_4c0e236a7560408bb2bd0b85876b2264"
          }
        },
        "c8814ad3bc5d45d5ba2c8f7deb637f3f": {
          "model_module": "@jupyter-widgets/controls",
          "model_name": "FloatProgressModel",
          "model_module_version": "1.5.0",
          "state": {
            "_view_name": "ProgressView",
            "style": "IPY_MODEL_ca3a124ae06b4ee4ae2d2332d8ce322d",
            "_dom_classes": [],
            "description": "",
            "_model_name": "FloatProgressModel",
            "bar_style": "success",
            "max": 1961828,
            "_view_module": "@jupyter-widgets/controls",
            "_model_module_version": "1.5.0",
            "value": 1961828,
            "_view_count": null,
            "_view_module_version": "1.5.0",
            "orientation": "horizontal",
            "min": 0,
            "description_tooltip": null,
            "_model_module": "@jupyter-widgets/controls",
            "layout": "IPY_MODEL_ae2f88d9d2a541129cb94690cecd3c40"
          }
        },
        "a81f4704b6af4ad9be638956eb95d0f2": {
          "model_module": "@jupyter-widgets/controls",
          "model_name": "HTMLModel",
          "model_module_version": "1.5.0",
          "state": {
            "_view_name": "HTMLView",
            "style": "IPY_MODEL_4e660c02246c4208a761a0e3a42e1141",
            "_dom_classes": [],
            "description": "",
            "_model_name": "HTMLModel",
            "placeholder": "​",
            "_view_module": "@jupyter-widgets/controls",
            "_model_module_version": "1.5.0",
            "value": " 1.87M/1.87M [00:00&lt;00:00, 2.74MB/s]",
            "_view_count": null,
            "_view_module_version": "1.5.0",
            "description_tooltip": null,
            "_model_module": "@jupyter-widgets/controls",
            "layout": "IPY_MODEL_db103501206648faa0f8eda92c88a101"
          }
        },
        "c8587b833a7a4efb874515e0af1023e5": {
          "model_module": "@jupyter-widgets/controls",
          "model_name": "DescriptionStyleModel",
          "model_module_version": "1.5.0",
          "state": {
            "_view_name": "StyleView",
            "_model_name": "DescriptionStyleModel",
            "description_width": "",
            "_view_module": "@jupyter-widgets/base",
            "_model_module_version": "1.5.0",
            "_view_count": null,
            "_view_module_version": "1.2.0",
            "_model_module": "@jupyter-widgets/controls"
          }
        },
        "4c0e236a7560408bb2bd0b85876b2264": {
          "model_module": "@jupyter-widgets/base",
          "model_name": "LayoutModel",
          "model_module_version": "1.2.0",
          "state": {
            "_view_name": "LayoutView",
            "grid_template_rows": null,
            "right": null,
            "justify_content": null,
            "_view_module": "@jupyter-widgets/base",
            "overflow": null,
            "_model_module_version": "1.2.0",
            "_view_count": null,
            "flex_flow": null,
            "width": null,
            "min_width": null,
            "border": null,
            "align_items": null,
            "bottom": null,
            "_model_module": "@jupyter-widgets/base",
            "top": null,
            "grid_column": null,
            "overflow_y": null,
            "overflow_x": null,
            "grid_auto_flow": null,
            "grid_area": null,
            "grid_template_columns": null,
            "flex": null,
            "_model_name": "LayoutModel",
            "justify_items": null,
            "grid_row": null,
            "max_height": null,
            "align_content": null,
            "visibility": null,
            "align_self": null,
            "height": null,
            "min_height": null,
            "padding": null,
            "grid_auto_rows": null,
            "grid_gap": null,
            "max_width": null,
            "order": null,
            "_view_module_version": "1.2.0",
            "grid_template_areas": null,
            "object_position": null,
            "object_fit": null,
            "grid_auto_columns": null,
            "margin": null,
            "display": null,
            "left": null
          }
        },
        "ca3a124ae06b4ee4ae2d2332d8ce322d": {
          "model_module": "@jupyter-widgets/controls",
          "model_name": "ProgressStyleModel",
          "model_module_version": "1.5.0",
          "state": {
            "_view_name": "StyleView",
            "_model_name": "ProgressStyleModel",
            "description_width": "",
            "_view_module": "@jupyter-widgets/base",
            "_model_module_version": "1.5.0",
            "_view_count": null,
            "_view_module_version": "1.2.0",
            "bar_color": null,
            "_model_module": "@jupyter-widgets/controls"
          }
        },
        "ae2f88d9d2a541129cb94690cecd3c40": {
          "model_module": "@jupyter-widgets/base",
          "model_name": "LayoutModel",
          "model_module_version": "1.2.0",
          "state": {
            "_view_name": "LayoutView",
            "grid_template_rows": null,
            "right": null,
            "justify_content": null,
            "_view_module": "@jupyter-widgets/base",
            "overflow": null,
            "_model_module_version": "1.2.0",
            "_view_count": null,
            "flex_flow": null,
            "width": null,
            "min_width": null,
            "border": null,
            "align_items": null,
            "bottom": null,
            "_model_module": "@jupyter-widgets/base",
            "top": null,
            "grid_column": null,
            "overflow_y": null,
            "overflow_x": null,
            "grid_auto_flow": null,
            "grid_area": null,
            "grid_template_columns": null,
            "flex": null,
            "_model_name": "LayoutModel",
            "justify_items": null,
            "grid_row": null,
            "max_height": null,
            "align_content": null,
            "visibility": null,
            "align_self": null,
            "height": null,
            "min_height": null,
            "padding": null,
            "grid_auto_rows": null,
            "grid_gap": null,
            "max_width": null,
            "order": null,
            "_view_module_version": "1.2.0",
            "grid_template_areas": null,
            "object_position": null,
            "object_fit": null,
            "grid_auto_columns": null,
            "margin": null,
            "display": null,
            "left": null
          }
        },
        "4e660c02246c4208a761a0e3a42e1141": {
          "model_module": "@jupyter-widgets/controls",
          "model_name": "DescriptionStyleModel",
          "model_module_version": "1.5.0",
          "state": {
            "_view_name": "StyleView",
            "_model_name": "DescriptionStyleModel",
            "description_width": "",
            "_view_module": "@jupyter-widgets/base",
            "_model_module_version": "1.5.0",
            "_view_count": null,
            "_view_module_version": "1.2.0",
            "_model_module": "@jupyter-widgets/controls"
          }
        },
        "db103501206648faa0f8eda92c88a101": {
          "model_module": "@jupyter-widgets/base",
          "model_name": "LayoutModel",
          "model_module_version": "1.2.0",
          "state": {
            "_view_name": "LayoutView",
            "grid_template_rows": null,
            "right": null,
            "justify_content": null,
            "_view_module": "@jupyter-widgets/base",
            "overflow": null,
            "_model_module_version": "1.2.0",
            "_view_count": null,
            "flex_flow": null,
            "width": null,
            "min_width": null,
            "border": null,
            "align_items": null,
            "bottom": null,
            "_model_module": "@jupyter-widgets/base",
            "top": null,
            "grid_column": null,
            "overflow_y": null,
            "overflow_x": null,
            "grid_auto_flow": null,
            "grid_area": null,
            "grid_template_columns": null,
            "flex": null,
            "_model_name": "LayoutModel",
            "justify_items": null,
            "grid_row": null,
            "max_height": null,
            "align_content": null,
            "visibility": null,
            "align_self": null,
            "height": null,
            "min_height": null,
            "padding": null,
            "grid_auto_rows": null,
            "grid_gap": null,
            "max_width": null,
            "order": null,
            "_view_module_version": "1.2.0",
            "grid_template_areas": null,
            "object_position": null,
            "object_fit": null,
            "grid_auto_columns": null,
            "margin": null,
            "display": null,
            "left": null
          }
        },
        "cfab19df24b240ab90ebd2f791e113da": {
          "model_module": "@jupyter-widgets/controls",
          "model_name": "HBoxModel",
          "model_module_version": "1.5.0",
          "state": {
            "_view_name": "HBoxView",
            "_dom_classes": [],
            "_model_name": "HBoxModel",
            "_view_module": "@jupyter-widgets/controls",
            "_model_module_version": "1.5.0",
            "_view_count": null,
            "_view_module_version": "1.5.0",
            "box_style": "",
            "layout": "IPY_MODEL_37021e9ff4d44690a0a2a64a6797cfd1",
            "_model_module": "@jupyter-widgets/controls",
            "children": [
              "IPY_MODEL_a632cd67cd684d35a05172409c0bb992",
              "IPY_MODEL_bdee61eeccdc408babd6e74257aa0134",
              "IPY_MODEL_577c003efa6f493c91f3d56da67fead5"
            ]
          }
        },
        "37021e9ff4d44690a0a2a64a6797cfd1": {
          "model_module": "@jupyter-widgets/base",
          "model_name": "LayoutModel",
          "model_module_version": "1.2.0",
          "state": {
            "_view_name": "LayoutView",
            "grid_template_rows": null,
            "right": null,
            "justify_content": null,
            "_view_module": "@jupyter-widgets/base",
            "overflow": null,
            "_model_module_version": "1.2.0",
            "_view_count": null,
            "flex_flow": null,
            "width": null,
            "min_width": null,
            "border": null,
            "align_items": null,
            "bottom": null,
            "_model_module": "@jupyter-widgets/base",
            "top": null,
            "grid_column": null,
            "overflow_y": null,
            "overflow_x": null,
            "grid_auto_flow": null,
            "grid_area": null,
            "grid_template_columns": null,
            "flex": null,
            "_model_name": "LayoutModel",
            "justify_items": null,
            "grid_row": null,
            "max_height": null,
            "align_content": null,
            "visibility": null,
            "align_self": null,
            "height": null,
            "min_height": null,
            "padding": null,
            "grid_auto_rows": null,
            "grid_gap": null,
            "max_width": null,
            "order": null,
            "_view_module_version": "1.2.0",
            "grid_template_areas": null,
            "object_position": null,
            "object_fit": null,
            "grid_auto_columns": null,
            "margin": null,
            "display": null,
            "left": null
          }
        },
        "a632cd67cd684d35a05172409c0bb992": {
          "model_module": "@jupyter-widgets/controls",
          "model_name": "HTMLModel",
          "model_module_version": "1.5.0",
          "state": {
            "_view_name": "HTMLView",
            "style": "IPY_MODEL_e6efdcf922fb41588cc11898b225b058",
            "_dom_classes": [],
            "description": "",
            "_model_name": "HTMLModel",
            "placeholder": "​",
            "_view_module": "@jupyter-widgets/controls",
            "_model_module_version": "1.5.0",
            "value": "Downloading: 100%",
            "_view_count": null,
            "_view_module_version": "1.5.0",
            "description_tooltip": null,
            "_model_module": "@jupyter-widgets/controls",
            "layout": "IPY_MODEL_fae812167f274f828785671de590ef12"
          }
        },
        "bdee61eeccdc408babd6e74257aa0134": {
          "model_module": "@jupyter-widgets/controls",
          "model_name": "FloatProgressModel",
          "model_module_version": "1.5.0",
          "state": {
            "_view_name": "ProgressView",
            "style": "IPY_MODEL_977bb7da396a446580e246650a05b0fc",
            "_dom_classes": [],
            "description": "",
            "_model_name": "FloatProgressModel",
            "bar_style": "success",
            "max": 625,
            "_view_module": "@jupyter-widgets/controls",
            "_model_module_version": "1.5.0",
            "value": 625,
            "_view_count": null,
            "_view_module_version": "1.5.0",
            "orientation": "horizontal",
            "min": 0,
            "description_tooltip": null,
            "_model_module": "@jupyter-widgets/controls",
            "layout": "IPY_MODEL_af6f403465c54078b131768666887c4b"
          }
        },
        "577c003efa6f493c91f3d56da67fead5": {
          "model_module": "@jupyter-widgets/controls",
          "model_name": "HTMLModel",
          "model_module_version": "1.5.0",
          "state": {
            "_view_name": "HTMLView",
            "style": "IPY_MODEL_ddab7927b752481c89ee1def5c4aa872",
            "_dom_classes": [],
            "description": "",
            "_model_name": "HTMLModel",
            "placeholder": "​",
            "_view_module": "@jupyter-widgets/controls",
            "_model_module_version": "1.5.0",
            "value": " 625/625 [00:00&lt;00:00, 7.85kB/s]",
            "_view_count": null,
            "_view_module_version": "1.5.0",
            "description_tooltip": null,
            "_model_module": "@jupyter-widgets/controls",
            "layout": "IPY_MODEL_fa89820d9dca410599b7131036e6fb38"
          }
        },
        "e6efdcf922fb41588cc11898b225b058": {
          "model_module": "@jupyter-widgets/controls",
          "model_name": "DescriptionStyleModel",
          "model_module_version": "1.5.0",
          "state": {
            "_view_name": "StyleView",
            "_model_name": "DescriptionStyleModel",
            "description_width": "",
            "_view_module": "@jupyter-widgets/base",
            "_model_module_version": "1.5.0",
            "_view_count": null,
            "_view_module_version": "1.2.0",
            "_model_module": "@jupyter-widgets/controls"
          }
        },
        "fae812167f274f828785671de590ef12": {
          "model_module": "@jupyter-widgets/base",
          "model_name": "LayoutModel",
          "model_module_version": "1.2.0",
          "state": {
            "_view_name": "LayoutView",
            "grid_template_rows": null,
            "right": null,
            "justify_content": null,
            "_view_module": "@jupyter-widgets/base",
            "overflow": null,
            "_model_module_version": "1.2.0",
            "_view_count": null,
            "flex_flow": null,
            "width": null,
            "min_width": null,
            "border": null,
            "align_items": null,
            "bottom": null,
            "_model_module": "@jupyter-widgets/base",
            "top": null,
            "grid_column": null,
            "overflow_y": null,
            "overflow_x": null,
            "grid_auto_flow": null,
            "grid_area": null,
            "grid_template_columns": null,
            "flex": null,
            "_model_name": "LayoutModel",
            "justify_items": null,
            "grid_row": null,
            "max_height": null,
            "align_content": null,
            "visibility": null,
            "align_self": null,
            "height": null,
            "min_height": null,
            "padding": null,
            "grid_auto_rows": null,
            "grid_gap": null,
            "max_width": null,
            "order": null,
            "_view_module_version": "1.2.0",
            "grid_template_areas": null,
            "object_position": null,
            "object_fit": null,
            "grid_auto_columns": null,
            "margin": null,
            "display": null,
            "left": null
          }
        },
        "977bb7da396a446580e246650a05b0fc": {
          "model_module": "@jupyter-widgets/controls",
          "model_name": "ProgressStyleModel",
          "model_module_version": "1.5.0",
          "state": {
            "_view_name": "StyleView",
            "_model_name": "ProgressStyleModel",
            "description_width": "",
            "_view_module": "@jupyter-widgets/base",
            "_model_module_version": "1.5.0",
            "_view_count": null,
            "_view_module_version": "1.2.0",
            "bar_color": null,
            "_model_module": "@jupyter-widgets/controls"
          }
        },
        "af6f403465c54078b131768666887c4b": {
          "model_module": "@jupyter-widgets/base",
          "model_name": "LayoutModel",
          "model_module_version": "1.2.0",
          "state": {
            "_view_name": "LayoutView",
            "grid_template_rows": null,
            "right": null,
            "justify_content": null,
            "_view_module": "@jupyter-widgets/base",
            "overflow": null,
            "_model_module_version": "1.2.0",
            "_view_count": null,
            "flex_flow": null,
            "width": null,
            "min_width": null,
            "border": null,
            "align_items": null,
            "bottom": null,
            "_model_module": "@jupyter-widgets/base",
            "top": null,
            "grid_column": null,
            "overflow_y": null,
            "overflow_x": null,
            "grid_auto_flow": null,
            "grid_area": null,
            "grid_template_columns": null,
            "flex": null,
            "_model_name": "LayoutModel",
            "justify_items": null,
            "grid_row": null,
            "max_height": null,
            "align_content": null,
            "visibility": null,
            "align_self": null,
            "height": null,
            "min_height": null,
            "padding": null,
            "grid_auto_rows": null,
            "grid_gap": null,
            "max_width": null,
            "order": null,
            "_view_module_version": "1.2.0",
            "grid_template_areas": null,
            "object_position": null,
            "object_fit": null,
            "grid_auto_columns": null,
            "margin": null,
            "display": null,
            "left": null
          }
        },
        "ddab7927b752481c89ee1def5c4aa872": {
          "model_module": "@jupyter-widgets/controls",
          "model_name": "DescriptionStyleModel",
          "model_module_version": "1.5.0",
          "state": {
            "_view_name": "StyleView",
            "_model_name": "DescriptionStyleModel",
            "description_width": "",
            "_view_module": "@jupyter-widgets/base",
            "_model_module_version": "1.5.0",
            "_view_count": null,
            "_view_module_version": "1.2.0",
            "_model_module": "@jupyter-widgets/controls"
          }
        },
        "fa89820d9dca410599b7131036e6fb38": {
          "model_module": "@jupyter-widgets/base",
          "model_name": "LayoutModel",
          "model_module_version": "1.2.0",
          "state": {
            "_view_name": "LayoutView",
            "grid_template_rows": null,
            "right": null,
            "justify_content": null,
            "_view_module": "@jupyter-widgets/base",
            "overflow": null,
            "_model_module_version": "1.2.0",
            "_view_count": null,
            "flex_flow": null,
            "width": null,
            "min_width": null,
            "border": null,
            "align_items": null,
            "bottom": null,
            "_model_module": "@jupyter-widgets/base",
            "top": null,
            "grid_column": null,
            "overflow_y": null,
            "overflow_x": null,
            "grid_auto_flow": null,
            "grid_area": null,
            "grid_template_columns": null,
            "flex": null,
            "_model_name": "LayoutModel",
            "justify_items": null,
            "grid_row": null,
            "max_height": null,
            "align_content": null,
            "visibility": null,
            "align_self": null,
            "height": null,
            "min_height": null,
            "padding": null,
            "grid_auto_rows": null,
            "grid_gap": null,
            "max_width": null,
            "order": null,
            "_view_module_version": "1.2.0",
            "grid_template_areas": null,
            "object_position": null,
            "object_fit": null,
            "grid_auto_columns": null,
            "margin": null,
            "display": null,
            "left": null
          }
        },
        "c17de0369bfa407cbd238db59fe61248": {
          "model_module": "@jupyter-widgets/controls",
          "model_name": "HBoxModel",
          "model_module_version": "1.5.0",
          "state": {
            "_view_name": "HBoxView",
            "_dom_classes": [],
            "_model_name": "HBoxModel",
            "_view_module": "@jupyter-widgets/controls",
            "_model_module_version": "1.5.0",
            "_view_count": null,
            "_view_module_version": "1.5.0",
            "box_style": "",
            "layout": "IPY_MODEL_014dce0eadd0422d824e0ea4807f7716",
            "_model_module": "@jupyter-widgets/controls",
            "children": [
              "IPY_MODEL_c35a0bd20d064c3e9ff4cb75dfbd8886",
              "IPY_MODEL_c7a8c8ec0b944bcab3084c95108849d1",
              "IPY_MODEL_53985ae40535454297430aabfb3b5d28"
            ]
          }
        },
        "014dce0eadd0422d824e0ea4807f7716": {
          "model_module": "@jupyter-widgets/base",
          "model_name": "LayoutModel",
          "model_module_version": "1.2.0",
          "state": {
            "_view_name": "LayoutView",
            "grid_template_rows": null,
            "right": null,
            "justify_content": null,
            "_view_module": "@jupyter-widgets/base",
            "overflow": null,
            "_model_module_version": "1.2.0",
            "_view_count": null,
            "flex_flow": null,
            "width": null,
            "min_width": null,
            "border": null,
            "align_items": null,
            "bottom": null,
            "_model_module": "@jupyter-widgets/base",
            "top": null,
            "grid_column": null,
            "overflow_y": null,
            "overflow_x": null,
            "grid_auto_flow": null,
            "grid_area": null,
            "grid_template_columns": null,
            "flex": null,
            "_model_name": "LayoutModel",
            "justify_items": null,
            "grid_row": null,
            "max_height": null,
            "align_content": null,
            "visibility": null,
            "align_self": null,
            "height": null,
            "min_height": null,
            "padding": null,
            "grid_auto_rows": null,
            "grid_gap": null,
            "max_width": null,
            "order": null,
            "_view_module_version": "1.2.0",
            "grid_template_areas": null,
            "object_position": null,
            "object_fit": null,
            "grid_auto_columns": null,
            "margin": null,
            "display": null,
            "left": null
          }
        },
        "c35a0bd20d064c3e9ff4cb75dfbd8886": {
          "model_module": "@jupyter-widgets/controls",
          "model_name": "HTMLModel",
          "model_module_version": "1.5.0",
          "state": {
            "_view_name": "HTMLView",
            "style": "IPY_MODEL_b4c3a414b5984258a27f4db76dfa86c1",
            "_dom_classes": [],
            "description": "",
            "_model_name": "HTMLModel",
            "placeholder": "​",
            "_view_module": "@jupyter-widgets/controls",
            "_model_module_version": "1.5.0",
            "value": "Downloading: 100%",
            "_view_count": null,
            "_view_module_version": "1.5.0",
            "description_tooltip": null,
            "_model_module": "@jupyter-widgets/controls",
            "layout": "IPY_MODEL_0cac9980bb6e4dfb9b9decca8d24295f"
          }
        },
        "c7a8c8ec0b944bcab3084c95108849d1": {
          "model_module": "@jupyter-widgets/controls",
          "model_name": "FloatProgressModel",
          "model_module_version": "1.5.0",
          "state": {
            "_view_name": "ProgressView",
            "style": "IPY_MODEL_4845b3805a0b48a7aeb0fd6e1f6d7c53",
            "_dom_classes": [],
            "description": "",
            "_model_name": "FloatProgressModel",
            "bar_style": "success",
            "max": 714314041,
            "_view_module": "@jupyter-widgets/controls",
            "_model_module_version": "1.5.0",
            "value": 714314041,
            "_view_count": null,
            "_view_module_version": "1.5.0",
            "orientation": "horizontal",
            "min": 0,
            "description_tooltip": null,
            "_model_module": "@jupyter-widgets/controls",
            "layout": "IPY_MODEL_fdbc37a812254379a81c494d381a7702"
          }
        },
        "53985ae40535454297430aabfb3b5d28": {
          "model_module": "@jupyter-widgets/controls",
          "model_name": "HTMLModel",
          "model_module_version": "1.5.0",
          "state": {
            "_view_name": "HTMLView",
            "style": "IPY_MODEL_c0bcbaf66d8a43209dea47972688d3e6",
            "_dom_classes": [],
            "description": "",
            "_model_name": "HTMLModel",
            "placeholder": "​",
            "_view_module": "@jupyter-widgets/controls",
            "_model_module_version": "1.5.0",
            "value": " 681M/681M [00:20&lt;00:00, 38.1MB/s]",
            "_view_count": null,
            "_view_module_version": "1.5.0",
            "description_tooltip": null,
            "_model_module": "@jupyter-widgets/controls",
            "layout": "IPY_MODEL_cfa74f65a3f74a02a22deb81c01f095c"
          }
        },
        "b4c3a414b5984258a27f4db76dfa86c1": {
          "model_module": "@jupyter-widgets/controls",
          "model_name": "DescriptionStyleModel",
          "model_module_version": "1.5.0",
          "state": {
            "_view_name": "StyleView",
            "_model_name": "DescriptionStyleModel",
            "description_width": "",
            "_view_module": "@jupyter-widgets/base",
            "_model_module_version": "1.5.0",
            "_view_count": null,
            "_view_module_version": "1.2.0",
            "_model_module": "@jupyter-widgets/controls"
          }
        },
        "0cac9980bb6e4dfb9b9decca8d24295f": {
          "model_module": "@jupyter-widgets/base",
          "model_name": "LayoutModel",
          "model_module_version": "1.2.0",
          "state": {
            "_view_name": "LayoutView",
            "grid_template_rows": null,
            "right": null,
            "justify_content": null,
            "_view_module": "@jupyter-widgets/base",
            "overflow": null,
            "_model_module_version": "1.2.0",
            "_view_count": null,
            "flex_flow": null,
            "width": null,
            "min_width": null,
            "border": null,
            "align_items": null,
            "bottom": null,
            "_model_module": "@jupyter-widgets/base",
            "top": null,
            "grid_column": null,
            "overflow_y": null,
            "overflow_x": null,
            "grid_auto_flow": null,
            "grid_area": null,
            "grid_template_columns": null,
            "flex": null,
            "_model_name": "LayoutModel",
            "justify_items": null,
            "grid_row": null,
            "max_height": null,
            "align_content": null,
            "visibility": null,
            "align_self": null,
            "height": null,
            "min_height": null,
            "padding": null,
            "grid_auto_rows": null,
            "grid_gap": null,
            "max_width": null,
            "order": null,
            "_view_module_version": "1.2.0",
            "grid_template_areas": null,
            "object_position": null,
            "object_fit": null,
            "grid_auto_columns": null,
            "margin": null,
            "display": null,
            "left": null
          }
        },
        "4845b3805a0b48a7aeb0fd6e1f6d7c53": {
          "model_module": "@jupyter-widgets/controls",
          "model_name": "ProgressStyleModel",
          "model_module_version": "1.5.0",
          "state": {
            "_view_name": "StyleView",
            "_model_name": "ProgressStyleModel",
            "description_width": "",
            "_view_module": "@jupyter-widgets/base",
            "_model_module_version": "1.5.0",
            "_view_count": null,
            "_view_module_version": "1.2.0",
            "bar_color": null,
            "_model_module": "@jupyter-widgets/controls"
          }
        },
        "fdbc37a812254379a81c494d381a7702": {
          "model_module": "@jupyter-widgets/base",
          "model_name": "LayoutModel",
          "model_module_version": "1.2.0",
          "state": {
            "_view_name": "LayoutView",
            "grid_template_rows": null,
            "right": null,
            "justify_content": null,
            "_view_module": "@jupyter-widgets/base",
            "overflow": null,
            "_model_module_version": "1.2.0",
            "_view_count": null,
            "flex_flow": null,
            "width": null,
            "min_width": null,
            "border": null,
            "align_items": null,
            "bottom": null,
            "_model_module": "@jupyter-widgets/base",
            "top": null,
            "grid_column": null,
            "overflow_y": null,
            "overflow_x": null,
            "grid_auto_flow": null,
            "grid_area": null,
            "grid_template_columns": null,
            "flex": null,
            "_model_name": "LayoutModel",
            "justify_items": null,
            "grid_row": null,
            "max_height": null,
            "align_content": null,
            "visibility": null,
            "align_self": null,
            "height": null,
            "min_height": null,
            "padding": null,
            "grid_auto_rows": null,
            "grid_gap": null,
            "max_width": null,
            "order": null,
            "_view_module_version": "1.2.0",
            "grid_template_areas": null,
            "object_position": null,
            "object_fit": null,
            "grid_auto_columns": null,
            "margin": null,
            "display": null,
            "left": null
          }
        },
        "c0bcbaf66d8a43209dea47972688d3e6": {
          "model_module": "@jupyter-widgets/controls",
          "model_name": "DescriptionStyleModel",
          "model_module_version": "1.5.0",
          "state": {
            "_view_name": "StyleView",
            "_model_name": "DescriptionStyleModel",
            "description_width": "",
            "_view_module": "@jupyter-widgets/base",
            "_model_module_version": "1.5.0",
            "_view_count": null,
            "_view_module_version": "1.2.0",
            "_model_module": "@jupyter-widgets/controls"
          }
        },
        "cfa74f65a3f74a02a22deb81c01f095c": {
          "model_module": "@jupyter-widgets/base",
          "model_name": "LayoutModel",
          "model_module_version": "1.2.0",
          "state": {
            "_view_name": "LayoutView",
            "grid_template_rows": null,
            "right": null,
            "justify_content": null,
            "_view_module": "@jupyter-widgets/base",
            "overflow": null,
            "_model_module_version": "1.2.0",
            "_view_count": null,
            "flex_flow": null,
            "width": null,
            "min_width": null,
            "border": null,
            "align_items": null,
            "bottom": null,
            "_model_module": "@jupyter-widgets/base",
            "top": null,
            "grid_column": null,
            "overflow_y": null,
            "overflow_x": null,
            "grid_auto_flow": null,
            "grid_area": null,
            "grid_template_columns": null,
            "flex": null,
            "_model_name": "LayoutModel",
            "justify_items": null,
            "grid_row": null,
            "max_height": null,
            "align_content": null,
            "visibility": null,
            "align_self": null,
            "height": null,
            "min_height": null,
            "padding": null,
            "grid_auto_rows": null,
            "grid_gap": null,
            "max_width": null,
            "order": null,
            "_view_module_version": "1.2.0",
            "grid_template_areas": null,
            "object_position": null,
            "object_fit": null,
            "grid_auto_columns": null,
            "margin": null,
            "display": null,
            "left": null
          }
        }
      }
    }
  },
  "cells": [
    {
      "cell_type": "markdown",
      "metadata": {
        "id": "view-in-github",
        "colab_type": "text"
      },
      "source": [
        "<a href=\"https://colab.research.google.com/github/ashimasinghal/Indian-NER/blob/main/telegu_NER.ipynb\" target=\"_parent\"><img src=\"https://colab.research.google.com/assets/colab-badge.svg\" alt=\"Open In Colab\"/></a>"
      ]
    },
    {
      "cell_type": "code",
      "metadata": {
        "colab": {
          "base_uri": "https://localhost:8080/"
        },
        "id": "vQ7KMgrRhv8c",
        "outputId": "10efa87f-217f-4bf2-e955-82daa718d9d3"
      },
      "source": [
        "!pip install seqeval\n",
        "!pip install transformers"
      ],
      "execution_count": null,
      "outputs": [
        {
          "output_type": "stream",
          "name": "stdout",
          "text": [
            "Requirement already satisfied: seqeval in /usr/local/lib/python3.7/dist-packages (1.2.2)\n",
            "Requirement already satisfied: numpy>=1.14.0 in /usr/local/lib/python3.7/dist-packages (from seqeval) (1.19.5)\n",
            "Requirement already satisfied: scikit-learn>=0.21.3 in /usr/local/lib/python3.7/dist-packages (from seqeval) (1.0.1)\n",
            "Requirement already satisfied: threadpoolctl>=2.0.0 in /usr/local/lib/python3.7/dist-packages (from scikit-learn>=0.21.3->seqeval) (3.0.0)\n",
            "Requirement already satisfied: joblib>=0.11 in /usr/local/lib/python3.7/dist-packages (from scikit-learn>=0.21.3->seqeval) (1.1.0)\n",
            "Requirement already satisfied: scipy>=1.1.0 in /usr/local/lib/python3.7/dist-packages (from scikit-learn>=0.21.3->seqeval) (1.4.1)\n",
            "Requirement already satisfied: transformers in /usr/local/lib/python3.7/dist-packages (4.12.5)\n",
            "Requirement already satisfied: huggingface-hub<1.0,>=0.1.0 in /usr/local/lib/python3.7/dist-packages (from transformers) (0.1.2)\n",
            "Requirement already satisfied: pyyaml>=5.1 in /usr/local/lib/python3.7/dist-packages (from transformers) (6.0)\n",
            "Requirement already satisfied: requests in /usr/local/lib/python3.7/dist-packages (from transformers) (2.23.0)\n",
            "Requirement already satisfied: numpy>=1.17 in /usr/local/lib/python3.7/dist-packages (from transformers) (1.19.5)\n",
            "Requirement already satisfied: tokenizers<0.11,>=0.10.1 in /usr/local/lib/python3.7/dist-packages (from transformers) (0.10.3)\n",
            "Requirement already satisfied: regex!=2019.12.17 in /usr/local/lib/python3.7/dist-packages (from transformers) (2019.12.20)\n",
            "Requirement already satisfied: importlib-metadata in /usr/local/lib/python3.7/dist-packages (from transformers) (4.8.2)\n",
            "Requirement already satisfied: tqdm>=4.27 in /usr/local/lib/python3.7/dist-packages (from transformers) (4.62.3)\n",
            "Requirement already satisfied: packaging>=20.0 in /usr/local/lib/python3.7/dist-packages (from transformers) (21.3)\n",
            "Requirement already satisfied: filelock in /usr/local/lib/python3.7/dist-packages (from transformers) (3.4.0)\n",
            "Requirement already satisfied: sacremoses in /usr/local/lib/python3.7/dist-packages (from transformers) (0.0.46)\n",
            "Requirement already satisfied: typing-extensions>=3.7.4.3 in /usr/local/lib/python3.7/dist-packages (from huggingface-hub<1.0,>=0.1.0->transformers) (3.10.0.2)\n",
            "Requirement already satisfied: pyparsing!=3.0.5,>=2.0.2 in /usr/local/lib/python3.7/dist-packages (from packaging>=20.0->transformers) (3.0.6)\n",
            "Requirement already satisfied: zipp>=0.5 in /usr/local/lib/python3.7/dist-packages (from importlib-metadata->transformers) (3.6.0)\n",
            "Requirement already satisfied: certifi>=2017.4.17 in /usr/local/lib/python3.7/dist-packages (from requests->transformers) (2021.10.8)\n",
            "Requirement already satisfied: chardet<4,>=3.0.2 in /usr/local/lib/python3.7/dist-packages (from requests->transformers) (3.0.4)\n",
            "Requirement already satisfied: urllib3!=1.25.0,!=1.25.1,<1.26,>=1.21.1 in /usr/local/lib/python3.7/dist-packages (from requests->transformers) (1.24.3)\n",
            "Requirement already satisfied: idna<3,>=2.5 in /usr/local/lib/python3.7/dist-packages (from requests->transformers) (2.10)\n",
            "Requirement already satisfied: six in /usr/local/lib/python3.7/dist-packages (from sacremoses->transformers) (1.15.0)\n",
            "Requirement already satisfied: joblib in /usr/local/lib/python3.7/dist-packages (from sacremoses->transformers) (1.1.0)\n",
            "Requirement already satisfied: click in /usr/local/lib/python3.7/dist-packages (from sacremoses->transformers) (7.1.2)\n"
          ]
        }
      ]
    },
    {
      "cell_type": "code",
      "metadata": {
        "id": "q48t3LIuhaD7"
      },
      "source": [
        "\n",
        "import pandas as pd\n",
        "import math\n",
        "import numpy as np\n",
        "from seqeval.metrics import f1_score\n",
        "from seqeval.metrics import classification_report,accuracy_score,f1_score\n",
        "import torch.nn.functional as F"
      ],
      "execution_count": null,
      "outputs": []
    },
    {
      "cell_type": "code",
      "metadata": {
        "id": "2i0XJGGiheTl"
      },
      "source": [
        "import torch\n",
        "import os\n",
        "from tqdm import tqdm,trange\n",
        "from torch.optim import Adam\n",
        "from torch.utils.data import TensorDataset, DataLoader, RandomSampler, SequentialSampler\n",
        "from keras.preprocessing.sequence import pad_sequences\n",
        "from sklearn.model_selection import train_test_split\n",
        "from transformers import BertTokenizer, BertConfig\n",
        "from transformers import BertForTokenClassification, AdamW"
      ],
      "execution_count": null,
      "outputs": []
    },
    {
      "cell_type": "code",
      "metadata": {
        "colab": {
          "base_uri": "https://localhost:8080/"
        },
        "id": "3fVFqhmViAwO",
        "outputId": "6c4e864f-6b8f-4cc3-cdcf-2acbd6336c93"
      },
      "source": [
        "!pip list | grep -E 'transformers|torch|Keras'"
      ],
      "execution_count": null,
      "outputs": [
        {
          "output_type": "stream",
          "name": "stdout",
          "text": [
            "Keras-Preprocessing           1.1.2\n",
            "torch                         1.10.0+cu111\n",
            "torchaudio                    0.10.0+cu111\n",
            "torchsummary                  1.5.1\n",
            "torchtext                     0.11.0\n",
            "torchvision                   0.11.1+cu111\n",
            "transformers                  4.12.5\n"
          ]
        }
      ]
    },
    {
      "cell_type": "code",
      "metadata": {
        "id": "mnt0ugMuiLuF"
      },
      "source": [
        "# load data"
      ],
      "execution_count": null,
      "outputs": []
    },
    {
      "cell_type": "code",
      "metadata": {
        "colab": {
          "base_uri": "https://localhost:8080/"
        },
        "id": "6doN4dj2iVct",
        "outputId": "16ded0c7-4ac5-4953-9ec1-c6f8da5ae405"
      },
      "source": [
        "from google.colab import drive\n",
        "drive.mount('/content/drive')\n",
        "import numpy as np\n",
        "import pandas as pd\n",
        "df = pd.read_csv('/content/drive/MyDrive/BERT/NER Corpus/NER_data.txt', delim_whitespace=True, header=None )\n"
      ],
      "execution_count": null,
      "outputs": [
        {
          "output_type": "stream",
          "name": "stdout",
          "text": [
            "Drive already mounted at /content/drive; to attempt to forcibly remount, call drive.mount(\"/content/drive\", force_remount=True).\n"
          ]
        }
      ]
    },
    {
      "cell_type": "code",
      "metadata": {
        "colab": {
          "base_uri": "https://localhost:8080/",
          "height": 423
        },
        "id": "b_twPUhniV51",
        "outputId": "42fba470-5fdb-4a94-a0db-445d80d37833"
      },
      "source": [
        "df"
      ],
      "execution_count": null,
      "outputs": [
        {
          "output_type": "execute_result",
          "data": {
            "text/html": [
              "<div>\n",
              "<style scoped>\n",
              "    .dataframe tbody tr th:only-of-type {\n",
              "        vertical-align: middle;\n",
              "    }\n",
              "\n",
              "    .dataframe tbody tr th {\n",
              "        vertical-align: top;\n",
              "    }\n",
              "\n",
              "    .dataframe thead th {\n",
              "        text-align: right;\n",
              "    }\n",
              "</style>\n",
              "<table border=\"1\" class=\"dataframe\">\n",
              "  <thead>\n",
              "    <tr style=\"text-align: right;\">\n",
              "      <th></th>\n",
              "      <th>0</th>\n",
              "      <th>1</th>\n",
              "      <th>2</th>\n",
              "      <th>3</th>\n",
              "    </tr>\n",
              "  </thead>\n",
              "  <tbody>\n",
              "    <tr>\n",
              "      <th>0</th>\n",
              "      <td>ఢిల్లీ</td>\n",
              "      <td>DhillI</td>\n",
              "      <td>B-LOC</td>\n",
              "      <td>NNP</td>\n",
              "    </tr>\n",
              "    <tr>\n",
              "      <th>1</th>\n",
              "      <td>పీఠంపై</td>\n",
              "      <td>pITha~mpai</td>\n",
              "      <td>O</td>\n",
              "      <td>NN</td>\n",
              "    </tr>\n",
              "    <tr>\n",
              "      <th>2</th>\n",
              "      <td>కేజ్రీవాల్‌</td>\n",
              "      <td>kEjrIvAl‌</td>\n",
              "      <td>B-PERSON</td>\n",
              "      <td>NNP</td>\n",
              "    </tr>\n",
              "    <tr>\n",
              "      <th>3</th>\n",
              "      <td>కన్ను</td>\n",
              "      <td>kannu</td>\n",
              "      <td>O</td>\n",
              "      <td>NN</td>\n",
              "    </tr>\n",
              "    <tr>\n",
              "      <th>4</th>\n",
              "      <td>పడింది</td>\n",
              "      <td>paDia~mdi</td>\n",
              "      <td>O</td>\n",
              "      <td>VM</td>\n",
              "    </tr>\n",
              "    <tr>\n",
              "      <th>...</th>\n",
              "      <td>...</td>\n",
              "      <td>...</td>\n",
              "      <td>...</td>\n",
              "      <td>...</td>\n",
              "    </tr>\n",
              "    <tr>\n",
              "      <th>47961</th>\n",
              "      <td>మిల్లర్</td>\n",
              "      <td>millar</td>\n",
              "      <td>I-PERSON</td>\n",
              "      <td>NN</td>\n",
              "    </tr>\n",
              "    <tr>\n",
              "      <th>47962</th>\n",
              "      <td>10</td>\n",
              "      <td>10</td>\n",
              "      <td>B-NUM</td>\n",
              "      <td>QC</td>\n",
              "    </tr>\n",
              "    <tr>\n",
              "      <th>47963</th>\n",
              "      <td>నాటౌట్</td>\n",
              "      <td>nATauT</td>\n",
              "      <td>O</td>\n",
              "      <td>NN</td>\n",
              "    </tr>\n",
              "    <tr>\n",
              "      <th>47964</th>\n",
              "      <td>)</td>\n",
              "      <td>)</td>\n",
              "      <td>O</td>\n",
              "      <td>SYM</td>\n",
              "    </tr>\n",
              "    <tr>\n",
              "      <th>47965</th>\n",
              "      <td>.</td>\n",
              "      <td>.</td>\n",
              "      <td>O</td>\n",
              "      <td>SYM</td>\n",
              "    </tr>\n",
              "  </tbody>\n",
              "</table>\n",
              "<p>47966 rows × 4 columns</p>\n",
              "</div>"
            ],
            "text/plain": [
              "                 0           1         2    3\n",
              "0           ఢిల్లీ      DhillI     B-LOC  NNP\n",
              "1           పీఠంపై  pITha~mpai         O   NN\n",
              "2      కేజ్రీవాల్‌   kEjrIvAl‌  B-PERSON  NNP\n",
              "3            కన్ను       kannu         O   NN\n",
              "4           పడింది   paDia~mdi         O   VM\n",
              "...            ...         ...       ...  ...\n",
              "47961      మిల్లర్      millar  I-PERSON   NN\n",
              "47962           10          10     B-NUM   QC\n",
              "47963       నాటౌట్      nATauT         O   NN\n",
              "47964            )           )         O  SYM\n",
              "47965            .           .         O  SYM\n",
              "\n",
              "[47966 rows x 4 columns]"
            ]
          },
          "metadata": {},
          "execution_count": 60
        }
      ]
    },
    {
      "cell_type": "code",
      "metadata": {
        "id": "Pho99BIPiW_1"
      },
      "source": [
        "sentence_id = []\n",
        "words = df[0]\n",
        "sentence = 1\n",
        "for word in words:\n",
        "  sentence_id.append(sentence)\n",
        "  if(word=='.'):\n",
        "    sentence += 1"
      ],
      "execution_count": null,
      "outputs": []
    },
    {
      "cell_type": "code",
      "metadata": {
        "colab": {
          "base_uri": "https://localhost:8080/",
          "height": 1000
        },
        "id": "qGrNG7NBidTo",
        "outputId": "68948923-9d0c-4873-9cf6-efa435442150"
      },
      "source": [
        "df.insert(1,'Sentence ID',sentence_id,allow_duplicates=True)\n",
        "df.head(50)"
      ],
      "execution_count": null,
      "outputs": [
        {
          "output_type": "execute_result",
          "data": {
            "text/html": [
              "<div>\n",
              "<style scoped>\n",
              "    .dataframe tbody tr th:only-of-type {\n",
              "        vertical-align: middle;\n",
              "    }\n",
              "\n",
              "    .dataframe tbody tr th {\n",
              "        vertical-align: top;\n",
              "    }\n",
              "\n",
              "    .dataframe thead th {\n",
              "        text-align: right;\n",
              "    }\n",
              "</style>\n",
              "<table border=\"1\" class=\"dataframe\">\n",
              "  <thead>\n",
              "    <tr style=\"text-align: right;\">\n",
              "      <th></th>\n",
              "      <th>0</th>\n",
              "      <th>Sentence ID</th>\n",
              "      <th>1</th>\n",
              "      <th>2</th>\n",
              "      <th>3</th>\n",
              "    </tr>\n",
              "  </thead>\n",
              "  <tbody>\n",
              "    <tr>\n",
              "      <th>0</th>\n",
              "      <td>ఢిల్లీ</td>\n",
              "      <td>1</td>\n",
              "      <td>DhillI</td>\n",
              "      <td>B-LOC</td>\n",
              "      <td>NNP</td>\n",
              "    </tr>\n",
              "    <tr>\n",
              "      <th>1</th>\n",
              "      <td>పీఠంపై</td>\n",
              "      <td>1</td>\n",
              "      <td>pITha~mpai</td>\n",
              "      <td>O</td>\n",
              "      <td>NN</td>\n",
              "    </tr>\n",
              "    <tr>\n",
              "      <th>2</th>\n",
              "      <td>కేజ్రీవాల్‌</td>\n",
              "      <td>1</td>\n",
              "      <td>kEjrIvAl‌</td>\n",
              "      <td>B-PERSON</td>\n",
              "      <td>NNP</td>\n",
              "    </tr>\n",
              "    <tr>\n",
              "      <th>3</th>\n",
              "      <td>కన్ను</td>\n",
              "      <td>1</td>\n",
              "      <td>kannu</td>\n",
              "      <td>O</td>\n",
              "      <td>NN</td>\n",
              "    </tr>\n",
              "    <tr>\n",
              "      <th>4</th>\n",
              "      <td>పడింది</td>\n",
              "      <td>1</td>\n",
              "      <td>paDia~mdi</td>\n",
              "      <td>O</td>\n",
              "      <td>VM</td>\n",
              "    </tr>\n",
              "    <tr>\n",
              "      <th>5</th>\n",
              "      <td>.</td>\n",
              "      <td>1</td>\n",
              "      <td>.</td>\n",
              "      <td>O</td>\n",
              "      <td>SYM</td>\n",
              "    </tr>\n",
              "    <tr>\n",
              "      <th>6</th>\n",
              "      <td>ముఖ్యమంత్రి</td>\n",
              "      <td>2</td>\n",
              "      <td>mukhyama~mtri</td>\n",
              "      <td>O</td>\n",
              "      <td>NN</td>\n",
              "    </tr>\n",
              "    <tr>\n",
              "      <th>7</th>\n",
              "      <td>పదవిలో</td>\n",
              "      <td>2</td>\n",
              "      <td>padavilO</td>\n",
              "      <td>O</td>\n",
              "      <td>NN</td>\n",
              "    </tr>\n",
              "    <tr>\n",
              "      <th>8</th>\n",
              "      <td>ముచ్చటగా</td>\n",
              "      <td>2</td>\n",
              "      <td>muccaTagA</td>\n",
              "      <td>O</td>\n",
              "      <td>RB</td>\n",
              "    </tr>\n",
              "    <tr>\n",
              "      <th>9</th>\n",
              "      <td>మూడు</td>\n",
              "      <td>2</td>\n",
              "      <td>mUDhu</td>\n",
              "      <td>B-PERIOD</td>\n",
              "      <td>QC</td>\n",
              "    </tr>\n",
              "    <tr>\n",
              "      <th>10</th>\n",
              "      <td>నెలలు</td>\n",
              "      <td>2</td>\n",
              "      <td>nelalu</td>\n",
              "      <td>I-PERIOD</td>\n",
              "      <td>NN</td>\n",
              "    </tr>\n",
              "    <tr>\n",
              "      <th>11</th>\n",
              "      <td>ఉండి</td>\n",
              "      <td>2</td>\n",
              "      <td>ua~mDi</td>\n",
              "      <td>O</td>\n",
              "      <td>VM</td>\n",
              "    </tr>\n",
              "    <tr>\n",
              "      <th>12</th>\n",
              "      <td>టాటా</td>\n",
              "      <td>2</td>\n",
              "      <td>TATA</td>\n",
              "      <td>O</td>\n",
              "      <td>NN</td>\n",
              "    </tr>\n",
              "    <tr>\n",
              "      <th>13</th>\n",
              "      <td>బైబై</td>\n",
              "      <td>2</td>\n",
              "      <td>baibai</td>\n",
              "      <td>O</td>\n",
              "      <td>NN</td>\n",
              "    </tr>\n",
              "    <tr>\n",
              "      <th>14</th>\n",
              "      <td>చెప్పిన</td>\n",
              "      <td>2</td>\n",
              "      <td>ceppina</td>\n",
              "      <td>O</td>\n",
              "      <td>VM</td>\n",
              "    </tr>\n",
              "    <tr>\n",
              "      <th>15</th>\n",
              "      <td>ఆయన</td>\n",
              "      <td>2</td>\n",
              "      <td>Ayana</td>\n",
              "      <td>O</td>\n",
              "      <td>PRP</td>\n",
              "    </tr>\n",
              "    <tr>\n",
              "      <th>16</th>\n",
              "      <td>మరో</td>\n",
              "      <td>2</td>\n",
              "      <td>marO</td>\n",
              "      <td>O</td>\n",
              "      <td>QF</td>\n",
              "    </tr>\n",
              "    <tr>\n",
              "      <th>17</th>\n",
              "      <td>మారు</td>\n",
              "      <td>2</td>\n",
              "      <td>mAru</td>\n",
              "      <td>O</td>\n",
              "      <td>NN</td>\n",
              "    </tr>\n",
              "    <tr>\n",
              "      <th>18</th>\n",
              "      <td>సర్కారు</td>\n",
              "      <td>2</td>\n",
              "      <td>sarkAru</td>\n",
              "      <td>O</td>\n",
              "      <td>NN</td>\n",
              "    </tr>\n",
              "    <tr>\n",
              "      <th>19</th>\n",
              "      <td>ఏర్పాటు</td>\n",
              "      <td>2</td>\n",
              "      <td>ErpATu</td>\n",
              "      <td>O</td>\n",
              "      <td>NN</td>\n",
              "    </tr>\n",
              "    <tr>\n",
              "      <th>20</th>\n",
              "      <td>దిశగా</td>\n",
              "      <td>2</td>\n",
              "      <td>diSagA</td>\n",
              "      <td>O</td>\n",
              "      <td>RB</td>\n",
              "    </tr>\n",
              "    <tr>\n",
              "      <th>21</th>\n",
              "      <td>ఆలోచనలు</td>\n",
              "      <td>2</td>\n",
              "      <td>AlOcanalu</td>\n",
              "      <td>O</td>\n",
              "      <td>NN</td>\n",
              "    </tr>\n",
              "    <tr>\n",
              "      <th>22</th>\n",
              "      <td>చేస్తున్నట్లు</td>\n",
              "      <td>2</td>\n",
              "      <td>cEstunnaTlu</td>\n",
              "      <td>O</td>\n",
              "      <td>VM</td>\n",
              "    </tr>\n",
              "    <tr>\n",
              "      <th>23</th>\n",
              "      <td>సమాచారం</td>\n",
              "      <td>2</td>\n",
              "      <td>samAcAra~m</td>\n",
              "      <td>O</td>\n",
              "      <td>NN</td>\n",
              "    </tr>\n",
              "    <tr>\n",
              "      <th>24</th>\n",
              "      <td>.</td>\n",
              "      <td>2</td>\n",
              "      <td>.</td>\n",
              "      <td>O</td>\n",
              "      <td>SYM</td>\n",
              "    </tr>\n",
              "    <tr>\n",
              "      <th>25</th>\n",
              "      <td>అందుకు</td>\n",
              "      <td>3</td>\n",
              "      <td>a~mduku</td>\n",
              "      <td>O</td>\n",
              "      <td>PRP</td>\n",
              "    </tr>\n",
              "    <tr>\n",
              "      <th>26</th>\n",
              "      <td>కాంగ్రెస్</td>\n",
              "      <td>3</td>\n",
              "      <td>kAa~mgres</td>\n",
              "      <td>B-ORG</td>\n",
              "      <td>NNP</td>\n",
              "    </tr>\n",
              "    <tr>\n",
              "      <th>27</th>\n",
              "      <td>తో</td>\n",
              "      <td>3</td>\n",
              "      <td>tO</td>\n",
              "      <td>O</td>\n",
              "      <td>PSP</td>\n",
              "    </tr>\n",
              "    <tr>\n",
              "      <th>28</th>\n",
              "      <td>కలిసి</td>\n",
              "      <td>3</td>\n",
              "      <td>kalisi</td>\n",
              "      <td>O</td>\n",
              "      <td>VM</td>\n",
              "    </tr>\n",
              "    <tr>\n",
              "      <th>29</th>\n",
              "      <td>చెట్టాపట్టాల్‌</td>\n",
              "      <td>3</td>\n",
              "      <td>ceTTApaTTAl‌</td>\n",
              "      <td>O</td>\n",
              "      <td>NN</td>\n",
              "    </tr>\n",
              "    <tr>\n",
              "      <th>30</th>\n",
              "      <td>వేయడానికి</td>\n",
              "      <td>3</td>\n",
              "      <td>vEyaDAniki</td>\n",
              "      <td>O</td>\n",
              "      <td>VM</td>\n",
              "    </tr>\n",
              "    <tr>\n",
              "      <th>31</th>\n",
              "      <td>కూడా</td>\n",
              "      <td>3</td>\n",
              "      <td>kUDA</td>\n",
              "      <td>O</td>\n",
              "      <td>PSP</td>\n",
              "    </tr>\n",
              "    <tr>\n",
              "      <th>32</th>\n",
              "      <td>వెనుకాడబోనని</td>\n",
              "      <td>3</td>\n",
              "      <td>venukADabOnani</td>\n",
              "      <td>O</td>\n",
              "      <td>VM</td>\n",
              "    </tr>\n",
              "    <tr>\n",
              "      <th>33</th>\n",
              "      <td>అరవింద్‌</td>\n",
              "      <td>3</td>\n",
              "      <td>aravia~md‌</td>\n",
              "      <td>B-PERSON</td>\n",
              "      <td>NNP</td>\n",
              "    </tr>\n",
              "    <tr>\n",
              "      <th>34</th>\n",
              "      <td>కేజ్రీవాల్‌</td>\n",
              "      <td>3</td>\n",
              "      <td>kEjrIvAl‌</td>\n",
              "      <td>I-PERSON</td>\n",
              "      <td>NNP</td>\n",
              "    </tr>\n",
              "    <tr>\n",
              "      <th>35</th>\n",
              "      <td>సంకేతాలు</td>\n",
              "      <td>3</td>\n",
              "      <td>sa~mkEtAlu</td>\n",
              "      <td>O</td>\n",
              "      <td>NN</td>\n",
              "    </tr>\n",
              "    <tr>\n",
              "      <th>36</th>\n",
              "      <td>పంపించటం</td>\n",
              "      <td>3</td>\n",
              "      <td>pa~mpia~mcaTa~m</td>\n",
              "      <td>O</td>\n",
              "      <td>VM</td>\n",
              "    </tr>\n",
              "    <tr>\n",
              "      <th>37</th>\n",
              "      <td>విశేషం</td>\n",
              "      <td>3</td>\n",
              "      <td>viSEsha~m</td>\n",
              "      <td>O</td>\n",
              "      <td>NN</td>\n",
              "    </tr>\n",
              "    <tr>\n",
              "      <th>38</th>\n",
              "      <td>.</td>\n",
              "      <td>3</td>\n",
              "      <td>.</td>\n",
              "      <td>O</td>\n",
              "      <td>SYM</td>\n",
              "    </tr>\n",
              "    <tr>\n",
              "      <th>39</th>\n",
              "      <td>ఢిల్లీలో</td>\n",
              "      <td>4</td>\n",
              "      <td>DhillIlO</td>\n",
              "      <td>B-LOC</td>\n",
              "      <td>NNP</td>\n",
              "    </tr>\n",
              "    <tr>\n",
              "      <th>40</th>\n",
              "      <td>ప్రభుత్వాన్ని</td>\n",
              "      <td>4</td>\n",
              "      <td>prabhutvAnni</td>\n",
              "      <td>O</td>\n",
              "      <td>NN</td>\n",
              "    </tr>\n",
              "    <tr>\n",
              "      <th>41</th>\n",
              "      <td>ఏర్పాటు</td>\n",
              "      <td>4</td>\n",
              "      <td>ErpATu</td>\n",
              "      <td>O</td>\n",
              "      <td>NN</td>\n",
              "    </tr>\n",
              "    <tr>\n",
              "      <th>42</th>\n",
              "      <td>చేసేందుకు</td>\n",
              "      <td>4</td>\n",
              "      <td>cEsEa~mduku</td>\n",
              "      <td>O</td>\n",
              "      <td>VM</td>\n",
              "    </tr>\n",
              "    <tr>\n",
              "      <th>43</th>\n",
              "      <td>అవకాశాన్ని</td>\n",
              "      <td>4</td>\n",
              "      <td>avakASAnni</td>\n",
              "      <td>O</td>\n",
              "      <td>NN</td>\n",
              "    </tr>\n",
              "    <tr>\n",
              "      <th>44</th>\n",
              "      <td>ఇవ్వాలని</td>\n",
              "      <td>4</td>\n",
              "      <td>ivvAlani</td>\n",
              "      <td>O</td>\n",
              "      <td>VM</td>\n",
              "    </tr>\n",
              "    <tr>\n",
              "      <th>45</th>\n",
              "      <td>బిజెపి</td>\n",
              "      <td>4</td>\n",
              "      <td>bijepi</td>\n",
              "      <td>B-ORG</td>\n",
              "      <td>NNP</td>\n",
              "    </tr>\n",
              "    <tr>\n",
              "      <th>46</th>\n",
              "      <td>నేతలు</td>\n",
              "      <td>4</td>\n",
              "      <td>nEtalu</td>\n",
              "      <td>O</td>\n",
              "      <td>NN</td>\n",
              "    </tr>\n",
              "    <tr>\n",
              "      <th>47</th>\n",
              "      <td>నేరుగా</td>\n",
              "      <td>4</td>\n",
              "      <td>nErugA</td>\n",
              "      <td>O</td>\n",
              "      <td>RB</td>\n",
              "    </tr>\n",
              "    <tr>\n",
              "      <th>48</th>\n",
              "      <td>లెఫ్టినెంట్‌</td>\n",
              "      <td>4</td>\n",
              "      <td>lephTinea~mT‌</td>\n",
              "      <td>O</td>\n",
              "      <td>NN</td>\n",
              "    </tr>\n",
              "    <tr>\n",
              "      <th>49</th>\n",
              "      <td>గవర్నర్‌</td>\n",
              "      <td>4</td>\n",
              "      <td>gavarnar‌</td>\n",
              "      <td>O</td>\n",
              "      <td>NN</td>\n",
              "    </tr>\n",
              "  </tbody>\n",
              "</table>\n",
              "</div>"
            ],
            "text/plain": [
              "                 0  Sentence ID                1         2    3\n",
              "0           ఢిల్లీ            1           DhillI     B-LOC  NNP\n",
              "1           పీఠంపై            1       pITha~mpai         O   NN\n",
              "2      కేజ్రీవాల్‌            1        kEjrIvAl‌  B-PERSON  NNP\n",
              "3            కన్ను            1            kannu         O   NN\n",
              "4           పడింది            1        paDia~mdi         O   VM\n",
              "5                .            1                .         O  SYM\n",
              "6      ముఖ్యమంత్రి            2    mukhyama~mtri         O   NN\n",
              "7           పదవిలో            2         padavilO         O   NN\n",
              "8         ముచ్చటగా            2        muccaTagA         O   RB\n",
              "9             మూడు            2            mUDhu  B-PERIOD   QC\n",
              "10           నెలలు            2           nelalu  I-PERIOD   NN\n",
              "11            ఉండి            2           ua~mDi         O   VM\n",
              "12            టాటా            2             TATA         O   NN\n",
              "13            బైబై            2           baibai         O   NN\n",
              "14         చెప్పిన            2          ceppina         O   VM\n",
              "15             ఆయన            2            Ayana         O  PRP\n",
              "16             మరో            2             marO         O   QF\n",
              "17            మారు            2             mAru         O   NN\n",
              "18         సర్కారు            2          sarkAru         O   NN\n",
              "19         ఏర్పాటు            2           ErpATu         O   NN\n",
              "20           దిశగా            2           diSagA         O   RB\n",
              "21         ఆలోచనలు            2        AlOcanalu         O   NN\n",
              "22   చేస్తున్నట్లు            2      cEstunnaTlu         O   VM\n",
              "23         సమాచారం            2       samAcAra~m         O   NN\n",
              "24               .            2                .         O  SYM\n",
              "25          అందుకు            3          a~mduku         O  PRP\n",
              "26       కాంగ్రెస్            3        kAa~mgres     B-ORG  NNP\n",
              "27              తో            3               tO         O  PSP\n",
              "28           కలిసి            3           kalisi         O   VM\n",
              "29  చెట్టాపట్టాల్‌            3     ceTTApaTTAl‌         O   NN\n",
              "30       వేయడానికి            3       vEyaDAniki         O   VM\n",
              "31            కూడా            3             kUDA         O  PSP\n",
              "32    వెనుకాడబోనని            3   venukADabOnani         O   VM\n",
              "33        అరవింద్‌            3       aravia~md‌  B-PERSON  NNP\n",
              "34     కేజ్రీవాల్‌            3        kEjrIvAl‌  I-PERSON  NNP\n",
              "35        సంకేతాలు            3       sa~mkEtAlu         O   NN\n",
              "36        పంపించటం            3  pa~mpia~mcaTa~m         O   VM\n",
              "37          విశేషం            3        viSEsha~m         O   NN\n",
              "38               .            3                .         O  SYM\n",
              "39        ఢిల్లీలో            4         DhillIlO     B-LOC  NNP\n",
              "40   ప్రభుత్వాన్ని            4     prabhutvAnni         O   NN\n",
              "41         ఏర్పాటు            4           ErpATu         O   NN\n",
              "42       చేసేందుకు            4      cEsEa~mduku         O   VM\n",
              "43      అవకాశాన్ని            4       avakASAnni         O   NN\n",
              "44        ఇవ్వాలని            4         ivvAlani         O   VM\n",
              "45          బిజెపి            4           bijepi     B-ORG  NNP\n",
              "46           నేతలు            4           nEtalu         O   NN\n",
              "47          నేరుగా            4           nErugA         O   RB\n",
              "48    లెఫ్టినెంట్‌            4    lephTinea~mT‌         O   NN\n",
              "49        గవర్నర్‌            4        gavarnar‌         O   NN"
            ]
          },
          "metadata": {},
          "execution_count": 62
        }
      ]
    },
    {
      "cell_type": "code",
      "metadata": {
        "colab": {
          "base_uri": "https://localhost:8080/",
          "height": 510
        },
        "id": "bcEK4O6ziiJN",
        "outputId": "003f9d7b-957e-4fe7-b886-d215dce0d861"
      },
      "source": [
        "hindi = pd.DataFrame()\n",
        "hindi = df[['Sentence ID',0,3,2]]\n",
        "hindi.rename(columns={'Sentence ID': 'Sentence', 0: 'word', 3: 'POS', 2:'TAG'}, inplace=True)\n",
        "hindi"
      ],
      "execution_count": null,
      "outputs": [
        {
          "output_type": "stream",
          "name": "stderr",
          "text": [
            "/usr/local/lib/python3.7/dist-packages/pandas/core/frame.py:4308: SettingWithCopyWarning: \n",
            "A value is trying to be set on a copy of a slice from a DataFrame\n",
            "\n",
            "See the caveats in the documentation: https://pandas.pydata.org/pandas-docs/stable/user_guide/indexing.html#returning-a-view-versus-a-copy\n",
            "  errors=errors,\n"
          ]
        },
        {
          "output_type": "execute_result",
          "data": {
            "text/html": [
              "<div>\n",
              "<style scoped>\n",
              "    .dataframe tbody tr th:only-of-type {\n",
              "        vertical-align: middle;\n",
              "    }\n",
              "\n",
              "    .dataframe tbody tr th {\n",
              "        vertical-align: top;\n",
              "    }\n",
              "\n",
              "    .dataframe thead th {\n",
              "        text-align: right;\n",
              "    }\n",
              "</style>\n",
              "<table border=\"1\" class=\"dataframe\">\n",
              "  <thead>\n",
              "    <tr style=\"text-align: right;\">\n",
              "      <th></th>\n",
              "      <th>Sentence</th>\n",
              "      <th>word</th>\n",
              "      <th>POS</th>\n",
              "      <th>TAG</th>\n",
              "    </tr>\n",
              "  </thead>\n",
              "  <tbody>\n",
              "    <tr>\n",
              "      <th>0</th>\n",
              "      <td>1</td>\n",
              "      <td>ఢిల్లీ</td>\n",
              "      <td>NNP</td>\n",
              "      <td>B-LOC</td>\n",
              "    </tr>\n",
              "    <tr>\n",
              "      <th>1</th>\n",
              "      <td>1</td>\n",
              "      <td>పీఠంపై</td>\n",
              "      <td>NN</td>\n",
              "      <td>O</td>\n",
              "    </tr>\n",
              "    <tr>\n",
              "      <th>2</th>\n",
              "      <td>1</td>\n",
              "      <td>కేజ్రీవాల్‌</td>\n",
              "      <td>NNP</td>\n",
              "      <td>B-PERSON</td>\n",
              "    </tr>\n",
              "    <tr>\n",
              "      <th>3</th>\n",
              "      <td>1</td>\n",
              "      <td>కన్ను</td>\n",
              "      <td>NN</td>\n",
              "      <td>O</td>\n",
              "    </tr>\n",
              "    <tr>\n",
              "      <th>4</th>\n",
              "      <td>1</td>\n",
              "      <td>పడింది</td>\n",
              "      <td>VM</td>\n",
              "      <td>O</td>\n",
              "    </tr>\n",
              "    <tr>\n",
              "      <th>...</th>\n",
              "      <td>...</td>\n",
              "      <td>...</td>\n",
              "      <td>...</td>\n",
              "      <td>...</td>\n",
              "    </tr>\n",
              "    <tr>\n",
              "      <th>47961</th>\n",
              "      <td>3157</td>\n",
              "      <td>మిల్లర్</td>\n",
              "      <td>NN</td>\n",
              "      <td>I-PERSON</td>\n",
              "    </tr>\n",
              "    <tr>\n",
              "      <th>47962</th>\n",
              "      <td>3157</td>\n",
              "      <td>10</td>\n",
              "      <td>QC</td>\n",
              "      <td>B-NUM</td>\n",
              "    </tr>\n",
              "    <tr>\n",
              "      <th>47963</th>\n",
              "      <td>3157</td>\n",
              "      <td>నాటౌట్</td>\n",
              "      <td>NN</td>\n",
              "      <td>O</td>\n",
              "    </tr>\n",
              "    <tr>\n",
              "      <th>47964</th>\n",
              "      <td>3157</td>\n",
              "      <td>)</td>\n",
              "      <td>SYM</td>\n",
              "      <td>O</td>\n",
              "    </tr>\n",
              "    <tr>\n",
              "      <th>47965</th>\n",
              "      <td>3157</td>\n",
              "      <td>.</td>\n",
              "      <td>SYM</td>\n",
              "      <td>O</td>\n",
              "    </tr>\n",
              "  </tbody>\n",
              "</table>\n",
              "<p>47966 rows × 4 columns</p>\n",
              "</div>"
            ],
            "text/plain": [
              "       Sentence         word  POS       TAG\n",
              "0             1       ఢిల్లీ  NNP     B-LOC\n",
              "1             1       పీఠంపై   NN         O\n",
              "2             1  కేజ్రీవాల్‌  NNP  B-PERSON\n",
              "3             1        కన్ను   NN         O\n",
              "4             1       పడింది   VM         O\n",
              "...         ...          ...  ...       ...\n",
              "47961      3157      మిల్లర్   NN  I-PERSON\n",
              "47962      3157           10   QC     B-NUM\n",
              "47963      3157       నాటౌట్   NN         O\n",
              "47964      3157            )  SYM         O\n",
              "47965      3157            .  SYM         O\n",
              "\n",
              "[47966 rows x 4 columns]"
            ]
          },
          "metadata": {},
          "execution_count": 63
        }
      ]
    },
    {
      "cell_type": "code",
      "metadata": {
        "colab": {
          "base_uri": "https://localhost:8080/"
        },
        "id": "geOv2eLukUdF",
        "outputId": "e896ded9-be44-4f63-9b64-7ccd722d56c7"
      },
      "source": [
        "hindi.POS.unique()"
      ],
      "execution_count": null,
      "outputs": [
        {
          "output_type": "execute_result",
          "data": {
            "text/plain": [
              "array(['NNP', 'NN', 'VM', 'SYM', 'RB', 'QC', 'PRP', 'QF', 'PSP', 'CC',\n",
              "       'NST', 'JJ', 'DEM', 'QO', 'RP', 'INTF', 'UT', 'NNP\\u200c', 'CL',\n",
              "       'WQ', 'INJ', 'RDP', 'NNO', 'O', 'SYMP', '_ఆ'], dtype=object)"
            ]
          },
          "metadata": {},
          "execution_count": 64
        }
      ]
    },
    {
      "cell_type": "code",
      "metadata": {
        "colab": {
          "base_uri": "https://localhost:8080/"
        },
        "id": "BKH_DL8ylH0_",
        "outputId": "137c1f4e-483c-4b0b-b55b-401a5ec947a2"
      },
      "source": [
        "hindi.TAG.unique()"
      ],
      "execution_count": null,
      "outputs": [
        {
          "output_type": "execute_result",
          "data": {
            "text/plain": [
              "array(['B-LOC', 'O', 'B-PERSON', 'B-PERIOD', 'I-PERIOD', 'B-ORG',\n",
              "       'I-PERSON', 'I-ORG', 'B-NUM', 'B-MONEY', 'I-MONEY', 'I-LOC',\n",
              "       'B-YEAR', 'B-DAY', 'I-NUM', 'B-DATE', 'I-DATE', 'B-TIME', 'I-TIME'],\n",
              "      dtype=object)"
            ]
          },
          "metadata": {},
          "execution_count": 65
        }
      ]
    },
    {
      "cell_type": "code",
      "metadata": {
        "colab": {
          "base_uri": "https://localhost:8080/"
        },
        "id": "rx6nKeeOlO7A",
        "outputId": "48688960-e175-45fe-a241-f5bfcc4020ea"
      },
      "source": [
        "hindi['Sentence'].nunique(), hindi.word.nunique(), hindi.POS.nunique(), hindi.TAG.nunique()"
      ],
      "execution_count": null,
      "outputs": [
        {
          "output_type": "execute_result",
          "data": {
            "text/plain": [
              "(3157, 15740, 26, 19)"
            ]
          },
          "metadata": {},
          "execution_count": 66
        }
      ]
    },
    {
      "cell_type": "code",
      "metadata": {
        "colab": {
          "base_uri": "https://localhost:8080/"
        },
        "id": "d36F0slkmyv3",
        "outputId": "b58980ef-2835-4d9c-f434-103024e4204e"
      },
      "source": [
        "\n",
        "hindi.TAG.value_counts()"
      ],
      "execution_count": null,
      "outputs": [
        {
          "output_type": "execute_result",
          "data": {
            "text/plain": [
              "O           39255\n",
              "B-LOC        1915\n",
              "B-PERSON     1563\n",
              "B-NUM         951\n",
              "I-PERSON      850\n",
              "B-ORG         778\n",
              "I-ORG         678\n",
              "I-MONEY       296\n",
              "B-DATE        275\n",
              "B-PERIOD      255\n",
              "B-MONEY       188\n",
              "B-DAY         179\n",
              "I-NUM         168\n",
              "I-DATE        166\n",
              "I-PERIOD      127\n",
              "I-LOC         106\n",
              "B-YEAR         93\n",
              "B-TIME         63\n",
              "I-TIME         60\n",
              "Name: TAG, dtype: int64"
            ]
          },
          "metadata": {},
          "execution_count": 67
        }
      ]
    },
    {
      "cell_type": "code",
      "metadata": {
        "id": "NAj0MHHSnAFK"
      },
      "source": [
        "# parsing the data\n"
      ],
      "execution_count": null,
      "outputs": []
    },
    {
      "cell_type": "code",
      "metadata": {
        "id": "cHDzdXtUnGCC"
      },
      "source": [
        "# import numpy as np\n",
        "# from sklearn.model_selection import train_test_split\n",
        "# hindi_train, hindi_test = train_test_split( hindi, test_size=0.33, random_state=42)"
      ],
      "execution_count": null,
      "outputs": []
    },
    {
      "cell_type": "code",
      "metadata": {
        "id": "Bath5boUnbio"
      },
      "source": [
        "class SentenceGetter(object):\n",
        "    \n",
        "    def __init__(self, data):\n",
        "        self.n_sent = 1\n",
        "        self.data = data\n",
        "        self.empty = False\n",
        "        agg_func = lambda s: [(w, p, t) for w, p, t in zip(s[\"word\"].values.tolist(),\n",
        "                                                           s[\"POS\"].values.tolist(),\n",
        "                                                           s[\"TAG\"].values.tolist())]\n",
        "        self.grouped = self.data.groupby(\"Sentence\").apply(agg_func)\n",
        "        self.sentences = [s for s in self.grouped]\n",
        "    \n",
        "    def get_next(self):\n",
        "        try:\n",
        "            s = self.grouped[\"Sentence: {}\".format(self.n_sent)]\n",
        "            self.n_sent += 1\n",
        "            return s\n",
        "        except:\n",
        "            return None"
      ],
      "execution_count": null,
      "outputs": []
    },
    {
      "cell_type": "code",
      "metadata": {
        "id": "eGPuw4NcniDa"
      },
      "source": [
        "getter = SentenceGetter(hindi)"
      ],
      "execution_count": null,
      "outputs": []
    },
    {
      "cell_type": "code",
      "metadata": {
        "colab": {
          "base_uri": "https://localhost:8080/"
        },
        "id": "0iBCdGpvnlnW",
        "outputId": "38757f03-762a-4381-8476-1039cb712ec7"
      },
      "source": [
        "sentences = [[s[0] for s in sent] for sent in getter.sentences]\n",
        "sentences[0]"
      ],
      "execution_count": null,
      "outputs": [
        {
          "output_type": "execute_result",
          "data": {
            "text/plain": [
              "['ఢిల్లీ', 'పీఠంపై', 'కేజ్రీవాల్\\u200c', 'కన్ను', 'పడింది', '.']"
            ]
          },
          "metadata": {},
          "execution_count": 72
        }
      ]
    },
    {
      "cell_type": "code",
      "metadata": {
        "colab": {
          "base_uri": "https://localhost:8080/"
        },
        "id": "GR8qiovNnuDZ",
        "outputId": "426f84f5-a8d9-416e-fc67-ea5c278f563b"
      },
      "source": [
        "poses = [[s[1] for s in sent] for sent in getter.sentences]\n",
        "print(poses[0])"
      ],
      "execution_count": null,
      "outputs": [
        {
          "output_type": "stream",
          "name": "stdout",
          "text": [
            "['NNP', 'NN', 'NNP', 'NN', 'VM', 'SYM']\n"
          ]
        }
      ]
    },
    {
      "cell_type": "code",
      "metadata": {
        "colab": {
          "base_uri": "https://localhost:8080/"
        },
        "id": "ruNOP-zUnwvK",
        "outputId": "e5777913-6c03-45e2-cc63-9a1d7ef5977e"
      },
      "source": [
        "labels = [[s[2] for s in sent] for sent in getter.sentences]\n",
        "print(labels[0])"
      ],
      "execution_count": null,
      "outputs": [
        {
          "output_type": "stream",
          "name": "stdout",
          "text": [
            "['B-LOC', 'O', 'B-PERSON', 'O', 'O', 'O']\n"
          ]
        }
      ]
    },
    {
      "cell_type": "code",
      "metadata": {
        "colab": {
          "base_uri": "https://localhost:8080/"
        },
        "id": "a2pJSthqnymB",
        "outputId": "befe26c5-2a54-49ae-97e4-53447a21f48c"
      },
      "source": [
        "# Make TAG name into index for training\n",
        "tags_vals = list(set(hindi[\"TAG\"].values))\n",
        "tags_vals.append('X')\n",
        "tags_vals.append('[CLS]')\n",
        "tags_vals.append('[SEP]')\n",
        "tags_vals = set(tags_vals)\n",
        "tags_vals"
      ],
      "execution_count": null,
      "outputs": [
        {
          "output_type": "execute_result",
          "data": {
            "text/plain": [
              "{'B-DATE',\n",
              " 'B-DAY',\n",
              " 'B-LOC',\n",
              " 'B-MONEY',\n",
              " 'B-NUM',\n",
              " 'B-ORG',\n",
              " 'B-PERIOD',\n",
              " 'B-PERSON',\n",
              " 'B-TIME',\n",
              " 'B-YEAR',\n",
              " 'I-DATE',\n",
              " 'I-LOC',\n",
              " 'I-MONEY',\n",
              " 'I-NUM',\n",
              " 'I-ORG',\n",
              " 'I-PERIOD',\n",
              " 'I-PERSON',\n",
              " 'I-TIME',\n",
              " 'O',\n",
              " 'X',\n",
              " '[CLS]',\n",
              " '[SEP]'}"
            ]
          },
          "metadata": {},
          "execution_count": 75
        }
      ]
    },
    {
      "cell_type": "code",
      "metadata": {
        "colab": {
          "base_uri": "https://localhost:8080/"
        },
        "id": "DUn9SB9Kn6eW",
        "outputId": "6f945b91-749e-4679-8d98-5e85eefe5fbb"
      },
      "source": [
        "tag2idx={'B-DATE': 1,\n",
        " 'B-DAY':2,\n",
        " 'B-LOC':3,\n",
        " 'B-MONEY':4,\n",
        " 'B-NUM':5,\n",
        " 'B-ORG':6,\n",
        " 'B-PERIOD':7,\n",
        " 'B-PERSON':8,\n",
        " 'B-TIME':9,\n",
        " 'B-YEAR':10,\n",
        " 'I-DATE':11,\n",
        " 'I-LOC':12,\n",
        " 'I-MONEY':13,\n",
        " 'I-NUM':14,\n",
        " 'I-ORG':15,\n",
        " 'I-PERIOD':16,\n",
        " 'I-PERSON':17,\n",
        " 'I-TIME':18,\n",
        " 'O':19,\n",
        " 'X':20,\n",
        " '[CLS]':21,\n",
        " '[SEP]':22\n",
        " }\n",
        "tag2idx"
      ],
      "execution_count": null,
      "outputs": [
        {
          "output_type": "execute_result",
          "data": {
            "text/plain": [
              "{'B-DATE': 1,\n",
              " 'B-DAY': 2,\n",
              " 'B-LOC': 3,\n",
              " 'B-MONEY': 4,\n",
              " 'B-NUM': 5,\n",
              " 'B-ORG': 6,\n",
              " 'B-PERIOD': 7,\n",
              " 'B-PERSON': 8,\n",
              " 'B-TIME': 9,\n",
              " 'B-YEAR': 10,\n",
              " 'I-DATE': 11,\n",
              " 'I-LOC': 12,\n",
              " 'I-MONEY': 13,\n",
              " 'I-NUM': 14,\n",
              " 'I-ORG': 15,\n",
              " 'I-PERIOD': 16,\n",
              " 'I-PERSON': 17,\n",
              " 'I-TIME': 18,\n",
              " 'O': 19,\n",
              " 'X': 20,\n",
              " '[CLS]': 21,\n",
              " '[SEP]': 22}"
            ]
          },
          "metadata": {},
          "execution_count": 76
        }
      ]
    },
    {
      "cell_type": "code",
      "metadata": {
        "id": "_te6XoMYqndB"
      },
      "source": [
        "tag2name={tag2idx[key] : key for key in tag2idx.keys()}"
      ],
      "execution_count": null,
      "outputs": []
    },
    {
      "cell_type": "code",
      "metadata": {
        "id": "kDKLRKeJrBnV"
      },
      "source": [
        "# training"
      ],
      "execution_count": null,
      "outputs": []
    },
    {
      "cell_type": "code",
      "metadata": {
        "colab": {
          "base_uri": "https://localhost:8080/"
        },
        "id": "WE373UXPrEj0",
        "outputId": "b9203afd-a29f-4908-9f42-31b737586d6f"
      },
      "source": [
        "device = torch.device(\"cuda\" if torch.cuda.is_available() else \"cpu\")\n",
        "n_gpu = torch.cuda.device_count()\n",
        "n_gpu"
      ],
      "execution_count": null,
      "outputs": [
        {
          "output_type": "execute_result",
          "data": {
            "text/plain": [
              "0"
            ]
          },
          "metadata": {},
          "execution_count": 79
        }
      ]
    },
    {
      "cell_type": "code",
      "metadata": {
        "id": "1NZaLpjbrF6h"
      },
      "source": [
        "# vocabulary = \"/content/drive/MyDrive/BERT/NER Corpus/bert-base-multilingual-cased/bert-base-multilingual-cased-vocab.txt\""
      ],
      "execution_count": null,
      "outputs": []
    },
    {
      "cell_type": "code",
      "metadata": {
        "id": "XzpKZ7q9eMKs"
      },
      "source": [
        "from transformers import AutoTokenizer, AutoModelForMaskedLM\n",
        "max_len = 45 \n",
        "# tokenizer = AutoTokenizer.from_pretrained(\"skillzzzzzy/telberto\")"
      ],
      "execution_count": null,
      "outputs": []
    },
    {
      "cell_type": "code",
      "metadata": {
        "id": "tlggZD8KrQxs",
        "colab": {
          "base_uri": "https://localhost:8080/",
          "height": 145,
          "referenced_widgets": [
            "2132438888f040408128d63356277ac9",
            "2b0bf8617d83449689507f3f3c9dd015",
            "ba8babea846e4c7db16662fd642ce7c9",
            "c38ae97a63004abd8396407f633da512",
            "210548ebdd624fddba40002979c41343",
            "9dc6ece71da1497db2ef9fc1cc8eb06c",
            "48a4dcae11ec4993879e2f9cc85fd5ec",
            "56cb99184c7e4ee198beafc129cfdc48",
            "43e826b59d35491cbc60c4dc7947ff84",
            "c9c7769177f443c7b3fdc627399eb601",
            "82b31d3c69784755bfba2f427292a863",
            "e245db4e04c44b6ca850172190a30e3e",
            "7e8cb0c42e8c4fc5b23fb5274f91f5f8",
            "fe717db5a57c415aae18394a48f0e341",
            "810be51fd9b34f929885fcc499818df2",
            "aee12ce01f5548c88799ea75df225f0e",
            "c7b41b92e78944e59308ab127d6d86ca",
            "59ee600e745c48209abb7578d704714c",
            "bf377540bcd74c26ad3a0b9efffe72b6",
            "661e1d2a244745b7a1b3b41fc4e48360",
            "15fc761a1c3d442792ceecc17c739b3e",
            "c70833057ad546b19e31ea785276c3c2",
            "84291a5273bc483e93ad9d2505ff6026",
            "be44e691d244479aaadc35d57bab09c6",
            "acc8af31fefd4c7cb999ff1ba56b7f1b",
            "c8814ad3bc5d45d5ba2c8f7deb637f3f",
            "a81f4704b6af4ad9be638956eb95d0f2",
            "c8587b833a7a4efb874515e0af1023e5",
            "4c0e236a7560408bb2bd0b85876b2264",
            "ca3a124ae06b4ee4ae2d2332d8ce322d",
            "ae2f88d9d2a541129cb94690cecd3c40",
            "4e660c02246c4208a761a0e3a42e1141",
            "db103501206648faa0f8eda92c88a101",
            "cfab19df24b240ab90ebd2f791e113da",
            "37021e9ff4d44690a0a2a64a6797cfd1",
            "a632cd67cd684d35a05172409c0bb992",
            "bdee61eeccdc408babd6e74257aa0134",
            "577c003efa6f493c91f3d56da67fead5",
            "e6efdcf922fb41588cc11898b225b058",
            "fae812167f274f828785671de590ef12",
            "977bb7da396a446580e246650a05b0fc",
            "af6f403465c54078b131768666887c4b",
            "ddab7927b752481c89ee1def5c4aa872",
            "fa89820d9dca410599b7131036e6fb38"
          ]
        },
        "outputId": "85e7e576-8c8c-46bf-b8c5-0112866a8344"
      },
      "source": [
        "\n",
        "\n",
        "\n",
        "tokenizer=BertTokenizer.from_pretrained('bert-base-multilingual-cased')\n",
        "# tokenizer = AutoTokenizer.from_pretrained(\"Davlan/bert-base-multilingual-cased-ner-hrl\")\n",
        "# model = AutoModelForTokenClassification.from_pretrained(\"Davlan/bert-base-multilingual-cased-ner-hrl\")"
      ],
      "execution_count": null,
      "outputs": [
        {
          "output_type": "display_data",
          "data": {
            "application/vnd.jupyter.widget-view+json": {
              "model_id": "2132438888f040408128d63356277ac9",
              "version_minor": 0,
              "version_major": 2
            },
            "text/plain": [
              "Downloading:   0%|          | 0.00/972k [00:00<?, ?B/s]"
            ]
          },
          "metadata": {}
        },
        {
          "output_type": "display_data",
          "data": {
            "application/vnd.jupyter.widget-view+json": {
              "model_id": "e245db4e04c44b6ca850172190a30e3e",
              "version_minor": 0,
              "version_major": 2
            },
            "text/plain": [
              "Downloading:   0%|          | 0.00/29.0 [00:00<?, ?B/s]"
            ]
          },
          "metadata": {}
        },
        {
          "output_type": "display_data",
          "data": {
            "application/vnd.jupyter.widget-view+json": {
              "model_id": "84291a5273bc483e93ad9d2505ff6026",
              "version_minor": 0,
              "version_major": 2
            },
            "text/plain": [
              "Downloading:   0%|          | 0.00/1.87M [00:00<?, ?B/s]"
            ]
          },
          "metadata": {}
        },
        {
          "output_type": "display_data",
          "data": {
            "application/vnd.jupyter.widget-view+json": {
              "model_id": "cfab19df24b240ab90ebd2f791e113da",
              "version_minor": 0,
              "version_major": 2
            },
            "text/plain": [
              "Downloading:   0%|          | 0.00/625 [00:00<?, ?B/s]"
            ]
          },
          "metadata": {}
        }
      ]
    },
    {
      "cell_type": "code",
      "metadata": {
        "colab": {
          "base_uri": "https://localhost:8080/"
        },
        "id": "ev1xUz2vrVt8",
        "outputId": "5e1007d3-cd7d-429e-aef5-dc43348e3687"
      },
      "source": [
        "tokenized_texts = []\n",
        "word_piece_labels = []\n",
        "i_inc = 0\n",
        "for word_list,label in (zip(sentences,labels)):\n",
        "    temp_lable = []\n",
        "    temp_token = []\n",
        "    \n",
        "    # Add [CLS] at the front \n",
        "    temp_lable.append('[CLS]')\n",
        "    temp_token.append('[CLS]')\n",
        "    \n",
        "    for word,lab in zip(word_list,label):\n",
        "        token_list = tokenizer.tokenize(word)\n",
        "        for m,token in enumerate(token_list):\n",
        "            temp_token.append(token)\n",
        "            if m==0:\n",
        "                temp_lable.append(lab)\n",
        "            else:\n",
        "                temp_lable.append('X')  \n",
        "                \n",
        "    # Add [SEP] at the end\n",
        "    temp_lable.append('[SEP]')\n",
        "    temp_token.append('[SEP]')\n",
        "    \n",
        "    tokenized_texts.append(temp_token)\n",
        "    word_piece_labels.append(temp_lable)\n",
        "    \n",
        "    if 5 > i_inc:\n",
        "        print(\"No.%d,len:%d\"%(i_inc,len(temp_token)))\n",
        "        print(\"texts:%s\"%(\" \".join(temp_token)))\n",
        "        print(\"No.%d,len:%d\"%(i_inc,len(temp_lable)))\n",
        "        print(\"lables:%s\"%(\" \".join(temp_lable)))\n",
        "    i_inc +=1"
      ],
      "execution_count": null,
      "outputs": [
        {
          "output_type": "stream",
          "name": "stdout",
          "text": [
            "No.0,len:24\n",
            "texts:[CLS] ఢ ##ి ##ల్ ##లీ ప ##ీ ##ఠ ##ం ##పై క ##ే ##జ్ ##రీ ##వ ##ాల్ క ##న్న ##ు ప ##డి ##ంది . [SEP]\n",
            "No.0,len:24\n",
            "lables:[CLS] B-LOC X X X O X X X X B-PERSON X X X X X O X X O X X O [SEP]\n",
            "No.1,len:66\n",
            "texts:[CLS] మ ##ు ##ఖ ##్య ##మం ##త్రి ప ##ద ##వి ##లో మ ##ు ##చ్ ##చ ##ట ##గా మూడు న ##ె ##ల ##లు ఉ ##ండి ట ##ా ##టా బ ##ై ##బ ##ై చ ##ె ##ప్ ##పి ##న ఆయన మ ##రో మ ##ారు స ##ర్ ##క ##ారు ఏ ##ర్ ##పాటు ది ##శ ##గా ఆ ##లో ##చన ##లు చ ##ే ##స్ ##తున్న ##ట్లు స ##మా ##చ ##ారం . [SEP]\n",
            "No.1,len:66\n",
            "lables:[CLS] O X X X X X O X X X O X X X X X B-PERIOD I-PERIOD X X X O X O X X O X X X O X X X X O O X O X O X X X O X X O X X O X X X O X X X X O X X X O [SEP]\n",
            "No.2,len:62\n",
            "texts:[CLS] అ ##ందుకు క ##ా ##ంగ్ ##రెస్ తో క ##లి ##సి చ ##ెట్ ##టా ##ప ##ట్ ##టా ##ల్ వ ##ే ##య ##డానికి కూడా వ ##ె ##ను ##క ##ా ##డ ##బ ##ో ##న ##ని అ ##ర ##వి ##ంద ##్ క ##ే ##జ్ ##రీ ##వ ##ాల్ స ##ం ##క ##ేత ##ాలు ప ##ం ##పి ##ం ##చ ##టం వి ##శ ##ే ##ష ##ం . [SEP]\n",
            "No.2,len:62\n",
            "lables:[CLS] O X B-ORG X X X O O X X O X X X X X X O X X X O O X X X X X X X X X B-PERSON X X X X I-PERSON X X X X X O X X X X O X X X X X O X X X X O [SEP]\n",
            "No.3,len:73\n",
            "texts:[CLS] ఢ ##ి ##ల్ ##లీ ##లో ప్రభుత్వ ##ాన్ని ఏ ##ర్ ##పాటు చేసే ##ందుకు అ ##వ ##క ##ా ##శ ##ాన్ని ఇ ##వ్ ##వ ##ాల ##ని బి ##జ ##ె ##పి న ##ేత ##లు నేరుగా ల ##ె ##ఫ్ ##టి ##న ##ెంట్ గ ##వ ##ర్ ##న ##ర్ న ##జీ ##బ్ జ ##ంగ్ ను క ##లి ##సి తమ ప్రతి ##ప ##ా ##ద ##నలు చ ##ె ##ప్ ##పి ##న వి ##ష ##యం వి ##ది ##త ##మ ##ే . [SEP]\n",
            "No.3,len:73\n",
            "lables:[CLS] B-LOC X X X X O X O X X O X O X X X X X O X X X X B-ORG X X X O X X O O X X X X X O X X X X B-PERSON X X I-PERSON X O O X X O O X X X X O X X X X O X X O X X X X O [SEP]\n",
            "No.4,len:47\n",
            "texts:[CLS] అ ##ంత ##ేక ##ాక ఆ ##మ్ అ ##ద్ ##మీ ప ##ార ##్ ##టీ ##కి చెందిన ఎ ##ం ##ఎ ##ల్ ##ఏ ల ##ను కూడా తమ ##వ ##ై ##పు త ##ి ##ప్ ##పు ##కు ##నే ప ##్ర ##య ##త్ ##నా ##లను మ ##ు ##మ్మ ##రం చేశారు . [SEP]\n",
            "No.4,len:47\n",
            "lables:[CLS] O X X X B-ORG X I-ORG X X I-ORG X X X X O O X X X X O X O O X X X O X X X X X O X X X X X O X X X O O [SEP]\n"
          ]
        }
      ]
    },
    {
      "cell_type": "code",
      "metadata": {
        "colab": {
          "base_uri": "https://localhost:8080/"
        },
        "id": "9eKOmcUjuXPB",
        "outputId": "c9a12c15-ca60-44e2-c6cd-a183c7fda6e2"
      },
      "source": [
        "# Make text token into id\n",
        "input_ids = pad_sequences([tokenizer.convert_tokens_to_ids(txt) for txt in tokenized_texts],\n",
        "                          maxlen=max_len, dtype=\"long\", truncating=\"post\", padding=\"post\")\n",
        "print(input_ids[0])"
      ],
      "execution_count": null,
      "outputs": [
        {
          "output_type": "stream",
          "name": "stdout",
          "text": [
            "[   101   1213  15868  15959  54277   1220  18564 111334  13652  59041\n",
            "   1201  17729  43020  40686  18892  62385   1201  37218  15697   1220\n",
            "  22012  19052    119    102      0      0      0      0      0      0\n",
            "      0      0      0      0      0      0      0      0      0      0\n",
            "      0      0      0      0      0]\n"
          ]
        }
      ]
    },
    {
      "cell_type": "code",
      "metadata": {
        "colab": {
          "base_uri": "https://localhost:8080/"
        },
        "id": "Nmj0wlzYuu7r",
        "outputId": "e6c1327a-523a-4fba-eec2-b73c76ec3ea3"
      },
      "source": [
        "# Make label into id, pad with \"O\" meaning others\n",
        "tags = pad_sequences([[tag2idx.get(l) for l in lab] for lab in word_piece_labels],\n",
        "                     maxlen=max_len, value=tag2idx[\"O\"], padding=\"post\",\n",
        "                     dtype=\"long\", truncating=\"post\")\n",
        "print(tags[0])\n"
      ],
      "execution_count": null,
      "outputs": [
        {
          "output_type": "stream",
          "name": "stdout",
          "text": [
            "[21  3 20 20 20 19 20 20 20 20  8 20 20 20 20 20 19 20 20 19 20 20 19 22\n",
            " 19 19 19 19 19 19 19 19 19 19 19 19 19 19 19 19 19 19 19 19 19]\n"
          ]
        }
      ]
    },
    {
      "cell_type": "code",
      "metadata": {
        "id": "z_PGCQAguxo3"
      },
      "source": [
        "# For fine tune of predict, with token mask is 1,pad token is 0\n",
        "attention_masks = [[int(i>0) for i in ii] for ii in input_ids]\n",
        "attention_masks[0];"
      ],
      "execution_count": null,
      "outputs": []
    },
    {
      "cell_type": "code",
      "metadata": {
        "id": "DO04Ga6zu4Bm"
      },
      "source": [
        "# Since only one sentence, all the segment set to 0\n",
        "segment_ids = [[0] * len(input_id) for input_id in input_ids]\n",
        "segment_ids[0];"
      ],
      "execution_count": null,
      "outputs": []
    },
    {
      "cell_type": "code",
      "metadata": {
        "id": "wOM-qvGIu5fe"
      },
      "source": [
        "tr_inputs, val_inputs, tr_tags, val_tags,tr_masks, val_masks,tr_segs, val_segs = train_test_split(input_ids, tags,attention_masks,segment_ids, \n",
        "                                                            random_state=4, test_size=0.3)"
      ],
      "execution_count": null,
      "outputs": []
    },
    {
      "cell_type": "code",
      "metadata": {
        "colab": {
          "base_uri": "https://localhost:8080/"
        },
        "id": "SqMMj9fAu8rS",
        "outputId": "b1d58f87-7b5c-44e7-d2f1-6a8469468716"
      },
      "source": [
        "len(tr_inputs),len(val_inputs),len(tr_segs),len(val_segs)"
      ],
      "execution_count": null,
      "outputs": [
        {
          "output_type": "execute_result",
          "data": {
            "text/plain": [
              "(2209, 948, 2209, 948)"
            ]
          },
          "metadata": {},
          "execution_count": 89
        }
      ]
    },
    {
      "cell_type": "code",
      "metadata": {
        "id": "fKjh8bpnu-16"
      },
      "source": [
        "tr_inputs = torch.tensor(tr_inputs)\n",
        "val_inputs = torch.tensor(val_inputs)\n",
        "tr_tags = torch.tensor(tr_tags)\n",
        "val_tags = torch.tensor(val_tags)\n",
        "tr_masks = torch.tensor(tr_masks)\n",
        "val_masks = torch.tensor(val_masks)\n",
        "tr_segs = torch.tensor(tr_segs)\n",
        "val_segs = torch.tensor(val_segs)"
      ],
      "execution_count": null,
      "outputs": []
    },
    {
      "cell_type": "code",
      "metadata": {
        "id": "0bcJHA4KvAwK"
      },
      "source": [
        "batch_num = 32"
      ],
      "execution_count": null,
      "outputs": []
    },
    {
      "cell_type": "code",
      "metadata": {
        "id": "GE7g35aBvC9K"
      },
      "source": [
        "train_data = TensorDataset(tr_inputs, tr_masks, tr_tags)\n",
        "train_sampler = RandomSampler(train_data)\n",
        "# Drop last can make batch training better for the last one\n",
        "train_dataloader = DataLoader(train_data, sampler=train_sampler, batch_size=batch_num,drop_last=True)\n",
        "\n",
        "valid_data = TensorDataset(val_inputs, val_masks, val_tags)\n",
        "valid_sampler = SequentialSampler(valid_data)\n",
        "valid_dataloader = DataLoader(valid_data, sampler=valid_sampler, batch_size=batch_num)"
      ],
      "execution_count": null,
      "outputs": []
    },
    {
      "cell_type": "code",
      "metadata": {
        "colab": {
          "base_uri": "https://localhost:8080/",
          "height": 156,
          "referenced_widgets": [
            "c17de0369bfa407cbd238db59fe61248",
            "014dce0eadd0422d824e0ea4807f7716",
            "c35a0bd20d064c3e9ff4cb75dfbd8886",
            "c7a8c8ec0b944bcab3084c95108849d1",
            "53985ae40535454297430aabfb3b5d28",
            "b4c3a414b5984258a27f4db76dfa86c1",
            "0cac9980bb6e4dfb9b9decca8d24295f",
            "4845b3805a0b48a7aeb0fd6e1f6d7c53",
            "fdbc37a812254379a81c494d381a7702",
            "c0bcbaf66d8a43209dea47972688d3e6",
            "cfa74f65a3f74a02a22deb81c01f095c"
          ]
        },
        "id": "18xvIoQ4vEb7",
        "outputId": "acb227bb-412d-412d-850b-a8c8ec6e442c"
      },
      "source": [
        "# model_file_address = '/content/drive/MyDrive/BERT/NER Corpus/bert-base-multilingual-cased'\n",
        "# max_len  = 45\n",
        "# model = AutoModelForMaskedLM.from_pretrained(\"skillzzzzzy/telberto\")\n",
        "model = BertForTokenClassification.from_pretrained(\"bert-base-multilingual-cased\",num_labels=len(tag2idx))"
      ],
      "execution_count": null,
      "outputs": [
        {
          "output_type": "display_data",
          "data": {
            "application/vnd.jupyter.widget-view+json": {
              "model_id": "c17de0369bfa407cbd238db59fe61248",
              "version_minor": 0,
              "version_major": 2
            },
            "text/plain": [
              "Downloading:   0%|          | 0.00/681M [00:00<?, ?B/s]"
            ]
          },
          "metadata": {}
        },
        {
          "output_type": "stream",
          "name": "stderr",
          "text": [
            "Some weights of the model checkpoint at bert-base-multilingual-cased were not used when initializing BertForTokenClassification: ['cls.seq_relationship.weight', 'cls.predictions.bias', 'cls.seq_relationship.bias', 'cls.predictions.transform.dense.weight', 'cls.predictions.transform.LayerNorm.weight', 'cls.predictions.transform.LayerNorm.bias', 'cls.predictions.transform.dense.bias', 'cls.predictions.decoder.weight']\n",
            "- This IS expected if you are initializing BertForTokenClassification from the checkpoint of a model trained on another task or with another architecture (e.g. initializing a BertForSequenceClassification model from a BertForPreTraining model).\n",
            "- This IS NOT expected if you are initializing BertForTokenClassification from the checkpoint of a model that you expect to be exactly identical (initializing a BertForSequenceClassification model from a BertForSequenceClassification model).\n",
            "Some weights of BertForTokenClassification were not initialized from the model checkpoint at bert-base-multilingual-cased and are newly initialized: ['classifier.bias', 'classifier.weight']\n",
            "You should probably TRAIN this model on a down-stream task to be able to use it for predictions and inference.\n"
          ]
        }
      ]
    },
    {
      "cell_type": "code",
      "metadata": {
        "id": "9V0-jNJuweCr"
      },
      "source": [
        "m_labels = len(tag2idx)"
      ],
      "execution_count": null,
      "outputs": []
    },
    {
      "cell_type": "code",
      "metadata": {
        "id": "Tg015VK1zbjI"
      },
      "source": [
        "model;"
      ],
      "execution_count": null,
      "outputs": []
    },
    {
      "cell_type": "code",
      "metadata": {
        "id": "rTPEizDZ1B3V"
      },
      "source": [
        "# model.cuda();"
      ],
      "execution_count": null,
      "outputs": []
    },
    {
      "cell_type": "markdown",
      "metadata": {
        "id": "1Vf7IcfZ1BkP"
      },
      "source": [
        ""
      ]
    },
    {
      "cell_type": "code",
      "metadata": {
        "id": "szzUVyMa0SxG"
      },
      "source": [
        "epochs = 20\n",
        "max_grad_norm = 1.0"
      ],
      "execution_count": null,
      "outputs": []
    },
    {
      "cell_type": "code",
      "metadata": {
        "id": "kZxjoGngzdsR"
      },
      "source": [
        "if n_gpu >1:\n",
        "    model = torch.nn.DataParallel(model)"
      ],
      "execution_count": null,
      "outputs": []
    },
    {
      "cell_type": "code",
      "metadata": {
        "id": "xN0WfqKizgRw"
      },
      "source": [
        "num_train_optimization_steps = int( math.ceil(len(tr_inputs) / batch_num) / 1) * epochs"
      ],
      "execution_count": null,
      "outputs": []
    },
    {
      "cell_type": "code",
      "metadata": {
        "id": "eilZnWkX0Lwc"
      },
      "source": [
        "# fine tuning\n",
        "FULL_FINETUNING = True"
      ],
      "execution_count": null,
      "outputs": []
    },
    {
      "cell_type": "code",
      "metadata": {
        "id": "x1bwHeEy0dG8"
      },
      "source": [
        "if FULL_FINETUNING:\n",
        "    # Fine tune model all layer parameters\n",
        "    param_optimizer = list(model.named_parameters())\n",
        "    no_decay = ['bias', 'gamma', 'beta']\n",
        "    optimizer_grouped_parameters = [\n",
        "        {'params': [p for n, p in param_optimizer if not any(nd in n for nd in no_decay)],\n",
        "         'weight_decay_rate': 0.01},\n",
        "        {'params': [p for n, p in param_optimizer if any(nd in n for nd in no_decay)],\n",
        "         'weight_decay_rate': 0.0}\n",
        "    ]\n",
        "else:\n",
        "    # Only fine tune classifier parameters\n",
        "    param_optimizer = list(model.classifier.named_parameters()) \n",
        "    optimizer_grouped_parameters = [{\"params\": [p for n, p in param_optimizer]}]\n",
        "optimizer = AdamW(optimizer_grouped_parameters, lr=3e-5)"
      ],
      "execution_count": null,
      "outputs": []
    },
    {
      "cell_type": "code",
      "metadata": {
        "id": "ApqEKeEn0dvC"
      },
      "source": [
        "model.train();"
      ],
      "execution_count": null,
      "outputs": []
    },
    {
      "cell_type": "code",
      "metadata": {
        "colab": {
          "base_uri": "https://localhost:8080/",
          "height": 502
        },
        "id": "-5w1ZKpe0ffQ",
        "outputId": "1f97c8b9-4ede-4747-eebd-f0b27ad7333f"
      },
      "source": [
        "print(\"***** Running training *****\")\n",
        "print(\"  Num examples = %d\"%(len(tr_inputs)))\n",
        "print(\"  Batch size = %d\"%(batch_num))\n",
        "print(\"  Num steps = %d\"%(num_train_optimization_steps))\n",
        "for _ in trange(epochs,desc=\"Epoch\"):\n",
        "    tr_loss = 0\n",
        "    nb_tr_examples, nb_tr_steps = 0, 0\n",
        "    for step, batch in enumerate(train_dataloader):\n",
        "        # add batch to gpu\n",
        "        batch = tuple(t.to(device) for t in batch)\n",
        "        b_input_ids, b_input_mask, b_labels = batch\n",
        "        \n",
        "        # forward pass\n",
        "        outputs = model(b_input_ids, token_type_ids=None,\n",
        "        attention_mask=b_input_mask, labels=b_labels)\n",
        "        loss, scores = outputs[:2]\n",
        "        if n_gpu>1:\n",
        "            # When multi gpu, average it\n",
        "            loss = loss.mean()\n",
        "        \n",
        "        # backward pass\n",
        "        loss.backward()\n",
        "        \n",
        "        # track train loss\n",
        "        tr_loss += loss.item()\n",
        "        nb_tr_examples += b_input_ids.size(0)\n",
        "        nb_tr_steps += 1\n",
        "        \n",
        "        # gradient clipping\n",
        "        torch.nn.utils.clip_grad_norm_(parameters=model.parameters(), max_norm=max_grad_norm)\n",
        "        \n",
        "        # update parameters\n",
        "        optimizer.step()\n",
        "        optimizer.zero_grad()\n",
        "        \n",
        "    # print train loss per epoch\n",
        "    print(\"Train loss: {}\".format(tr_loss/nb_tr_steps))"
      ],
      "execution_count": null,
      "outputs": [
        {
          "output_type": "stream",
          "name": "stdout",
          "text": [
            "***** Running training *****\n",
            "  Num examples = 2209\n",
            "  Batch size = 32\n",
            "  Num steps = 1400\n"
          ]
        },
        {
          "output_type": "stream",
          "name": "stderr",
          "text": [
            "Epoch:   0%|          | 0/20 [00:00<?, ?it/s]\n"
          ]
        },
        {
          "output_type": "error",
          "ename": "RuntimeError",
          "evalue": "ignored",
          "traceback": [
            "\u001b[0;31m---------------------------------------------------------------------------\u001b[0m",
            "\u001b[0;31mRuntimeError\u001b[0m                              Traceback (most recent call last)",
            "\u001b[0;32m<ipython-input-107-fea835068ea2>\u001b[0m in \u001b[0;36m<module>\u001b[0;34m()\u001b[0m\n\u001b[1;32m     20\u001b[0m \u001b[0;34m\u001b[0m\u001b[0m\n\u001b[1;32m     21\u001b[0m         \u001b[0;31m# backward pass\u001b[0m\u001b[0;34m\u001b[0m\u001b[0;34m\u001b[0m\u001b[0;34m\u001b[0m\u001b[0m\n\u001b[0;32m---> 22\u001b[0;31m         \u001b[0mloss\u001b[0m\u001b[0;34m.\u001b[0m\u001b[0mbackward\u001b[0m\u001b[0;34m(\u001b[0m\u001b[0;34m)\u001b[0m\u001b[0;34m\u001b[0m\u001b[0;34m\u001b[0m\u001b[0m\n\u001b[0m\u001b[1;32m     23\u001b[0m \u001b[0;34m\u001b[0m\u001b[0m\n\u001b[1;32m     24\u001b[0m         \u001b[0;31m# track train loss\u001b[0m\u001b[0;34m\u001b[0m\u001b[0;34m\u001b[0m\u001b[0;34m\u001b[0m\u001b[0m\n",
            "\u001b[0;32m/usr/local/lib/python3.7/dist-packages/torch/_tensor.py\u001b[0m in \u001b[0;36mbackward\u001b[0;34m(self, gradient, retain_graph, create_graph, inputs)\u001b[0m\n\u001b[1;32m    305\u001b[0m                 \u001b[0mcreate_graph\u001b[0m\u001b[0;34m=\u001b[0m\u001b[0mcreate_graph\u001b[0m\u001b[0;34m,\u001b[0m\u001b[0;34m\u001b[0m\u001b[0;34m\u001b[0m\u001b[0m\n\u001b[1;32m    306\u001b[0m                 inputs=inputs)\n\u001b[0;32m--> 307\u001b[0;31m         \u001b[0mtorch\u001b[0m\u001b[0;34m.\u001b[0m\u001b[0mautograd\u001b[0m\u001b[0;34m.\u001b[0m\u001b[0mbackward\u001b[0m\u001b[0;34m(\u001b[0m\u001b[0mself\u001b[0m\u001b[0;34m,\u001b[0m \u001b[0mgradient\u001b[0m\u001b[0;34m,\u001b[0m \u001b[0mretain_graph\u001b[0m\u001b[0;34m,\u001b[0m \u001b[0mcreate_graph\u001b[0m\u001b[0;34m,\u001b[0m \u001b[0minputs\u001b[0m\u001b[0;34m=\u001b[0m\u001b[0minputs\u001b[0m\u001b[0;34m)\u001b[0m\u001b[0;34m\u001b[0m\u001b[0;34m\u001b[0m\u001b[0m\n\u001b[0m\u001b[1;32m    308\u001b[0m \u001b[0;34m\u001b[0m\u001b[0m\n\u001b[1;32m    309\u001b[0m     \u001b[0;32mdef\u001b[0m \u001b[0mregister_hook\u001b[0m\u001b[0;34m(\u001b[0m\u001b[0mself\u001b[0m\u001b[0;34m,\u001b[0m \u001b[0mhook\u001b[0m\u001b[0;34m)\u001b[0m\u001b[0;34m:\u001b[0m\u001b[0;34m\u001b[0m\u001b[0;34m\u001b[0m\u001b[0m\n",
            "\u001b[0;32m/usr/local/lib/python3.7/dist-packages/torch/autograd/__init__.py\u001b[0m in \u001b[0;36mbackward\u001b[0;34m(tensors, grad_tensors, retain_graph, create_graph, grad_variables, inputs)\u001b[0m\n\u001b[1;32m    154\u001b[0m     Variable._execution_engine.run_backward(\n\u001b[1;32m    155\u001b[0m         \u001b[0mtensors\u001b[0m\u001b[0;34m,\u001b[0m \u001b[0mgrad_tensors_\u001b[0m\u001b[0;34m,\u001b[0m \u001b[0mretain_graph\u001b[0m\u001b[0;34m,\u001b[0m \u001b[0mcreate_graph\u001b[0m\u001b[0;34m,\u001b[0m \u001b[0minputs\u001b[0m\u001b[0;34m,\u001b[0m\u001b[0;34m\u001b[0m\u001b[0;34m\u001b[0m\u001b[0m\n\u001b[0;32m--> 156\u001b[0;31m         allow_unreachable=True, accumulate_grad=True)  # allow_unreachable flag\n\u001b[0m\u001b[1;32m    157\u001b[0m \u001b[0;34m\u001b[0m\u001b[0m\n\u001b[1;32m    158\u001b[0m \u001b[0;34m\u001b[0m\u001b[0m\n",
            "\u001b[0;31mRuntimeError\u001b[0m: CUDA error: device-side assert triggered\nCUDA kernel errors might be asynchronously reported at some other API call,so the stacktrace below might be incorrect.\nFor debugging consider passing CUDA_LAUNCH_BLOCKING=1."
          ]
        }
      ]
    },
    {
      "cell_type": "code",
      "metadata": {
        "id": "B20CIew42Kiq"
      },
      "source": [
        "bert_out_address = 'ashiNLP/bert_telberto_model/telegu'"
      ],
      "execution_count": null,
      "outputs": []
    },
    {
      "cell_type": "code",
      "metadata": {
        "id": "DW6b9S4W2T2D"
      },
      "source": [
        "if not os.path.exists(bert_out_address):\n",
        "        os.makedirs(bert_out_address)"
      ],
      "execution_count": null,
      "outputs": []
    },
    {
      "cell_type": "code",
      "metadata": {
        "id": "GHWcEvL42YiX"
      },
      "source": [
        "model_to_save = model.module if hasattr(model, 'module') else model"
      ],
      "execution_count": null,
      "outputs": []
    },
    {
      "cell_type": "code",
      "metadata": {
        "id": "QUqeOIbD2Ye3"
      },
      "source": [
        "output_model_file = os.path.join(bert_out_address, \"pytorch_model.bin\")\n",
        "output_config_file = os.path.join(bert_out_address, \"config.json\")"
      ],
      "execution_count": null,
      "outputs": []
    },
    {
      "cell_type": "code",
      "metadata": {
        "colab": {
          "base_uri": "https://localhost:8080/"
        },
        "id": "LtuYbXhP2Yc3",
        "outputId": "39030b31-ebd5-47b7-e2ce-a84c5bda8340"
      },
      "source": [
        "torch.save(model_to_save.state_dict(), output_model_file)\n",
        "model_to_save.config.to_json_file(output_config_file)\n",
        "tokenizer.save_vocabulary(bert_out_address)"
      ],
      "execution_count": null,
      "outputs": [
        {
          "output_type": "execute_result",
          "data": {
            "text/plain": [
              "('ashiNLP/bert_telberto_model/telegu/vocab.json',\n",
              " 'ashiNLP/bert_telberto_model/telegu/merges.txt')"
            ]
          },
          "metadata": {},
          "execution_count": 56
        }
      ]
    },
    {
      "cell_type": "code",
      "metadata": {
        "id": "-mVqFzsa2nfn"
      },
      "source": [
        "# load model\n",
        "model = AutoModelForMaskedLM.from_pretrained(bert_out_address,num_labels=len(tag2idx))"
      ],
      "execution_count": null,
      "outputs": []
    },
    {
      "cell_type": "markdown",
      "metadata": {
        "id": "9BM77nl6-6tO"
      },
      "source": [
        ""
      ]
    },
    {
      "cell_type": "code",
      "metadata": {
        "id": "yRKN5mgA2nb_"
      },
      "source": [
        "model.cuda();"
      ],
      "execution_count": null,
      "outputs": []
    },
    {
      "cell_type": "code",
      "metadata": {
        "id": "sD20sOc02ssR"
      },
      "source": [
        "if n_gpu >1:\n",
        "    model = torch.nn.DataParallel(model)"
      ],
      "execution_count": null,
      "outputs": []
    },
    {
      "cell_type": "code",
      "metadata": {
        "id": "UGLcJpkm2sf4"
      },
      "source": [
        "# EVALUATION"
      ],
      "execution_count": null,
      "outputs": []
    },
    {
      "cell_type": "code",
      "metadata": {
        "id": "Qh5kbSG40i_E"
      },
      "source": [
        "model.eval();"
      ],
      "execution_count": null,
      "outputs": []
    },
    {
      "cell_type": "code",
      "metadata": {
        "colab": {
          "base_uri": "https://localhost:8080/"
        },
        "id": "7rEuFqdw1hDW",
        "outputId": "814a19b2-aa61-4e17-e835-c7d1a3fdd21d"
      },
      "source": [
        "\n",
        "eval_loss, eval_accuracy = 0, 0\n",
        "nb_eval_steps, nb_eval_examples = 0, 0\n",
        "y_true = []\n",
        "y_pred = []\n",
        "\n",
        "print(\"***** Running evaluation *****\")\n",
        "print(\"  Num examples ={}\".format(len(val_inputs)))\n",
        "print(\"  Batch size = {}\".format(batch_num))\n",
        "for step, batch in enumerate(valid_dataloader):\n",
        "    batch = tuple(t.to(device) for t in batch)\n",
        "    input_ids, input_mask, label_ids = batch\n",
        "    \n",
        "#     if step > 2:\n",
        "#         break\n",
        "    \n",
        "    with torch.no_grad():\n",
        "        outputs = model(input_ids, token_type_ids=None,\n",
        "        attention_mask=input_mask,)\n",
        "        # For eval mode, the first result of outputs is logits\n",
        "        logits = outputs[0] \n",
        "    \n",
        "    # Get NER predict result\n",
        "    logits = torch.argmax(F.log_softmax(logits,dim=2),dim=2)\n",
        "    logits = logits.detach().cpu().numpy()\n",
        "    \n",
        "    \n",
        "    # Get NER true result\n",
        "    label_ids = label_ids.to('cpu').numpy()\n",
        "    \n",
        "    \n",
        "    # Only predict the real word, mark=0, will not calculate\n",
        "    input_mask = input_mask.to('cpu').numpy()\n",
        "    \n",
        "    # Compare the valuable predict result\n",
        "    for i,mask in enumerate(input_mask):\n",
        "        # Real one\n",
        "        temp_1 = []\n",
        "        # Predict one\n",
        "        temp_2 = []\n",
        "        \n",
        "        for j, m in enumerate(mask):\n",
        "            # Mark=0, meaning its a pad word, dont compare\n",
        "            if m:\n",
        "                if tag2name[label_ids[i][j]] != \"X\" and tag2name[label_ids[i][j]] != \"[CLS]\" and tag2name[label_ids[i][j]] != \"[SEP]\" : # Exclude the X label\n",
        "                    temp_1.append(tag2name[label_ids[i][j]])\n",
        "                    temp_2.append(tag2name[logits[i][j]])\n",
        "            else:\n",
        "                break\n",
        "        \n",
        "            \n",
        "        y_true.append(temp_1)\n",
        "        y_pred.append(temp_2)\n",
        "\n",
        "        \n",
        "\n",
        "print(\"f1 socre: %f\"%(f1_score(y_true, y_pred)))\n",
        "print(\"Accuracy score: %f\"%(accuracy_score(y_true, y_pred)))\n",
        "\n",
        "# Get acc , recall, F1 result report\n",
        "report = classification_report(y_true, y_pred,digits=4)\n",
        "\n",
        "# Save the report into file\n",
        "# output_eval_file = os.path.join('/content/drive/MyDrive/BERT/NER Corpus/bert-base-multilingual-cased', \"eval_results.txt\")\n",
        "output_eval_file = os.path.join(bert_out_address, \"eval_results.txt\")\n",
        "with open(output_eval_file, \"w\") as writer:\n",
        "    print(\"***** Eval results *****\")\n",
        "    print(\"\\n%s\"%(report))\n",
        "    print(\"f1 socre: %f\"%(f1_score(y_true, y_pred)))\n",
        "    print(\"Accuracy score: %f\"%(accuracy_score(y_true, y_pred)))\n",
        "    \n",
        "    writer.write(\"f1 socre:\\n\")\n",
        "    writer.write(str(f1_score(y_true, y_pred)))\n",
        "    writer.write(\"\\n\\nAccuracy score:\\n\")\n",
        "    writer.write(str(accuracy_score(y_true, y_pred)))\n",
        "    writer.write(\"\\n\\n\")  \n",
        "    writer.write(report)"
      ],
      "execution_count": null,
      "outputs": [
        {
          "output_type": "stream",
          "name": "stdout",
          "text": [
            "***** Running evaluation *****\n",
            "  Num examples =948\n",
            "  Batch size = 32\n"
          ]
        },
        {
          "output_type": "stream",
          "name": "stderr",
          "text": [
            "/usr/local/lib/python3.7/dist-packages/seqeval/metrics/sequence_labeling.py:171: UserWarning: X seems not to be NE tag.\n",
            "  warnings.warn('{} seems not to be NE tag.'.format(chunk))\n",
            "/usr/local/lib/python3.7/dist-packages/seqeval/metrics/sequence_labeling.py:171: UserWarning: [SEP] seems not to be NE tag.\n",
            "  warnings.warn('{} seems not to be NE tag.'.format(chunk))\n",
            "/usr/local/lib/python3.7/dist-packages/seqeval/metrics/v1.py:57: UndefinedMetricWarning: Recall and F-score are ill-defined and being set to 0.0 in labels with no true samples. Use `zero_division` parameter to control this behavior.\n",
            "  _warn_prf(average, modifier, msg_start, len(result))\n"
          ]
        },
        {
          "output_type": "stream",
          "name": "stdout",
          "text": [
            "f1 socre: 0.684531\n",
            "Accuracy score: 0.890381\n",
            "***** Eval results *****\n",
            "\n",
            "              precision    recall  f1-score   support\n",
            "\n",
            "        DATE     0.8939    0.9219    0.9077        64\n",
            "         DAY     0.9787    0.9583    0.9684        48\n",
            "         LOC     0.8061    0.7670    0.7861       412\n",
            "       MONEY     0.4839    0.4839    0.4839        31\n",
            "         NUM     0.7449    0.7978    0.7704       183\n",
            "         ORG     0.4892    0.5312    0.5094       128\n",
            "      PERIOD     0.6667    0.6780    0.6723        59\n",
            "      PERSON     0.5265    0.5099    0.5181       253\n",
            "        SEP]     0.0000    0.0000    0.0000         0\n",
            "        TIME     0.7059    0.6000    0.6486        20\n",
            "        YEAR     0.8571    0.6000    0.7059        20\n",
            "           _     0.0000    0.0000    0.0000         0\n",
            "\n",
            "   micro avg     0.6771    0.6921    0.6845      1218\n",
            "   macro avg     0.5961    0.5707    0.5809      1218\n",
            "weighted avg     0.7012    0.6921    0.6958      1218\n",
            "\n",
            "f1 socre: 0.684531\n",
            "Accuracy score: 0.890381\n"
          ]
        }
      ]
    },
    {
      "cell_type": "code",
      "metadata": {
        "id": "Kxx9PnH624x6"
      },
      "source": [
        ""
      ],
      "execution_count": null,
      "outputs": []
    },
    {
      "cell_type": "code",
      "metadata": {
        "id": "iDEgFkqZ24tp"
      },
      "source": [
        ""
      ],
      "execution_count": null,
      "outputs": []
    },
    {
      "cell_type": "code",
      "metadata": {
        "id": "UZxHt-Gr3Auh"
      },
      "source": [
        "save_model_address = 'ashiNLP/bert_telberto_model/telegu'"
      ],
      "execution_count": null,
      "outputs": []
    },
    {
      "cell_type": "code",
      "metadata": {
        "id": "KuftMJhs3GnU"
      },
      "source": [
        "save_model = AutoModelForMaskedLM.from_pretrained(save_model_address,num_labels=len(tag2idx))"
      ],
      "execution_count": null,
      "outputs": []
    },
    {
      "cell_type": "code",
      "metadata": {
        "id": "mxlfFFW7_W1X"
      },
      "source": [
        "tokenizer = AutoTokenizer.from_pretrained(save_model_address,do_lower_case=False)"
      ],
      "execution_count": null,
      "outputs": []
    },
    {
      "cell_type": "code",
      "metadata": {
        "id": "gW2tjB1__QRt"
      },
      "source": [
        "# predict\n",
        "test_query = \"20 ఏళ్లుగా ఢిల్లీలో ఉంటున్నాను\""
      ],
      "execution_count": null,
      "outputs": []
    },
    {
      "cell_type": "code",
      "metadata": {
        "colab": {
          "base_uri": "https://localhost:8080/"
        },
        "id": "URkmY1V8_g7r",
        "outputId": "db4af766-7f04-46d0-b7d6-a3f47912bc6a"
      },
      "source": [
        "tokenized_texts = []\n",
        "\n",
        "temp_token = []\n",
        "temp_token.append('[CLS]')\n",
        "token_list = tokenizer.tokenize(test_query)\n",
        "\n",
        "token_list"
      ],
      "execution_count": null,
      "outputs": [
        {
          "output_type": "execute_result",
          "data": {
            "text/plain": [
              "['20',\n",
              " 'Ġà°ıà°³',\n",
              " 'à±į',\n",
              " 'à°²',\n",
              " 'à±ģ',\n",
              " 'à°Ĺ',\n",
              " 'à°¾',\n",
              " 'Ġà°¢',\n",
              " 'à°¿',\n",
              " 'à°²',\n",
              " 'à±į',\n",
              " 'à°²',\n",
              " 'à±Ģ',\n",
              " 'à°²',\n",
              " 'à±ĭ',\n",
              " 'Ġà°ī',\n",
              " 'à°Ĥ',\n",
              " 'à°Ł',\n",
              " 'à±ģ',\n",
              " 'à°¨',\n",
              " 'à±į',\n",
              " 'à°¨',\n",
              " 'à°¾',\n",
              " 'à°¨',\n",
              " 'à±ģ']"
            ]
          },
          "metadata": {},
          "execution_count": 70
        }
      ]
    },
    {
      "cell_type": "code",
      "metadata": {
        "id": "DRoAFtcUANSu"
      },
      "source": [
        "for m,token in enumerate(token_list):\n",
        "    temp_token.append(token)"
      ],
      "execution_count": null,
      "outputs": []
    },
    {
      "cell_type": "code",
      "metadata": {
        "id": "hR-T98orAQJK"
      },
      "source": [
        "if len(temp_token) > max_len-1:\n",
        "    temp_token= temp_token[:max_len-1]"
      ],
      "execution_count": null,
      "outputs": []
    },
    {
      "cell_type": "code",
      "metadata": {
        "colab": {
          "base_uri": "https://localhost:8080/"
        },
        "id": "uS-JcL-QAR7C",
        "outputId": "87cfc80d-c278-446a-c188-65dc65ee78ca"
      },
      "source": [
        "temp_token.append('[SEP]')\n",
        "temp_token"
      ],
      "execution_count": null,
      "outputs": [
        {
          "output_type": "execute_result",
          "data": {
            "text/plain": [
              "['[CLS]',\n",
              " '20',\n",
              " 'Ġà°ıà°³',\n",
              " 'à±į',\n",
              " 'à°²',\n",
              " 'à±ģ',\n",
              " 'à°Ĺ',\n",
              " 'à°¾',\n",
              " 'Ġà°¢',\n",
              " 'à°¿',\n",
              " 'à°²',\n",
              " 'à±į',\n",
              " 'à°²',\n",
              " 'à±Ģ',\n",
              " 'à°²',\n",
              " 'à±ĭ',\n",
              " 'Ġà°ī',\n",
              " 'à°Ĥ',\n",
              " 'à°Ł',\n",
              " 'à±ģ',\n",
              " 'à°¨',\n",
              " 'à±į',\n",
              " 'à°¨',\n",
              " 'à°¾',\n",
              " 'à°¨',\n",
              " 'à±ģ',\n",
              " '[SEP]']"
            ]
          },
          "metadata": {},
          "execution_count": 73
        }
      ]
    },
    {
      "cell_type": "code",
      "metadata": {
        "id": "iV0TvoQoAUg6"
      },
      "source": [
        "tokenized_texts.append(temp_token)"
      ],
      "execution_count": null,
      "outputs": []
    },
    {
      "cell_type": "code",
      "metadata": {
        "colab": {
          "base_uri": "https://localhost:8080/"
        },
        "id": "bFCz19GOAWWS",
        "outputId": "0fe8e07a-777b-437a-8e2e-9ae04c8ca06e"
      },
      "source": [
        "input_ids = pad_sequences([tokenizer.convert_tokens_to_ids(txt) for txt in tokenized_texts],\n",
        "                          maxlen=max_len, dtype=\"long\", truncating=\"post\", padding=\"post\")\n",
        "print(input_ids[0])\n"
      ],
      "execution_count": null,
      "outputs": [
        {
          "output_type": "stream",
          "name": "stdout",
          "text": [
            "[  3 851 839 264 271 267 284 266 751 265 271 264 271 285 271 277 316 270\n",
            " 276 267 268 264 268 266 268 267   3   0   0   0   0   0   0   0   0   0\n",
            "   0   0   0   0   0   0   0   0   0]\n"
          ]
        }
      ]
    },
    {
      "cell_type": "code",
      "metadata": {
        "id": "2wD18-R_AYk2"
      },
      "source": [
        "# For fine tune of predict, with token mask is 1,pad token is 0\n",
        "attention_masks = [[int(i>0) for i in ii] for ii in input_ids]\n",
        "attention_masks[0];"
      ],
      "execution_count": null,
      "outputs": []
    },
    {
      "cell_type": "code",
      "metadata": {
        "id": "yPN9-zyNAZ4i"
      },
      "source": [
        "\n",
        "segment_ids = [[0] * len(input_id) for input_id in input_ids]\n",
        "segment_ids[0];\n"
      ],
      "execution_count": null,
      "outputs": []
    },
    {
      "cell_type": "code",
      "metadata": {
        "id": "FhMHVsrGAcUO"
      },
      "source": [
        "input_ids = torch.tensor(input_ids)\n",
        "attention_masks = torch.tensor(attention_masks)\n",
        "segment_ids = torch.tensor(segment_ids)"
      ],
      "execution_count": null,
      "outputs": []
    },
    {
      "cell_type": "code",
      "metadata": {
        "id": "-NhvCm1BAeB2"
      },
      "source": [
        "model.eval();"
      ],
      "execution_count": null,
      "outputs": []
    },
    {
      "cell_type": "code",
      "metadata": {
        "id": "ChbEoly8DWin"
      },
      "source": [
        "with torch.no_grad():\n",
        "        outputs = save_model(input_ids, token_type_ids=None,\n",
        "        attention_mask=None,)\n",
        "        # For eval mode, the first result of outputs is logits\n",
        "        logits = outputs[0] "
      ],
      "execution_count": null,
      "outputs": []
    },
    {
      "cell_type": "code",
      "metadata": {
        "colab": {
          "base_uri": "https://localhost:8080/"
        },
        "id": "iOXXUbrG_lI8",
        "outputId": "4259044e-cb40-4add-ffcd-d9ec05a2b6f4"
      },
      "source": [
        "predict_results = logits.detach().cpu().numpy()\n",
        "predict_results.shape\n"
      ],
      "execution_count": null,
      "outputs": [
        {
          "output_type": "execute_result",
          "data": {
            "text/plain": [
              "(1, 45, 30522)"
            ]
          },
          "metadata": {},
          "execution_count": 81
        }
      ]
    },
    {
      "cell_type": "code",
      "metadata": {
        "colab": {
          "base_uri": "https://localhost:8080/"
        },
        "id": "0nn9q7XN_nj4",
        "outputId": "3579ed5f-ce85-48b0-95d9-1250194ab77e"
      },
      "source": [
        "from scipy.special import softmax\n",
        "result_arrays_soft = softmax(predict_results[0])\n",
        "result_arrays_soft[0]\n"
      ],
      "execution_count": null,
      "outputs": [
        {
          "output_type": "execute_result",
          "data": {
            "text/plain": [
              "array([2.2554092e-08, 1.3608058e-11, 9.7245038e-11, ..., 1.8301392e-13,\n",
              "       2.5563988e-13, 1.4457036e-13], dtype=float32)"
            ]
          },
          "metadata": {},
          "execution_count": 82
        }
      ]
    },
    {
      "cell_type": "code",
      "metadata": {
        "colab": {
          "base_uri": "https://localhost:8080/"
        },
        "id": "bDU__QQk_v4Q",
        "outputId": "dea42b08-af11-4677-e834-65d75612ec22"
      },
      "source": [
        "result_array = result_arrays_soft\n",
        "len(result_array),len(result_array[0])"
      ],
      "execution_count": null,
      "outputs": [
        {
          "output_type": "execute_result",
          "data": {
            "text/plain": [
              "(45, 30522)"
            ]
          },
          "metadata": {},
          "execution_count": 83
        }
      ]
    },
    {
      "cell_type": "code",
      "metadata": {
        "colab": {
          "base_uri": "https://localhost:8080/"
        },
        "id": "IWx1yoIv_yac",
        "outputId": "9e1e7a77-a0ee-4939-d2dc-1d3c25ec4708"
      },
      "source": [
        "# Get each token final predict tag index result\n",
        "result_list = np.argmax(result_array,axis=-1)\n",
        "result_list"
      ],
      "execution_count": null,
      "outputs": [
        {
          "output_type": "execute_result",
          "data": {
            "text/plain": [
              "array([ 21,  20,  16,  20,  20,  20,  20,  20, 751,  20,  20,  20,  20,\n",
              "        20,  20,  20,  19,  20,  20,  20,  20,  20,  20,  20,  20,  20,\n",
              "        22,  19,  19,  19,  19,  19,  19,  19,  21,  19,  21,  21,  21,\n",
              "        21,  21,  21,  19,  19,  19])"
            ]
          },
          "metadata": {},
          "execution_count": 84
        }
      ]
    },
    {
      "cell_type": "code",
      "metadata": {
        "colab": {
          "base_uri": "https://localhost:8080/",
          "height": 668
        },
        "id": "5LIlBZlX_2Ws",
        "outputId": "571774de-8834-4d14-b053-3939da5196e1"
      },
      "source": [
        "for i, mark in enumerate(attention_masks[0]):\n",
        "    if mark>0:\n",
        "        print(\"Token:%s\"%(temp_token[i]))\n",
        "#         print(\"Tag:%s\"%(result_list[i]))\n",
        "        print(\"Predict_Tag:%s\"%(tag2name[result_list[i]]))\n",
        "        #print(\"Posibility:%f\"%(result_array[i][result_list[i]]))\n",
        "        print()"
      ],
      "execution_count": null,
      "outputs": [
        {
          "output_type": "stream",
          "name": "stdout",
          "text": [
            "Token:[CLS]\n",
            "Predict_Tag:[CLS]\n",
            "\n",
            "Token:20\n",
            "Predict_Tag:X\n",
            "\n",
            "Token:Ġà°ıà°³\n",
            "Predict_Tag:I-PERIOD\n",
            "\n",
            "Token:à±į\n",
            "Predict_Tag:X\n",
            "\n",
            "Token:à°²\n",
            "Predict_Tag:X\n",
            "\n",
            "Token:à±ģ\n",
            "Predict_Tag:X\n",
            "\n",
            "Token:à°Ĺ\n",
            "Predict_Tag:X\n",
            "\n",
            "Token:à°¾\n",
            "Predict_Tag:X\n",
            "\n",
            "Token:Ġà°¢\n"
          ]
        },
        {
          "output_type": "error",
          "ename": "KeyError",
          "evalue": "ignored",
          "traceback": [
            "\u001b[0;31m---------------------------------------------------------------------------\u001b[0m",
            "\u001b[0;31mKeyError\u001b[0m                                  Traceback (most recent call last)",
            "\u001b[0;32m<ipython-input-85-50c20dc2671f>\u001b[0m in \u001b[0;36m<module>\u001b[0;34m()\u001b[0m\n\u001b[1;32m      3\u001b[0m         \u001b[0mprint\u001b[0m\u001b[0;34m(\u001b[0m\u001b[0;34m\"Token:%s\"\u001b[0m\u001b[0;34m%\u001b[0m\u001b[0;34m(\u001b[0m\u001b[0mtemp_token\u001b[0m\u001b[0;34m[\u001b[0m\u001b[0mi\u001b[0m\u001b[0;34m]\u001b[0m\u001b[0;34m)\u001b[0m\u001b[0;34m)\u001b[0m\u001b[0;34m\u001b[0m\u001b[0;34m\u001b[0m\u001b[0m\n\u001b[1;32m      4\u001b[0m \u001b[0;31m#         print(\"Tag:%s\"%(result_list[i]))\u001b[0m\u001b[0;34m\u001b[0m\u001b[0;34m\u001b[0m\u001b[0;34m\u001b[0m\u001b[0m\n\u001b[0;32m----> 5\u001b[0;31m         \u001b[0mprint\u001b[0m\u001b[0;34m(\u001b[0m\u001b[0;34m\"Predict_Tag:%s\"\u001b[0m\u001b[0;34m%\u001b[0m\u001b[0;34m(\u001b[0m\u001b[0mtag2name\u001b[0m\u001b[0;34m[\u001b[0m\u001b[0mresult_list\u001b[0m\u001b[0;34m[\u001b[0m\u001b[0mi\u001b[0m\u001b[0;34m]\u001b[0m\u001b[0;34m]\u001b[0m\u001b[0;34m)\u001b[0m\u001b[0;34m)\u001b[0m\u001b[0;34m\u001b[0m\u001b[0;34m\u001b[0m\u001b[0m\n\u001b[0m\u001b[1;32m      6\u001b[0m         \u001b[0;31m#print(\"Posibility:%f\"%(result_array[i][result_list[i]]))\u001b[0m\u001b[0;34m\u001b[0m\u001b[0;34m\u001b[0m\u001b[0;34m\u001b[0m\u001b[0m\n\u001b[1;32m      7\u001b[0m         \u001b[0mprint\u001b[0m\u001b[0;34m(\u001b[0m\u001b[0;34m)\u001b[0m\u001b[0;34m\u001b[0m\u001b[0;34m\u001b[0m\u001b[0m\n",
            "\u001b[0;31mKeyError\u001b[0m: 751"
          ]
        }
      ]
    },
    {
      "cell_type": "code",
      "metadata": {
        "id": "udYH9HMw_37A"
      },
      "source": [
        ""
      ],
      "execution_count": null,
      "outputs": []
    }
  ]
}